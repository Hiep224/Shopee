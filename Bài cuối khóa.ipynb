{
 "cells": [
  {
   "cell_type": "code",
   "execution_count": 1,
   "id": "1cd1b043",
   "metadata": {},
   "outputs": [
    {
     "data": {
      "text/html": [
       "<style type='text/css'>\n",
       ".CodeMirror{\n",
       "    font-size: 13px;\n",
       "}\n",
       "\n",
       "div.output_picture pre {\n",
       "    font-size: 13px;\n",
       "}\n",
       "</style>\n"
      ],
      "text/plain": [
       "<IPython.core.display.HTML object>"
      ]
     },
     "metadata": {},
     "output_type": "display_data"
    }
   ],
   "source": [
    "%%html\n",
    "<style type='text/css'>\n",
    ".CodeMirror{\n",
    "    font-size: 13px;\n",
    "}\n",
    "\n",
    "div.output_picture pre {\n",
    "    font-size: 13px;\n",
    "}\n",
    "</style>"
   ]
  },
  {
   "cell_type": "code",
   "execution_count": 2,
   "id": "8a72d920",
   "metadata": {
    "scrolled": false
   },
   "outputs": [],
   "source": [
    "import pandas as pd\n",
    "import numpy as np\n",
    "from matplotlib import pyplot as plt\n",
    "np.set_printoptions(precision=3, suppress=True)\n",
    "from wordcloud import WordCloud, STOPWORDS\n",
    "import urllib.request\n",
    "from PIL import Image\n",
    "import re \n",
    "import seaborn as sns\n",
    "import matplotlib.colors\n",
    "import plotly.io as pio\n",
    "import plotly.offline as py\n",
    "import plotly.graph_objects as go\n",
    "from plotly.subplots import make_subplots\n",
    "import os\n",
    "import folium\n",
    "from folium.plugins import HeatMap\n",
    "import ipywidgets as widgets\n",
    "import plotly.express as px\n",
    "import matplotlib.colors\n",
    "\n",
    "from ipywidgets import Layout, Label, HBox, VBox, HTML\n",
    "from IPython.display import display, clear_output\n",
    "import IPython"
   ]
  },
  {
   "cell_type": "markdown",
   "id": "0d055486",
   "metadata": {},
   "source": [
    "### Phân tích EDA"
   ]
  },
  {
   "cell_type": "code",
   "execution_count": 3,
   "id": "b32fe701",
   "metadata": {},
   "outputs": [],
   "source": [
    "# Tên các sheet trong file saved_file.xlsx\n",
    "name_sheet = [\"ID\",\"DATA\",\"RATING\"]"
   ]
  },
  {
   "cell_type": "code",
   "execution_count": 4,
   "id": "9c77b816",
   "metadata": {
    "scrolled": false
   },
   "outputs": [],
   "source": [
    "#Lấy dữ liệu\n",
    "data_ID = pd.read_excel('saved_file.xlsx',sheet_name=name_sheet[0])\n",
    "data_DATA = pd.read_excel('saved_file.xlsx',sheet_name=name_sheet[1])\n",
    "data_RATING = pd.read_excel('saved_file.xlsx',sheet_name=name_sheet[2])\n",
    "data_LOC = pd.read_excel('Tinh_VN.xlsx')"
   ]
  },
  {
   "cell_type": "code",
   "execution_count": 5,
   "id": "11d1fe08",
   "metadata": {},
   "outputs": [],
   "source": [
    "import matplotlib.pyplot as plt\n",
    "plt.rcParams['figure.dpi'] = 75"
   ]
  },
  {
   "cell_type": "markdown",
   "id": "b320fdd1",
   "metadata": {},
   "source": [
    "Màu chủ đạo"
   ]
  },
  {
   "cell_type": "code",
   "execution_count": 6,
   "id": "001c2569",
   "metadata": {
    "scrolled": false
   },
   "outputs": [
    {
     "data": {
      "image/png": "[encoded data removed]",
      "text/plain": [
       "<Figure size 750x75 with 1 Axes>"
      ]
     },
     "metadata": {},
     "output_type": "display_data"
    }
   ],
   "source": [
    "sns.palplot(['#FF5500','#FF6600','#FF7300','#FF8000','#FF8C00','#FF9900','#FFA600','#FFB300','#FFBF00','#FFCC00'])\n",
    "    #['#FF5E00','#FF6347','#FF7F50','#FF8C00','#FF9933','#FFA500','#FFCC00','#FFD700','#FFFFE0',])\n",
    "plt.title(\"Shoppe brand palette \",loc='left',fontfamily='serif',fontsize=15,y=1.2)\n",
    "plt.show()"
   ]
  },
  {
   "cell_type": "code",
   "execution_count": 7,
   "id": "6e482be0",
   "metadata": {},
   "outputs": [],
   "source": [
    "colors = ['#FF5500','#FF6600','#FF7300','#FF8000','#FF8C00','#FF9900','#FFA600','#FFB300','#FFBF00','#FFCC00']\n",
    "cmap1 = matplotlib.colors.LinearSegmentedColormap.from_list(\"\", colors)\n",
    "color_list = ['#FF8C00','#FF9933', '#FFA500','#FFCC00', '#FFD700','#FFFFE0','#8fcc52','#70cc52','#52cc52','#52cc70',\n",
    "             '#52cc8f','#52ccad','#52cccc','#52adcc','#528fcc','#5270cc','#5252cc','#7052cc','#8f52cc','#ad52cc',\n",
    "              '#cc52cc']"
   ]
  },
  {
   "cell_type": "markdown",
   "id": "f1dad02f",
   "metadata": {},
   "source": [
    "## DATA"
   ]
  },
  {
   "cell_type": "code",
   "execution_count": 8,
   "id": "ea570a4c",
   "metadata": {
    "scrolled": false
   },
   "outputs": [
    {
     "data": {
      "application/vnd.jupyter.widget-view+json": {
       "model_id": "8e56f0a895f04f0089e95507793be11a",
       "version_major": 2,
       "version_minor": 0
      },
      "text/plain": [
       "interactive(children=(Dropdown(description='Mục_tiêu', options=('Doanh số', 'Tồn kho', 'Doanh thu', 'Lượt thíc…"
      ]
     },
     "metadata": {},
     "output_type": "display_data"
    }
   ],
   "source": [
    "list_name = ['Doanh số', 'Tồn kho',#'Giá gốc', 'Khuyến mãi %', 'Giá sau khuyến mãi',\n",
    "             'Doanh thu', 'Lượt thích', 'Đánh giá', 'Lượt đánh giá']\n",
    "list_sort = ['Cao nhất', 'Thấp nhất']\n",
    "# Phân bố dữ liệu các cột trong DATA (ci_95,max,min,mode,mean)\n",
    "@widgets.interact(Mục_tiêu = list_name, Khoảng_tin_cậy_95 = True )\n",
    "def Phan_bo(Mục_tiêu='Doanh số', Khoảng_tin_cậy_95 = True):\n",
    "    if Khoảng_tin_cậy_95 == True:\n",
    "        data = np.array(data_DATA[Mục_tiêu])\n",
    "        ci_95 = np.percentile(data,[2.5,97.5])\n",
    "        thongtin = np.delete(data,data<ci_95[0])\n",
    "        data =  np.delete(data,data>ci_95[1])\n",
    "    else:\n",
    "        data = np.array(data_DATA[Mục_tiêu])\n",
    "       \n",
    "    def thong_tin(thongtin, h , k , name , col):\n",
    "        plt.axvline(thongtin, color = col, linestyle = \"--\", linewidth=0.5)\n",
    "        plt.text(thongtin, h*k, f'{name}: {thongtin:0,.2f}',color=col,weight=\"bold\")\n",
    "        \n",
    "    n, bins, patches = plt.hist(data, bins=50,color=\"orange\")\n",
    "    mode_idx = np.argmax(n)\n",
    "    mode_data = bins[mode_idx]\n",
    "    thong_tin(mode_data, n[mode_idx], 1, \"Mode\", \"y\") \n",
    "    thong_tin(np.min(data), n[mode_idx], 0.85, \"Min\", colors[-1])\n",
    "    thong_tin(np.max(data), n[mode_idx], 0.7, \"Max\", colors[0])\n",
    "    thong_tin(np.median(data), n[mode_idx], 0.55, \"Median\", \"b\")\n",
    "    thong_tin(np.mean(data), n[mode_idx], 0.4, \"Mean\", \"g\")\n",
    "    plt.title(f\"Phân bố dữ liệu các cột {Mục_tiêu}\\ntrong bảng dữ liệu DATA\", fontsize=16, fontweight=\"bold\", color=colors[0])\n",
    "    plt.xlabel(f\"{Mục_tiêu}\", fontsize=14, color=\"k\")\n",
    "    plt.ylabel(\"Số lần xuất hiện\", fontsize=14, color=\"k\")\n",
    "    #plt.grid()\n",
    "    plt.show()"
   ]
  },
  {
   "cell_type": "markdown",
   "id": "372501b5",
   "metadata": {},
   "source": [
    "### Top 10 Sản Phẩm có Số Lượng bán, Tồn kho, Giá gốc, % Khuyến mãi, Giá sau khuyến mãi, Doanh thu, lượt thích, đánh giá, Số lượt đánh giá cao nhất, thấp nhất kèm theo hình ảnh"
   ]
  },
  {
   "cell_type": "code",
   "execution_count": 9,
   "id": "3fc41f59",
   "metadata": {
    "scrolled": false
   },
   "outputs": [
    {
     "data": {
      "application/vnd.jupyter.widget-view+json": {
       "model_id": "fcab1f40c5384635a31a1369caa47141",
       "version_major": 2,
       "version_minor": 0
      },
      "text/plain": [
       "interactive(children=(IntSlider(value=5, description='Top', max=10, min=5), Dropdown(description='Mục_tiêu', o…"
      ]
     },
     "metadata": {},
     "output_type": "display_data"
    }
   ],
   "source": [
    "# Tạo hàm\n",
    "def Sua_ten(text):\n",
    "    x = text.split(' ')\n",
    "    for i in range(12,len(x),12):\n",
    "        x[i] = x[i]+\"\\n\" \n",
    "    text = ' '.join(x) \n",
    "    return text\n",
    "\n",
    "@widgets.interact(Top = (5,10,1), Mục_tiêu = list_name, Sắp_xếp = list_sort, Hình_ảnh = True)\n",
    "def Top_Hinh_anh(Top =5, Mục_tiêu ='Doanh số', Sắp_xếp = 'Cao nhất',  Hình_ảnh = True):\n",
    "    if Sắp_xếp == 'Cao nhất':\n",
    "        top5_id = data_DATA[['item_id',Mục_tiêu,'product_image_link']].nlargest(Top, columns = Mục_tiêu)\n",
    "        data_thong_tin = data_DATA[['item_id',Mục_tiêu,'Giá gốc', 'Khuyến mãi %', 'Giá khuyến mãi']].nlargest(Top, columns = Mục_tiêu)\n",
    "    else:\n",
    "        top5_id = data_DATA[['item_id',Mục_tiêu,'product_image_link']].nsmallest(Top, columns = Mục_tiêu)\n",
    "        data_thong_tin = data_DATA[['item_id',Mục_tiêu,'Giá gốc', 'Khuyến mãi %', 'Giá khuyến mãi']].nsmallest(Top, columns = Mục_tiêu)\n",
    "    \n",
    "    top5_name = pd.merge(top5_id, data_ID[[\"item_id\",\"Tên\"]], on=\"item_id\")\n",
    "    top5_name['Tên'] = top5_name['Tên'].apply(Sua_ten)\n",
    "    data_thong_tin_1 = data_thong_tin.reset_index()\n",
    "    fig1 = px.bar(top5_name, x='Tên', y = Mục_tiêu, \n",
    "                 width=800, height=400,\n",
    "                 #color=\"Tên\",\n",
    "                 color_discrete_sequence=colors[3:4],\n",
    "                 hover_name = \"Tên\",\n",
    "                 text_auto=True,) \n",
    "    for idx in range(len(fig1.data)):\n",
    "        list_i = []\n",
    "        for i in range(1,Top+1):\n",
    "            a = str(i)\n",
    "            list_i.append(a)\n",
    "        fig1.data[idx].x = list_i     \n",
    "    fig1.update_traces(textfont_size=12, textangle=0, textposition=\"outside\", cliponaxis=False)\n",
    "    fig1.update_layout(title=f\"Top 5 sản phẩm có {Mục_tiêu.lower()} {Sắp_xếp.lower()}\",\n",
    "                      title_font_color='orange',\n",
    "                      title_font_size=20,\n",
    "                      title_font_family=\"Times New Roman\",\n",
    "                      xaxis_title=f\"Top {Top} sản phẩm\",\n",
    "                     )\n",
    "    fig1.show()\n",
    "    \n",
    "    if  Hình_ảnh == True:\n",
    "        for i in range(Top):\n",
    "            urllib.request.urlretrieve(top5_name['product_image_link'][i],f\"hinh{i}.png\")  \n",
    "            img = Image.open(f\"hinh{i}.png\")\n",
    "            name = top5_name['Tên'][i].title()\n",
    "            fig = plt.figure(figsize=(3, 3))\n",
    "            ax1 = fig.add_subplot(1, 1, 1)\n",
    "            ax1.set_title(\n",
    "            f'''Top {i+1}: {name}\n",
    "            Giá gốc: {data_thong_tin_1['Giá gốc'][i]:0,}\n",
    "            Khuyến mãi: {(data_thong_tin_1['Khuyến mãi %'][i]*100):.0f} %\n",
    "            Giá khuyến mãi: {data_thong_tin_1['Giá khuyến mãi'][i]:0,.0f}''',\n",
    "            fontsize=12, color=colors[0],\n",
    "            weight='bold'\n",
    "            )\n",
    "            ax1.xaxis.set_visible(False)\n",
    "            ax1.yaxis.set_visible(False)\n",
    "            ax1.imshow(img) \n",
    "    else: \n",
    "        print(\"Tick vào 'Hình_ảnh' để xem hình ảnh các sản phẩm\")"
   ]
  },
  {
   "cell_type": "markdown",
   "id": "1fdbcb01",
   "metadata": {},
   "source": [
    "### Số lượng cửa hàng tại các tỉnh, Khu vực"
   ]
  },
  {
   "cell_type": "code",
   "execution_count": 10,
   "id": "708eeaeb",
   "metadata": {},
   "outputs": [],
   "source": [
    "# Tạo bảng tổng hợp dữ liệu\n",
    "data_1 = data_DATA[['shop_id','Doanh số','Doanh thu','Tồn kho']]\n",
    "data_2 = data_1.groupby('shop_id').sum()\n",
    "data_3 = data_2.reset_index()\n",
    "data_4 = data_ID[[\"shop_id\",\"Tỉnh\"]].drop_duplicates() \n",
    "data_5 = pd.merge(data_3, data_4 , how = 'left',on = \"shop_id\")   \n",
    "data_6 = data_5.astype({'shop_id':str})\n",
    "data_7 = pd.merge(data_6, data_LOC, how = 'left',on = \"Tỉnh\")  "
   ]
  },
  {
   "cell_type": "code",
   "execution_count": 11,
   "id": "c45214d9",
   "metadata": {
    "scrolled": false
   },
   "outputs": [
    {
     "data": {
      "application/vnd.plotly.v1+json": {
       "config": {
        "plotlyServerURL": "https://plot.ly"
       },
       "data": [
        {
         "branchvalues": "total",
         "customdata": [
          [
           3
          ],
          [
           1
          ],
          [
           6
          ],
          [
           3
          ],
          [
           2
          ],
          [
           2
          ],
          [
           4
          ],
          [
           2
          ],
          [
           10
          ],
          [
           4
          ],
          [
           1
          ],
          [
           4
          ],
          [
           5
          ],
          [
           292
          ],
          [
           2
          ],
          [
           7
          ],
          [
           8
          ],
          [
           9
          ],
          [
           1
          ],
          [
           1
          ],
          [
           4
          ],
          [
           1
          ],
          [
           28
          ],
          [
           3
          ],
          [
           3
          ],
          [
           3
          ],
          [
           1
          ],
          [
           2
          ],
          [
           7
          ],
          [
           222
          ],
          [
           5
          ],
          [
           3
          ],
          [
           7
          ],
          [
           6
          ],
          [
           2
          ],
          [
           1
          ],
          [
           1
          ],
          [
           3
          ],
          [
           9
          ],
          [
           2
          ],
          [
           6
          ],
          [
           5
          ],
          [
           5
          ],
          [
           4
          ],
          [
           208.80240963855422
          ],
          [
           188.67175572519085
          ],
          [
           4.6521739130434785
          ]
         ],
         "domain": {
          "x": [
           0,
           1
          ],
          "y": [
           0,
           1
          ]
         },
         "hoverinfo": "value+label",
         "hovertemplate": "%{label} <br>Số lượng shop: %{value}",
         "ids": [
          "Miền Nam/An Giang",
          "Miền Nam/Bà Rịa - Vũng Tàu",
          "Miền Nam/Bình Dương",
          "Miền Nam/Bình Phước",
          "Miền Trung/Bình Định",
          "Miền Nam/Bạc Liêu",
          "Miền Bắc/Bắc Giang",
          "Miền Bắc/Bắc Kạn",
          "Miền Bắc/Bắc Ninh",
          "Miền Nam/Bến Tre",
          "Miền Nam/Cà Mau",
          "Miền Nam/Cần Thơ",
          "Miền Bắc/Hà Nam",
          "Miền Bắc/Hà Nội",
          "Miền Bắc/Hà Tĩnh",
          "Miền Bắc/Hưng Yên",
          "Miền Bắc/Hải Dương",
          "Miền Bắc/Hải Phòng",
          "Miền Nam/Hậu Giang",
          "Miền Trung/Kon Tum",
          "Miền Bắc/Lào Cai",
          "Miền Bắc/Lạng Sơn",
          "Miền Bắc/Nam Định",
          "Miền Bắc/Nghệ An",
          "Miền Bắc/Ninh Bình",
          "Miền Bắc/Phú Thọ",
          "Miền Trung/Phú Yên",
          "Miền Trung/Quảng Nam",
          "Miền Bắc/Quảng Ninh",
          "Miền Nam/TP. Hồ Chí Minh",
          "Miền Bắc/Thanh Hóa",
          "Miền Bắc/Thái Bình",
          "Miền Bắc/Thái Nguyên",
          "Miền Trung/Thừa Thiên Huế",
          "Miền Nam/Tiền Giang",
          "Miền Nam/Trà Vinh",
          "Miền Bắc/Tuyên Quang",
          "Miền Nam/Tây Ninh",
          "Miền Bắc/Vĩnh Phúc",
          "Miền Bắc/Yên Bái",
          "Miền Trung/Đà Nẵng",
          "Miền Trung/Đắk Lắk",
          "Miền Nam/Đồng Nai",
          "Miền Nam/Đồng Tháp",
          "Miền Bắc",
          "Miền Nam",
          "Miền Trung"
         ],
         "labels": [
          "An Giang",
          "Bà Rịa - Vũng Tàu",
          "Bình Dương",
          "Bình Phước",
          "Bình Định",
          "Bạc Liêu",
          "Bắc Giang",
          "Bắc Kạn",
          "Bắc Ninh",
          "Bến Tre",
          "Cà Mau",
          "Cần Thơ",
          "Hà Nam",
          "Hà Nội",
          "Hà Tĩnh",
          "Hưng Yên",
          "Hải Dương",
          "Hải Phòng",
          "Hậu Giang",
          "Kon Tum",
          "Lào Cai",
          "Lạng Sơn",
          "Nam Định",
          "Nghệ An",
          "Ninh Bình",
          "Phú Thọ",
          "Phú Yên",
          "Quảng Nam",
          "Quảng Ninh",
          "TP. Hồ Chí Minh",
          "Thanh Hóa",
          "Thái Bình",
          "Thái Nguyên",
          "Thừa Thiên Huế",
          "Tiền Giang",
          "Trà Vinh",
          "Tuyên Quang",
          "Tây Ninh",
          "Vĩnh Phúc",
          "Yên Bái",
          "Đà Nẵng",
          "Đắk Lắk",
          "Đồng Nai",
          "Đồng Tháp",
          "Miền Bắc",
          "Miền Nam",
          "Miền Trung"
         ],
         "marker": {
          "coloraxis": "coloraxis",
          "colors": [
           3,
           1,
           6,
           3,
           2,
           2,
           4,
           2,
           10,
           4,
           1,
           4,
           5,
           292,
           2,
           7,
           8,
           9,
           1,
           1,
           4,
           1,
           28,
           3,
           3,
           3,
           1,
           2,
           7,
           222,
           5,
           3,
           7,
           6,
           2,
           1,
           1,
           3,
           9,
           2,
           6,
           5,
           5,
           4,
           208.80240963855422,
           188.67175572519085,
           4.6521739130434785
          ]
         },
         "name": "",
         "parents": [
          "Miền Nam",
          "Miền Nam",
          "Miền Nam",
          "Miền Nam",
          "Miền Trung",
          "Miền Nam",
          "Miền Bắc",
          "Miền Bắc",
          "Miền Bắc",
          "Miền Nam",
          "Miền Nam",
          "Miền Nam",
          "Miền Bắc",
          "Miền Bắc",
          "Miền Bắc",
          "Miền Bắc",
          "Miền Bắc",
          "Miền Bắc",
          "Miền Nam",
          "Miền Trung",
          "Miền Bắc",
          "Miền Bắc",
          "Miền Bắc",
          "Miền Bắc",
          "Miền Bắc",
          "Miền Bắc",
          "Miền Trung",
          "Miền Trung",
          "Miền Bắc",
          "Miền Nam",
          "Miền Bắc",
          "Miền Bắc",
          "Miền Bắc",
          "Miền Trung",
          "Miền Nam",
          "Miền Nam",
          "Miền Bắc",
          "Miền Nam",
          "Miền Bắc",
          "Miền Bắc",
          "Miền Trung",
          "Miền Trung",
          "Miền Nam",
          "Miền Nam",
          "",
          "",
          ""
         ],
         "textfont": {
          "size": 13
         },
         "textinfo": "value+label",
         "type": "sunburst",
         "values": [
          3,
          1,
          6,
          3,
          2,
          2,
          4,
          2,
          10,
          4,
          1,
          4,
          5,
          292,
          2,
          7,
          8,
          9,
          1,
          1,
          4,
          1,
          28,
          3,
          3,
          3,
          1,
          2,
          7,
          222,
          5,
          3,
          7,
          6,
          2,
          1,
          1,
          3,
          9,
          2,
          6,
          5,
          5,
          4,
          415,
          262,
          23
         ]
        }
       ],
       "layout": {
        "coloraxis": {
         "cmax": 300,
         "cmin": 0,
         "colorbar": {
          "title": {
           "text": "Số lượng shop"
          }
         },
         "colorscale": [
          [
           0,
           "#FFCC00"
          ],
          [
           0.5,
           "#FF9900"
          ],
          [
           1,
           "#FF6600"
          ]
         ]
        },
        "height": 500,
        "legend": {
         "tracegroupgap": 0
        },
        "margin": {
         "b": 25,
         "l": 10,
         "r": 10,
         "t": 50
        },
        "template": {
         "data": {
          "bar": [
           {
            "error_x": {
             "color": "#2a3f5f"
            },
            "error_y": {
             "color": "#2a3f5f"
            },
            "marker": {
             "line": {
              "color": "#E5ECF6",
              "width": 0.5
             },
             "pattern": {
              "fillmode": "overlay",
              "size": 10,
              "solidity": 0.2
             }
            },
            "type": "bar"
           }
          ],
          "barpolar": [
           {
            "marker": {
             "line": {
              "color": "#E5ECF6",
              "width": 0.5
             },
             "pattern": {
              "fillmode": "overlay",
              "size": 10,
              "solidity": 0.2
             }
            },
            "type": "barpolar"
           }
          ],
          "carpet": [
           {
            "aaxis": {
             "endlinecolor": "#2a3f5f",
             "gridcolor": "white",
             "linecolor": "white",
             "minorgridcolor": "white",
             "startlinecolor": "#2a3f5f"
            },
            "baxis": {
             "endlinecolor": "#2a3f5f",
             "gridcolor": "white",
             "linecolor": "white",
             "minorgridcolor": "white",
             "startlinecolor": "#2a3f5f"
            },
            "type": "carpet"
           }
          ],
          "choropleth": [
           {
            "colorbar": {
             "outlinewidth": 0,
             "ticks": ""
            },
            "type": "choropleth"
           }
          ],
          "contour": [
           {
            "colorbar": {
             "outlinewidth": 0,
             "ticks": ""
            },
            "colorscale": [
             [
              0,
              "#0d0887"
             ],
             [
              0.1111111111111111,
              "#46039f"
             ],
             [
              0.2222222222222222,
              "#7201a8"
             ],
             [
              0.3333333333333333,
              "#9c179e"
             ],
             [
              0.4444444444444444,
              "#bd3786"
             ],
             [
              0.5555555555555556,
              "#d8576b"
             ],
             [
              0.6666666666666666,
              "#ed7953"
             ],
             [
              0.7777777777777778,
              "#fb9f3a"
             ],
             [
              0.8888888888888888,
              "#fdca26"
             ],
             [
              1,
              "#f0f921"
             ]
            ],
            "type": "contour"
           }
          ],
          "contourcarpet": [
           {
            "colorbar": {
             "outlinewidth": 0,
             "ticks": ""
            },
            "type": "contourcarpet"
           }
          ],
          "heatmap": [
           {
            "colorbar": {
             "outlinewidth": 0,
             "ticks": ""
            },
            "colorscale": [
             [
              0,
              "#0d0887"
             ],
             [
              0.1111111111111111,
              "#46039f"
             ],
             [
              0.2222222222222222,
              "#7201a8"
             ],
             [
              0.3333333333333333,
              "#9c179e"
             ],
             [
              0.4444444444444444,
              "#bd3786"
             ],
             [
              0.5555555555555556,
              "#d8576b"
             ],
             [
              0.6666666666666666,
              "#ed7953"
             ],
             [
              0.7777777777777778,
              "#fb9f3a"
             ],
             [
              0.8888888888888888,
              "#fdca26"
             ],
             [
              1,
              "#f0f921"
             ]
            ],
            "type": "heatmap"
           }
          ],
          "heatmapgl": [
           {
            "colorbar": {
             "outlinewidth": 0,
             "ticks": ""
            },
            "colorscale": [
             [
              0,
              "#0d0887"
             ],
             [
              0.1111111111111111,
              "#46039f"
             ],
             [
              0.2222222222222222,
              "#7201a8"
             ],
             [
              0.3333333333333333,
              "#9c179e"
             ],
             [
              0.4444444444444444,
              "#bd3786"
             ],
             [
              0.5555555555555556,
              "#d8576b"
             ],
             [
              0.6666666666666666,
              "#ed7953"
             ],
             [
              0.7777777777777778,
              "#fb9f3a"
             ],
             [
              0.8888888888888888,
              "#fdca26"
             ],
             [
              1,
              "#f0f921"
             ]
            ],
            "type": "heatmapgl"
           }
          ],
          "histogram": [
           {
            "marker": {
             "pattern": {
              "fillmode": "overlay",
              "size": 10,
              "solidity": 0.2
             }
            },
            "type": "histogram"
           }
          ],
          "histogram2d": [
           {
            "colorbar": {
             "outlinewidth": 0,
             "ticks": ""
            },
            "colorscale": [
             [
              0,
              "#0d0887"
             ],
             [
              0.1111111111111111,
              "#46039f"
             ],
             [
              0.2222222222222222,
              "#7201a8"
             ],
             [
              0.3333333333333333,
              "#9c179e"
             ],
             [
              0.4444444444444444,
              "#bd3786"
             ],
             [
              0.5555555555555556,
              "#d8576b"
             ],
             [
              0.6666666666666666,
              "#ed7953"
             ],
             [
              0.7777777777777778,
              "#fb9f3a"
             ],
             [
              0.8888888888888888,
              "#fdca26"
             ],
             [
              1,
              "#f0f921"
             ]
            ],
            "type": "histogram2d"
           }
          ],
          "histogram2dcontour": [
           {
            "colorbar": {
             "outlinewidth": 0,
             "ticks": ""
            },
            "colorscale": [
             [
              0,
              "#0d0887"
             ],
             [
              0.1111111111111111,
              "#46039f"
             ],
             [
              0.2222222222222222,
              "#7201a8"
             ],
             [
              0.3333333333333333,
              "#9c179e"
             ],
             [
              0.4444444444444444,
              "#bd3786"
             ],
             [
              0.5555555555555556,
              "#d8576b"
             ],
             [
              0.6666666666666666,
              "#ed7953"
             ],
             [
              0.7777777777777778,
              "#fb9f3a"
             ],
             [
              0.8888888888888888,
              "#fdca26"
             ],
             [
              1,
              "#f0f921"
             ]
            ],
            "type": "histogram2dcontour"
           }
          ],
          "mesh3d": [
           {
            "colorbar": {
             "outlinewidth": 0,
             "ticks": ""
            },
            "type": "mesh3d"
           }
          ],
          "parcoords": [
           {
            "line": {
             "colorbar": {
              "outlinewidth": 0,
              "ticks": ""
             }
            },
            "type": "parcoords"
           }
          ],
          "pie": [
           {
            "automargin": true,
            "type": "pie"
           }
          ],
          "scatter": [
           {
            "fillpattern": {
             "fillmode": "overlay",
             "size": 10,
             "solidity": 0.2
            },
            "type": "scatter"
           }
          ],
          "scatter3d": [
           {
            "line": {
             "colorbar": {
              "outlinewidth": 0,
              "ticks": ""
             }
            },
            "marker": {
             "colorbar": {
              "outlinewidth": 0,
              "ticks": ""
             }
            },
            "type": "scatter3d"
           }
          ],
          "scattercarpet": [
           {
            "marker": {
             "colorbar": {
              "outlinewidth": 0,
              "ticks": ""
             }
            },
            "type": "scattercarpet"
           }
          ],
          "scattergeo": [
           {
            "marker": {
             "colorbar": {
              "outlinewidth": 0,
              "ticks": ""
             }
            },
            "type": "scattergeo"
           }
          ],
          "scattergl": [
           {
            "marker": {
             "colorbar": {
              "outlinewidth": 0,
              "ticks": ""
             }
            },
            "type": "scattergl"
           }
          ],
          "scattermapbox": [
           {
            "marker": {
             "colorbar": {
              "outlinewidth": 0,
              "ticks": ""
             }
            },
            "type": "scattermapbox"
           }
          ],
          "scatterpolar": [
           {
            "marker": {
             "colorbar": {
              "outlinewidth": 0,
              "ticks": ""
             }
            },
            "type": "scatterpolar"
           }
          ],
          "scatterpolargl": [
           {
            "marker": {
             "colorbar": {
              "outlinewidth": 0,
              "ticks": ""
             }
            },
            "type": "scatterpolargl"
           }
          ],
          "scatterternary": [
           {
            "marker": {
             "colorbar": {
              "outlinewidth": 0,
              "ticks": ""
             }
            },
            "type": "scatterternary"
           }
          ],
          "surface": [
           {
            "colorbar": {
             "outlinewidth": 0,
             "ticks": ""
            },
            "colorscale": [
             [
              0,
              "#0d0887"
             ],
             [
              0.1111111111111111,
              "#46039f"
             ],
             [
              0.2222222222222222,
              "#7201a8"
             ],
             [
              0.3333333333333333,
              "#9c179e"
             ],
             [
              0.4444444444444444,
              "#bd3786"
             ],
             [
              0.5555555555555556,
              "#d8576b"
             ],
             [
              0.6666666666666666,
              "#ed7953"
             ],
             [
              0.7777777777777778,
              "#fb9f3a"
             ],
             [
              0.8888888888888888,
              "#fdca26"
             ],
             [
              1,
              "#f0f921"
             ]
            ],
            "type": "surface"
           }
          ],
          "table": [
           {
            "cells": {
             "fill": {
              "color": "#EBF0F8"
             },
             "line": {
              "color": "white"
             }
            },
            "header": {
             "fill": {
              "color": "#C8D4E3"
             },
             "line": {
              "color": "white"
             }
            },
            "type": "table"
           }
          ]
         },
         "layout": {
          "annotationdefaults": {
           "arrowcolor": "#2a3f5f",
           "arrowhead": 0,
           "arrowwidth": 1
          },
          "autotypenumbers": "strict",
          "coloraxis": {
           "colorbar": {
            "outlinewidth": 0,
            "ticks": ""
           }
          },
          "colorscale": {
           "diverging": [
            [
             0,
             "#8e0152"
            ],
            [
             0.1,
             "#c51b7d"
            ],
            [
             0.2,
             "#de77ae"
            ],
            [
             0.3,
             "#f1b6da"
            ],
            [
             0.4,
             "#fde0ef"
            ],
            [
             0.5,
             "#f7f7f7"
            ],
            [
             0.6,
             "#e6f5d0"
            ],
            [
             0.7,
             "#b8e186"
            ],
            [
             0.8,
             "#7fbc41"
            ],
            [
             0.9,
             "#4d9221"
            ],
            [
             1,
             "#276419"
            ]
           ],
           "sequential": [
            [
             0,
             "#0d0887"
            ],
            [
             0.1111111111111111,
             "#46039f"
            ],
            [
             0.2222222222222222,
             "#7201a8"
            ],
            [
             0.3333333333333333,
             "#9c179e"
            ],
            [
             0.4444444444444444,
             "#bd3786"
            ],
            [
             0.5555555555555556,
             "#d8576b"
            ],
            [
             0.6666666666666666,
             "#ed7953"
            ],
            [
             0.7777777777777778,
             "#fb9f3a"
            ],
            [
             0.8888888888888888,
             "#fdca26"
            ],
            [
             1,
             "#f0f921"
            ]
           ],
           "sequentialminus": [
            [
             0,
             "#0d0887"
            ],
            [
             0.1111111111111111,
             "#46039f"
            ],
            [
             0.2222222222222222,
             "#7201a8"
            ],
            [
             0.3333333333333333,
             "#9c179e"
            ],
            [
             0.4444444444444444,
             "#bd3786"
            ],
            [
             0.5555555555555556,
             "#d8576b"
            ],
            [
             0.6666666666666666,
             "#ed7953"
            ],
            [
             0.7777777777777778,
             "#fb9f3a"
            ],
            [
             0.8888888888888888,
             "#fdca26"
            ],
            [
             1,
             "#f0f921"
            ]
           ]
          },
          "colorway": [
           "#636efa",
           "#EF553B",
           "#00cc96",
           "#ab63fa",
           "#FFA15A",
           "#19d3f3",
           "#FF6692",
           "#B6E880",
           "#FF97FF",
           "#FECB52"
          ],
          "font": {
           "color": "#2a3f5f"
          },
          "geo": {
           "bgcolor": "white",
           "lakecolor": "white",
           "landcolor": "#E5ECF6",
           "showlakes": true,
           "showland": true,
           "subunitcolor": "white"
          },
          "hoverlabel": {
           "align": "left"
          },
          "hovermode": "closest",
          "mapbox": {
           "style": "light"
          },
          "paper_bgcolor": "white",
          "plot_bgcolor": "#E5ECF6",
          "polar": {
           "angularaxis": {
            "gridcolor": "white",
            "linecolor": "white",
            "ticks": ""
           },
           "bgcolor": "#E5ECF6",
           "radialaxis": {
            "gridcolor": "white",
            "linecolor": "white",
            "ticks": ""
           }
          },
          "scene": {
           "xaxis": {
            "backgroundcolor": "#E5ECF6",
            "gridcolor": "white",
            "gridwidth": 2,
            "linecolor": "white",
            "showbackground": true,
            "ticks": "",
            "zerolinecolor": "white"
           },
           "yaxis": {
            "backgroundcolor": "#E5ECF6",
            "gridcolor": "white",
            "gridwidth": 2,
            "linecolor": "white",
            "showbackground": true,
            "ticks": "",
            "zerolinecolor": "white"
           },
           "zaxis": {
            "backgroundcolor": "#E5ECF6",
            "gridcolor": "white",
            "gridwidth": 2,
            "linecolor": "white",
            "showbackground": true,
            "ticks": "",
            "zerolinecolor": "white"
           }
          },
          "shapedefaults": {
           "line": {
            "color": "#2a3f5f"
           }
          },
          "ternary": {
           "aaxis": {
            "gridcolor": "white",
            "linecolor": "white",
            "ticks": ""
           },
           "baxis": {
            "gridcolor": "white",
            "linecolor": "white",
            "ticks": ""
           },
           "bgcolor": "#E5ECF6",
           "caxis": {
            "gridcolor": "white",
            "linecolor": "white",
            "ticks": ""
           }
          },
          "title": {
           "x": 0.05
          },
          "xaxis": {
           "automargin": true,
           "gridcolor": "white",
           "linecolor": "white",
           "ticks": "",
           "title": {
            "standoff": 15
           },
           "zerolinecolor": "white",
           "zerolinewidth": 2
          },
          "yaxis": {
           "automargin": true,
           "gridcolor": "white",
           "linecolor": "white",
           "ticks": "",
           "title": {
            "standoff": 15
           },
           "zerolinecolor": "white",
           "zerolinewidth": 2
          }
         }
        },
        "title": {
         "font": {
          "color": "orange",
          "family": "Times New Roman",
          "size": 20
         },
         "text": "Số lượng cửa hàng tại các tỉnh, khu vực"
        },
        "width": 500
       }
      },
      "text/html": [
       "<div>                            <div id=\"ad5a521f-b582-473a-aadc-528345f67bd9\" class=\"plotly-graph-div\" style=\"height:500px; width:500px;\"></div>            <script type=\"text/javascript\">                require([\"plotly\"], function(Plotly) {                    window.PLOTLYENV=window.PLOTLYENV || {};                                    if (document.getElementById(\"ad5a521f-b582-473a-aadc-528345f67bd9\")) {                    Plotly.newPlot(                        \"ad5a521f-b582-473a-aadc-528345f67bd9\",                        [{\"branchvalues\":\"total\",\"customdata\":[[3.0],[1.0],[6.0],[3.0],[2.0],[2.0],[4.0],[2.0],[10.0],[4.0],[1.0],[4.0],[5.0],[292.0],[2.0],[7.0],[8.0],[9.0],[1.0],[1.0],[4.0],[1.0],[28.0],[3.0],[3.0],[3.0],[1.0],[2.0],[7.0],[222.0],[5.0],[3.0],[7.0],[6.0],[2.0],[1.0],[1.0],[3.0],[9.0],[2.0],[6.0],[5.0],[5.0],[4.0],[208.80240963855422],[188.67175572519085],[4.6521739130434785]],\"domain\":{\"x\":[0.0,1.0],\"y\":[0.0,1.0]},\"hovertemplate\":\"%{label} <br>S\\u1ed1 l\\u01b0\\u1ee3ng shop: %{value}\",\"ids\":[\"Mi\\u1ec1n Nam/An Giang\",\"Mi\\u1ec1n Nam/B\\u00e0 R\\u1ecba - V\\u0169ng T\\u00e0u\",\"Mi\\u1ec1n Nam/B\\u00ecnh D\\u01b0\\u01a1ng\",\"Mi\\u1ec1n Nam/B\\u00ecnh Ph\\u01b0\\u1edbc\",\"Mi\\u1ec1n Trung/B\\u00ecnh \\u0110\\u1ecbnh\",\"Mi\\u1ec1n Nam/B\\u1ea1c Li\\u00eau\",\"Mi\\u1ec1n B\\u1eafc/B\\u1eafc Giang\",\"Mi\\u1ec1n B\\u1eafc/B\\u1eafc K\\u1ea1n\",\"Mi\\u1ec1n B\\u1eafc/B\\u1eafc Ninh\",\"Mi\\u1ec1n Nam/B\\u1ebfn Tre\",\"Mi\\u1ec1n Nam/C\\u00e0 Mau\",\"Mi\\u1ec1n Nam/C\\u1ea7n Th\\u01a1\",\"Mi\\u1ec1n B\\u1eafc/H\\u00e0 Nam\",\"Mi\\u1ec1n B\\u1eafc/H\\u00e0 N\\u1ed9i\",\"Mi\\u1ec1n B\\u1eafc/H\\u00e0 T\\u0129nh\",\"Mi\\u1ec1n B\\u1eafc/H\\u01b0ng Y\\u00ean\",\"Mi\\u1ec1n B\\u1eafc/H\\u1ea3i D\\u01b0\\u01a1ng\",\"Mi\\u1ec1n B\\u1eafc/H\\u1ea3i Ph\\u00f2ng\",\"Mi\\u1ec1n Nam/H\\u1eadu Giang\",\"Mi\\u1ec1n Trung/Kon Tum\",\"Mi\\u1ec1n B\\u1eafc/L\\u00e0o Cai\",\"Mi\\u1ec1n B\\u1eafc/L\\u1ea1ng S\\u01a1n\",\"Mi\\u1ec1n B\\u1eafc/Nam \\u0110\\u1ecbnh\",\"Mi\\u1ec1n B\\u1eafc/Ngh\\u1ec7 An\",\"Mi\\u1ec1n B\\u1eafc/Ninh B\\u00ecnh\",\"Mi\\u1ec1n B\\u1eafc/Ph\\u00fa Th\\u1ecd\",\"Mi\\u1ec1n Trung/Ph\\u00fa Y\\u00ean\",\"Mi\\u1ec1n Trung/Qu\\u1ea3ng Nam\",\"Mi\\u1ec1n B\\u1eafc/Qu\\u1ea3ng Ninh\",\"Mi\\u1ec1n Nam/TP. H\\u1ed3 Ch\\u00ed Minh\",\"Mi\\u1ec1n B\\u1eafc/Thanh H\\u00f3a\",\"Mi\\u1ec1n B\\u1eafc/Th\\u00e1i B\\u00ecnh\",\"Mi\\u1ec1n B\\u1eafc/Th\\u00e1i Nguy\\u00ean\",\"Mi\\u1ec1n Trung/Th\\u1eeba Thi\\u00ean Hu\\u1ebf\",\"Mi\\u1ec1n Nam/Ti\\u1ec1n Giang\",\"Mi\\u1ec1n Nam/Tr\\u00e0 Vinh\",\"Mi\\u1ec1n B\\u1eafc/Tuy\\u00ean Quang\",\"Mi\\u1ec1n Nam/T\\u00e2y Ninh\",\"Mi\\u1ec1n B\\u1eafc/V\\u0129nh Ph\\u00fac\",\"Mi\\u1ec1n B\\u1eafc/Y\\u00ean B\\u00e1i\",\"Mi\\u1ec1n Trung/\\u0110\\u00e0 N\\u1eb5ng\",\"Mi\\u1ec1n Trung/\\u0110\\u1eafk L\\u1eafk\",\"Mi\\u1ec1n Nam/\\u0110\\u1ed3ng Nai\",\"Mi\\u1ec1n Nam/\\u0110\\u1ed3ng Th\\u00e1p\",\"Mi\\u1ec1n B\\u1eafc\",\"Mi\\u1ec1n Nam\",\"Mi\\u1ec1n Trung\"],\"labels\":[\"An Giang\",\"B\\u00e0 R\\u1ecba - V\\u0169ng T\\u00e0u\",\"B\\u00ecnh D\\u01b0\\u01a1ng\",\"B\\u00ecnh Ph\\u01b0\\u1edbc\",\"B\\u00ecnh \\u0110\\u1ecbnh\",\"B\\u1ea1c Li\\u00eau\",\"B\\u1eafc Giang\",\"B\\u1eafc K\\u1ea1n\",\"B\\u1eafc Ninh\",\"B\\u1ebfn Tre\",\"C\\u00e0 Mau\",\"C\\u1ea7n Th\\u01a1\",\"H\\u00e0 Nam\",\"H\\u00e0 N\\u1ed9i\",\"H\\u00e0 T\\u0129nh\",\"H\\u01b0ng Y\\u00ean\",\"H\\u1ea3i D\\u01b0\\u01a1ng\",\"H\\u1ea3i Ph\\u00f2ng\",\"H\\u1eadu Giang\",\"Kon Tum\",\"L\\u00e0o Cai\",\"L\\u1ea1ng S\\u01a1n\",\"Nam \\u0110\\u1ecbnh\",\"Ngh\\u1ec7 An\",\"Ninh B\\u00ecnh\",\"Ph\\u00fa Th\\u1ecd\",\"Ph\\u00fa Y\\u00ean\",\"Qu\\u1ea3ng Nam\",\"Qu\\u1ea3ng Ninh\",\"TP. H\\u1ed3 Ch\\u00ed Minh\",\"Thanh H\\u00f3a\",\"Th\\u00e1i B\\u00ecnh\",\"Th\\u00e1i Nguy\\u00ean\",\"Th\\u1eeba Thi\\u00ean Hu\\u1ebf\",\"Ti\\u1ec1n Giang\",\"Tr\\u00e0 Vinh\",\"Tuy\\u00ean Quang\",\"T\\u00e2y Ninh\",\"V\\u0129nh Ph\\u00fac\",\"Y\\u00ean B\\u00e1i\",\"\\u0110\\u00e0 N\\u1eb5ng\",\"\\u0110\\u1eafk L\\u1eafk\",\"\\u0110\\u1ed3ng Nai\",\"\\u0110\\u1ed3ng Th\\u00e1p\",\"Mi\\u1ec1n B\\u1eafc\",\"Mi\\u1ec1n Nam\",\"Mi\\u1ec1n Trung\"],\"marker\":{\"coloraxis\":\"coloraxis\",\"colors\":[3.0,1.0,6.0,3.0,2.0,2.0,4.0,2.0,10.0,4.0,1.0,4.0,5.0,292.0,2.0,7.0,8.0,9.0,1.0,1.0,4.0,1.0,28.0,3.0,3.0,3.0,1.0,2.0,7.0,222.0,5.0,3.0,7.0,6.0,2.0,1.0,1.0,3.0,9.0,2.0,6.0,5.0,5.0,4.0,208.80240963855422,188.67175572519085,4.6521739130434785]},\"name\":\"\",\"parents\":[\"Mi\\u1ec1n Nam\",\"Mi\\u1ec1n Nam\",\"Mi\\u1ec1n Nam\",\"Mi\\u1ec1n Nam\",\"Mi\\u1ec1n Trung\",\"Mi\\u1ec1n Nam\",\"Mi\\u1ec1n B\\u1eafc\",\"Mi\\u1ec1n B\\u1eafc\",\"Mi\\u1ec1n B\\u1eafc\",\"Mi\\u1ec1n Nam\",\"Mi\\u1ec1n Nam\",\"Mi\\u1ec1n Nam\",\"Mi\\u1ec1n B\\u1eafc\",\"Mi\\u1ec1n B\\u1eafc\",\"Mi\\u1ec1n B\\u1eafc\",\"Mi\\u1ec1n B\\u1eafc\",\"Mi\\u1ec1n B\\u1eafc\",\"Mi\\u1ec1n B\\u1eafc\",\"Mi\\u1ec1n Nam\",\"Mi\\u1ec1n Trung\",\"Mi\\u1ec1n B\\u1eafc\",\"Mi\\u1ec1n B\\u1eafc\",\"Mi\\u1ec1n B\\u1eafc\",\"Mi\\u1ec1n B\\u1eafc\",\"Mi\\u1ec1n B\\u1eafc\",\"Mi\\u1ec1n B\\u1eafc\",\"Mi\\u1ec1n Trung\",\"Mi\\u1ec1n Trung\",\"Mi\\u1ec1n B\\u1eafc\",\"Mi\\u1ec1n Nam\",\"Mi\\u1ec1n B\\u1eafc\",\"Mi\\u1ec1n B\\u1eafc\",\"Mi\\u1ec1n B\\u1eafc\",\"Mi\\u1ec1n Trung\",\"Mi\\u1ec1n Nam\",\"Mi\\u1ec1n Nam\",\"Mi\\u1ec1n B\\u1eafc\",\"Mi\\u1ec1n Nam\",\"Mi\\u1ec1n B\\u1eafc\",\"Mi\\u1ec1n B\\u1eafc\",\"Mi\\u1ec1n Trung\",\"Mi\\u1ec1n Trung\",\"Mi\\u1ec1n Nam\",\"Mi\\u1ec1n Nam\",\"\",\"\",\"\"],\"values\":[3,1,6,3,2,2,4,2,10,4,1,4,5,292,2,7,8,9,1,1,4,1,28,3,3,3,1,2,7,222,5,3,7,6,2,1,1,3,9,2,6,5,5,4,415,262,23],\"type\":\"sunburst\",\"textfont\":{\"size\":13},\"hoverinfo\":\"value+label\",\"textinfo\":\"value+label\"}],                        {\"template\":{\"data\":{\"histogram2dcontour\":[{\"type\":\"histogram2dcontour\",\"colorbar\":{\"outlinewidth\":0,\"ticks\":\"\"},\"colorscale\":[[0.0,\"#0d0887\"],[0.1111111111111111,\"#46039f\"],[0.2222222222222222,\"#7201a8\"],[0.3333333333333333,\"#9c179e\"],[0.4444444444444444,\"#bd3786\"],[0.5555555555555556,\"#d8576b\"],[0.6666666666666666,\"#ed7953\"],[0.7777777777777778,\"#fb9f3a\"],[0.8888888888888888,\"#fdca26\"],[1.0,\"#f0f921\"]]}],\"choropleth\":[{\"type\":\"choropleth\",\"colorbar\":{\"outlinewidth\":0,\"ticks\":\"\"}}],\"histogram2d\":[{\"type\":\"histogram2d\",\"colorbar\":{\"outlinewidth\":0,\"ticks\":\"\"},\"colorscale\":[[0.0,\"#0d0887\"],[0.1111111111111111,\"#46039f\"],[0.2222222222222222,\"#7201a8\"],[0.3333333333333333,\"#9c179e\"],[0.4444444444444444,\"#bd3786\"],[0.5555555555555556,\"#d8576b\"],[0.6666666666666666,\"#ed7953\"],[0.7777777777777778,\"#fb9f3a\"],[0.8888888888888888,\"#fdca26\"],[1.0,\"#f0f921\"]]}],\"heatmap\":[{\"type\":\"heatmap\",\"colorbar\":{\"outlinewidth\":0,\"ticks\":\"\"},\"colorscale\":[[0.0,\"#0d0887\"],[0.1111111111111111,\"#46039f\"],[0.2222222222222222,\"#7201a8\"],[0.3333333333333333,\"#9c179e\"],[0.4444444444444444,\"#bd3786\"],[0.5555555555555556,\"#d8576b\"],[0.6666666666666666,\"#ed7953\"],[0.7777777777777778,\"#fb9f3a\"],[0.8888888888888888,\"#fdca26\"],[1.0,\"#f0f921\"]]}],\"heatmapgl\":[{\"type\":\"heatmapgl\",\"colorbar\":{\"outlinewidth\":0,\"ticks\":\"\"},\"colorscale\":[[0.0,\"#0d0887\"],[0.1111111111111111,\"#46039f\"],[0.2222222222222222,\"#7201a8\"],[0.3333333333333333,\"#9c179e\"],[0.4444444444444444,\"#bd3786\"],[0.5555555555555556,\"#d8576b\"],[0.6666666666666666,\"#ed7953\"],[0.7777777777777778,\"#fb9f3a\"],[0.8888888888888888,\"#fdca26\"],[1.0,\"#f0f921\"]]}],\"contourcarpet\":[{\"type\":\"contourcarpet\",\"colorbar\":{\"outlinewidth\":0,\"ticks\":\"\"}}],\"contour\":[{\"type\":\"contour\",\"colorbar\":{\"outlinewidth\":0,\"ticks\":\"\"},\"colorscale\":[[0.0,\"#0d0887\"],[0.1111111111111111,\"#46039f\"],[0.2222222222222222,\"#7201a8\"],[0.3333333333333333,\"#9c179e\"],[0.4444444444444444,\"#bd3786\"],[0.5555555555555556,\"#d8576b\"],[0.6666666666666666,\"#ed7953\"],[0.7777777777777778,\"#fb9f3a\"],[0.8888888888888888,\"#fdca26\"],[1.0,\"#f0f921\"]]}],\"surface\":[{\"type\":\"surface\",\"colorbar\":{\"outlinewidth\":0,\"ticks\":\"\"},\"colorscale\":[[0.0,\"#0d0887\"],[0.1111111111111111,\"#46039f\"],[0.2222222222222222,\"#7201a8\"],[0.3333333333333333,\"#9c179e\"],[0.4444444444444444,\"#bd3786\"],[0.5555555555555556,\"#d8576b\"],[0.6666666666666666,\"#ed7953\"],[0.7777777777777778,\"#fb9f3a\"],[0.8888888888888888,\"#fdca26\"],[1.0,\"#f0f921\"]]}],\"mesh3d\":[{\"type\":\"mesh3d\",\"colorbar\":{\"outlinewidth\":0,\"ticks\":\"\"}}],\"scatter\":[{\"fillpattern\":{\"fillmode\":\"overlay\",\"size\":10,\"solidity\":0.2},\"type\":\"scatter\"}],\"parcoords\":[{\"type\":\"parcoords\",\"line\":{\"colorbar\":{\"outlinewidth\":0,\"ticks\":\"\"}}}],\"scatterpolargl\":[{\"type\":\"scatterpolargl\",\"marker\":{\"colorbar\":{\"outlinewidth\":0,\"ticks\":\"\"}}}],\"bar\":[{\"error_x\":{\"color\":\"#2a3f5f\"},\"error_y\":{\"color\":\"#2a3f5f\"},\"marker\":{\"line\":{\"color\":\"#E5ECF6\",\"width\":0.5},\"pattern\":{\"fillmode\":\"overlay\",\"size\":10,\"solidity\":0.2}},\"type\":\"bar\"}],\"scattergeo\":[{\"type\":\"scattergeo\",\"marker\":{\"colorbar\":{\"outlinewidth\":0,\"ticks\":\"\"}}}],\"scatterpolar\":[{\"type\":\"scatterpolar\",\"marker\":{\"colorbar\":{\"outlinewidth\":0,\"ticks\":\"\"}}}],\"histogram\":[{\"marker\":{\"pattern\":{\"fillmode\":\"overlay\",\"size\":10,\"solidity\":0.2}},\"type\":\"histogram\"}],\"scattergl\":[{\"type\":\"scattergl\",\"marker\":{\"colorbar\":{\"outlinewidth\":0,\"ticks\":\"\"}}}],\"scatter3d\":[{\"type\":\"scatter3d\",\"line\":{\"colorbar\":{\"outlinewidth\":0,\"ticks\":\"\"}},\"marker\":{\"colorbar\":{\"outlinewidth\":0,\"ticks\":\"\"}}}],\"scattermapbox\":[{\"type\":\"scattermapbox\",\"marker\":{\"colorbar\":{\"outlinewidth\":0,\"ticks\":\"\"}}}],\"scatterternary\":[{\"type\":\"scatterternary\",\"marker\":{\"colorbar\":{\"outlinewidth\":0,\"ticks\":\"\"}}}],\"scattercarpet\":[{\"type\":\"scattercarpet\",\"marker\":{\"colorbar\":{\"outlinewidth\":0,\"ticks\":\"\"}}}],\"carpet\":[{\"aaxis\":{\"endlinecolor\":\"#2a3f5f\",\"gridcolor\":\"white\",\"linecolor\":\"white\",\"minorgridcolor\":\"white\",\"startlinecolor\":\"#2a3f5f\"},\"baxis\":{\"endlinecolor\":\"#2a3f5f\",\"gridcolor\":\"white\",\"linecolor\":\"white\",\"minorgridcolor\":\"white\",\"startlinecolor\":\"#2a3f5f\"},\"type\":\"carpet\"}],\"table\":[{\"cells\":{\"fill\":{\"color\":\"#EBF0F8\"},\"line\":{\"color\":\"white\"}},\"header\":{\"fill\":{\"color\":\"#C8D4E3\"},\"line\":{\"color\":\"white\"}},\"type\":\"table\"}],\"barpolar\":[{\"marker\":{\"line\":{\"color\":\"#E5ECF6\",\"width\":0.5},\"pattern\":{\"fillmode\":\"overlay\",\"size\":10,\"solidity\":0.2}},\"type\":\"barpolar\"}],\"pie\":[{\"automargin\":true,\"type\":\"pie\"}]},\"layout\":{\"autotypenumbers\":\"strict\",\"colorway\":[\"#636efa\",\"#EF553B\",\"#00cc96\",\"#ab63fa\",\"#FFA15A\",\"#19d3f3\",\"#FF6692\",\"#B6E880\",\"#FF97FF\",\"#FECB52\"],\"font\":{\"color\":\"#2a3f5f\"},\"hovermode\":\"closest\",\"hoverlabel\":{\"align\":\"left\"},\"paper_bgcolor\":\"white\",\"plot_bgcolor\":\"#E5ECF6\",\"polar\":{\"bgcolor\":\"#E5ECF6\",\"angularaxis\":{\"gridcolor\":\"white\",\"linecolor\":\"white\",\"ticks\":\"\"},\"radialaxis\":{\"gridcolor\":\"white\",\"linecolor\":\"white\",\"ticks\":\"\"}},\"ternary\":{\"bgcolor\":\"#E5ECF6\",\"aaxis\":{\"gridcolor\":\"white\",\"linecolor\":\"white\",\"ticks\":\"\"},\"baxis\":{\"gridcolor\":\"white\",\"linecolor\":\"white\",\"ticks\":\"\"},\"caxis\":{\"gridcolor\":\"white\",\"linecolor\":\"white\",\"ticks\":\"\"}},\"coloraxis\":{\"colorbar\":{\"outlinewidth\":0,\"ticks\":\"\"}},\"colorscale\":{\"sequential\":[[0.0,\"#0d0887\"],[0.1111111111111111,\"#46039f\"],[0.2222222222222222,\"#7201a8\"],[0.3333333333333333,\"#9c179e\"],[0.4444444444444444,\"#bd3786\"],[0.5555555555555556,\"#d8576b\"],[0.6666666666666666,\"#ed7953\"],[0.7777777777777778,\"#fb9f3a\"],[0.8888888888888888,\"#fdca26\"],[1.0,\"#f0f921\"]],\"sequentialminus\":[[0.0,\"#0d0887\"],[0.1111111111111111,\"#46039f\"],[0.2222222222222222,\"#7201a8\"],[0.3333333333333333,\"#9c179e\"],[0.4444444444444444,\"#bd3786\"],[0.5555555555555556,\"#d8576b\"],[0.6666666666666666,\"#ed7953\"],[0.7777777777777778,\"#fb9f3a\"],[0.8888888888888888,\"#fdca26\"],[1.0,\"#f0f921\"]],\"diverging\":[[0,\"#8e0152\"],[0.1,\"#c51b7d\"],[0.2,\"#de77ae\"],[0.3,\"#f1b6da\"],[0.4,\"#fde0ef\"],[0.5,\"#f7f7f7\"],[0.6,\"#e6f5d0\"],[0.7,\"#b8e186\"],[0.8,\"#7fbc41\"],[0.9,\"#4d9221\"],[1,\"#276419\"]]},\"xaxis\":{\"gridcolor\":\"white\",\"linecolor\":\"white\",\"ticks\":\"\",\"title\":{\"standoff\":15},\"zerolinecolor\":\"white\",\"automargin\":true,\"zerolinewidth\":2},\"yaxis\":{\"gridcolor\":\"white\",\"linecolor\":\"white\",\"ticks\":\"\",\"title\":{\"standoff\":15},\"zerolinecolor\":\"white\",\"automargin\":true,\"zerolinewidth\":2},\"scene\":{\"xaxis\":{\"backgroundcolor\":\"#E5ECF6\",\"gridcolor\":\"white\",\"linecolor\":\"white\",\"showbackground\":true,\"ticks\":\"\",\"zerolinecolor\":\"white\",\"gridwidth\":2},\"yaxis\":{\"backgroundcolor\":\"#E5ECF6\",\"gridcolor\":\"white\",\"linecolor\":\"white\",\"showbackground\":true,\"ticks\":\"\",\"zerolinecolor\":\"white\",\"gridwidth\":2},\"zaxis\":{\"backgroundcolor\":\"#E5ECF6\",\"gridcolor\":\"white\",\"linecolor\":\"white\",\"showbackground\":true,\"ticks\":\"\",\"zerolinecolor\":\"white\",\"gridwidth\":2}},\"shapedefaults\":{\"line\":{\"color\":\"#2a3f5f\"}},\"annotationdefaults\":{\"arrowcolor\":\"#2a3f5f\",\"arrowhead\":0,\"arrowwidth\":1},\"geo\":{\"bgcolor\":\"white\",\"landcolor\":\"#E5ECF6\",\"subunitcolor\":\"white\",\"showland\":true,\"showlakes\":true,\"lakecolor\":\"white\"},\"title\":{\"x\":0.05},\"mapbox\":{\"style\":\"light\"}}},\"coloraxis\":{\"colorbar\":{\"title\":{\"text\":\"S\\u1ed1 l\\u01b0\\u1ee3ng shop\"}},\"colorscale\":[[0.0,\"#FFCC00\"],[0.5,\"#FF9900\"],[1.0,\"#FF6600\"]],\"cmin\":0,\"cmax\":300},\"legend\":{\"tracegroupgap\":0},\"margin\":{\"t\":50,\"l\":10,\"r\":10,\"b\":25},\"height\":500,\"width\":500,\"title\":{\"text\":\"S\\u1ed1 l\\u01b0\\u1ee3ng c\\u1eeda h\\u00e0ng t\\u1ea1i c\\u00e1c t\\u1ec9nh, khu v\\u1ef1c\",\"font\":{\"color\":\"orange\",\"size\":20,\"family\":\"Times New Roman\"}}},                        {\"responsive\": true}                    ).then(function(){\n",
       "                            \n",
       "var gd = document.getElementById('ad5a521f-b582-473a-aadc-528345f67bd9');\n",
       "var x = new MutationObserver(function (mutations, observer) {{\n",
       "        var display = window.getComputedStyle(gd).display;\n",
       "        if (!display || display === 'none') {{\n",
       "            console.log([gd, 'removed!']);\n",
       "            Plotly.purge(gd);\n",
       "            observer.disconnect();\n",
       "        }}\n",
       "}});\n",
       "\n",
       "// Listen for the removal of the full notebook cells\n",
       "var notebookContainer = gd.closest('#notebook-container');\n",
       "if (notebookContainer) {{\n",
       "    x.observe(notebookContainer, {childList: true});\n",
       "}}\n",
       "\n",
       "// Listen for the clearing of the current output cell\n",
       "var outputEl = gd.closest('.output');\n",
       "if (outputEl) {{\n",
       "    x.observe(outputEl, {childList: true});\n",
       "}}\n",
       "\n",
       "                        })                };                });            </script>        </div>"
      ]
     },
     "metadata": {},
     "output_type": "display_data"
    }
   ],
   "source": [
    "data_8 = data_7[['Khu Vực','Tỉnh','shop_id']].groupby(['Khu Vực','Tỉnh']).count()\n",
    "data_9 = data_8.reset_index()\n",
    "data_9 = data_9.rename(columns = {\"shop_id\":\"Số lượng shop\"})\n",
    "#fig = px.bar(data_9, x='Khu Vực', y='Số lượng shop', #color='Tỉnh',\n",
    "fig = px.sunburst(data_9, path=[\"Khu Vực\",'Tỉnh'], values='Số lượng shop',color='Số lượng shop',\n",
    "                  color_continuous_scale=colors[::-4],range_color=[0,300],\n",
    "                  labels={'labels':\"Tên\",\"Số lượng shop_sum\":'Tổng số shop'},\n",
    "                  width=500, height=500,\n",
    "                 )  \n",
    "fig.update_layout(title=\"Số lượng cửa hàng tại các tỉnh, khu vực\",\n",
    "                   title_font_color='orange',\n",
    "                   title_font_size=20,\n",
    "                   title_font_family=\"Times New Roman\",\n",
    "                  )\n",
    "fig.update_layout(margin = dict(t=50, l=10, r=10, b=25))\n",
    "fig.update_traces(textinfo='value+label',\n",
    "                  hoverinfo='value+label',\n",
    "                  hovertemplate =\"%{label} <br>Số lượng shop: %{value}\",\n",
    "                  textfont_size=13,\n",
    "                 )\n",
    "fig.show()"
   ]
  },
  {
   "cell_type": "markdown",
   "id": "c45193ea",
   "metadata": {},
   "source": [
    "### Số lượng mặt hàng của các thương hiệu"
   ]
  },
  {
   "cell_type": "code",
   "execution_count": 12,
   "id": "282f5068",
   "metadata": {
    "scrolled": false
   },
   "outputs": [
    {
     "data": {
      "application/vnd.plotly.v1+json": {
       "config": {
        "plotlyServerURL": "https://plot.ly"
       },
       "data": [
        {
         "domain": {
          "x": [
           0,
           1
          ],
          "y": [
           0,
           1
          ]
         },
         "hoverinfo": "label+value+percent",
         "hovertemplate": "%{label} <br>Số lượng mặt hàng: %{value}",
         "labels": [
          "Other",
          "SAMSUNG",
          "nokia",
          "LG",
          "sony",
          "OPPO",
          "Xiaomi",
          "Vivo",
          "Google",
          "hTC",
          "Vsmart",
          "BlackBerry",
          "HUAWEI",
          "Masstel",
          "KYOCERA",
          "motorola",
          "2Good",
          "Apple",
          "Mobiistar",
          "Realme",
          "Sharp",
          "TECNO",
          "Itel",
          "ulefone",
          "Panasonic",
          "OnePlus",
          "CAT",
          "Meizu",
          "LANDROVER",
          "Oukitel",
          "Kyocera Torque",
          "Asus",
          "Fujitsu",
          "ADMET",
          "AIEK",
          "Black Shark",
          "Google Nexus",
          "LV Mobile",
          "Poco",
          "KECHAODA",
          "SERVO",
          "GAMMA",
          "FORME",
          "MAXX",
          "Earldom",
          "docomo",
          "gor",
          "FPT",
          "Amazon",
          "SKY",
          "Kingston.",
          "Viettel",
          "Vertu",
          "YUNTENG",
          "XiaoMi Deerma",
          "aimica",
          "GTStar",
          "Real"
         ],
         "legendgroup": "",
         "marker": {
          "colors": [
           "#FF6600",
           "#FF8000",
           "#FF9900",
           "#FFB300",
           "#FFCC00"
          ]
         },
         "name": "",
         "showlegend": true,
         "textinfo": "label+value+percent",
         "textposition": "inside",
         "type": "pie",
         "values": [
          860,
          485,
          404,
          236,
          219,
          212,
          190,
          81,
          69,
          44,
          25,
          20,
          19,
          17,
          17,
          16,
          15,
          15,
          15,
          15,
          8,
          6,
          5,
          5,
          4,
          3,
          3,
          3,
          3,
          3,
          3,
          3,
          2,
          2,
          2,
          2,
          2,
          2,
          2,
          2,
          2,
          1,
          1,
          1,
          1,
          1,
          1,
          1,
          1,
          1,
          1,
          1,
          1,
          1,
          1,
          1,
          1,
          1
         ]
        }
       ],
       "layout": {
        "height": 500,
        "legend": {
         "tracegroupgap": 0
        },
        "margin": {
         "b": 25,
         "l": 0,
         "r": 0,
         "t": 50
        },
        "template": {
         "data": {
          "bar": [
           {
            "error_x": {
             "color": "#2a3f5f"
            },
            "error_y": {
             "color": "#2a3f5f"
            },
            "marker": {
             "line": {
              "color": "#E5ECF6",
              "width": 0.5
             },
             "pattern": {
              "fillmode": "overlay",
              "size": 10,
              "solidity": 0.2
             }
            },
            "type": "bar"
           }
          ],
          "barpolar": [
           {
            "marker": {
             "line": {
              "color": "#E5ECF6",
              "width": 0.5
             },
             "pattern": {
              "fillmode": "overlay",
              "size": 10,
              "solidity": 0.2
             }
            },
            "type": "barpolar"
           }
          ],
          "carpet": [
           {
            "aaxis": {
             "endlinecolor": "#2a3f5f",
             "gridcolor": "white",
             "linecolor": "white",
             "minorgridcolor": "white",
             "startlinecolor": "#2a3f5f"
            },
            "baxis": {
             "endlinecolor": "#2a3f5f",
             "gridcolor": "white",
             "linecolor": "white",
             "minorgridcolor": "white",
             "startlinecolor": "#2a3f5f"
            },
            "type": "carpet"
           }
          ],
          "choropleth": [
           {
            "colorbar": {
             "outlinewidth": 0,
             "ticks": ""
            },
            "type": "choropleth"
           }
          ],
          "contour": [
           {
            "colorbar": {
             "outlinewidth": 0,
             "ticks": ""
            },
            "colorscale": [
             [
              0,
              "#0d0887"
             ],
             [
              0.1111111111111111,
              "#46039f"
             ],
             [
              0.2222222222222222,
              "#7201a8"
             ],
             [
              0.3333333333333333,
              "#9c179e"
             ],
             [
              0.4444444444444444,
              "#bd3786"
             ],
             [
              0.5555555555555556,
              "#d8576b"
             ],
             [
              0.6666666666666666,
              "#ed7953"
             ],
             [
              0.7777777777777778,
              "#fb9f3a"
             ],
             [
              0.8888888888888888,
              "#fdca26"
             ],
             [
              1,
              "#f0f921"
             ]
            ],
            "type": "contour"
           }
          ],
          "contourcarpet": [
           {
            "colorbar": {
             "outlinewidth": 0,
             "ticks": ""
            },
            "type": "contourcarpet"
           }
          ],
          "heatmap": [
           {
            "colorbar": {
             "outlinewidth": 0,
             "ticks": ""
            },
            "colorscale": [
             [
              0,
              "#0d0887"
             ],
             [
              0.1111111111111111,
              "#46039f"
             ],
             [
              0.2222222222222222,
              "#7201a8"
             ],
             [
              0.3333333333333333,
              "#9c179e"
             ],
             [
              0.4444444444444444,
              "#bd3786"
             ],
             [
              0.5555555555555556,
              "#d8576b"
             ],
             [
              0.6666666666666666,
              "#ed7953"
             ],
             [
              0.7777777777777778,
              "#fb9f3a"
             ],
             [
              0.8888888888888888,
              "#fdca26"
             ],
             [
              1,
              "#f0f921"
             ]
            ],
            "type": "heatmap"
           }
          ],
          "heatmapgl": [
           {
            "colorbar": {
             "outlinewidth": 0,
             "ticks": ""
            },
            "colorscale": [
             [
              0,
              "#0d0887"
             ],
             [
              0.1111111111111111,
              "#46039f"
             ],
             [
              0.2222222222222222,
              "#7201a8"
             ],
             [
              0.3333333333333333,
              "#9c179e"
             ],
             [
              0.4444444444444444,
              "#bd3786"
             ],
             [
              0.5555555555555556,
              "#d8576b"
             ],
             [
              0.6666666666666666,
              "#ed7953"
             ],
             [
              0.7777777777777778,
              "#fb9f3a"
             ],
             [
              0.8888888888888888,
              "#fdca26"
             ],
             [
              1,
              "#f0f921"
             ]
            ],
            "type": "heatmapgl"
           }
          ],
          "histogram": [
           {
            "marker": {
             "pattern": {
              "fillmode": "overlay",
              "size": 10,
              "solidity": 0.2
             }
            },
            "type": "histogram"
           }
          ],
          "histogram2d": [
           {
            "colorbar": {
             "outlinewidth": 0,
             "ticks": ""
            },
            "colorscale": [
             [
              0,
              "#0d0887"
             ],
             [
              0.1111111111111111,
              "#46039f"
             ],
             [
              0.2222222222222222,
              "#7201a8"
             ],
             [
              0.3333333333333333,
              "#9c179e"
             ],
             [
              0.4444444444444444,
              "#bd3786"
             ],
             [
              0.5555555555555556,
              "#d8576b"
             ],
             [
              0.6666666666666666,
              "#ed7953"
             ],
             [
              0.7777777777777778,
              "#fb9f3a"
             ],
             [
              0.8888888888888888,
              "#fdca26"
             ],
             [
              1,
              "#f0f921"
             ]
            ],
            "type": "histogram2d"
           }
          ],
          "histogram2dcontour": [
           {
            "colorbar": {
             "outlinewidth": 0,
             "ticks": ""
            },
            "colorscale": [
             [
              0,
              "#0d0887"
             ],
             [
              0.1111111111111111,
              "#46039f"
             ],
             [
              0.2222222222222222,
              "#7201a8"
             ],
             [
              0.3333333333333333,
              "#9c179e"
             ],
             [
              0.4444444444444444,
              "#bd3786"
             ],
             [
              0.5555555555555556,
              "#d8576b"
             ],
             [
              0.6666666666666666,
              "#ed7953"
             ],
             [
              0.7777777777777778,
              "#fb9f3a"
             ],
             [
              0.8888888888888888,
              "#fdca26"
             ],
             [
              1,
              "#f0f921"
             ]
            ],
            "type": "histogram2dcontour"
           }
          ],
          "mesh3d": [
           {
            "colorbar": {
             "outlinewidth": 0,
             "ticks": ""
            },
            "type": "mesh3d"
           }
          ],
          "parcoords": [
           {
            "line": {
             "colorbar": {
              "outlinewidth": 0,
              "ticks": ""
             }
            },
            "type": "parcoords"
           }
          ],
          "pie": [
           {
            "automargin": true,
            "type": "pie"
           }
          ],
          "scatter": [
           {
            "fillpattern": {
             "fillmode": "overlay",
             "size": 10,
             "solidity": 0.2
            },
            "type": "scatter"
           }
          ],
          "scatter3d": [
           {
            "line": {
             "colorbar": {
              "outlinewidth": 0,
              "ticks": ""
             }
            },
            "marker": {
             "colorbar": {
              "outlinewidth": 0,
              "ticks": ""
             }
            },
            "type": "scatter3d"
           }
          ],
          "scattercarpet": [
           {
            "marker": {
             "colorbar": {
              "outlinewidth": 0,
              "ticks": ""
             }
            },
            "type": "scattercarpet"
           }
          ],
          "scattergeo": [
           {
            "marker": {
             "colorbar": {
              "outlinewidth": 0,
              "ticks": ""
             }
            },
            "type": "scattergeo"
           }
          ],
          "scattergl": [
           {
            "marker": {
             "colorbar": {
              "outlinewidth": 0,
              "ticks": ""
             }
            },
            "type": "scattergl"
           }
          ],
          "scattermapbox": [
           {
            "marker": {
             "colorbar": {
              "outlinewidth": 0,
              "ticks": ""
             }
            },
            "type": "scattermapbox"
           }
          ],
          "scatterpolar": [
           {
            "marker": {
             "colorbar": {
              "outlinewidth": 0,
              "ticks": ""
             }
            },
            "type": "scatterpolar"
           }
          ],
          "scatterpolargl": [
           {
            "marker": {
             "colorbar": {
              "outlinewidth": 0,
              "ticks": ""
             }
            },
            "type": "scatterpolargl"
           }
          ],
          "scatterternary": [
           {
            "marker": {
             "colorbar": {
              "outlinewidth": 0,
              "ticks": ""
             }
            },
            "type": "scatterternary"
           }
          ],
          "surface": [
           {
            "colorbar": {
             "outlinewidth": 0,
             "ticks": ""
            },
            "colorscale": [
             [
              0,
              "#0d0887"
             ],
             [
              0.1111111111111111,
              "#46039f"
             ],
             [
              0.2222222222222222,
              "#7201a8"
             ],
             [
              0.3333333333333333,
              "#9c179e"
             ],
             [
              0.4444444444444444,
              "#bd3786"
             ],
             [
              0.5555555555555556,
              "#d8576b"
             ],
             [
              0.6666666666666666,
              "#ed7953"
             ],
             [
              0.7777777777777778,
              "#fb9f3a"
             ],
             [
              0.8888888888888888,
              "#fdca26"
             ],
             [
              1,
              "#f0f921"
             ]
            ],
            "type": "surface"
           }
          ],
          "table": [
           {
            "cells": {
             "fill": {
              "color": "#EBF0F8"
             },
             "line": {
              "color": "white"
             }
            },
            "header": {
             "fill": {
              "color": "#C8D4E3"
             },
             "line": {
              "color": "white"
             }
            },
            "type": "table"
           }
          ]
         },
         "layout": {
          "annotationdefaults": {
           "arrowcolor": "#2a3f5f",
           "arrowhead": 0,
           "arrowwidth": 1
          },
          "autotypenumbers": "strict",
          "coloraxis": {
           "colorbar": {
            "outlinewidth": 0,
            "ticks": ""
           }
          },
          "colorscale": {
           "diverging": [
            [
             0,
             "#8e0152"
            ],
            [
             0.1,
             "#c51b7d"
            ],
            [
             0.2,
             "#de77ae"
            ],
            [
             0.3,
             "#f1b6da"
            ],
            [
             0.4,
             "#fde0ef"
            ],
            [
             0.5,
             "#f7f7f7"
            ],
            [
             0.6,
             "#e6f5d0"
            ],
            [
             0.7,
             "#b8e186"
            ],
            [
             0.8,
             "#7fbc41"
            ],
            [
             0.9,
             "#4d9221"
            ],
            [
             1,
             "#276419"
            ]
           ],
           "sequential": [
            [
             0,
             "#0d0887"
            ],
            [
             0.1111111111111111,
             "#46039f"
            ],
            [
             0.2222222222222222,
             "#7201a8"
            ],
            [
             0.3333333333333333,
             "#9c179e"
            ],
            [
             0.4444444444444444,
             "#bd3786"
            ],
            [
             0.5555555555555556,
             "#d8576b"
            ],
            [
             0.6666666666666666,
             "#ed7953"
            ],
            [
             0.7777777777777778,
             "#fb9f3a"
            ],
            [
             0.8888888888888888,
             "#fdca26"
            ],
            [
             1,
             "#f0f921"
            ]
           ],
           "sequentialminus": [
            [
             0,
             "#0d0887"
            ],
            [
             0.1111111111111111,
             "#46039f"
            ],
            [
             0.2222222222222222,
             "#7201a8"
            ],
            [
             0.3333333333333333,
             "#9c179e"
            ],
            [
             0.4444444444444444,
             "#bd3786"
            ],
            [
             0.5555555555555556,
             "#d8576b"
            ],
            [
             0.6666666666666666,
             "#ed7953"
            ],
            [
             0.7777777777777778,
             "#fb9f3a"
            ],
            [
             0.8888888888888888,
             "#fdca26"
            ],
            [
             1,
             "#f0f921"
            ]
           ]
          },
          "colorway": [
           "#636efa",
           "#EF553B",
           "#00cc96",
           "#ab63fa",
           "#FFA15A",
           "#19d3f3",
           "#FF6692",
           "#B6E880",
           "#FF97FF",
           "#FECB52"
          ],
          "font": {
           "color": "#2a3f5f"
          },
          "geo": {
           "bgcolor": "white",
           "lakecolor": "white",
           "landcolor": "#E5ECF6",
           "showlakes": true,
           "showland": true,
           "subunitcolor": "white"
          },
          "hoverlabel": {
           "align": "left"
          },
          "hovermode": "closest",
          "mapbox": {
           "style": "light"
          },
          "paper_bgcolor": "white",
          "plot_bgcolor": "#E5ECF6",
          "polar": {
           "angularaxis": {
            "gridcolor": "white",
            "linecolor": "white",
            "ticks": ""
           },
           "bgcolor": "#E5ECF6",
           "radialaxis": {
            "gridcolor": "white",
            "linecolor": "white",
            "ticks": ""
           }
          },
          "scene": {
           "xaxis": {
            "backgroundcolor": "#E5ECF6",
            "gridcolor": "white",
            "gridwidth": 2,
            "linecolor": "white",
            "showbackground": true,
            "ticks": "",
            "zerolinecolor": "white"
           },
           "yaxis": {
            "backgroundcolor": "#E5ECF6",
            "gridcolor": "white",
            "gridwidth": 2,
            "linecolor": "white",
            "showbackground": true,
            "ticks": "",
            "zerolinecolor": "white"
           },
           "zaxis": {
            "backgroundcolor": "#E5ECF6",
            "gridcolor": "white",
            "gridwidth": 2,
            "linecolor": "white",
            "showbackground": true,
            "ticks": "",
            "zerolinecolor": "white"
           }
          },
          "shapedefaults": {
           "line": {
            "color": "#2a3f5f"
           }
          },
          "ternary": {
           "aaxis": {
            "gridcolor": "white",
            "linecolor": "white",
            "ticks": ""
           },
           "baxis": {
            "gridcolor": "white",
            "linecolor": "white",
            "ticks": ""
           },
           "bgcolor": "#E5ECF6",
           "caxis": {
            "gridcolor": "white",
            "linecolor": "white",
            "ticks": ""
           }
          },
          "title": {
           "x": 0.05
          },
          "xaxis": {
           "automargin": true,
           "gridcolor": "white",
           "linecolor": "white",
           "ticks": "",
           "title": {
            "standoff": 15
           },
           "zerolinecolor": "white",
           "zerolinewidth": 2
          },
          "yaxis": {
           "automargin": true,
           "gridcolor": "white",
           "linecolor": "white",
           "ticks": "",
           "title": {
            "standoff": 15
           },
           "zerolinecolor": "white",
           "zerolinewidth": 2
          }
         }
        },
        "title": {
         "font": {
          "color": "orange",
          "family": "Times New Roman",
          "size": 20
         },
         "text": "Số lượng sản phẩm của các thương hiệu"
        },
        "width": 500
       }
      },
      "text/html": [
       "<div>                            <div id=\"db8143e3-3eed-4ff8-a59a-75b87438d78b\" class=\"plotly-graph-div\" style=\"height:500px; width:500px;\"></div>            <script type=\"text/javascript\">                require([\"plotly\"], function(Plotly) {                    window.PLOTLYENV=window.PLOTLYENV || {};                                    if (document.getElementById(\"db8143e3-3eed-4ff8-a59a-75b87438d78b\")) {                    Plotly.newPlot(                        \"db8143e3-3eed-4ff8-a59a-75b87438d78b\",                        [{\"domain\":{\"x\":[0.0,1.0],\"y\":[0.0,1.0]},\"hovertemplate\":\"%{label} <br>S\\u1ed1 l\\u01b0\\u1ee3ng m\\u1eb7t h\\u00e0ng: %{value}\",\"labels\":[\"Other\",\"SAMSUNG\",\"nokia\",\"LG\",\"sony\",\"OPPO\",\"Xiaomi\",\"Vivo\",\"Google\",\"hTC\",\"Vsmart\",\"BlackBerry\",\"HUAWEI\",\"Masstel\",\"KYOCERA\",\"motorola\",\"2Good\",\"Apple\",\"Mobiistar\",\"Realme\",\"Sharp\",\"TECNO\",\"Itel\",\"ulefone\",\"Panasonic\",\"OnePlus\",\"CAT\",\"Meizu\",\"LANDROVER\",\"Oukitel\",\"Kyocera Torque\",\"Asus\",\"Fujitsu\",\"ADMET\",\"AIEK\",\"Black Shark\",\"Google Nexus\",\"LV Mobile\",\"Poco\",\"KECHAODA\",\"SERVO\",\"GAMMA\",\"FORME\",\"MAXX\",\"Earldom\",\"docomo\",\"gor\",\"FPT\",\"Amazon\",\"SKY\",\"Kingston.\",\"Viettel\",\"Vertu\",\"YUNTENG\",\"XiaoMi Deerma\",\"aimica\",\"GTStar\",\"Real\"],\"legendgroup\":\"\",\"name\":\"\",\"showlegend\":true,\"values\":[860,485,404,236,219,212,190,81,69,44,25,20,19,17,17,16,15,15,15,15,8,6,5,5,4,3,3,3,3,3,3,3,2,2,2,2,2,2,2,2,2,1,1,1,1,1,1,1,1,1,1,1,1,1,1,1,1,1],\"type\":\"pie\",\"marker\":{\"colors\":[\"#FF6600\",\"#FF8000\",\"#FF9900\",\"#FFB300\",\"#FFCC00\"]},\"hoverinfo\":\"label+value+percent\",\"textinfo\":\"label+value+percent\",\"textposition\":\"inside\"}],                        {\"template\":{\"data\":{\"histogram2dcontour\":[{\"type\":\"histogram2dcontour\",\"colorbar\":{\"outlinewidth\":0,\"ticks\":\"\"},\"colorscale\":[[0.0,\"#0d0887\"],[0.1111111111111111,\"#46039f\"],[0.2222222222222222,\"#7201a8\"],[0.3333333333333333,\"#9c179e\"],[0.4444444444444444,\"#bd3786\"],[0.5555555555555556,\"#d8576b\"],[0.6666666666666666,\"#ed7953\"],[0.7777777777777778,\"#fb9f3a\"],[0.8888888888888888,\"#fdca26\"],[1.0,\"#f0f921\"]]}],\"choropleth\":[{\"type\":\"choropleth\",\"colorbar\":{\"outlinewidth\":0,\"ticks\":\"\"}}],\"histogram2d\":[{\"type\":\"histogram2d\",\"colorbar\":{\"outlinewidth\":0,\"ticks\":\"\"},\"colorscale\":[[0.0,\"#0d0887\"],[0.1111111111111111,\"#46039f\"],[0.2222222222222222,\"#7201a8\"],[0.3333333333333333,\"#9c179e\"],[0.4444444444444444,\"#bd3786\"],[0.5555555555555556,\"#d8576b\"],[0.6666666666666666,\"#ed7953\"],[0.7777777777777778,\"#fb9f3a\"],[0.8888888888888888,\"#fdca26\"],[1.0,\"#f0f921\"]]}],\"heatmap\":[{\"type\":\"heatmap\",\"colorbar\":{\"outlinewidth\":0,\"ticks\":\"\"},\"colorscale\":[[0.0,\"#0d0887\"],[0.1111111111111111,\"#46039f\"],[0.2222222222222222,\"#7201a8\"],[0.3333333333333333,\"#9c179e\"],[0.4444444444444444,\"#bd3786\"],[0.5555555555555556,\"#d8576b\"],[0.6666666666666666,\"#ed7953\"],[0.7777777777777778,\"#fb9f3a\"],[0.8888888888888888,\"#fdca26\"],[1.0,\"#f0f921\"]]}],\"heatmapgl\":[{\"type\":\"heatmapgl\",\"colorbar\":{\"outlinewidth\":0,\"ticks\":\"\"},\"colorscale\":[[0.0,\"#0d0887\"],[0.1111111111111111,\"#46039f\"],[0.2222222222222222,\"#7201a8\"],[0.3333333333333333,\"#9c179e\"],[0.4444444444444444,\"#bd3786\"],[0.5555555555555556,\"#d8576b\"],[0.6666666666666666,\"#ed7953\"],[0.7777777777777778,\"#fb9f3a\"],[0.8888888888888888,\"#fdca26\"],[1.0,\"#f0f921\"]]}],\"contourcarpet\":[{\"type\":\"contourcarpet\",\"colorbar\":{\"outlinewidth\":0,\"ticks\":\"\"}}],\"contour\":[{\"type\":\"contour\",\"colorbar\":{\"outlinewidth\":0,\"ticks\":\"\"},\"colorscale\":[[0.0,\"#0d0887\"],[0.1111111111111111,\"#46039f\"],[0.2222222222222222,\"#7201a8\"],[0.3333333333333333,\"#9c179e\"],[0.4444444444444444,\"#bd3786\"],[0.5555555555555556,\"#d8576b\"],[0.6666666666666666,\"#ed7953\"],[0.7777777777777778,\"#fb9f3a\"],[0.8888888888888888,\"#fdca26\"],[1.0,\"#f0f921\"]]}],\"surface\":[{\"type\":\"surface\",\"colorbar\":{\"outlinewidth\":0,\"ticks\":\"\"},\"colorscale\":[[0.0,\"#0d0887\"],[0.1111111111111111,\"#46039f\"],[0.2222222222222222,\"#7201a8\"],[0.3333333333333333,\"#9c179e\"],[0.4444444444444444,\"#bd3786\"],[0.5555555555555556,\"#d8576b\"],[0.6666666666666666,\"#ed7953\"],[0.7777777777777778,\"#fb9f3a\"],[0.8888888888888888,\"#fdca26\"],[1.0,\"#f0f921\"]]}],\"mesh3d\":[{\"type\":\"mesh3d\",\"colorbar\":{\"outlinewidth\":0,\"ticks\":\"\"}}],\"scatter\":[{\"fillpattern\":{\"fillmode\":\"overlay\",\"size\":10,\"solidity\":0.2},\"type\":\"scatter\"}],\"parcoords\":[{\"type\":\"parcoords\",\"line\":{\"colorbar\":{\"outlinewidth\":0,\"ticks\":\"\"}}}],\"scatterpolargl\":[{\"type\":\"scatterpolargl\",\"marker\":{\"colorbar\":{\"outlinewidth\":0,\"ticks\":\"\"}}}],\"bar\":[{\"error_x\":{\"color\":\"#2a3f5f\"},\"error_y\":{\"color\":\"#2a3f5f\"},\"marker\":{\"line\":{\"color\":\"#E5ECF6\",\"width\":0.5},\"pattern\":{\"fillmode\":\"overlay\",\"size\":10,\"solidity\":0.2}},\"type\":\"bar\"}],\"scattergeo\":[{\"type\":\"scattergeo\",\"marker\":{\"colorbar\":{\"outlinewidth\":0,\"ticks\":\"\"}}}],\"scatterpolar\":[{\"type\":\"scatterpolar\",\"marker\":{\"colorbar\":{\"outlinewidth\":0,\"ticks\":\"\"}}}],\"histogram\":[{\"marker\":{\"pattern\":{\"fillmode\":\"overlay\",\"size\":10,\"solidity\":0.2}},\"type\":\"histogram\"}],\"scattergl\":[{\"type\":\"scattergl\",\"marker\":{\"colorbar\":{\"outlinewidth\":0,\"ticks\":\"\"}}}],\"scatter3d\":[{\"type\":\"scatter3d\",\"line\":{\"colorbar\":{\"outlinewidth\":0,\"ticks\":\"\"}},\"marker\":{\"colorbar\":{\"outlinewidth\":0,\"ticks\":\"\"}}}],\"scattermapbox\":[{\"type\":\"scattermapbox\",\"marker\":{\"colorbar\":{\"outlinewidth\":0,\"ticks\":\"\"}}}],\"scatterternary\":[{\"type\":\"scatterternary\",\"marker\":{\"colorbar\":{\"outlinewidth\":0,\"ticks\":\"\"}}}],\"scattercarpet\":[{\"type\":\"scattercarpet\",\"marker\":{\"colorbar\":{\"outlinewidth\":0,\"ticks\":\"\"}}}],\"carpet\":[{\"aaxis\":{\"endlinecolor\":\"#2a3f5f\",\"gridcolor\":\"white\",\"linecolor\":\"white\",\"minorgridcolor\":\"white\",\"startlinecolor\":\"#2a3f5f\"},\"baxis\":{\"endlinecolor\":\"#2a3f5f\",\"gridcolor\":\"white\",\"linecolor\":\"white\",\"minorgridcolor\":\"white\",\"startlinecolor\":\"#2a3f5f\"},\"type\":\"carpet\"}],\"table\":[{\"cells\":{\"fill\":{\"color\":\"#EBF0F8\"},\"line\":{\"color\":\"white\"}},\"header\":{\"fill\":{\"color\":\"#C8D4E3\"},\"line\":{\"color\":\"white\"}},\"type\":\"table\"}],\"barpolar\":[{\"marker\":{\"line\":{\"color\":\"#E5ECF6\",\"width\":0.5},\"pattern\":{\"fillmode\":\"overlay\",\"size\":10,\"solidity\":0.2}},\"type\":\"barpolar\"}],\"pie\":[{\"automargin\":true,\"type\":\"pie\"}]},\"layout\":{\"autotypenumbers\":\"strict\",\"colorway\":[\"#636efa\",\"#EF553B\",\"#00cc96\",\"#ab63fa\",\"#FFA15A\",\"#19d3f3\",\"#FF6692\",\"#B6E880\",\"#FF97FF\",\"#FECB52\"],\"font\":{\"color\":\"#2a3f5f\"},\"hovermode\":\"closest\",\"hoverlabel\":{\"align\":\"left\"},\"paper_bgcolor\":\"white\",\"plot_bgcolor\":\"#E5ECF6\",\"polar\":{\"bgcolor\":\"#E5ECF6\",\"angularaxis\":{\"gridcolor\":\"white\",\"linecolor\":\"white\",\"ticks\":\"\"},\"radialaxis\":{\"gridcolor\":\"white\",\"linecolor\":\"white\",\"ticks\":\"\"}},\"ternary\":{\"bgcolor\":\"#E5ECF6\",\"aaxis\":{\"gridcolor\":\"white\",\"linecolor\":\"white\",\"ticks\":\"\"},\"baxis\":{\"gridcolor\":\"white\",\"linecolor\":\"white\",\"ticks\":\"\"},\"caxis\":{\"gridcolor\":\"white\",\"linecolor\":\"white\",\"ticks\":\"\"}},\"coloraxis\":{\"colorbar\":{\"outlinewidth\":0,\"ticks\":\"\"}},\"colorscale\":{\"sequential\":[[0.0,\"#0d0887\"],[0.1111111111111111,\"#46039f\"],[0.2222222222222222,\"#7201a8\"],[0.3333333333333333,\"#9c179e\"],[0.4444444444444444,\"#bd3786\"],[0.5555555555555556,\"#d8576b\"],[0.6666666666666666,\"#ed7953\"],[0.7777777777777778,\"#fb9f3a\"],[0.8888888888888888,\"#fdca26\"],[1.0,\"#f0f921\"]],\"sequentialminus\":[[0.0,\"#0d0887\"],[0.1111111111111111,\"#46039f\"],[0.2222222222222222,\"#7201a8\"],[0.3333333333333333,\"#9c179e\"],[0.4444444444444444,\"#bd3786\"],[0.5555555555555556,\"#d8576b\"],[0.6666666666666666,\"#ed7953\"],[0.7777777777777778,\"#fb9f3a\"],[0.8888888888888888,\"#fdca26\"],[1.0,\"#f0f921\"]],\"diverging\":[[0,\"#8e0152\"],[0.1,\"#c51b7d\"],[0.2,\"#de77ae\"],[0.3,\"#f1b6da\"],[0.4,\"#fde0ef\"],[0.5,\"#f7f7f7\"],[0.6,\"#e6f5d0\"],[0.7,\"#b8e186\"],[0.8,\"#7fbc41\"],[0.9,\"#4d9221\"],[1,\"#276419\"]]},\"xaxis\":{\"gridcolor\":\"white\",\"linecolor\":\"white\",\"ticks\":\"\",\"title\":{\"standoff\":15},\"zerolinecolor\":\"white\",\"automargin\":true,\"zerolinewidth\":2},\"yaxis\":{\"gridcolor\":\"white\",\"linecolor\":\"white\",\"ticks\":\"\",\"title\":{\"standoff\":15},\"zerolinecolor\":\"white\",\"automargin\":true,\"zerolinewidth\":2},\"scene\":{\"xaxis\":{\"backgroundcolor\":\"#E5ECF6\",\"gridcolor\":\"white\",\"linecolor\":\"white\",\"showbackground\":true,\"ticks\":\"\",\"zerolinecolor\":\"white\",\"gridwidth\":2},\"yaxis\":{\"backgroundcolor\":\"#E5ECF6\",\"gridcolor\":\"white\",\"linecolor\":\"white\",\"showbackground\":true,\"ticks\":\"\",\"zerolinecolor\":\"white\",\"gridwidth\":2},\"zaxis\":{\"backgroundcolor\":\"#E5ECF6\",\"gridcolor\":\"white\",\"linecolor\":\"white\",\"showbackground\":true,\"ticks\":\"\",\"zerolinecolor\":\"white\",\"gridwidth\":2}},\"shapedefaults\":{\"line\":{\"color\":\"#2a3f5f\"}},\"annotationdefaults\":{\"arrowcolor\":\"#2a3f5f\",\"arrowhead\":0,\"arrowwidth\":1},\"geo\":{\"bgcolor\":\"white\",\"landcolor\":\"#E5ECF6\",\"subunitcolor\":\"white\",\"showland\":true,\"showlakes\":true,\"lakecolor\":\"white\"},\"title\":{\"x\":0.05},\"mapbox\":{\"style\":\"light\"}}},\"legend\":{\"tracegroupgap\":0},\"margin\":{\"t\":50,\"l\":0,\"r\":0,\"b\":25},\"height\":500,\"width\":500,\"title\":{\"text\":\"S\\u1ed1 l\\u01b0\\u1ee3ng s\\u1ea3n ph\\u1ea9m c\\u1ee7a c\\u00e1c th\\u01b0\\u01a1ng hi\\u1ec7u\",\"font\":{\"color\":\"orange\",\"size\":20,\"family\":\"Times New Roman\"}}},                        {\"responsive\": true}                    ).then(function(){\n",
       "                            \n",
       "var gd = document.getElementById('db8143e3-3eed-4ff8-a59a-75b87438d78b');\n",
       "var x = new MutationObserver(function (mutations, observer) {{\n",
       "        var display = window.getComputedStyle(gd).display;\n",
       "        if (!display || display === 'none') {{\n",
       "            console.log([gd, 'removed!']);\n",
       "            Plotly.purge(gd);\n",
       "            observer.disconnect();\n",
       "        }}\n",
       "}});\n",
       "\n",
       "// Listen for the removal of the full notebook cells\n",
       "var notebookContainer = gd.closest('#notebook-container');\n",
       "if (notebookContainer) {{\n",
       "    x.observe(notebookContainer, {childList: true});\n",
       "}}\n",
       "\n",
       "// Listen for the clearing of the current output cell\n",
       "var outputEl = gd.closest('.output');\n",
       "if (outputEl) {{\n",
       "    x.observe(outputEl, {childList: true});\n",
       "}}\n",
       "\n",
       "                        })                };                });            </script>        </div>"
      ]
     },
     "metadata": {},
     "output_type": "display_data"
    }
   ],
   "source": [
    "data_brand = data_DATA['brand'].value_counts()\n",
    "\n",
    "fig = px.pie(values=data_brand.values, names=data_brand.index,\n",
    "             #color_discrete_sequence=px.colors.sequential.Oranges,\n",
    "             width=500, height=500,\n",
    "             #labels={'labels':\"Tên\",\"Số lượng shop_sum\":'Tổng số shop'},\n",
    "            )    \n",
    "fig.update_layout(title=\"Số lượng sản phẩm của các thương hiệu\",\n",
    "                  title_font_color='orange',\n",
    "                  title_font_size=20,\n",
    "                  title_font_family=\"Times New Roman\",\n",
    "                 )\n",
    "fig.update_layout(margin = dict(t=50, l=0, r=0, b=25))\n",
    "fig.update_traces(textposition='inside', textinfo='label+value+percent', hoverinfo='label+value+percent',\n",
    "                  hovertemplate =\"%{label} <br>Số lượng mặt hàng: %{value}\",\n",
    "                  #textfont_size=10,\n",
    "                  marker=dict(colors=colors[1::2]))\n",
    "fig.show()"
   ]
  },
  {
   "cell_type": "markdown",
   "id": "e9c27390",
   "metadata": {},
   "source": [
    "### Sử dụng interact Top 5-10 Shop_id có Doanh số, Tồn kho, Doanh thu cao nhất, thấp nhất"
   ]
  },
  {
   "cell_type": "code",
   "execution_count": 13,
   "id": "23e2f9d6",
   "metadata": {
    "scrolled": false
   },
   "outputs": [
    {
     "data": {
      "application/vnd.jupyter.widget-view+json": {
       "model_id": "a288faefa7014288b8a1ca80c3f6d5f3",
       "version_major": 2,
       "version_minor": 0
      },
      "text/plain": [
       "interactive(children=(IntSlider(value=5, description='Top', max=10, min=5), Dropdown(description='Mục_tiêu', o…"
      ]
     },
     "metadata": {},
     "output_type": "display_data"
    }
   ],
   "source": [
    "# Sử dụng interact Top 5-10 Shop_id có Số Lượng bán, Tồn kho, Doanh thu cao nhất, thấp nhất\n",
    "list_name_shop = ['Doanh số','Doanh thu','Tồn kho']\n",
    "list_sort_shop = ['Cao nhất', 'Thấp nhất']\n",
    "@widgets.interact(Top = (5,10,1), Mục_tiêu = list_name_shop, Sắp_xếp = list_sort_shop)\n",
    "\n",
    "def Top_shop(Top =5, Mục_tiêu='Doanh số', Sắp_xếp = 'Cao nhất'):\n",
    "    data_shop = data_DATA[['shop_id','Doanh số','Doanh thu','Tồn kho']]     \n",
    "    if Sắp_xếp == 'Cao nhất':        \n",
    "        data_shop_1 = data_shop.groupby('shop_id').sum().nlargest(Top, columns = Mục_tiêu)\n",
    "    else:        \n",
    "        data_shop_1 = data_shop.groupby('shop_id').sum().nsmallest(Top, columns = Mục_tiêu)    \n",
    "    data_shop_2 = data_shop_1.reset_index()     \n",
    "    abc = data_ID[[\"shop_id\",\"Tỉnh\"]].drop_duplicates()    \n",
    "    data_shop_3 = pd.merge(data_shop_2, abc, how = 'left',on = \"shop_id\")   \n",
    "    data_shop_4 = data_shop_3.astype({'shop_id':str})\n",
    "    \n",
    "#     fig = go.Figure(data=[go.Bar(\n",
    "#             x= data_shop_4['shop_id'], y = data_shop_4[Lists],\n",
    "#             text=data_shop_4['Tỉnh'],\n",
    "#             textposition='auto',\n",
    "#         )])      \n",
    "    fig = px.bar(data_shop_4, x='shop_id', y=Mục_tiêu, color=\"Tỉnh\",\n",
    "                 width=900, height=500,\n",
    "                color_discrete_sequence=colors[::3],text_auto=True,\n",
    "                text = \"Tỉnh\",\n",
    "                ) \n",
    "    fig.update_traces(textfont_size=12, textangle=0, textposition=\"outside\", cliponaxis=False)\n",
    "    fig.update_layout(title=f\"Top {Top} shop có {Mục_tiêu.lower()} {Sắp_xếp.lower()}\",\n",
    "                      title_font_color='orange',\n",
    "                      title_font_size=20,\n",
    "                      title_font_family=\"Times New Roman\",\n",
    "                      xaxis_title=\"Shop ID\",\n",
    "                      yaxis_title= Mục_tiêu,\n",
    "#                       legend=dict(\n",
    "#                       x=0,\n",
    "#                       y=1.0,\n",
    "#                       bgcolor='rgba(255, 255, 255, 0)',\n",
    "#                       bordercolor='rgba(255, 255, 255, 0)')\n",
    "                     )\n",
    "    fig.show()  "
   ]
  },
  {
   "cell_type": "markdown",
   "id": "a459501f",
   "metadata": {},
   "source": [
    "## Treemap"
   ]
  },
  {
   "cell_type": "markdown",
   "id": "410e963b",
   "metadata": {},
   "source": [
    "### Treemap Doanh thu theo Thương hiệu?"
   ]
  },
  {
   "cell_type": "code",
   "execution_count": 14,
   "id": "80eabfdf",
   "metadata": {
    "scrolled": false
   },
   "outputs": [],
   "source": [
    "# list_name = ['Doanh số', 'Tồn kho','Doanh thu (Tỷ VNĐ)', 'Lượt thích', 'Lượt đánh giá']\n",
    "# @widgets.interact(N = (10,20,1), List=list_name)\n",
    "# def Doanh_thu_theo_thuong_hieu(N=15, List='Doanh thu (Tỷ VNĐ)'):\n",
    "#     data_DATA['Doanh thu (Tỷ VNĐ)'] = data_DATA['Doanh thu']/1000000000\n",
    "#     df_test = data_DATA[['brand',List]]\n",
    "#     df_1 = df_test.groupby('brand').sum()\n",
    "#     df_2 = df_1.nlargest(N, columns = List)\n",
    "#     fig = plt.figure(figsize=(14,8))\n",
    "#     fig = go.Figure()\n",
    "#     fig.add_trace(go.Treemap(\n",
    "#         values = df_2[List],\n",
    "#         labels = df_2.index,\n",
    "#         parents = [\"\"]*len(df_2),\n",
    "#         maxdepth=3,\n",
    "#         marker_colors = colors, \n",
    "#         textinfo = \"label+value+percent parent\",\n",
    "#         textposition='middle center',\n",
    "#         textfont_size=13   \n",
    "#     ))\n",
    "#     fig.update_layout(margin = dict(t=50, l=25, r=25, b=25))\n",
    "#     fig.update_layout(title=f\"{List} theo Thương hiệu\",\n",
    "#                       title_font_color='orange',\n",
    "#                       title_font_size=20,\n",
    "#                       title_font_family=\"Times New Roman\",\n",
    "#                      )\n",
    "#     fig.show()"
   ]
  },
  {
   "cell_type": "code",
   "execution_count": 15,
   "id": "d769a151",
   "metadata": {
    "scrolled": false
   },
   "outputs": [
    {
     "data": {
      "application/vnd.jupyter.widget-view+json": {
       "model_id": "262c7f832e2841d6b8e52e1523767597",
       "version_major": 2,
       "version_minor": 0
      },
      "text/plain": [
       "interactive(children=(Dropdown(description='Mục_tiêu', index=2, options=('Doanh số', 'Tồn kho', 'Doanh thu (Tỷ…"
      ]
     },
     "metadata": {},
     "output_type": "display_data"
    }
   ],
   "source": [
    "data_brand_1 = pd.merge(data_DATA[['item_id','brand','Doanh số','Tồn kho',\n",
    "                                   'Giá khuyến mãi','Doanh thu','Lượt thích','Lượt đánh giá']],\n",
    "                        data_ID[['item_id','Tên']], on=\"item_id\")\n",
    "data_brand_2 = data_brand_1.drop(\"item_id\",axis=1)\n",
    "data_brand_3 = data_brand_2.groupby(['brand',\"Tên\"]).sum()\n",
    "data_brand_4 = data_brand_3.reset_index()\n",
    "data_brand_4['all'] = \"all\"\n",
    "data_brand_4['Doanh thu (Tỷ VNĐ)'] = data_brand_4['Doanh thu']/1000000000\n",
    "\n",
    "list_name = ['Doanh số', 'Tồn kho','Doanh thu (Tỷ VNĐ)', 'Lượt thích', 'Lượt đánh giá']\n",
    "list_color = ['#FF8C00','#FF9900','#FFA600','#FFB300','#FFBF00','#FFCC00','#FADB41','#FAE741','#FFFFFF','#FFDA1F']\n",
    "list_1 = ['#FF6600','#FF7300','#FF8000','#FF8C00','#FF9900','#FFA600','#FFB300','#FFBF00','#FFFFFF','#FFCC00']\n",
    "@widgets.interact(Mục_tiêu=list_name)\n",
    "def Doanh_thu_theo_thuong_hieu_1(Mục_tiêu='Doanh thu (Tỷ VNĐ)'):\n",
    "    fig = px.treemap(data_brand_4, path=['all', 'brand', 'Tên'], values=Mục_tiêu, color='brand',color_discrete_sequence = list_1,\n",
    "                     maxdepth=2\n",
    "                    )\n",
    "    fig.update_traces(textinfo = \"label+value+percent parent\",\n",
    "                      textposition='middle center',\n",
    "                      textfont_size=14,\n",
    "                      hovertemplate =\"%{label} <br>%{value}\"\n",
    "                     )\n",
    "    fig.update_layout(margin = dict(t=50, l=25, r=25, b=25))\n",
    "    fig.update_layout(title=f\"{Mục_tiêu} theo thương hiệu\",\n",
    "                      title_font_color='orange',\n",
    "                      title_font_size=20,\n",
    "                      title_font_family=\"Times New Roman\",\n",
    "                     )\n",
    "    fig.show()"
   ]
  },
  {
   "cell_type": "code",
   "execution_count": 16,
   "id": "cce7b0c0",
   "metadata": {
    "scrolled": false
   },
   "outputs": [
    {
     "data": {
      "application/vnd.jupyter.widget-view+json": {
       "model_id": "fb4f2430121c40fcac92f7b101f22e5a",
       "version_major": 2,
       "version_minor": 0
      },
      "text/plain": [
       "interactive(children=(Dropdown(description='Mục_tiêu', index=2, options=('Doanh số', 'Tồn kho', 'Doanh thu (Tỷ…"
      ]
     },
     "metadata": {},
     "output_type": "display_data"
    }
   ],
   "source": [
    "data_KV_1 = data_ID[['item_id','Tỉnh','Tên']]\n",
    "data_KV_2 = data_DATA[[\"item_id\",'shop_id','Doanh số','Tồn kho','Doanh thu','Lượt thích','Lượt đánh giá']]\n",
    "data_KV_3 = pd.merge(data_KV_1 , data_KV_2 ,on = \"item_id\")  \n",
    "data_KV_4 = pd.merge(data_KV_3 ,data_LOC[['Khu Vực','Tỉnh']] ,on = \"Tỉnh\")\n",
    "data_KV_5 = data_KV_4.drop(\"item_id\",axis=1)\n",
    "data_KV_6 = data_KV_5.groupby(['Khu Vực','Tỉnh',\"Tên\"]).sum()\n",
    "data_KV_7 = data_KV_6.reset_index()\n",
    "data_KV_7['all'] = \"all\"\n",
    "data_KV_7['Doanh thu (Tỷ VNĐ)'] = data_KV_7['Doanh thu']/1000000000\n",
    "list_name = ['Doanh số', 'Tồn kho','Doanh thu (Tỷ VNĐ)', 'Lượt thích', 'Lượt đánh giá']\n",
    "list_color = ['#FF8C00','#FFA600','#FFBF00','#FFFFFF',]\n",
    "\n",
    "@widgets.interact(Mục_tiêu=list_name)\n",
    "def Doanh_thu_theo_thuong_hieu_1(Mục_tiêu='Doanh thu (Tỷ VNĐ)'):\n",
    "    fig = px.treemap(data_KV_7, path=['all','Tỉnh','shop_id', \"Tên\"], values=Mục_tiêu, color='Khu Vực',\n",
    "                     color_discrete_sequence = list_color,\n",
    "                     maxdepth=2)\n",
    "    fig.update_traces(textinfo = \"label+value+percent parent\",\n",
    "                      textposition='middle center',\n",
    "                      textfont_size=14,\n",
    "                      hovertemplate =\"%{label} <br>%{value}\"\n",
    "                     )\n",
    "    fig.update_layout(margin = dict(t=50, l=25, r=25, b=25))\n",
    "    fig.update_layout(title=f\"{Mục_tiêu} theo Tỉnh\",\n",
    "                      title_font_color='orange',\n",
    "                      title_font_size=20,\n",
    "                      title_font_family=\"Times New Roman\",\n",
    "                     )\n",
    "    fig.show()"
   ]
  },
  {
   "cell_type": "markdown",
   "id": "f3f4ccc2",
   "metadata": {},
   "source": [
    "### Bảng đồ doanh số giữa các khu vực ? "
   ]
  },
  {
   "cell_type": "code",
   "execution_count": 17,
   "id": "48ba30aa",
   "metadata": {
    "scrolled": false
   },
   "outputs": [],
   "source": [
    "# list_KV = ['Miền Bắc','Miền Trung','Miền Nam', 'Cả nước']\n",
    "# list_name = ['Doanh số', 'Tồn kho','Doanh thu (Tỷ VNĐ)', 'Lượt thích', 'Lượt đánh giá']\n",
    "# @widgets.interact(N = (10,20,1), KV=list_KV, Lists = list_name)\n",
    "# def Doanh_thu_theo_tinh(N=15, KV='Cả nước', Lists='Doanh số'):\n",
    "#     if KV == 'Cả nước':\n",
    "#         df_1 = data_Map_5.sort_values(Lists, ascending=False)\n",
    "#         df_2 = df_1[['Tỉnh', Lists]][0:N]\n",
    "#         other_count = df_1[Lists][N:].sum()\n",
    "#         other = pd.DataFrame({'Tỉnh': ['Khác'], Lists: [other_count]})\n",
    "#         df_3 = pd.concat([df_2, other],ignore_index=True)\n",
    "#     else:\n",
    "#         df_1 = data_Map_5[data_Map_5['Khu Vực']==KV].sort_values(Lists, ascending=False)\n",
    "#         df_2 = df_1[['Tỉnh', Lists]][0:N]\n",
    "#         other_count = df_1[Lists][N:].sum()\n",
    "#         other = pd.DataFrame({'Tỉnh': ['Khác'], Lists: [other_count]})\n",
    "#         df_3 = pd.concat([df_2, other],ignore_index=True)\n",
    "    \n",
    "#     fig = plt.figure(figsize=(14,8))\n",
    "#     fig = go.Figure()\n",
    "#     fig.add_trace(go.Treemap(\n",
    "#         values = df_3[Lists],\n",
    "#         labels = df_3[\"Tỉnh\"],\n",
    "#         parents = [\"\"]*len(df_3),\n",
    "#         maxdepth=3,\n",
    "#         marker_colors = colors ,\n",
    "#         textinfo = \"label+value+percent parent\",\n",
    "#         textposition='middle center',\n",
    "#         textfont_size=14  \n",
    "#     ))    \n",
    "#     fig.update_layout(margin = dict(t=50, l=25, r=25, b=25))\n",
    "#     fig.update_layout(title=f\"<b>{Lists} của các Tỉnh trong {KV}</b>\",\n",
    "#                       title_font_color='orange',\n",
    "#                       title_font_size=20,\n",
    "#                       title_font_family=\"Times New Roman\",\n",
    "#                      )\n",
    "#     fig.show()"
   ]
  },
  {
   "cell_type": "code",
   "execution_count": 18,
   "id": "854ccedd",
   "metadata": {
    "scrolled": false
   },
   "outputs": [
    {
     "data": {
      "application/vnd.jupyter.widget-view+json": {
       "model_id": "cff333adaeb1496dba1ed8c9ddb5c7ea",
       "version_major": 2,
       "version_minor": 0
      },
      "text/plain": [
       "interactive(children=(Dropdown(description='Mục_tiêu', options=('Doanh số', 'Tồn kho', 'Doanh thu', 'Lượt thíc…"
      ]
     },
     "metadata": {},
     "output_type": "display_data"
    }
   ],
   "source": [
    "data_Map_1 = data_ID[['item_id','Tỉnh']]\n",
    "data_Map_2 = data_DATA[[\"item_id\",'shop_id','Doanh số','Tồn kho','Doanh thu','Lượt thích','Lượt đánh giá']]\n",
    "data_Map_3 = pd.merge(data_Map_1 , data_Map_2 ,on = \"item_id\")  \n",
    "data_Map_4 = data_Map_3.groupby('Tỉnh').sum()\n",
    "data_Map_5 = pd.merge(data_Map_4 ,data_LOC ,on = \"Tỉnh\")\n",
    "list_name = ['Doanh số', 'Tồn kho','Doanh thu', 'Lượt thích', 'Lượt đánh giá']\n",
    "data_Map_5['Doanh thu (Tỷ VNĐ)'] = data_Map_5['Doanh thu']/1000000000\n",
    "\n",
    "@widgets.interact(Mục_tiêu = list_name)\n",
    "def Ve_heat_map(Mục_tiêu='Doanh số'):\n",
    "    heatMap_data = list(zip(data_Map_5['latitude'], data_Map_5['longitude'], data_Map_5[Mục_tiêu]))\n",
    "    f_Figure = folium.Figure(width=900, height=500)\n",
    "    f_Map    = folium.Map(location = (16.047079, 108.2062303), \n",
    "                          zoom_start=5,\n",
    "                         ).add_to(f_Figure)\n",
    "    f_heatMap = HeatMap(data = heatMap_data,\n",
    "                         min_opacity=0.6,\n",
    "                         # max_val = 120,\n",
    "                         radius = 20,\n",
    "                         overlay = True\n",
    "                        ).add_to(f_Map)\n",
    "    display(f_Map)"
   ]
  },
  {
   "cell_type": "code",
   "execution_count": 19,
   "id": "cb8467a4",
   "metadata": {
    "scrolled": false
   },
   "outputs": [
    {
     "data": {
      "application/vnd.jupyter.widget-view+json": {
       "model_id": "fab1691d9d2c4703a2611aa32bf7fca5",
       "version_major": 2,
       "version_minor": 0
      },
      "text/plain": [
       "interactive(children=(Dropdown(description='Mục_tiêu', options=('Doanh số', 'Tồn kho', 'Doanh thu', 'Lượt thíc…"
      ]
     },
     "metadata": {},
     "output_type": "display_data"
    }
   ],
   "source": [
    "import json\n",
    "with open('vietnam.geojson',encoding=\"utf-8\") as file:\n",
    "    Viet_Nam = json.load(file)\n",
    "# Đổi tên Thừa Thiên - Huế => Thừa Thiên Huế, Hồ Chí Minh city = TP. Hồ Chí Minh\n",
    "def Doi_ten(text):\n",
    "    text = text.replace(\"TP. Hồ Chí Minh\",\"Hồ Chí Minh city\")\n",
    "    text = text.replace(\"Thừa Thiên Huế\",\"Thừa Thiên - Huế\")\n",
    "    return text\n",
    "data_Map_6 = data_Map_5.copy()\n",
    "data_Map_6['Tỉnh mới'] = data_Map_6['Tỉnh'].apply(Doi_ten)\n",
    "\n",
    "@widgets.interact(Mục_tiêu = list_name)\n",
    "def Ve_heat_map(Mục_tiêu='Doanh số'):\n",
    "    fig_map = px.choropleth_mapbox(data_Map_6, geojson=Viet_Nam, color=Mục_tiêu,\n",
    "                               locations=\"Tỉnh mới\", featureidkey=\"properties.name\",\n",
    "                               center={\"lat\": 16.047079, \"lon\": 108.2062303}, \n",
    "                               mapbox_style=\"carto-positron\", zoom=4.5,\n",
    "                               color_continuous_scale=colors[::-1],\n",
    "                               labels={'Tỉnh mới':'Tỉnh'},  )  \n",
    "    #fig_map.update_traces(colorbar = 'southoutside')\n",
    "#     fig_map.update_layout(coloraxis_colorbar=dict(\n",
    "#         title=\"<b>Doanh số</b>\",\n",
    "#         title_font_color='#FF5500',\n",
    "#         title_font_size=14,\n",
    "#         title_font_family=\"Arial\",\n",
    "#         thicknessmode=\"pixels\", \n",
    "#         thickness=10,\n",
    "#         lenmode=\"pixels\", \n",
    "#         len=300,\n",
    "#         #yanchor=\"top\",\n",
    "#         y=1,\n",
    "#         #ticks=\"outside\", \n",
    "#         #ticksuffix=\" bills\",\n",
    "#         orientation=\"h\",\n",
    "#         titleside = 'top',\n",
    "#      ))\n",
    "    #fig_map.update_layout(coloraxis_showscale=False)\n",
    "    fig_map.update_layout(margin={\"r\":0,\"t\":0,\"l\":0,\"b\":0})\n",
    "    fig_map.show()"
   ]
  },
  {
   "cell_type": "markdown",
   "id": "d63c888f",
   "metadata": {},
   "source": [
    "## RATING"
   ]
  },
  {
   "cell_type": "markdown",
   "id": "95d42073",
   "metadata": {},
   "source": [
    "### Số lượng comment đánh 5,4,3,2,1 sao"
   ]
  },
  {
   "cell_type": "code",
   "execution_count": 20,
   "id": "603a52fa",
   "metadata": {
    "scrolled": false
   },
   "outputs": [
    {
     "data": {
      "application/vnd.plotly.v1+json": {
       "config": {
        "plotlyServerURL": "https://plot.ly"
       },
       "data": [
        {
         "domain": {
          "x": [
           0,
           1
          ],
          "y": [
           0,
           1
          ]
         },
         "hoverinfo": "label+percent",
         "hovertemplate": "Đánh giá %{label} sao <br>Số lượng đánh giá: %{value}",
         "labels": [
          5,
          4,
          1,
          3,
          2
         ],
         "legendgroup": "",
         "marker": {
          "colors": [
           "#FF6600",
           "#FF8000",
           "#FF9900",
           "#FFB300",
           "#FFCC00"
          ]
         },
         "name": "",
         "rotation": 180,
         "showlegend": true,
         "textfont": {
          "size": 13
         },
         "textinfo": "percent+value",
         "textposition": "auto",
         "type": "pie",
         "values": [
          54010,
          2780,
          2227,
          1527,
          807
         ]
        }
       ],
       "layout": {
        "height": 400,
        "legend": {
         "tracegroupgap": 0
        },
        "margin": {
         "b": 25,
         "l": 0,
         "r": 0,
         "t": 50
        },
        "template": {
         "data": {
          "bar": [
           {
            "error_x": {
             "color": "#2a3f5f"
            },
            "error_y": {
             "color": "#2a3f5f"
            },
            "marker": {
             "line": {
              "color": "#E5ECF6",
              "width": 0.5
             },
             "pattern": {
              "fillmode": "overlay",
              "size": 10,
              "solidity": 0.2
             }
            },
            "type": "bar"
           }
          ],
          "barpolar": [
           {
            "marker": {
             "line": {
              "color": "#E5ECF6",
              "width": 0.5
             },
             "pattern": {
              "fillmode": "overlay",
              "size": 10,
              "solidity": 0.2
             }
            },
            "type": "barpolar"
           }
          ],
          "carpet": [
           {
            "aaxis": {
             "endlinecolor": "#2a3f5f",
             "gridcolor": "white",
             "linecolor": "white",
             "minorgridcolor": "white",
             "startlinecolor": "#2a3f5f"
            },
            "baxis": {
             "endlinecolor": "#2a3f5f",
             "gridcolor": "white",
             "linecolor": "white",
             "minorgridcolor": "white",
             "startlinecolor": "#2a3f5f"
            },
            "type": "carpet"
           }
          ],
          "choropleth": [
           {
            "colorbar": {
             "outlinewidth": 0,
             "ticks": ""
            },
            "type": "choropleth"
           }
          ],
          "contour": [
           {
            "colorbar": {
             "outlinewidth": 0,
             "ticks": ""
            },
            "colorscale": [
             [
              0,
              "#0d0887"
             ],
             [
              0.1111111111111111,
              "#46039f"
             ],
             [
              0.2222222222222222,
              "#7201a8"
             ],
             [
              0.3333333333333333,
              "#9c179e"
             ],
             [
              0.4444444444444444,
              "#bd3786"
             ],
             [
              0.5555555555555556,
              "#d8576b"
             ],
             [
              0.6666666666666666,
              "#ed7953"
             ],
             [
              0.7777777777777778,
              "#fb9f3a"
             ],
             [
              0.8888888888888888,
              "#fdca26"
             ],
             [
              1,
              "#f0f921"
             ]
            ],
            "type": "contour"
           }
          ],
          "contourcarpet": [
           {
            "colorbar": {
             "outlinewidth": 0,
             "ticks": ""
            },
            "type": "contourcarpet"
           }
          ],
          "heatmap": [
           {
            "colorbar": {
             "outlinewidth": 0,
             "ticks": ""
            },
            "colorscale": [
             [
              0,
              "#0d0887"
             ],
             [
              0.1111111111111111,
              "#46039f"
             ],
             [
              0.2222222222222222,
              "#7201a8"
             ],
             [
              0.3333333333333333,
              "#9c179e"
             ],
             [
              0.4444444444444444,
              "#bd3786"
             ],
             [
              0.5555555555555556,
              "#d8576b"
             ],
             [
              0.6666666666666666,
              "#ed7953"
             ],
             [
              0.7777777777777778,
              "#fb9f3a"
             ],
             [
              0.8888888888888888,
              "#fdca26"
             ],
             [
              1,
              "#f0f921"
             ]
            ],
            "type": "heatmap"
           }
          ],
          "heatmapgl": [
           {
            "colorbar": {
             "outlinewidth": 0,
             "ticks": ""
            },
            "colorscale": [
             [
              0,
              "#0d0887"
             ],
             [
              0.1111111111111111,
              "#46039f"
             ],
             [
              0.2222222222222222,
              "#7201a8"
             ],
             [
              0.3333333333333333,
              "#9c179e"
             ],
             [
              0.4444444444444444,
              "#bd3786"
             ],
             [
              0.5555555555555556,
              "#d8576b"
             ],
             [
              0.6666666666666666,
              "#ed7953"
             ],
             [
              0.7777777777777778,
              "#fb9f3a"
             ],
             [
              0.8888888888888888,
              "#fdca26"
             ],
             [
              1,
              "#f0f921"
             ]
            ],
            "type": "heatmapgl"
           }
          ],
          "histogram": [
           {
            "marker": {
             "pattern": {
              "fillmode": "overlay",
              "size": 10,
              "solidity": 0.2
             }
            },
            "type": "histogram"
           }
          ],
          "histogram2d": [
           {
            "colorbar": {
             "outlinewidth": 0,
             "ticks": ""
            },
            "colorscale": [
             [
              0,
              "#0d0887"
             ],
             [
              0.1111111111111111,
              "#46039f"
             ],
             [
              0.2222222222222222,
              "#7201a8"
             ],
             [
              0.3333333333333333,
              "#9c179e"
             ],
             [
              0.4444444444444444,
              "#bd3786"
             ],
             [
              0.5555555555555556,
              "#d8576b"
             ],
             [
              0.6666666666666666,
              "#ed7953"
             ],
             [
              0.7777777777777778,
              "#fb9f3a"
             ],
             [
              0.8888888888888888,
              "#fdca26"
             ],
             [
              1,
              "#f0f921"
             ]
            ],
            "type": "histogram2d"
           }
          ],
          "histogram2dcontour": [
           {
            "colorbar": {
             "outlinewidth": 0,
             "ticks": ""
            },
            "colorscale": [
             [
              0,
              "#0d0887"
             ],
             [
              0.1111111111111111,
              "#46039f"
             ],
             [
              0.2222222222222222,
              "#7201a8"
             ],
             [
              0.3333333333333333,
              "#9c179e"
             ],
             [
              0.4444444444444444,
              "#bd3786"
             ],
             [
              0.5555555555555556,
              "#d8576b"
             ],
             [
              0.6666666666666666,
              "#ed7953"
             ],
             [
              0.7777777777777778,
              "#fb9f3a"
             ],
             [
              0.8888888888888888,
              "#fdca26"
             ],
             [
              1,
              "#f0f921"
             ]
            ],
            "type": "histogram2dcontour"
           }
          ],
          "mesh3d": [
           {
            "colorbar": {
             "outlinewidth": 0,
             "ticks": ""
            },
            "type": "mesh3d"
           }
          ],
          "parcoords": [
           {
            "line": {
             "colorbar": {
              "outlinewidth": 0,
              "ticks": ""
             }
            },
            "type": "parcoords"
           }
          ],
          "pie": [
           {
            "automargin": true,
            "type": "pie"
           }
          ],
          "scatter": [
           {
            "fillpattern": {
             "fillmode": "overlay",
             "size": 10,
             "solidity": 0.2
            },
            "type": "scatter"
           }
          ],
          "scatter3d": [
           {
            "line": {
             "colorbar": {
              "outlinewidth": 0,
              "ticks": ""
             }
            },
            "marker": {
             "colorbar": {
              "outlinewidth": 0,
              "ticks": ""
             }
            },
            "type": "scatter3d"
           }
          ],
          "scattercarpet": [
           {
            "marker": {
             "colorbar": {
              "outlinewidth": 0,
              "ticks": ""
             }
            },
            "type": "scattercarpet"
           }
          ],
          "scattergeo": [
           {
            "marker": {
             "colorbar": {
              "outlinewidth": 0,
              "ticks": ""
             }
            },
            "type": "scattergeo"
           }
          ],
          "scattergl": [
           {
            "marker": {
             "colorbar": {
              "outlinewidth": 0,
              "ticks": ""
             }
            },
            "type": "scattergl"
           }
          ],
          "scattermapbox": [
           {
            "marker": {
             "colorbar": {
              "outlinewidth": 0,
              "ticks": ""
             }
            },
            "type": "scattermapbox"
           }
          ],
          "scatterpolar": [
           {
            "marker": {
             "colorbar": {
              "outlinewidth": 0,
              "ticks": ""
             }
            },
            "type": "scatterpolar"
           }
          ],
          "scatterpolargl": [
           {
            "marker": {
             "colorbar": {
              "outlinewidth": 0,
              "ticks": ""
             }
            },
            "type": "scatterpolargl"
           }
          ],
          "scatterternary": [
           {
            "marker": {
             "colorbar": {
              "outlinewidth": 0,
              "ticks": ""
             }
            },
            "type": "scatterternary"
           }
          ],
          "surface": [
           {
            "colorbar": {
             "outlinewidth": 0,
             "ticks": ""
            },
            "colorscale": [
             [
              0,
              "#0d0887"
             ],
             [
              0.1111111111111111,
              "#46039f"
             ],
             [
              0.2222222222222222,
              "#7201a8"
             ],
             [
              0.3333333333333333,
              "#9c179e"
             ],
             [
              0.4444444444444444,
              "#bd3786"
             ],
             [
              0.5555555555555556,
              "#d8576b"
             ],
             [
              0.6666666666666666,
              "#ed7953"
             ],
             [
              0.7777777777777778,
              "#fb9f3a"
             ],
             [
              0.8888888888888888,
              "#fdca26"
             ],
             [
              1,
              "#f0f921"
             ]
            ],
            "type": "surface"
           }
          ],
          "table": [
           {
            "cells": {
             "fill": {
              "color": "#EBF0F8"
             },
             "line": {
              "color": "white"
             }
            },
            "header": {
             "fill": {
              "color": "#C8D4E3"
             },
             "line": {
              "color": "white"
             }
            },
            "type": "table"
           }
          ]
         },
         "layout": {
          "annotationdefaults": {
           "arrowcolor": "#2a3f5f",
           "arrowhead": 0,
           "arrowwidth": 1
          },
          "autotypenumbers": "strict",
          "coloraxis": {
           "colorbar": {
            "outlinewidth": 0,
            "ticks": ""
           }
          },
          "colorscale": {
           "diverging": [
            [
             0,
             "#8e0152"
            ],
            [
             0.1,
             "#c51b7d"
            ],
            [
             0.2,
             "#de77ae"
            ],
            [
             0.3,
             "#f1b6da"
            ],
            [
             0.4,
             "#fde0ef"
            ],
            [
             0.5,
             "#f7f7f7"
            ],
            [
             0.6,
             "#e6f5d0"
            ],
            [
             0.7,
             "#b8e186"
            ],
            [
             0.8,
             "#7fbc41"
            ],
            [
             0.9,
             "#4d9221"
            ],
            [
             1,
             "#276419"
            ]
           ],
           "sequential": [
            [
             0,
             "#0d0887"
            ],
            [
             0.1111111111111111,
             "#46039f"
            ],
            [
             0.2222222222222222,
             "#7201a8"
            ],
            [
             0.3333333333333333,
             "#9c179e"
            ],
            [
             0.4444444444444444,
             "#bd3786"
            ],
            [
             0.5555555555555556,
             "#d8576b"
            ],
            [
             0.6666666666666666,
             "#ed7953"
            ],
            [
             0.7777777777777778,
             "#fb9f3a"
            ],
            [
             0.8888888888888888,
             "#fdca26"
            ],
            [
             1,
             "#f0f921"
            ]
           ],
           "sequentialminus": [
            [
             0,
             "#0d0887"
            ],
            [
             0.1111111111111111,
             "#46039f"
            ],
            [
             0.2222222222222222,
             "#7201a8"
            ],
            [
             0.3333333333333333,
             "#9c179e"
            ],
            [
             0.4444444444444444,
             "#bd3786"
            ],
            [
             0.5555555555555556,
             "#d8576b"
            ],
            [
             0.6666666666666666,
             "#ed7953"
            ],
            [
             0.7777777777777778,
             "#fb9f3a"
            ],
            [
             0.8888888888888888,
             "#fdca26"
            ],
            [
             1,
             "#f0f921"
            ]
           ]
          },
          "colorway": [
           "#636efa",
           "#EF553B",
           "#00cc96",
           "#ab63fa",
           "#FFA15A",
           "#19d3f3",
           "#FF6692",
           "#B6E880",
           "#FF97FF",
           "#FECB52"
          ],
          "font": {
           "color": "#2a3f5f"
          },
          "geo": {
           "bgcolor": "white",
           "lakecolor": "white",
           "landcolor": "#E5ECF6",
           "showlakes": true,
           "showland": true,
           "subunitcolor": "white"
          },
          "hoverlabel": {
           "align": "left"
          },
          "hovermode": "closest",
          "mapbox": {
           "style": "light"
          },
          "paper_bgcolor": "white",
          "plot_bgcolor": "#E5ECF6",
          "polar": {
           "angularaxis": {
            "gridcolor": "white",
            "linecolor": "white",
            "ticks": ""
           },
           "bgcolor": "#E5ECF6",
           "radialaxis": {
            "gridcolor": "white",
            "linecolor": "white",
            "ticks": ""
           }
          },
          "scene": {
           "xaxis": {
            "backgroundcolor": "#E5ECF6",
            "gridcolor": "white",
            "gridwidth": 2,
            "linecolor": "white",
            "showbackground": true,
            "ticks": "",
            "zerolinecolor": "white"
           },
           "yaxis": {
            "backgroundcolor": "#E5ECF6",
            "gridcolor": "white",
            "gridwidth": 2,
            "linecolor": "white",
            "showbackground": true,
            "ticks": "",
            "zerolinecolor": "white"
           },
           "zaxis": {
            "backgroundcolor": "#E5ECF6",
            "gridcolor": "white",
            "gridwidth": 2,
            "linecolor": "white",
            "showbackground": true,
            "ticks": "",
            "zerolinecolor": "white"
           }
          },
          "shapedefaults": {
           "line": {
            "color": "#2a3f5f"
           }
          },
          "ternary": {
           "aaxis": {
            "gridcolor": "white",
            "linecolor": "white",
            "ticks": ""
           },
           "baxis": {
            "gridcolor": "white",
            "linecolor": "white",
            "ticks": ""
           },
           "bgcolor": "#E5ECF6",
           "caxis": {
            "gridcolor": "white",
            "linecolor": "white",
            "ticks": ""
           }
          },
          "title": {
           "x": 0.05
          },
          "xaxis": {
           "automargin": true,
           "gridcolor": "white",
           "linecolor": "white",
           "ticks": "",
           "title": {
            "standoff": 15
           },
           "zerolinecolor": "white",
           "zerolinewidth": 2
          },
          "yaxis": {
           "automargin": true,
           "gridcolor": "white",
           "linecolor": "white",
           "ticks": "",
           "title": {
            "standoff": 15
           },
           "zerolinecolor": "white",
           "zerolinewidth": 2
          }
         }
        },
        "title": {
         "font": {
          "color": "orange",
          "family": "Times New Roman",
          "size": 20
         },
         "text": "Số lượng bình luận đánh 5,4,3,2,1 sao"
        },
        "width": 400,
        "xaxis": {
         "title": {
          "text": "Đánh giá"
         }
        },
        "yaxis": {
         "title": {
          "text": "Số lượt đánh giá "
         }
        }
       }
      },
      "text/html": [
       "<div>                            <div id=\"b1b6cb05-9c6a-4280-876c-90a177d1445e\" class=\"plotly-graph-div\" style=\"height:400px; width:400px;\"></div>            <script type=\"text/javascript\">                require([\"plotly\"], function(Plotly) {                    window.PLOTLYENV=window.PLOTLYENV || {};                                    if (document.getElementById(\"b1b6cb05-9c6a-4280-876c-90a177d1445e\")) {                    Plotly.newPlot(                        \"b1b6cb05-9c6a-4280-876c-90a177d1445e\",                        [{\"domain\":{\"x\":[0.0,1.0],\"y\":[0.0,1.0]},\"hovertemplate\":\"\\u0110\\u00e1nh gi\\u00e1 %{label} sao <br>S\\u1ed1 l\\u01b0\\u1ee3ng \\u0111\\u00e1nh gi\\u00e1: %{value}\",\"labels\":[5,4,1,3,2],\"legendgroup\":\"\",\"name\":\"\",\"showlegend\":true,\"values\":[54010,2780,2227,1527,807],\"type\":\"pie\",\"textfont\":{\"size\":13},\"marker\":{\"colors\":[\"#FF6600\",\"#FF8000\",\"#FF9900\",\"#FFB300\",\"#FFCC00\"]},\"hoverinfo\":\"label+percent\",\"rotation\":180,\"textinfo\":\"percent+value\",\"textposition\":\"auto\"}],                        {\"template\":{\"data\":{\"histogram2dcontour\":[{\"type\":\"histogram2dcontour\",\"colorbar\":{\"outlinewidth\":0,\"ticks\":\"\"},\"colorscale\":[[0.0,\"#0d0887\"],[0.1111111111111111,\"#46039f\"],[0.2222222222222222,\"#7201a8\"],[0.3333333333333333,\"#9c179e\"],[0.4444444444444444,\"#bd3786\"],[0.5555555555555556,\"#d8576b\"],[0.6666666666666666,\"#ed7953\"],[0.7777777777777778,\"#fb9f3a\"],[0.8888888888888888,\"#fdca26\"],[1.0,\"#f0f921\"]]}],\"choropleth\":[{\"type\":\"choropleth\",\"colorbar\":{\"outlinewidth\":0,\"ticks\":\"\"}}],\"histogram2d\":[{\"type\":\"histogram2d\",\"colorbar\":{\"outlinewidth\":0,\"ticks\":\"\"},\"colorscale\":[[0.0,\"#0d0887\"],[0.1111111111111111,\"#46039f\"],[0.2222222222222222,\"#7201a8\"],[0.3333333333333333,\"#9c179e\"],[0.4444444444444444,\"#bd3786\"],[0.5555555555555556,\"#d8576b\"],[0.6666666666666666,\"#ed7953\"],[0.7777777777777778,\"#fb9f3a\"],[0.8888888888888888,\"#fdca26\"],[1.0,\"#f0f921\"]]}],\"heatmap\":[{\"type\":\"heatmap\",\"colorbar\":{\"outlinewidth\":0,\"ticks\":\"\"},\"colorscale\":[[0.0,\"#0d0887\"],[0.1111111111111111,\"#46039f\"],[0.2222222222222222,\"#7201a8\"],[0.3333333333333333,\"#9c179e\"],[0.4444444444444444,\"#bd3786\"],[0.5555555555555556,\"#d8576b\"],[0.6666666666666666,\"#ed7953\"],[0.7777777777777778,\"#fb9f3a\"],[0.8888888888888888,\"#fdca26\"],[1.0,\"#f0f921\"]]}],\"heatmapgl\":[{\"type\":\"heatmapgl\",\"colorbar\":{\"outlinewidth\":0,\"ticks\":\"\"},\"colorscale\":[[0.0,\"#0d0887\"],[0.1111111111111111,\"#46039f\"],[0.2222222222222222,\"#7201a8\"],[0.3333333333333333,\"#9c179e\"],[0.4444444444444444,\"#bd3786\"],[0.5555555555555556,\"#d8576b\"],[0.6666666666666666,\"#ed7953\"],[0.7777777777777778,\"#fb9f3a\"],[0.8888888888888888,\"#fdca26\"],[1.0,\"#f0f921\"]]}],\"contourcarpet\":[{\"type\":\"contourcarpet\",\"colorbar\":{\"outlinewidth\":0,\"ticks\":\"\"}}],\"contour\":[{\"type\":\"contour\",\"colorbar\":{\"outlinewidth\":0,\"ticks\":\"\"},\"colorscale\":[[0.0,\"#0d0887\"],[0.1111111111111111,\"#46039f\"],[0.2222222222222222,\"#7201a8\"],[0.3333333333333333,\"#9c179e\"],[0.4444444444444444,\"#bd3786\"],[0.5555555555555556,\"#d8576b\"],[0.6666666666666666,\"#ed7953\"],[0.7777777777777778,\"#fb9f3a\"],[0.8888888888888888,\"#fdca26\"],[1.0,\"#f0f921\"]]}],\"surface\":[{\"type\":\"surface\",\"colorbar\":{\"outlinewidth\":0,\"ticks\":\"\"},\"colorscale\":[[0.0,\"#0d0887\"],[0.1111111111111111,\"#46039f\"],[0.2222222222222222,\"#7201a8\"],[0.3333333333333333,\"#9c179e\"],[0.4444444444444444,\"#bd3786\"],[0.5555555555555556,\"#d8576b\"],[0.6666666666666666,\"#ed7953\"],[0.7777777777777778,\"#fb9f3a\"],[0.8888888888888888,\"#fdca26\"],[1.0,\"#f0f921\"]]}],\"mesh3d\":[{\"type\":\"mesh3d\",\"colorbar\":{\"outlinewidth\":0,\"ticks\":\"\"}}],\"scatter\":[{\"fillpattern\":{\"fillmode\":\"overlay\",\"size\":10,\"solidity\":0.2},\"type\":\"scatter\"}],\"parcoords\":[{\"type\":\"parcoords\",\"line\":{\"colorbar\":{\"outlinewidth\":0,\"ticks\":\"\"}}}],\"scatterpolargl\":[{\"type\":\"scatterpolargl\",\"marker\":{\"colorbar\":{\"outlinewidth\":0,\"ticks\":\"\"}}}],\"bar\":[{\"error_x\":{\"color\":\"#2a3f5f\"},\"error_y\":{\"color\":\"#2a3f5f\"},\"marker\":{\"line\":{\"color\":\"#E5ECF6\",\"width\":0.5},\"pattern\":{\"fillmode\":\"overlay\",\"size\":10,\"solidity\":0.2}},\"type\":\"bar\"}],\"scattergeo\":[{\"type\":\"scattergeo\",\"marker\":{\"colorbar\":{\"outlinewidth\":0,\"ticks\":\"\"}}}],\"scatterpolar\":[{\"type\":\"scatterpolar\",\"marker\":{\"colorbar\":{\"outlinewidth\":0,\"ticks\":\"\"}}}],\"histogram\":[{\"marker\":{\"pattern\":{\"fillmode\":\"overlay\",\"size\":10,\"solidity\":0.2}},\"type\":\"histogram\"}],\"scattergl\":[{\"type\":\"scattergl\",\"marker\":{\"colorbar\":{\"outlinewidth\":0,\"ticks\":\"\"}}}],\"scatter3d\":[{\"type\":\"scatter3d\",\"line\":{\"colorbar\":{\"outlinewidth\":0,\"ticks\":\"\"}},\"marker\":{\"colorbar\":{\"outlinewidth\":0,\"ticks\":\"\"}}}],\"scattermapbox\":[{\"type\":\"scattermapbox\",\"marker\":{\"colorbar\":{\"outlinewidth\":0,\"ticks\":\"\"}}}],\"scatterternary\":[{\"type\":\"scatterternary\",\"marker\":{\"colorbar\":{\"outlinewidth\":0,\"ticks\":\"\"}}}],\"scattercarpet\":[{\"type\":\"scattercarpet\",\"marker\":{\"colorbar\":{\"outlinewidth\":0,\"ticks\":\"\"}}}],\"carpet\":[{\"aaxis\":{\"endlinecolor\":\"#2a3f5f\",\"gridcolor\":\"white\",\"linecolor\":\"white\",\"minorgridcolor\":\"white\",\"startlinecolor\":\"#2a3f5f\"},\"baxis\":{\"endlinecolor\":\"#2a3f5f\",\"gridcolor\":\"white\",\"linecolor\":\"white\",\"minorgridcolor\":\"white\",\"startlinecolor\":\"#2a3f5f\"},\"type\":\"carpet\"}],\"table\":[{\"cells\":{\"fill\":{\"color\":\"#EBF0F8\"},\"line\":{\"color\":\"white\"}},\"header\":{\"fill\":{\"color\":\"#C8D4E3\"},\"line\":{\"color\":\"white\"}},\"type\":\"table\"}],\"barpolar\":[{\"marker\":{\"line\":{\"color\":\"#E5ECF6\",\"width\":0.5},\"pattern\":{\"fillmode\":\"overlay\",\"size\":10,\"solidity\":0.2}},\"type\":\"barpolar\"}],\"pie\":[{\"automargin\":true,\"type\":\"pie\"}]},\"layout\":{\"autotypenumbers\":\"strict\",\"colorway\":[\"#636efa\",\"#EF553B\",\"#00cc96\",\"#ab63fa\",\"#FFA15A\",\"#19d3f3\",\"#FF6692\",\"#B6E880\",\"#FF97FF\",\"#FECB52\"],\"font\":{\"color\":\"#2a3f5f\"},\"hovermode\":\"closest\",\"hoverlabel\":{\"align\":\"left\"},\"paper_bgcolor\":\"white\",\"plot_bgcolor\":\"#E5ECF6\",\"polar\":{\"bgcolor\":\"#E5ECF6\",\"angularaxis\":{\"gridcolor\":\"white\",\"linecolor\":\"white\",\"ticks\":\"\"},\"radialaxis\":{\"gridcolor\":\"white\",\"linecolor\":\"white\",\"ticks\":\"\"}},\"ternary\":{\"bgcolor\":\"#E5ECF6\",\"aaxis\":{\"gridcolor\":\"white\",\"linecolor\":\"white\",\"ticks\":\"\"},\"baxis\":{\"gridcolor\":\"white\",\"linecolor\":\"white\",\"ticks\":\"\"},\"caxis\":{\"gridcolor\":\"white\",\"linecolor\":\"white\",\"ticks\":\"\"}},\"coloraxis\":{\"colorbar\":{\"outlinewidth\":0,\"ticks\":\"\"}},\"colorscale\":{\"sequential\":[[0.0,\"#0d0887\"],[0.1111111111111111,\"#46039f\"],[0.2222222222222222,\"#7201a8\"],[0.3333333333333333,\"#9c179e\"],[0.4444444444444444,\"#bd3786\"],[0.5555555555555556,\"#d8576b\"],[0.6666666666666666,\"#ed7953\"],[0.7777777777777778,\"#fb9f3a\"],[0.8888888888888888,\"#fdca26\"],[1.0,\"#f0f921\"]],\"sequentialminus\":[[0.0,\"#0d0887\"],[0.1111111111111111,\"#46039f\"],[0.2222222222222222,\"#7201a8\"],[0.3333333333333333,\"#9c179e\"],[0.4444444444444444,\"#bd3786\"],[0.5555555555555556,\"#d8576b\"],[0.6666666666666666,\"#ed7953\"],[0.7777777777777778,\"#fb9f3a\"],[0.8888888888888888,\"#fdca26\"],[1.0,\"#f0f921\"]],\"diverging\":[[0,\"#8e0152\"],[0.1,\"#c51b7d\"],[0.2,\"#de77ae\"],[0.3,\"#f1b6da\"],[0.4,\"#fde0ef\"],[0.5,\"#f7f7f7\"],[0.6,\"#e6f5d0\"],[0.7,\"#b8e186\"],[0.8,\"#7fbc41\"],[0.9,\"#4d9221\"],[1,\"#276419\"]]},\"xaxis\":{\"gridcolor\":\"white\",\"linecolor\":\"white\",\"ticks\":\"\",\"title\":{\"standoff\":15},\"zerolinecolor\":\"white\",\"automargin\":true,\"zerolinewidth\":2},\"yaxis\":{\"gridcolor\":\"white\",\"linecolor\":\"white\",\"ticks\":\"\",\"title\":{\"standoff\":15},\"zerolinecolor\":\"white\",\"automargin\":true,\"zerolinewidth\":2},\"scene\":{\"xaxis\":{\"backgroundcolor\":\"#E5ECF6\",\"gridcolor\":\"white\",\"linecolor\":\"white\",\"showbackground\":true,\"ticks\":\"\",\"zerolinecolor\":\"white\",\"gridwidth\":2},\"yaxis\":{\"backgroundcolor\":\"#E5ECF6\",\"gridcolor\":\"white\",\"linecolor\":\"white\",\"showbackground\":true,\"ticks\":\"\",\"zerolinecolor\":\"white\",\"gridwidth\":2},\"zaxis\":{\"backgroundcolor\":\"#E5ECF6\",\"gridcolor\":\"white\",\"linecolor\":\"white\",\"showbackground\":true,\"ticks\":\"\",\"zerolinecolor\":\"white\",\"gridwidth\":2}},\"shapedefaults\":{\"line\":{\"color\":\"#2a3f5f\"}},\"annotationdefaults\":{\"arrowcolor\":\"#2a3f5f\",\"arrowhead\":0,\"arrowwidth\":1},\"geo\":{\"bgcolor\":\"white\",\"landcolor\":\"#E5ECF6\",\"subunitcolor\":\"white\",\"showland\":true,\"showlakes\":true,\"lakecolor\":\"white\"},\"title\":{\"x\":0.05},\"mapbox\":{\"style\":\"light\"}}},\"legend\":{\"tracegroupgap\":0},\"margin\":{\"t\":50,\"l\":0,\"r\":0,\"b\":25},\"height\":400,\"width\":400,\"title\":{\"text\":\"S\\u1ed1 l\\u01b0\\u1ee3ng b\\u00ecnh lu\\u1eadn \\u0111\\u00e1nh 5,4,3,2,1 sao\",\"font\":{\"color\":\"orange\",\"size\":20,\"family\":\"Times New Roman\"}},\"xaxis\":{\"title\":{\"text\":\"\\u0110\\u00e1nh gi\\u00e1\"}},\"yaxis\":{\"title\":{\"text\":\"S\\u1ed1 l\\u01b0\\u1ee3t \\u0111\\u00e1nh gi\\u00e1 \"}}},                        {\"responsive\": true}                    ).then(function(){\n",
       "                            \n",
       "var gd = document.getElementById('b1b6cb05-9c6a-4280-876c-90a177d1445e');\n",
       "var x = new MutationObserver(function (mutations, observer) {{\n",
       "        var display = window.getComputedStyle(gd).display;\n",
       "        if (!display || display === 'none') {{\n",
       "            console.log([gd, 'removed!']);\n",
       "            Plotly.purge(gd);\n",
       "            observer.disconnect();\n",
       "        }}\n",
       "}});\n",
       "\n",
       "// Listen for the removal of the full notebook cells\n",
       "var notebookContainer = gd.closest('#notebook-container');\n",
       "if (notebookContainer) {{\n",
       "    x.observe(notebookContainer, {childList: true});\n",
       "}}\n",
       "\n",
       "// Listen for the clearing of the current output cell\n",
       "var outputEl = gd.closest('.output');\n",
       "if (outputEl) {{\n",
       "    x.observe(outputEl, {childList: true});\n",
       "}}\n",
       "\n",
       "                        })                };                });            </script>        </div>"
      ]
     },
     "metadata": {},
     "output_type": "display_data"
    }
   ],
   "source": [
    "rating_star_vote = data_RATING['rating_star'].value_counts()\n",
    "fig = px.pie(names = rating_star_vote.index, \n",
    "             values = rating_star_vote.values,\n",
    "             width=400, height=400,\n",
    "             labels={'x':\"Đánh giá\",'y':\"Số lượng đánh giá\",'color':\"\"},\n",
    "            )\n",
    "fig.update_layout(title=\"Số lượng bình luận đánh 5,4,3,2,1 sao\",\n",
    "                      title_font_color='orange',\n",
    "                      title_font_size=20,\n",
    "                      title_font_family=\"Times New Roman\",\n",
    "                      xaxis_title=\"Đánh giá\",\n",
    "                      yaxis_title=\"Số lượt đánh giá \",\n",
    "                     )\n",
    "fig.update_layout(margin = dict(t=50, l=0, r=0, b=25))\n",
    "fig.update_traces(textposition='auto',\n",
    "    textinfo='percent+value', hoverinfo='label+percent',\n",
    "                  hovertemplate =\"Đánh giá %{label} sao <br>Số lượng đánh giá: %{value}\",\n",
    "                  textfont_size=13,rotation=180,\n",
    "                  marker=dict(colors=colors[1::2]))\n",
    "fig.show()"
   ]
  },
  {
   "cell_type": "markdown",
   "id": "4fa1053e",
   "metadata": {},
   "source": [
    "### Top 5 khách hàng nhiều tương tác nhất"
   ]
  },
  {
   "cell_type": "code",
   "execution_count": 21,
   "id": "0751d868",
   "metadata": {},
   "outputs": [
    {
     "data": {
      "application/vnd.plotly.v1+json": {
       "config": {
        "plotlyServerURL": "https://plot.ly"
       },
       "data": [
        {
         "alignmentgroup": "True",
         "cliponaxis": false,
         "hovertemplate": "Tên người dùng=%{x}<br>Số sản phẩm=%{y}<extra></extra>",
         "legendgroup": "",
         "marker": {
          "color": "#FF7300",
          "pattern": {
           "shape": ""
          }
         },
         "name": "",
         "offsetgroup": "",
         "orientation": "v",
         "showlegend": false,
         "textangle": 0,
         "textfont": {
          "size": 12
         },
         "textposition": "outside",
         "type": "bar",
         "x": [
          "t*****2",
          "t*****2",
          "t*****2",
          "t*****2",
          "t*****2",
          "t*****2",
          "t*****2",
          "t*****2",
          "t*****2",
          "t*****2",
          "t*****2",
          "t*****2",
          "t*****2",
          "t*****2",
          "t*****2",
          "t*****2",
          "duchuy6184",
          "duchuy6184",
          "duchuy6184",
          "duchuy6184",
          "duchuy6184",
          "duchuy6184",
          "duchuy6184",
          "duchuy6184",
          "duchuy6184",
          "duchuy6184",
          "duchuy6184",
          "orin4618",
          "orin4618",
          "orin4618",
          "orin4618",
          "orin4618",
          "orin4618",
          "orin4618",
          "orin4618",
          "orin4618",
          "orin4618",
          "orin4618",
          "huyhoang61848",
          "huyhoang61848",
          "huyhoang61848",
          "huyhoang61848",
          "huyhoang61848",
          "huyhoang61848",
          "huyhoang61848",
          "huyhoang61848",
          "huyhoang61848",
          "huyhoang61848",
          "huyhoang61848",
          "huyhoang61848",
          "haonam61810",
          "haonam61810",
          "haonam61810",
          "haonam61810",
          "haonam61810",
          "haonam61810",
          "haonam61810",
          "haonam61810",
          "haonam61810",
          "haonam61810"
         ],
         "xaxis": "x",
         "y": [
          3,
          1,
          2,
          8,
          1,
          1,
          1,
          10,
          44,
          3,
          29,
          1,
          9,
          6,
          24,
          22,
          12,
          9,
          23,
          4,
          2,
          12,
          3,
          1,
          35,
          5,
          18,
          12,
          8,
          22,
          4,
          2,
          12,
          1,
          1,
          35,
          5,
          20,
          12,
          8,
          19,
          4,
          2,
          12,
          3,
          2,
          1,
          35,
          5,
          18,
          12,
          9,
          24,
          4,
          12,
          3,
          1,
          31,
          5,
          19
         ],
         "yaxis": "y"
        }
       ],
       "layout": {
        "barmode": "relative",
        "height": 500,
        "legend": {
         "tracegroupgap": 0
        },
        "margin": {
         "t": 60
        },
        "template": {
         "data": {
          "bar": [
           {
            "error_x": {
             "color": "#2a3f5f"
            },
            "error_y": {
             "color": "#2a3f5f"
            },
            "marker": {
             "line": {
              "color": "#E5ECF6",
              "width": 0.5
             },
             "pattern": {
              "fillmode": "overlay",
              "size": 10,
              "solidity": 0.2
             }
            },
            "type": "bar"
           }
          ],
          "barpolar": [
           {
            "marker": {
             "line": {
              "color": "#E5ECF6",
              "width": 0.5
             },
             "pattern": {
              "fillmode": "overlay",
              "size": 10,
              "solidity": 0.2
             }
            },
            "type": "barpolar"
           }
          ],
          "carpet": [
           {
            "aaxis": {
             "endlinecolor": "#2a3f5f",
             "gridcolor": "white",
             "linecolor": "white",
             "minorgridcolor": "white",
             "startlinecolor": "#2a3f5f"
            },
            "baxis": {
             "endlinecolor": "#2a3f5f",
             "gridcolor": "white",
             "linecolor": "white",
             "minorgridcolor": "white",
             "startlinecolor": "#2a3f5f"
            },
            "type": "carpet"
           }
          ],
          "choropleth": [
           {
            "colorbar": {
             "outlinewidth": 0,
             "ticks": ""
            },
            "type": "choropleth"
           }
          ],
          "contour": [
           {
            "colorbar": {
             "outlinewidth": 0,
             "ticks": ""
            },
            "colorscale": [
             [
              0,
              "#0d0887"
             ],
             [
              0.1111111111111111,
              "#46039f"
             ],
             [
              0.2222222222222222,
              "#7201a8"
             ],
             [
              0.3333333333333333,
              "#9c179e"
             ],
             [
              0.4444444444444444,
              "#bd3786"
             ],
             [
              0.5555555555555556,
              "#d8576b"
             ],
             [
              0.6666666666666666,
              "#ed7953"
             ],
             [
              0.7777777777777778,
              "#fb9f3a"
             ],
             [
              0.8888888888888888,
              "#fdca26"
             ],
             [
              1,
              "#f0f921"
             ]
            ],
            "type": "contour"
           }
          ],
          "contourcarpet": [
           {
            "colorbar": {
             "outlinewidth": 0,
             "ticks": ""
            },
            "type": "contourcarpet"
           }
          ],
          "heatmap": [
           {
            "colorbar": {
             "outlinewidth": 0,
             "ticks": ""
            },
            "colorscale": [
             [
              0,
              "#0d0887"
             ],
             [
              0.1111111111111111,
              "#46039f"
             ],
             [
              0.2222222222222222,
              "#7201a8"
             ],
             [
              0.3333333333333333,
              "#9c179e"
             ],
             [
              0.4444444444444444,
              "#bd3786"
             ],
             [
              0.5555555555555556,
              "#d8576b"
             ],
             [
              0.6666666666666666,
              "#ed7953"
             ],
             [
              0.7777777777777778,
              "#fb9f3a"
             ],
             [
              0.8888888888888888,
              "#fdca26"
             ],
             [
              1,
              "#f0f921"
             ]
            ],
            "type": "heatmap"
           }
          ],
          "heatmapgl": [
           {
            "colorbar": {
             "outlinewidth": 0,
             "ticks": ""
            },
            "colorscale": [
             [
              0,
              "#0d0887"
             ],
             [
              0.1111111111111111,
              "#46039f"
             ],
             [
              0.2222222222222222,
              "#7201a8"
             ],
             [
              0.3333333333333333,
              "#9c179e"
             ],
             [
              0.4444444444444444,
              "#bd3786"
             ],
             [
              0.5555555555555556,
              "#d8576b"
             ],
             [
              0.6666666666666666,
              "#ed7953"
             ],
             [
              0.7777777777777778,
              "#fb9f3a"
             ],
             [
              0.8888888888888888,
              "#fdca26"
             ],
             [
              1,
              "#f0f921"
             ]
            ],
            "type": "heatmapgl"
           }
          ],
          "histogram": [
           {
            "marker": {
             "pattern": {
              "fillmode": "overlay",
              "size": 10,
              "solidity": 0.2
             }
            },
            "type": "histogram"
           }
          ],
          "histogram2d": [
           {
            "colorbar": {
             "outlinewidth": 0,
             "ticks": ""
            },
            "colorscale": [
             [
              0,
              "#0d0887"
             ],
             [
              0.1111111111111111,
              "#46039f"
             ],
             [
              0.2222222222222222,
              "#7201a8"
             ],
             [
              0.3333333333333333,
              "#9c179e"
             ],
             [
              0.4444444444444444,
              "#bd3786"
             ],
             [
              0.5555555555555556,
              "#d8576b"
             ],
             [
              0.6666666666666666,
              "#ed7953"
             ],
             [
              0.7777777777777778,
              "#fb9f3a"
             ],
             [
              0.8888888888888888,
              "#fdca26"
             ],
             [
              1,
              "#f0f921"
             ]
            ],
            "type": "histogram2d"
           }
          ],
          "histogram2dcontour": [
           {
            "colorbar": {
             "outlinewidth": 0,
             "ticks": ""
            },
            "colorscale": [
             [
              0,
              "#0d0887"
             ],
             [
              0.1111111111111111,
              "#46039f"
             ],
             [
              0.2222222222222222,
              "#7201a8"
             ],
             [
              0.3333333333333333,
              "#9c179e"
             ],
             [
              0.4444444444444444,
              "#bd3786"
             ],
             [
              0.5555555555555556,
              "#d8576b"
             ],
             [
              0.6666666666666666,
              "#ed7953"
             ],
             [
              0.7777777777777778,
              "#fb9f3a"
             ],
             [
              0.8888888888888888,
              "#fdca26"
             ],
             [
              1,
              "#f0f921"
             ]
            ],
            "type": "histogram2dcontour"
           }
          ],
          "mesh3d": [
           {
            "colorbar": {
             "outlinewidth": 0,
             "ticks": ""
            },
            "type": "mesh3d"
           }
          ],
          "parcoords": [
           {
            "line": {
             "colorbar": {
              "outlinewidth": 0,
              "ticks": ""
             }
            },
            "type": "parcoords"
           }
          ],
          "pie": [
           {
            "automargin": true,
            "type": "pie"
           }
          ],
          "scatter": [
           {
            "fillpattern": {
             "fillmode": "overlay",
             "size": 10,
             "solidity": 0.2
            },
            "type": "scatter"
           }
          ],
          "scatter3d": [
           {
            "line": {
             "colorbar": {
              "outlinewidth": 0,
              "ticks": ""
             }
            },
            "marker": {
             "colorbar": {
              "outlinewidth": 0,
              "ticks": ""
             }
            },
            "type": "scatter3d"
           }
          ],
          "scattercarpet": [
           {
            "marker": {
             "colorbar": {
              "outlinewidth": 0,
              "ticks": ""
             }
            },
            "type": "scattercarpet"
           }
          ],
          "scattergeo": [
           {
            "marker": {
             "colorbar": {
              "outlinewidth": 0,
              "ticks": ""
             }
            },
            "type": "scattergeo"
           }
          ],
          "scattergl": [
           {
            "marker": {
             "colorbar": {
              "outlinewidth": 0,
              "ticks": ""
             }
            },
            "type": "scattergl"
           }
          ],
          "scattermapbox": [
           {
            "marker": {
             "colorbar": {
              "outlinewidth": 0,
              "ticks": ""
             }
            },
            "type": "scattermapbox"
           }
          ],
          "scatterpolar": [
           {
            "marker": {
             "colorbar": {
              "outlinewidth": 0,
              "ticks": ""
             }
            },
            "type": "scatterpolar"
           }
          ],
          "scatterpolargl": [
           {
            "marker": {
             "colorbar": {
              "outlinewidth": 0,
              "ticks": ""
             }
            },
            "type": "scatterpolargl"
           }
          ],
          "scatterternary": [
           {
            "marker": {
             "colorbar": {
              "outlinewidth": 0,
              "ticks": ""
             }
            },
            "type": "scatterternary"
           }
          ],
          "surface": [
           {
            "colorbar": {
             "outlinewidth": 0,
             "ticks": ""
            },
            "colorscale": [
             [
              0,
              "#0d0887"
             ],
             [
              0.1111111111111111,
              "#46039f"
             ],
             [
              0.2222222222222222,
              "#7201a8"
             ],
             [
              0.3333333333333333,
              "#9c179e"
             ],
             [
              0.4444444444444444,
              "#bd3786"
             ],
             [
              0.5555555555555556,
              "#d8576b"
             ],
             [
              0.6666666666666666,
              "#ed7953"
             ],
             [
              0.7777777777777778,
              "#fb9f3a"
             ],
             [
              0.8888888888888888,
              "#fdca26"
             ],
             [
              1,
              "#f0f921"
             ]
            ],
            "type": "surface"
           }
          ],
          "table": [
           {
            "cells": {
             "fill": {
              "color": "#EBF0F8"
             },
             "line": {
              "color": "white"
             }
            },
            "header": {
             "fill": {
              "color": "#C8D4E3"
             },
             "line": {
              "color": "white"
             }
            },
            "type": "table"
           }
          ]
         },
         "layout": {
          "annotationdefaults": {
           "arrowcolor": "#2a3f5f",
           "arrowhead": 0,
           "arrowwidth": 1
          },
          "autotypenumbers": "strict",
          "coloraxis": {
           "colorbar": {
            "outlinewidth": 0,
            "ticks": ""
           }
          },
          "colorscale": {
           "diverging": [
            [
             0,
             "#8e0152"
            ],
            [
             0.1,
             "#c51b7d"
            ],
            [
             0.2,
             "#de77ae"
            ],
            [
             0.3,
             "#f1b6da"
            ],
            [
             0.4,
             "#fde0ef"
            ],
            [
             0.5,
             "#f7f7f7"
            ],
            [
             0.6,
             "#e6f5d0"
            ],
            [
             0.7,
             "#b8e186"
            ],
            [
             0.8,
             "#7fbc41"
            ],
            [
             0.9,
             "#4d9221"
            ],
            [
             1,
             "#276419"
            ]
           ],
           "sequential": [
            [
             0,
             "#0d0887"
            ],
            [
             0.1111111111111111,
             "#46039f"
            ],
            [
             0.2222222222222222,
             "#7201a8"
            ],
            [
             0.3333333333333333,
             "#9c179e"
            ],
            [
             0.4444444444444444,
             "#bd3786"
            ],
            [
             0.5555555555555556,
             "#d8576b"
            ],
            [
             0.6666666666666666,
             "#ed7953"
            ],
            [
             0.7777777777777778,
             "#fb9f3a"
            ],
            [
             0.8888888888888888,
             "#fdca26"
            ],
            [
             1,
             "#f0f921"
            ]
           ],
           "sequentialminus": [
            [
             0,
             "#0d0887"
            ],
            [
             0.1111111111111111,
             "#46039f"
            ],
            [
             0.2222222222222222,
             "#7201a8"
            ],
            [
             0.3333333333333333,
             "#9c179e"
            ],
            [
             0.4444444444444444,
             "#bd3786"
            ],
            [
             0.5555555555555556,
             "#d8576b"
            ],
            [
             0.6666666666666666,
             "#ed7953"
            ],
            [
             0.7777777777777778,
             "#fb9f3a"
            ],
            [
             0.8888888888888888,
             "#fdca26"
            ],
            [
             1,
             "#f0f921"
            ]
           ]
          },
          "colorway": [
           "#636efa",
           "#EF553B",
           "#00cc96",
           "#ab63fa",
           "#FFA15A",
           "#19d3f3",
           "#FF6692",
           "#B6E880",
           "#FF97FF",
           "#FECB52"
          ],
          "font": {
           "color": "#2a3f5f"
          },
          "geo": {
           "bgcolor": "white",
           "lakecolor": "white",
           "landcolor": "#E5ECF6",
           "showlakes": true,
           "showland": true,
           "subunitcolor": "white"
          },
          "hoverlabel": {
           "align": "left"
          },
          "hovermode": "closest",
          "mapbox": {
           "style": "light"
          },
          "paper_bgcolor": "white",
          "plot_bgcolor": "#E5ECF6",
          "polar": {
           "angularaxis": {
            "gridcolor": "white",
            "linecolor": "white",
            "ticks": ""
           },
           "bgcolor": "#E5ECF6",
           "radialaxis": {
            "gridcolor": "white",
            "linecolor": "white",
            "ticks": ""
           }
          },
          "scene": {
           "xaxis": {
            "backgroundcolor": "#E5ECF6",
            "gridcolor": "white",
            "gridwidth": 2,
            "linecolor": "white",
            "showbackground": true,
            "ticks": "",
            "zerolinecolor": "white"
           },
           "yaxis": {
            "backgroundcolor": "#E5ECF6",
            "gridcolor": "white",
            "gridwidth": 2,
            "linecolor": "white",
            "showbackground": true,
            "ticks": "",
            "zerolinecolor": "white"
           },
           "zaxis": {
            "backgroundcolor": "#E5ECF6",
            "gridcolor": "white",
            "gridwidth": 2,
            "linecolor": "white",
            "showbackground": true,
            "ticks": "",
            "zerolinecolor": "white"
           }
          },
          "shapedefaults": {
           "line": {
            "color": "#2a3f5f"
           }
          },
          "ternary": {
           "aaxis": {
            "gridcolor": "white",
            "linecolor": "white",
            "ticks": ""
           },
           "baxis": {
            "gridcolor": "white",
            "linecolor": "white",
            "ticks": ""
           },
           "bgcolor": "#E5ECF6",
           "caxis": {
            "gridcolor": "white",
            "linecolor": "white",
            "ticks": ""
           }
          },
          "title": {
           "x": 0.05
          },
          "xaxis": {
           "automargin": true,
           "gridcolor": "white",
           "linecolor": "white",
           "ticks": "",
           "title": {
            "standoff": 15
           },
           "zerolinecolor": "white",
           "zerolinewidth": 2
          },
          "yaxis": {
           "automargin": true,
           "gridcolor": "white",
           "linecolor": "white",
           "ticks": "",
           "title": {
            "standoff": 15
           },
           "zerolinecolor": "white",
           "zerolinewidth": 2
          }
         }
        },
        "title": {
         "font": {
          "color": "orange",
          "family": "Times New Roman",
          "size": 20
         },
         "text": "Top 5 khách hàng mua hàng nhiều nhất"
        },
        "width": 900,
        "xaxis": {
         "anchor": "y",
         "domain": [
          0,
          1
         ],
         "title": {
          "text": "ID khách hàng"
         }
        },
        "yaxis": {
         "anchor": "x",
         "domain": [
          0,
          1
         ],
         "title": {
          "text": " Số sản phẩm"
         }
        }
       }
      },
      "text/html": [
       "<div>                            <div id=\"ae08be66-790c-4674-a85d-f158e25d2501\" class=\"plotly-graph-div\" style=\"height:500px; width:900px;\"></div>            <script type=\"text/javascript\">                require([\"plotly\"], function(Plotly) {                    window.PLOTLYENV=window.PLOTLYENV || {};                                    if (document.getElementById(\"ae08be66-790c-4674-a85d-f158e25d2501\")) {                    Plotly.newPlot(                        \"ae08be66-790c-4674-a85d-f158e25d2501\",                        [{\"alignmentgroup\":\"True\",\"hovertemplate\":\"T\\u00ean ng\\u01b0\\u1eddi d\\u00f9ng=%{x}<br>S\\u1ed1 s\\u1ea3n ph\\u1ea9m=%{y}<extra></extra>\",\"legendgroup\":\"\",\"marker\":{\"color\":\"#FF7300\",\"pattern\":{\"shape\":\"\"}},\"name\":\"\",\"offsetgroup\":\"\",\"orientation\":\"v\",\"showlegend\":false,\"textposition\":\"outside\",\"x\":[\"t*****2\",\"t*****2\",\"t*****2\",\"t*****2\",\"t*****2\",\"t*****2\",\"t*****2\",\"t*****2\",\"t*****2\",\"t*****2\",\"t*****2\",\"t*****2\",\"t*****2\",\"t*****2\",\"t*****2\",\"t*****2\",\"duchuy6184\",\"duchuy6184\",\"duchuy6184\",\"duchuy6184\",\"duchuy6184\",\"duchuy6184\",\"duchuy6184\",\"duchuy6184\",\"duchuy6184\",\"duchuy6184\",\"duchuy6184\",\"orin4618\",\"orin4618\",\"orin4618\",\"orin4618\",\"orin4618\",\"orin4618\",\"orin4618\",\"orin4618\",\"orin4618\",\"orin4618\",\"orin4618\",\"huyhoang61848\",\"huyhoang61848\",\"huyhoang61848\",\"huyhoang61848\",\"huyhoang61848\",\"huyhoang61848\",\"huyhoang61848\",\"huyhoang61848\",\"huyhoang61848\",\"huyhoang61848\",\"huyhoang61848\",\"huyhoang61848\",\"haonam61810\",\"haonam61810\",\"haonam61810\",\"haonam61810\",\"haonam61810\",\"haonam61810\",\"haonam61810\",\"haonam61810\",\"haonam61810\",\"haonam61810\"],\"xaxis\":\"x\",\"y\":[3,1,2,8,1,1,1,10,44,3,29,1,9,6,24,22,12,9,23,4,2,12,3,1,35,5,18,12,8,22,4,2,12,1,1,35,5,20,12,8,19,4,2,12,3,2,1,35,5,18,12,9,24,4,12,3,1,31,5,19],\"yaxis\":\"y\",\"type\":\"bar\",\"textfont\":{\"size\":12},\"cliponaxis\":false,\"textangle\":0}],                        {\"template\":{\"data\":{\"histogram2dcontour\":[{\"type\":\"histogram2dcontour\",\"colorbar\":{\"outlinewidth\":0,\"ticks\":\"\"},\"colorscale\":[[0.0,\"#0d0887\"],[0.1111111111111111,\"#46039f\"],[0.2222222222222222,\"#7201a8\"],[0.3333333333333333,\"#9c179e\"],[0.4444444444444444,\"#bd3786\"],[0.5555555555555556,\"#d8576b\"],[0.6666666666666666,\"#ed7953\"],[0.7777777777777778,\"#fb9f3a\"],[0.8888888888888888,\"#fdca26\"],[1.0,\"#f0f921\"]]}],\"choropleth\":[{\"type\":\"choropleth\",\"colorbar\":{\"outlinewidth\":0,\"ticks\":\"\"}}],\"histogram2d\":[{\"type\":\"histogram2d\",\"colorbar\":{\"outlinewidth\":0,\"ticks\":\"\"},\"colorscale\":[[0.0,\"#0d0887\"],[0.1111111111111111,\"#46039f\"],[0.2222222222222222,\"#7201a8\"],[0.3333333333333333,\"#9c179e\"],[0.4444444444444444,\"#bd3786\"],[0.5555555555555556,\"#d8576b\"],[0.6666666666666666,\"#ed7953\"],[0.7777777777777778,\"#fb9f3a\"],[0.8888888888888888,\"#fdca26\"],[1.0,\"#f0f921\"]]}],\"heatmap\":[{\"type\":\"heatmap\",\"colorbar\":{\"outlinewidth\":0,\"ticks\":\"\"},\"colorscale\":[[0.0,\"#0d0887\"],[0.1111111111111111,\"#46039f\"],[0.2222222222222222,\"#7201a8\"],[0.3333333333333333,\"#9c179e\"],[0.4444444444444444,\"#bd3786\"],[0.5555555555555556,\"#d8576b\"],[0.6666666666666666,\"#ed7953\"],[0.7777777777777778,\"#fb9f3a\"],[0.8888888888888888,\"#fdca26\"],[1.0,\"#f0f921\"]]}],\"heatmapgl\":[{\"type\":\"heatmapgl\",\"colorbar\":{\"outlinewidth\":0,\"ticks\":\"\"},\"colorscale\":[[0.0,\"#0d0887\"],[0.1111111111111111,\"#46039f\"],[0.2222222222222222,\"#7201a8\"],[0.3333333333333333,\"#9c179e\"],[0.4444444444444444,\"#bd3786\"],[0.5555555555555556,\"#d8576b\"],[0.6666666666666666,\"#ed7953\"],[0.7777777777777778,\"#fb9f3a\"],[0.8888888888888888,\"#fdca26\"],[1.0,\"#f0f921\"]]}],\"contourcarpet\":[{\"type\":\"contourcarpet\",\"colorbar\":{\"outlinewidth\":0,\"ticks\":\"\"}}],\"contour\":[{\"type\":\"contour\",\"colorbar\":{\"outlinewidth\":0,\"ticks\":\"\"},\"colorscale\":[[0.0,\"#0d0887\"],[0.1111111111111111,\"#46039f\"],[0.2222222222222222,\"#7201a8\"],[0.3333333333333333,\"#9c179e\"],[0.4444444444444444,\"#bd3786\"],[0.5555555555555556,\"#d8576b\"],[0.6666666666666666,\"#ed7953\"],[0.7777777777777778,\"#fb9f3a\"],[0.8888888888888888,\"#fdca26\"],[1.0,\"#f0f921\"]]}],\"surface\":[{\"type\":\"surface\",\"colorbar\":{\"outlinewidth\":0,\"ticks\":\"\"},\"colorscale\":[[0.0,\"#0d0887\"],[0.1111111111111111,\"#46039f\"],[0.2222222222222222,\"#7201a8\"],[0.3333333333333333,\"#9c179e\"],[0.4444444444444444,\"#bd3786\"],[0.5555555555555556,\"#d8576b\"],[0.6666666666666666,\"#ed7953\"],[0.7777777777777778,\"#fb9f3a\"],[0.8888888888888888,\"#fdca26\"],[1.0,\"#f0f921\"]]}],\"mesh3d\":[{\"type\":\"mesh3d\",\"colorbar\":{\"outlinewidth\":0,\"ticks\":\"\"}}],\"scatter\":[{\"fillpattern\":{\"fillmode\":\"overlay\",\"size\":10,\"solidity\":0.2},\"type\":\"scatter\"}],\"parcoords\":[{\"type\":\"parcoords\",\"line\":{\"colorbar\":{\"outlinewidth\":0,\"ticks\":\"\"}}}],\"scatterpolargl\":[{\"type\":\"scatterpolargl\",\"marker\":{\"colorbar\":{\"outlinewidth\":0,\"ticks\":\"\"}}}],\"bar\":[{\"error_x\":{\"color\":\"#2a3f5f\"},\"error_y\":{\"color\":\"#2a3f5f\"},\"marker\":{\"line\":{\"color\":\"#E5ECF6\",\"width\":0.5},\"pattern\":{\"fillmode\":\"overlay\",\"size\":10,\"solidity\":0.2}},\"type\":\"bar\"}],\"scattergeo\":[{\"type\":\"scattergeo\",\"marker\":{\"colorbar\":{\"outlinewidth\":0,\"ticks\":\"\"}}}],\"scatterpolar\":[{\"type\":\"scatterpolar\",\"marker\":{\"colorbar\":{\"outlinewidth\":0,\"ticks\":\"\"}}}],\"histogram\":[{\"marker\":{\"pattern\":{\"fillmode\":\"overlay\",\"size\":10,\"solidity\":0.2}},\"type\":\"histogram\"}],\"scattergl\":[{\"type\":\"scattergl\",\"marker\":{\"colorbar\":{\"outlinewidth\":0,\"ticks\":\"\"}}}],\"scatter3d\":[{\"type\":\"scatter3d\",\"line\":{\"colorbar\":{\"outlinewidth\":0,\"ticks\":\"\"}},\"marker\":{\"colorbar\":{\"outlinewidth\":0,\"ticks\":\"\"}}}],\"scattermapbox\":[{\"type\":\"scattermapbox\",\"marker\":{\"colorbar\":{\"outlinewidth\":0,\"ticks\":\"\"}}}],\"scatterternary\":[{\"type\":\"scatterternary\",\"marker\":{\"colorbar\":{\"outlinewidth\":0,\"ticks\":\"\"}}}],\"scattercarpet\":[{\"type\":\"scattercarpet\",\"marker\":{\"colorbar\":{\"outlinewidth\":0,\"ticks\":\"\"}}}],\"carpet\":[{\"aaxis\":{\"endlinecolor\":\"#2a3f5f\",\"gridcolor\":\"white\",\"linecolor\":\"white\",\"minorgridcolor\":\"white\",\"startlinecolor\":\"#2a3f5f\"},\"baxis\":{\"endlinecolor\":\"#2a3f5f\",\"gridcolor\":\"white\",\"linecolor\":\"white\",\"minorgridcolor\":\"white\",\"startlinecolor\":\"#2a3f5f\"},\"type\":\"carpet\"}],\"table\":[{\"cells\":{\"fill\":{\"color\":\"#EBF0F8\"},\"line\":{\"color\":\"white\"}},\"header\":{\"fill\":{\"color\":\"#C8D4E3\"},\"line\":{\"color\":\"white\"}},\"type\":\"table\"}],\"barpolar\":[{\"marker\":{\"line\":{\"color\":\"#E5ECF6\",\"width\":0.5},\"pattern\":{\"fillmode\":\"overlay\",\"size\":10,\"solidity\":0.2}},\"type\":\"barpolar\"}],\"pie\":[{\"automargin\":true,\"type\":\"pie\"}]},\"layout\":{\"autotypenumbers\":\"strict\",\"colorway\":[\"#636efa\",\"#EF553B\",\"#00cc96\",\"#ab63fa\",\"#FFA15A\",\"#19d3f3\",\"#FF6692\",\"#B6E880\",\"#FF97FF\",\"#FECB52\"],\"font\":{\"color\":\"#2a3f5f\"},\"hovermode\":\"closest\",\"hoverlabel\":{\"align\":\"left\"},\"paper_bgcolor\":\"white\",\"plot_bgcolor\":\"#E5ECF6\",\"polar\":{\"bgcolor\":\"#E5ECF6\",\"angularaxis\":{\"gridcolor\":\"white\",\"linecolor\":\"white\",\"ticks\":\"\"},\"radialaxis\":{\"gridcolor\":\"white\",\"linecolor\":\"white\",\"ticks\":\"\"}},\"ternary\":{\"bgcolor\":\"#E5ECF6\",\"aaxis\":{\"gridcolor\":\"white\",\"linecolor\":\"white\",\"ticks\":\"\"},\"baxis\":{\"gridcolor\":\"white\",\"linecolor\":\"white\",\"ticks\":\"\"},\"caxis\":{\"gridcolor\":\"white\",\"linecolor\":\"white\",\"ticks\":\"\"}},\"coloraxis\":{\"colorbar\":{\"outlinewidth\":0,\"ticks\":\"\"}},\"colorscale\":{\"sequential\":[[0.0,\"#0d0887\"],[0.1111111111111111,\"#46039f\"],[0.2222222222222222,\"#7201a8\"],[0.3333333333333333,\"#9c179e\"],[0.4444444444444444,\"#bd3786\"],[0.5555555555555556,\"#d8576b\"],[0.6666666666666666,\"#ed7953\"],[0.7777777777777778,\"#fb9f3a\"],[0.8888888888888888,\"#fdca26\"],[1.0,\"#f0f921\"]],\"sequentialminus\":[[0.0,\"#0d0887\"],[0.1111111111111111,\"#46039f\"],[0.2222222222222222,\"#7201a8\"],[0.3333333333333333,\"#9c179e\"],[0.4444444444444444,\"#bd3786\"],[0.5555555555555556,\"#d8576b\"],[0.6666666666666666,\"#ed7953\"],[0.7777777777777778,\"#fb9f3a\"],[0.8888888888888888,\"#fdca26\"],[1.0,\"#f0f921\"]],\"diverging\":[[0,\"#8e0152\"],[0.1,\"#c51b7d\"],[0.2,\"#de77ae\"],[0.3,\"#f1b6da\"],[0.4,\"#fde0ef\"],[0.5,\"#f7f7f7\"],[0.6,\"#e6f5d0\"],[0.7,\"#b8e186\"],[0.8,\"#7fbc41\"],[0.9,\"#4d9221\"],[1,\"#276419\"]]},\"xaxis\":{\"gridcolor\":\"white\",\"linecolor\":\"white\",\"ticks\":\"\",\"title\":{\"standoff\":15},\"zerolinecolor\":\"white\",\"automargin\":true,\"zerolinewidth\":2},\"yaxis\":{\"gridcolor\":\"white\",\"linecolor\":\"white\",\"ticks\":\"\",\"title\":{\"standoff\":15},\"zerolinecolor\":\"white\",\"automargin\":true,\"zerolinewidth\":2},\"scene\":{\"xaxis\":{\"backgroundcolor\":\"#E5ECF6\",\"gridcolor\":\"white\",\"linecolor\":\"white\",\"showbackground\":true,\"ticks\":\"\",\"zerolinecolor\":\"white\",\"gridwidth\":2},\"yaxis\":{\"backgroundcolor\":\"#E5ECF6\",\"gridcolor\":\"white\",\"linecolor\":\"white\",\"showbackground\":true,\"ticks\":\"\",\"zerolinecolor\":\"white\",\"gridwidth\":2},\"zaxis\":{\"backgroundcolor\":\"#E5ECF6\",\"gridcolor\":\"white\",\"linecolor\":\"white\",\"showbackground\":true,\"ticks\":\"\",\"zerolinecolor\":\"white\",\"gridwidth\":2}},\"shapedefaults\":{\"line\":{\"color\":\"#2a3f5f\"}},\"annotationdefaults\":{\"arrowcolor\":\"#2a3f5f\",\"arrowhead\":0,\"arrowwidth\":1},\"geo\":{\"bgcolor\":\"white\",\"landcolor\":\"#E5ECF6\",\"subunitcolor\":\"white\",\"showland\":true,\"showlakes\":true,\"lakecolor\":\"white\"},\"title\":{\"x\":0.05},\"mapbox\":{\"style\":\"light\"}}},\"xaxis\":{\"anchor\":\"y\",\"domain\":[0.0,1.0],\"title\":{\"text\":\"ID kh\\u00e1ch h\\u00e0ng\"}},\"yaxis\":{\"anchor\":\"x\",\"domain\":[0.0,1.0],\"title\":{\"text\":\" S\\u1ed1 s\\u1ea3n ph\\u1ea9m\"}},\"legend\":{\"tracegroupgap\":0},\"margin\":{\"t\":60},\"barmode\":\"relative\",\"height\":500,\"width\":900,\"title\":{\"text\":\"Top 5 kh\\u00e1ch h\\u00e0ng mua h\\u00e0ng nhi\\u1ec1u nh\\u1ea5t\",\"font\":{\"color\":\"orange\",\"size\":20,\"family\":\"Times New Roman\"}}},                        {\"responsive\": true}                    ).then(function(){\n",
       "                            \n",
       "var gd = document.getElementById('ae08be66-790c-4674-a85d-f158e25d2501');\n",
       "var x = new MutationObserver(function (mutations, observer) {{\n",
       "        var display = window.getComputedStyle(gd).display;\n",
       "        if (!display || display === 'none') {{\n",
       "            console.log([gd, 'removed!']);\n",
       "            Plotly.purge(gd);\n",
       "            observer.disconnect();\n",
       "        }}\n",
       "}});\n",
       "\n",
       "// Listen for the removal of the full notebook cells\n",
       "var notebookContainer = gd.closest('#notebook-container');\n",
       "if (notebookContainer) {{\n",
       "    x.observe(notebookContainer, {childList: true});\n",
       "}}\n",
       "\n",
       "// Listen for the clearing of the current output cell\n",
       "var outputEl = gd.closest('.output');\n",
       "if (outputEl) {{\n",
       "    x.observe(outputEl, {childList: true});\n",
       "}}\n",
       "\n",
       "                        })                };                });            </script>        </div>"
      ]
     },
     "metadata": {},
     "output_type": "display_data"
    }
   ],
   "source": [
    "data_cus_1 = data_RATING[['item_id','user_name']]\n",
    "data_cus_2 = data_DATA[['item_id','brand']]\n",
    "data_cus_3 = pd.merge(data_cus_1, data_cus_2, on=\"item_id\")\n",
    "data_cus_4 = data_cus_3.groupby(['user_name',\"brand\"]).count()\n",
    "\n",
    "data_cus_5 = data_cus_1[['user_name','item_id']].groupby(\"user_name\").count()\n",
    "data_cus_6 = data_cus_5.nlargest(5, columns = 'item_id')\n",
    "data_cus_7 =  data_cus_6.reset_index()\n",
    "data_cus_8 = data_cus_7.rename(columns = {'item_id':'count',})\n",
    "data_cus_5 = data_cus_4.reset_index()\n",
    "data_cus_9 = pd.merge(data_cus_8, data_cus_5, on=\"user_name\",how=\"left\")\n",
    "fig1 = px.bar(data_cus_9, x=\"user_name\", y=\"item_id\", #color=\"brand\",\n",
    "             width=900, height=500,\n",
    "              color_discrete_sequence=colors[2::2],\n",
    "              labels={'item_id':\"Số sản phẩm\",'brand':\"Thương hiệu\",'user_name':\"Tên người dùng\"},\n",
    "              #text_auto=True,\n",
    "             )\n",
    "fig1.update_traces(textfont_size=12, textangle=0, textposition=\"outside\", cliponaxis=False)\n",
    "fig1.update_layout(title=\"Top 5 khách hàng mua hàng nhiều nhất\",\n",
    "                      title_font_color='orange',\n",
    "                      title_font_size=20,\n",
    "                      title_font_family=\"Times New Roman\",\n",
    "                      xaxis_title=\"ID khách hàng\",\n",
    "                      yaxis_title=\" Số sản phẩm\",)                    \n",
    "fig1.show()"
   ]
  },
  {
   "cell_type": "markdown",
   "id": "14d002dd",
   "metadata": {},
   "source": [
    "### Số lần được đánh giá của 1 sản phẩm"
   ]
  },
  {
   "cell_type": "code",
   "execution_count": 22,
   "id": "937b1771",
   "metadata": {
    "scrolled": false
   },
   "outputs": [
    {
     "data": {
      "image/png": "[encoded data removed]",
      "text/plain": [
       "<Figure size 480x360 with 1 Axes>"
      ]
     },
     "metadata": {},
     "output_type": "display_data"
    }
   ],
   "source": [
    "# Bỏ những đánh giá không có cmt\n",
    "hist_cmt_1 = data_RATING.copy()\n",
    "hist_cmt_1.dropna(inplace=True, axis=0, how=\"any\")\n",
    "hist_cmt_2 = hist_cmt_1[\"item_id\"].value_counts()\n",
    "n, bins, patches = plt.hist(hist_cmt_2.values, bins=60,color=colors[0])\n",
    "plt.title(\"Số lần được đánh giá của 1 sản phẩm\", fontsize=16, fontweight=\"bold\", color=\"orange\")\n",
    "plt.xlabel(\"Số lần đánh giá\", fontsize=14, color=\"k\")\n",
    "plt.ylabel(\"\", fontsize=14, color=\"k\")\n",
    "\n",
    "data = np.array(hist_cmt_2)\n",
    "\n",
    "def thong_tin(thongtin, h , k , name , col):\n",
    "        plt.axvline(thongtin, color = col, linestyle = \"--\", linewidth=0.5)\n",
    "        plt.text(thongtin, h*k, f'{name}: {thongtin:0,.2f}',color=col,weight=\"bold\")\n",
    "        \n",
    "mode_idx = np.argmax(n)\n",
    "mode_data = bins[mode_idx]\n",
    "thong_tin(mode_data, n[mode_idx], 1, \"Mode\", \"y\") \n",
    "thong_tin(np.min(data), n[mode_idx], 0.85, \"Min\", colors[-1])\n",
    "thong_tin(np.max(data), n[mode_idx], 0.7, \"Max\", colors[0])\n",
    "thong_tin(np.median(data), n[mode_idx], 0.55, \"Median\", \"b\")\n",
    "thong_tin(np.mean(data), n[mode_idx], 0.4, \"Mean\", \"g\")\n",
    "#plt.grid()\n",
    "plt.show()"
   ]
  },
  {
   "cell_type": "markdown",
   "id": "ea47632f",
   "metadata": {},
   "source": [
    "### Top 10 sp có nhiều đánh giá nhất"
   ]
  },
  {
   "cell_type": "code",
   "execution_count": 23,
   "id": "7266299f",
   "metadata": {},
   "outputs": [
    {
     "data": {
      "application/vnd.plotly.v1+json": {
       "config": {
        "plotlyServerURL": "https://plot.ly"
       },
       "data": [
        {
         "domain": {
          "x": [
           0,
           1
          ],
          "y": [
           0,
           1
          ]
         },
         "hoverinfo": "label+percent",
         "hovertemplate": "Đánh giá %{label} sao <br>Số lượng đánh giá: %{value}",
         "labels": [
          5,
          4,
          1,
          3,
          2
         ],
         "legendgroup": "",
         "marker": {
          "colors": [
           "#FF6600",
           "#FF8000",
           "#FF9900",
           "#FFB300",
           "#FFCC00"
          ]
         },
         "name": "",
         "showlegend": true,
         "textfont": {
          "size": 14
         },
         "textinfo": "percent+label",
         "textposition": "inside",
         "type": "pie",
         "values": [
          12329,
          701,
          413,
          338,
          191
         ]
        }
       ],
       "layout": {
        "height": 400,
        "legend": {
         "tracegroupgap": 0
        },
        "margin": {
         "b": 25,
         "l": 0,
         "r": 0,
         "t": 50
        },
        "template": {
         "data": {
          "bar": [
           {
            "error_x": {
             "color": "#2a3f5f"
            },
            "error_y": {
             "color": "#2a3f5f"
            },
            "marker": {
             "line": {
              "color": "#E5ECF6",
              "width": 0.5
             },
             "pattern": {
              "fillmode": "overlay",
              "size": 10,
              "solidity": 0.2
             }
            },
            "type": "bar"
           }
          ],
          "barpolar": [
           {
            "marker": {
             "line": {
              "color": "#E5ECF6",
              "width": 0.5
             },
             "pattern": {
              "fillmode": "overlay",
              "size": 10,
              "solidity": 0.2
             }
            },
            "type": "barpolar"
           }
          ],
          "carpet": [
           {
            "aaxis": {
             "endlinecolor": "#2a3f5f",
             "gridcolor": "white",
             "linecolor": "white",
             "minorgridcolor": "white",
             "startlinecolor": "#2a3f5f"
            },
            "baxis": {
             "endlinecolor": "#2a3f5f",
             "gridcolor": "white",
             "linecolor": "white",
             "minorgridcolor": "white",
             "startlinecolor": "#2a3f5f"
            },
            "type": "carpet"
           }
          ],
          "choropleth": [
           {
            "colorbar": {
             "outlinewidth": 0,
             "ticks": ""
            },
            "type": "choropleth"
           }
          ],
          "contour": [
           {
            "colorbar": {
             "outlinewidth": 0,
             "ticks": ""
            },
            "colorscale": [
             [
              0,
              "#0d0887"
             ],
             [
              0.1111111111111111,
              "#46039f"
             ],
             [
              0.2222222222222222,
              "#7201a8"
             ],
             [
              0.3333333333333333,
              "#9c179e"
             ],
             [
              0.4444444444444444,
              "#bd3786"
             ],
             [
              0.5555555555555556,
              "#d8576b"
             ],
             [
              0.6666666666666666,
              "#ed7953"
             ],
             [
              0.7777777777777778,
              "#fb9f3a"
             ],
             [
              0.8888888888888888,
              "#fdca26"
             ],
             [
              1,
              "#f0f921"
             ]
            ],
            "type": "contour"
           }
          ],
          "contourcarpet": [
           {
            "colorbar": {
             "outlinewidth": 0,
             "ticks": ""
            },
            "type": "contourcarpet"
           }
          ],
          "heatmap": [
           {
            "colorbar": {
             "outlinewidth": 0,
             "ticks": ""
            },
            "colorscale": [
             [
              0,
              "#0d0887"
             ],
             [
              0.1111111111111111,
              "#46039f"
             ],
             [
              0.2222222222222222,
              "#7201a8"
             ],
             [
              0.3333333333333333,
              "#9c179e"
             ],
             [
              0.4444444444444444,
              "#bd3786"
             ],
             [
              0.5555555555555556,
              "#d8576b"
             ],
             [
              0.6666666666666666,
              "#ed7953"
             ],
             [
              0.7777777777777778,
              "#fb9f3a"
             ],
             [
              0.8888888888888888,
              "#fdca26"
             ],
             [
              1,
              "#f0f921"
             ]
            ],
            "type": "heatmap"
           }
          ],
          "heatmapgl": [
           {
            "colorbar": {
             "outlinewidth": 0,
             "ticks": ""
            },
            "colorscale": [
             [
              0,
              "#0d0887"
             ],
             [
              0.1111111111111111,
              "#46039f"
             ],
             [
              0.2222222222222222,
              "#7201a8"
             ],
             [
              0.3333333333333333,
              "#9c179e"
             ],
             [
              0.4444444444444444,
              "#bd3786"
             ],
             [
              0.5555555555555556,
              "#d8576b"
             ],
             [
              0.6666666666666666,
              "#ed7953"
             ],
             [
              0.7777777777777778,
              "#fb9f3a"
             ],
             [
              0.8888888888888888,
              "#fdca26"
             ],
             [
              1,
              "#f0f921"
             ]
            ],
            "type": "heatmapgl"
           }
          ],
          "histogram": [
           {
            "marker": {
             "pattern": {
              "fillmode": "overlay",
              "size": 10,
              "solidity": 0.2
             }
            },
            "type": "histogram"
           }
          ],
          "histogram2d": [
           {
            "colorbar": {
             "outlinewidth": 0,
             "ticks": ""
            },
            "colorscale": [
             [
              0,
              "#0d0887"
             ],
             [
              0.1111111111111111,
              "#46039f"
             ],
             [
              0.2222222222222222,
              "#7201a8"
             ],
             [
              0.3333333333333333,
              "#9c179e"
             ],
             [
              0.4444444444444444,
              "#bd3786"
             ],
             [
              0.5555555555555556,
              "#d8576b"
             ],
             [
              0.6666666666666666,
              "#ed7953"
             ],
             [
              0.7777777777777778,
              "#fb9f3a"
             ],
             [
              0.8888888888888888,
              "#fdca26"
             ],
             [
              1,
              "#f0f921"
             ]
            ],
            "type": "histogram2d"
           }
          ],
          "histogram2dcontour": [
           {
            "colorbar": {
             "outlinewidth": 0,
             "ticks": ""
            },
            "colorscale": [
             [
              0,
              "#0d0887"
             ],
             [
              0.1111111111111111,
              "#46039f"
             ],
             [
              0.2222222222222222,
              "#7201a8"
             ],
             [
              0.3333333333333333,
              "#9c179e"
             ],
             [
              0.4444444444444444,
              "#bd3786"
             ],
             [
              0.5555555555555556,
              "#d8576b"
             ],
             [
              0.6666666666666666,
              "#ed7953"
             ],
             [
              0.7777777777777778,
              "#fb9f3a"
             ],
             [
              0.8888888888888888,
              "#fdca26"
             ],
             [
              1,
              "#f0f921"
             ]
            ],
            "type": "histogram2dcontour"
           }
          ],
          "mesh3d": [
           {
            "colorbar": {
             "outlinewidth": 0,
             "ticks": ""
            },
            "type": "mesh3d"
           }
          ],
          "parcoords": [
           {
            "line": {
             "colorbar": {
              "outlinewidth": 0,
              "ticks": ""
             }
            },
            "type": "parcoords"
           }
          ],
          "pie": [
           {
            "automargin": true,
            "type": "pie"
           }
          ],
          "scatter": [
           {
            "fillpattern": {
             "fillmode": "overlay",
             "size": 10,
             "solidity": 0.2
            },
            "type": "scatter"
           }
          ],
          "scatter3d": [
           {
            "line": {
             "colorbar": {
              "outlinewidth": 0,
              "ticks": ""
             }
            },
            "marker": {
             "colorbar": {
              "outlinewidth": 0,
              "ticks": ""
             }
            },
            "type": "scatter3d"
           }
          ],
          "scattercarpet": [
           {
            "marker": {
             "colorbar": {
              "outlinewidth": 0,
              "ticks": ""
             }
            },
            "type": "scattercarpet"
           }
          ],
          "scattergeo": [
           {
            "marker": {
             "colorbar": {
              "outlinewidth": 0,
              "ticks": ""
             }
            },
            "type": "scattergeo"
           }
          ],
          "scattergl": [
           {
            "marker": {
             "colorbar": {
              "outlinewidth": 0,
              "ticks": ""
             }
            },
            "type": "scattergl"
           }
          ],
          "scattermapbox": [
           {
            "marker": {
             "colorbar": {
              "outlinewidth": 0,
              "ticks": ""
             }
            },
            "type": "scattermapbox"
           }
          ],
          "scatterpolar": [
           {
            "marker": {
             "colorbar": {
              "outlinewidth": 0,
              "ticks": ""
             }
            },
            "type": "scatterpolar"
           }
          ],
          "scatterpolargl": [
           {
            "marker": {
             "colorbar": {
              "outlinewidth": 0,
              "ticks": ""
             }
            },
            "type": "scatterpolargl"
           }
          ],
          "scatterternary": [
           {
            "marker": {
             "colorbar": {
              "outlinewidth": 0,
              "ticks": ""
             }
            },
            "type": "scatterternary"
           }
          ],
          "surface": [
           {
            "colorbar": {
             "outlinewidth": 0,
             "ticks": ""
            },
            "colorscale": [
             [
              0,
              "#0d0887"
             ],
             [
              0.1111111111111111,
              "#46039f"
             ],
             [
              0.2222222222222222,
              "#7201a8"
             ],
             [
              0.3333333333333333,
              "#9c179e"
             ],
             [
              0.4444444444444444,
              "#bd3786"
             ],
             [
              0.5555555555555556,
              "#d8576b"
             ],
             [
              0.6666666666666666,
              "#ed7953"
             ],
             [
              0.7777777777777778,
              "#fb9f3a"
             ],
             [
              0.8888888888888888,
              "#fdca26"
             ],
             [
              1,
              "#f0f921"
             ]
            ],
            "type": "surface"
           }
          ],
          "table": [
           {
            "cells": {
             "fill": {
              "color": "#EBF0F8"
             },
             "line": {
              "color": "white"
             }
            },
            "header": {
             "fill": {
              "color": "#C8D4E3"
             },
             "line": {
              "color": "white"
             }
            },
            "type": "table"
           }
          ]
         },
         "layout": {
          "annotationdefaults": {
           "arrowcolor": "#2a3f5f",
           "arrowhead": 0,
           "arrowwidth": 1
          },
          "autotypenumbers": "strict",
          "coloraxis": {
           "colorbar": {
            "outlinewidth": 0,
            "ticks": ""
           }
          },
          "colorscale": {
           "diverging": [
            [
             0,
             "#8e0152"
            ],
            [
             0.1,
             "#c51b7d"
            ],
            [
             0.2,
             "#de77ae"
            ],
            [
             0.3,
             "#f1b6da"
            ],
            [
             0.4,
             "#fde0ef"
            ],
            [
             0.5,
             "#f7f7f7"
            ],
            [
             0.6,
             "#e6f5d0"
            ],
            [
             0.7,
             "#b8e186"
            ],
            [
             0.8,
             "#7fbc41"
            ],
            [
             0.9,
             "#4d9221"
            ],
            [
             1,
             "#276419"
            ]
           ],
           "sequential": [
            [
             0,
             "#0d0887"
            ],
            [
             0.1111111111111111,
             "#46039f"
            ],
            [
             0.2222222222222222,
             "#7201a8"
            ],
            [
             0.3333333333333333,
             "#9c179e"
            ],
            [
             0.4444444444444444,
             "#bd3786"
            ],
            [
             0.5555555555555556,
             "#d8576b"
            ],
            [
             0.6666666666666666,
             "#ed7953"
            ],
            [
             0.7777777777777778,
             "#fb9f3a"
            ],
            [
             0.8888888888888888,
             "#fdca26"
            ],
            [
             1,
             "#f0f921"
            ]
           ],
           "sequentialminus": [
            [
             0,
             "#0d0887"
            ],
            [
             0.1111111111111111,
             "#46039f"
            ],
            [
             0.2222222222222222,
             "#7201a8"
            ],
            [
             0.3333333333333333,
             "#9c179e"
            ],
            [
             0.4444444444444444,
             "#bd3786"
            ],
            [
             0.5555555555555556,
             "#d8576b"
            ],
            [
             0.6666666666666666,
             "#ed7953"
            ],
            [
             0.7777777777777778,
             "#fb9f3a"
            ],
            [
             0.8888888888888888,
             "#fdca26"
            ],
            [
             1,
             "#f0f921"
            ]
           ]
          },
          "colorway": [
           "#636efa",
           "#EF553B",
           "#00cc96",
           "#ab63fa",
           "#FFA15A",
           "#19d3f3",
           "#FF6692",
           "#B6E880",
           "#FF97FF",
           "#FECB52"
          ],
          "font": {
           "color": "#2a3f5f"
          },
          "geo": {
           "bgcolor": "white",
           "lakecolor": "white",
           "landcolor": "#E5ECF6",
           "showlakes": true,
           "showland": true,
           "subunitcolor": "white"
          },
          "hoverlabel": {
           "align": "left"
          },
          "hovermode": "closest",
          "mapbox": {
           "style": "light"
          },
          "paper_bgcolor": "white",
          "plot_bgcolor": "#E5ECF6",
          "polar": {
           "angularaxis": {
            "gridcolor": "white",
            "linecolor": "white",
            "ticks": ""
           },
           "bgcolor": "#E5ECF6",
           "radialaxis": {
            "gridcolor": "white",
            "linecolor": "white",
            "ticks": ""
           }
          },
          "scene": {
           "xaxis": {
            "backgroundcolor": "#E5ECF6",
            "gridcolor": "white",
            "gridwidth": 2,
            "linecolor": "white",
            "showbackground": true,
            "ticks": "",
            "zerolinecolor": "white"
           },
           "yaxis": {
            "backgroundcolor": "#E5ECF6",
            "gridcolor": "white",
            "gridwidth": 2,
            "linecolor": "white",
            "showbackground": true,
            "ticks": "",
            "zerolinecolor": "white"
           },
           "zaxis": {
            "backgroundcolor": "#E5ECF6",
            "gridcolor": "white",
            "gridwidth": 2,
            "linecolor": "white",
            "showbackground": true,
            "ticks": "",
            "zerolinecolor": "white"
           }
          },
          "shapedefaults": {
           "line": {
            "color": "#2a3f5f"
           }
          },
          "ternary": {
           "aaxis": {
            "gridcolor": "white",
            "linecolor": "white",
            "ticks": ""
           },
           "baxis": {
            "gridcolor": "white",
            "linecolor": "white",
            "ticks": ""
           },
           "bgcolor": "#E5ECF6",
           "caxis": {
            "gridcolor": "white",
            "linecolor": "white",
            "ticks": ""
           }
          },
          "title": {
           "x": 0.05
          },
          "xaxis": {
           "automargin": true,
           "gridcolor": "white",
           "linecolor": "white",
           "ticks": "",
           "title": {
            "standoff": 15
           },
           "zerolinecolor": "white",
           "zerolinewidth": 2
          },
          "yaxis": {
           "automargin": true,
           "gridcolor": "white",
           "linecolor": "white",
           "ticks": "",
           "title": {
            "standoff": 15
           },
           "zerolinecolor": "white",
           "zerolinewidth": 2
          }
         }
        },
        "title": {
         "font": {
          "color": "orange",
          "family": "Times New Roman",
          "size": 20
         },
         "text": "Số lượng comment đánh 5,4,3,2,1 sao của các sản phẩm có đánh giá nhiều nhất"
        },
        "width": 400,
        "xaxis": {
         "title": {
          "text": "Đánh giá"
         }
        },
        "yaxis": {
         "title": {
          "text": "Số lượt đánh giá "
         }
        }
       }
      },
      "text/html": [
       "<div>                            <div id=\"3e6dec74-37e0-4549-b3ac-318e3d6e06ab\" class=\"plotly-graph-div\" style=\"height:400px; width:400px;\"></div>            <script type=\"text/javascript\">                require([\"plotly\"], function(Plotly) {                    window.PLOTLYENV=window.PLOTLYENV || {};                                    if (document.getElementById(\"3e6dec74-37e0-4549-b3ac-318e3d6e06ab\")) {                    Plotly.newPlot(                        \"3e6dec74-37e0-4549-b3ac-318e3d6e06ab\",                        [{\"domain\":{\"x\":[0.0,1.0],\"y\":[0.0,1.0]},\"hovertemplate\":\"\\u0110\\u00e1nh gi\\u00e1 %{label} sao <br>S\\u1ed1 l\\u01b0\\u1ee3ng \\u0111\\u00e1nh gi\\u00e1: %{value}\",\"labels\":[5,4,1,3,2],\"legendgroup\":\"\",\"name\":\"\",\"showlegend\":true,\"values\":[12329,701,413,338,191],\"type\":\"pie\",\"textfont\":{\"size\":14},\"marker\":{\"colors\":[\"#FF6600\",\"#FF8000\",\"#FF9900\",\"#FFB300\",\"#FFCC00\"]},\"hoverinfo\":\"label+percent\",\"textinfo\":\"percent+label\",\"textposition\":\"inside\"}],                        {\"template\":{\"data\":{\"histogram2dcontour\":[{\"type\":\"histogram2dcontour\",\"colorbar\":{\"outlinewidth\":0,\"ticks\":\"\"},\"colorscale\":[[0.0,\"#0d0887\"],[0.1111111111111111,\"#46039f\"],[0.2222222222222222,\"#7201a8\"],[0.3333333333333333,\"#9c179e\"],[0.4444444444444444,\"#bd3786\"],[0.5555555555555556,\"#d8576b\"],[0.6666666666666666,\"#ed7953\"],[0.7777777777777778,\"#fb9f3a\"],[0.8888888888888888,\"#fdca26\"],[1.0,\"#f0f921\"]]}],\"choropleth\":[{\"type\":\"choropleth\",\"colorbar\":{\"outlinewidth\":0,\"ticks\":\"\"}}],\"histogram2d\":[{\"type\":\"histogram2d\",\"colorbar\":{\"outlinewidth\":0,\"ticks\":\"\"},\"colorscale\":[[0.0,\"#0d0887\"],[0.1111111111111111,\"#46039f\"],[0.2222222222222222,\"#7201a8\"],[0.3333333333333333,\"#9c179e\"],[0.4444444444444444,\"#bd3786\"],[0.5555555555555556,\"#d8576b\"],[0.6666666666666666,\"#ed7953\"],[0.7777777777777778,\"#fb9f3a\"],[0.8888888888888888,\"#fdca26\"],[1.0,\"#f0f921\"]]}],\"heatmap\":[{\"type\":\"heatmap\",\"colorbar\":{\"outlinewidth\":0,\"ticks\":\"\"},\"colorscale\":[[0.0,\"#0d0887\"],[0.1111111111111111,\"#46039f\"],[0.2222222222222222,\"#7201a8\"],[0.3333333333333333,\"#9c179e\"],[0.4444444444444444,\"#bd3786\"],[0.5555555555555556,\"#d8576b\"],[0.6666666666666666,\"#ed7953\"],[0.7777777777777778,\"#fb9f3a\"],[0.8888888888888888,\"#fdca26\"],[1.0,\"#f0f921\"]]}],\"heatmapgl\":[{\"type\":\"heatmapgl\",\"colorbar\":{\"outlinewidth\":0,\"ticks\":\"\"},\"colorscale\":[[0.0,\"#0d0887\"],[0.1111111111111111,\"#46039f\"],[0.2222222222222222,\"#7201a8\"],[0.3333333333333333,\"#9c179e\"],[0.4444444444444444,\"#bd3786\"],[0.5555555555555556,\"#d8576b\"],[0.6666666666666666,\"#ed7953\"],[0.7777777777777778,\"#fb9f3a\"],[0.8888888888888888,\"#fdca26\"],[1.0,\"#f0f921\"]]}],\"contourcarpet\":[{\"type\":\"contourcarpet\",\"colorbar\":{\"outlinewidth\":0,\"ticks\":\"\"}}],\"contour\":[{\"type\":\"contour\",\"colorbar\":{\"outlinewidth\":0,\"ticks\":\"\"},\"colorscale\":[[0.0,\"#0d0887\"],[0.1111111111111111,\"#46039f\"],[0.2222222222222222,\"#7201a8\"],[0.3333333333333333,\"#9c179e\"],[0.4444444444444444,\"#bd3786\"],[0.5555555555555556,\"#d8576b\"],[0.6666666666666666,\"#ed7953\"],[0.7777777777777778,\"#fb9f3a\"],[0.8888888888888888,\"#fdca26\"],[1.0,\"#f0f921\"]]}],\"surface\":[{\"type\":\"surface\",\"colorbar\":{\"outlinewidth\":0,\"ticks\":\"\"},\"colorscale\":[[0.0,\"#0d0887\"],[0.1111111111111111,\"#46039f\"],[0.2222222222222222,\"#7201a8\"],[0.3333333333333333,\"#9c179e\"],[0.4444444444444444,\"#bd3786\"],[0.5555555555555556,\"#d8576b\"],[0.6666666666666666,\"#ed7953\"],[0.7777777777777778,\"#fb9f3a\"],[0.8888888888888888,\"#fdca26\"],[1.0,\"#f0f921\"]]}],\"mesh3d\":[{\"type\":\"mesh3d\",\"colorbar\":{\"outlinewidth\":0,\"ticks\":\"\"}}],\"scatter\":[{\"fillpattern\":{\"fillmode\":\"overlay\",\"size\":10,\"solidity\":0.2},\"type\":\"scatter\"}],\"parcoords\":[{\"type\":\"parcoords\",\"line\":{\"colorbar\":{\"outlinewidth\":0,\"ticks\":\"\"}}}],\"scatterpolargl\":[{\"type\":\"scatterpolargl\",\"marker\":{\"colorbar\":{\"outlinewidth\":0,\"ticks\":\"\"}}}],\"bar\":[{\"error_x\":{\"color\":\"#2a3f5f\"},\"error_y\":{\"color\":\"#2a3f5f\"},\"marker\":{\"line\":{\"color\":\"#E5ECF6\",\"width\":0.5},\"pattern\":{\"fillmode\":\"overlay\",\"size\":10,\"solidity\":0.2}},\"type\":\"bar\"}],\"scattergeo\":[{\"type\":\"scattergeo\",\"marker\":{\"colorbar\":{\"outlinewidth\":0,\"ticks\":\"\"}}}],\"scatterpolar\":[{\"type\":\"scatterpolar\",\"marker\":{\"colorbar\":{\"outlinewidth\":0,\"ticks\":\"\"}}}],\"histogram\":[{\"marker\":{\"pattern\":{\"fillmode\":\"overlay\",\"size\":10,\"solidity\":0.2}},\"type\":\"histogram\"}],\"scattergl\":[{\"type\":\"scattergl\",\"marker\":{\"colorbar\":{\"outlinewidth\":0,\"ticks\":\"\"}}}],\"scatter3d\":[{\"type\":\"scatter3d\",\"line\":{\"colorbar\":{\"outlinewidth\":0,\"ticks\":\"\"}},\"marker\":{\"colorbar\":{\"outlinewidth\":0,\"ticks\":\"\"}}}],\"scattermapbox\":[{\"type\":\"scattermapbox\",\"marker\":{\"colorbar\":{\"outlinewidth\":0,\"ticks\":\"\"}}}],\"scatterternary\":[{\"type\":\"scatterternary\",\"marker\":{\"colorbar\":{\"outlinewidth\":0,\"ticks\":\"\"}}}],\"scattercarpet\":[{\"type\":\"scattercarpet\",\"marker\":{\"colorbar\":{\"outlinewidth\":0,\"ticks\":\"\"}}}],\"carpet\":[{\"aaxis\":{\"endlinecolor\":\"#2a3f5f\",\"gridcolor\":\"white\",\"linecolor\":\"white\",\"minorgridcolor\":\"white\",\"startlinecolor\":\"#2a3f5f\"},\"baxis\":{\"endlinecolor\":\"#2a3f5f\",\"gridcolor\":\"white\",\"linecolor\":\"white\",\"minorgridcolor\":\"white\",\"startlinecolor\":\"#2a3f5f\"},\"type\":\"carpet\"}],\"table\":[{\"cells\":{\"fill\":{\"color\":\"#EBF0F8\"},\"line\":{\"color\":\"white\"}},\"header\":{\"fill\":{\"color\":\"#C8D4E3\"},\"line\":{\"color\":\"white\"}},\"type\":\"table\"}],\"barpolar\":[{\"marker\":{\"line\":{\"color\":\"#E5ECF6\",\"width\":0.5},\"pattern\":{\"fillmode\":\"overlay\",\"size\":10,\"solidity\":0.2}},\"type\":\"barpolar\"}],\"pie\":[{\"automargin\":true,\"type\":\"pie\"}]},\"layout\":{\"autotypenumbers\":\"strict\",\"colorway\":[\"#636efa\",\"#EF553B\",\"#00cc96\",\"#ab63fa\",\"#FFA15A\",\"#19d3f3\",\"#FF6692\",\"#B6E880\",\"#FF97FF\",\"#FECB52\"],\"font\":{\"color\":\"#2a3f5f\"},\"hovermode\":\"closest\",\"hoverlabel\":{\"align\":\"left\"},\"paper_bgcolor\":\"white\",\"plot_bgcolor\":\"#E5ECF6\",\"polar\":{\"bgcolor\":\"#E5ECF6\",\"angularaxis\":{\"gridcolor\":\"white\",\"linecolor\":\"white\",\"ticks\":\"\"},\"radialaxis\":{\"gridcolor\":\"white\",\"linecolor\":\"white\",\"ticks\":\"\"}},\"ternary\":{\"bgcolor\":\"#E5ECF6\",\"aaxis\":{\"gridcolor\":\"white\",\"linecolor\":\"white\",\"ticks\":\"\"},\"baxis\":{\"gridcolor\":\"white\",\"linecolor\":\"white\",\"ticks\":\"\"},\"caxis\":{\"gridcolor\":\"white\",\"linecolor\":\"white\",\"ticks\":\"\"}},\"coloraxis\":{\"colorbar\":{\"outlinewidth\":0,\"ticks\":\"\"}},\"colorscale\":{\"sequential\":[[0.0,\"#0d0887\"],[0.1111111111111111,\"#46039f\"],[0.2222222222222222,\"#7201a8\"],[0.3333333333333333,\"#9c179e\"],[0.4444444444444444,\"#bd3786\"],[0.5555555555555556,\"#d8576b\"],[0.6666666666666666,\"#ed7953\"],[0.7777777777777778,\"#fb9f3a\"],[0.8888888888888888,\"#fdca26\"],[1.0,\"#f0f921\"]],\"sequentialminus\":[[0.0,\"#0d0887\"],[0.1111111111111111,\"#46039f\"],[0.2222222222222222,\"#7201a8\"],[0.3333333333333333,\"#9c179e\"],[0.4444444444444444,\"#bd3786\"],[0.5555555555555556,\"#d8576b\"],[0.6666666666666666,\"#ed7953\"],[0.7777777777777778,\"#fb9f3a\"],[0.8888888888888888,\"#fdca26\"],[1.0,\"#f0f921\"]],\"diverging\":[[0,\"#8e0152\"],[0.1,\"#c51b7d\"],[0.2,\"#de77ae\"],[0.3,\"#f1b6da\"],[0.4,\"#fde0ef\"],[0.5,\"#f7f7f7\"],[0.6,\"#e6f5d0\"],[0.7,\"#b8e186\"],[0.8,\"#7fbc41\"],[0.9,\"#4d9221\"],[1,\"#276419\"]]},\"xaxis\":{\"gridcolor\":\"white\",\"linecolor\":\"white\",\"ticks\":\"\",\"title\":{\"standoff\":15},\"zerolinecolor\":\"white\",\"automargin\":true,\"zerolinewidth\":2},\"yaxis\":{\"gridcolor\":\"white\",\"linecolor\":\"white\",\"ticks\":\"\",\"title\":{\"standoff\":15},\"zerolinecolor\":\"white\",\"automargin\":true,\"zerolinewidth\":2},\"scene\":{\"xaxis\":{\"backgroundcolor\":\"#E5ECF6\",\"gridcolor\":\"white\",\"linecolor\":\"white\",\"showbackground\":true,\"ticks\":\"\",\"zerolinecolor\":\"white\",\"gridwidth\":2},\"yaxis\":{\"backgroundcolor\":\"#E5ECF6\",\"gridcolor\":\"white\",\"linecolor\":\"white\",\"showbackground\":true,\"ticks\":\"\",\"zerolinecolor\":\"white\",\"gridwidth\":2},\"zaxis\":{\"backgroundcolor\":\"#E5ECF6\",\"gridcolor\":\"white\",\"linecolor\":\"white\",\"showbackground\":true,\"ticks\":\"\",\"zerolinecolor\":\"white\",\"gridwidth\":2}},\"shapedefaults\":{\"line\":{\"color\":\"#2a3f5f\"}},\"annotationdefaults\":{\"arrowcolor\":\"#2a3f5f\",\"arrowhead\":0,\"arrowwidth\":1},\"geo\":{\"bgcolor\":\"white\",\"landcolor\":\"#E5ECF6\",\"subunitcolor\":\"white\",\"showland\":true,\"showlakes\":true,\"lakecolor\":\"white\"},\"title\":{\"x\":0.05},\"mapbox\":{\"style\":\"light\"}}},\"legend\":{\"tracegroupgap\":0},\"margin\":{\"t\":50,\"l\":0,\"r\":0,\"b\":25},\"height\":400,\"width\":400,\"title\":{\"text\":\"S\\u1ed1 l\\u01b0\\u1ee3ng comment \\u0111\\u00e1nh 5,4,3,2,1 sao c\\u1ee7a c\\u00e1c s\\u1ea3n ph\\u1ea9m c\\u00f3 \\u0111\\u00e1nh gi\\u00e1 nhi\\u1ec1u nh\\u1ea5t\",\"font\":{\"color\":\"orange\",\"size\":20,\"family\":\"Times New Roman\"}},\"xaxis\":{\"title\":{\"text\":\"\\u0110\\u00e1nh gi\\u00e1\"}},\"yaxis\":{\"title\":{\"text\":\"S\\u1ed1 l\\u01b0\\u1ee3t \\u0111\\u00e1nh gi\\u00e1 \"}}},                        {\"responsive\": true}                    ).then(function(){\n",
       "                            \n",
       "var gd = document.getElementById('3e6dec74-37e0-4549-b3ac-318e3d6e06ab');\n",
       "var x = new MutationObserver(function (mutations, observer) {{\n",
       "        var display = window.getComputedStyle(gd).display;\n",
       "        if (!display || display === 'none') {{\n",
       "            console.log([gd, 'removed!']);\n",
       "            Plotly.purge(gd);\n",
       "            observer.disconnect();\n",
       "        }}\n",
       "}});\n",
       "\n",
       "// Listen for the removal of the full notebook cells\n",
       "var notebookContainer = gd.closest('#notebook-container');\n",
       "if (notebookContainer) {{\n",
       "    x.observe(notebookContainer, {childList: true});\n",
       "}}\n",
       "\n",
       "// Listen for the clearing of the current output cell\n",
       "var outputEl = gd.closest('.output');\n",
       "if (outputEl) {{\n",
       "    x.observe(outputEl, {childList: true});\n",
       "}}\n",
       "\n",
       "                        })                };                });            </script>        </div>"
      ]
     },
     "metadata": {},
     "output_type": "display_data"
    }
   ],
   "source": [
    "top_5_sp_cmt = hist_cmt_1[[\"item_id\",\"order_id\"]].groupby(\"item_id\").count()\n",
    "top_5_sp_cmt_1 = top_5_sp_cmt[top_5_sp_cmt['order_id']>50]\n",
    "top_5_sp_cmt_2 = top_5_sp_cmt_1.reset_index()\n",
    "top_5_sp_cmt_3 = pd.merge(top_5_sp_cmt_2 , data_ID[[\"item_id\",\"Tên\"]], on=\"item_id\") \n",
    "top_5_sp_cmt_4 = pd.merge(top_5_sp_cmt_3, hist_cmt_1[['user_name','rating_star','VAN','Rank','item_id']], on=\"item_id\",how=\"left\")\n",
    "rating_star_vote_cmt = top_5_sp_cmt_4['rating_star'].value_counts()\n",
    "fig = px.pie(names = rating_star_vote_cmt.index, \n",
    "             values = rating_star_vote_cmt.values,\n",
    "             width=400, height=400,\n",
    "             labels={'x':\"Đánh giá\",'y':\"Số lượng đánh giá\",'color':\"\"},\n",
    "            )\n",
    "fig.update_layout(title=\"Số lượng comment đánh 5,4,3,2,1 sao của các sản phẩm có đánh giá nhiều nhất\",\n",
    "                      title_font_color='orange',\n",
    "                      title_font_size=20,\n",
    "                      title_font_family=\"Times New Roman\",\n",
    "                      xaxis_title=\"Đánh giá\",\n",
    "                      yaxis_title=\"Số lượt đánh giá \",\n",
    "                     )\n",
    "fig.update_layout(margin = dict(t=50, l=0, r=0, b=25))\n",
    "fig.update_traces(textposition='inside', textinfo='percent+label', hoverinfo='label+percent',\n",
    "                  hovertemplate =\"Đánh giá %{label} sao <br>Số lượng đánh giá: %{value}\",\n",
    "                  textfont_size=14,\n",
    "                  marker=dict(colors=colors[1::2]))\n",
    "fig.show()"
   ]
  },
  {
   "cell_type": "markdown",
   "id": "98b5bbab",
   "metadata": {},
   "source": [
    "### Mỗi đơn hàng thường mua bao nhiểu sp"
   ]
  },
  {
   "cell_type": "code",
   "execution_count": 24,
   "id": "3de1d029",
   "metadata": {
    "scrolled": false
   },
   "outputs": [
    {
     "data": {
      "image/png": "[encoded data removed]",
      "text/plain": [
       "<Figure size 675x375 with 1 Axes>"
      ]
     },
     "metadata": {},
     "output_type": "display_data"
    }
   ],
   "source": [
    "values_order, counts_order = np.unique(data_RATING['order_id'], return_counts= True)\n",
    "fig,ax = plt.subplots(figsize=(9,5), num=1)\n",
    "n, bins, edges = ax.hist(counts_order, bins=80,\n",
    "                             color=colors[0], alpha=.75, edgecolor='black', linewidth=0.5)\n",
    "# Tạo nhãn trên trục x:\n",
    "ax.set_title('Số sản phẩm trong các đơn hàng',fontsize=18, color='orange',weight='bold')\n",
    "ax.set_xticks([int(bins[i]) for i in range(0, bins.size,5)])\n",
    "ax.set_xlabel(\"Số lượng product trong một order\", fontsize=14)\n",
    "ax.set_ylabel(\"Số lượng order\", fontsize=14)\n",
    "\n",
    "plt.show()"
   ]
  },
  {
   "cell_type": "markdown",
   "id": "1d614eef",
   "metadata": {},
   "source": [
    "### Các sp thường được mua cùng nhau"
   ]
  },
  {
   "cell_type": "code",
   "execution_count": 25,
   "id": "f528e086",
   "metadata": {},
   "outputs": [
    {
     "data": {
      "text/plain": [
       "điện Thoại Samsung Galaxy A20 Chính Hãng, máy 2sim ram 3G rom 32G, camera siêu nét -|- điện thoại Samsung A40 2sim ram 4G rom 64G Chính Hãng, Chiến Free/PUBG/Liên Quân đỉnh -|- điện thoại Samsung Galaxy A10S Chính Hãng, 2sim ram 3G Bộ nhớ 32G, Camera nét căng, Chiến Free/PUBG/Liên Quân đỉnh -|- điện thoại Samsung Galaxy A10s 2sim ram 3G/32G, màn hình 6.2inch, Cày Game nặng đỉnh chất -|- điện thoại Samsung Galaxy A20 2sim Chính Hãng, ram 3G rom 32G, Làm Tiktok Youtube FB Zalo chất -|- điện thoại Samsung Galaxy A20 2sim ram 3G rom 32G Chính Hãng, Cày Free/PUBG/Liên Quân mượt -|- điện thoại Samsung Galaxy A20E 2sim bộ nhớ 32G ram 3G, Máy Chính Hãng, Camera siêu nét -|- điện thoại Samsung Galaxy A20e - Samsung A20 E 2sim ram 3G/32G, máy Chính Hãng, Chiến PUBG/Free/Liên Quân đỉnh -|- điện thoại Samsung Galaxy A20s 2sim ram 4G rom 64G mới Chính Hãng, màn 6.5inch, Cày Game nặng chất -|- điện thoại Samsung Galaxy A20s Chính Hãng, 2sim ram 4G rom 64G, Cân mọi Game nặng chất -|- điện thoại Samsung Galaxy A20s Chính Hãng, ram 4G bộ nhớ 64G 2sim, Camera siêu nét -|- điện thoại Samsung Galaxy A30 2sim Chính Hãng ram 3G/32G, Cày Game nặng Tiktok Youtube Fb Chất -|- điện thoại Samsung Galaxy A30 2sim ram 4G/64G, máy Chính Hãng, Chiến Free/PUBG/Liên Quân Chất đỉnh -|- điện thoại Samsung Galaxy A30 Chính Hãng 2sim ram 4G bộ nhớ 64G, màn 6.4inch, Camera siêu nét -|- điện thoại Samsung Galaxy A30S 2sim ram 4G/64G, máy Chính Hãng, Camera siêu đẹp -|- điện thoại Samsung Galaxy A30S Chính Hãng, 2sim ram 4G/64G, màn 6.4inch, Cày Game nặng đỉnh -|- điện thoại Samsung Galaxy A30s 2sim Chính Hãng (4G/64GB), Camera chất, Đánh Free/PUBG/Liên Quân Chất -|- điện thoại Samsung Galaxy A40 2sim Bộ nhớ 64G ram 4G, Máy Chính Hãng, Camera siêu nét, Cân Game nặng mượt -|- điện thoại Samsung Galaxy A40 2sim Bộ nhớ 64G ram 4G, Máy Chính Hãng, Chiến Free/PUBG/Liên Quân Chất    114\n",
       "Name: all_pro, dtype: int64"
      ]
     },
     "execution_count": 25,
     "metadata": {},
     "output_type": "execute_result"
    }
   ],
   "source": [
    "df_dup1 = data_RATING[data_RATING['order_id'].duplicated(keep=False)]\n",
    "df_dup1 = pd.merge(df_dup1[[\"item_id\",'order_id']], data_ID[[\"item_id\",\"Tên\"]], on=\"item_id\").sort_values(\"Tên\")\n",
    "df_dup1['all_pro']=df_dup1.groupby('order_id')[\"Tên\"].transform(' -|- '.join)\n",
    "df_dup1[['order_id','all_pro']].drop_duplicates()\n",
    "df_dup1[\"all_pro\"].value_counts().head(1)"
   ]
  },
  {
   "cell_type": "markdown",
   "id": "e1832b80",
   "metadata": {},
   "source": [
    "## Tương quan"
   ]
  },
  {
   "cell_type": "markdown",
   "id": "5f3483ae",
   "metadata": {},
   "source": [
    "### Tương quan giữ các cột"
   ]
  },
  {
   "cell_type": "code",
   "execution_count": 26,
   "id": "6a877f8a",
   "metadata": {
    "scrolled": false
   },
   "outputs": [
    {
     "name": "stderr",
     "output_type": "stream",
     "text": [
      "C:\\Users\\MapThui\\AppData\\Local\\Temp\\ipykernel_2856\\1138020110.py:6: DeprecationWarning:\n",
      "\n",
      "`np.bool` is a deprecated alias for the builtin `bool`. To silence this warning, use `bool` by itself. Doing this will not modify any behavior and is safe. If you specifically wanted the numpy scalar type, use `np.bool_` here.\n",
      "Deprecated in NumPy 1.20; for more details and guidance: https://numpy.org/devdocs/release/1.20.0-notes.html#deprecations\n",
      "\n"
     ]
    },
    {
     "data": {
      "image/png": "[encoded data removed]",
      "text/plain": [
       "<Figure size 750x525 with 2 Axes>"
      ]
     },
     "metadata": {},
     "output_type": "display_data"
    }
   ],
   "source": [
    "data_test = data_DATA[[\"Doanh số\",\"Tồn kho\",\"Khuyến mãi %\",\"Giá khuyến mãi\",#\"Giá gốc\",\n",
    "                       \"Doanh thu\",\"Lượt thích\",\"Đánh giá\",\"Lượt đánh giá\"]]\n",
    "\n",
    "corr = data_test.corr()\n",
    "fig, ax = plt.subplots(figsize=(10, 7))\n",
    "mask = np.zeros_like(corr, dtype=np.bool)\n",
    "mask[np.triu_indices_from(mask)] = True\n",
    "fig.text(.54,.86,'Mối tương quan', fontfamily='serif',fontweight='bold',fontsize=16, color=colors[1])\n",
    "fig.text(.75,.525,\n",
    "        '''\n",
    "         Số lượt đánh giá và doanh số \n",
    "         có mối tương quan cao nhất 60%\n",
    "\n",
    "         Doanh số có mối tương quan với \n",
    "         số lượt đánh giá, doanh thu, % khuyến mãi \n",
    "         \n",
    "         Doanh thu có mối tương quan với \n",
    "         giá khuyến mãi, % khuyến mãi và \n",
    "         số lượt đánh giá\n",
    "         ''', fontfamily='serif',fontsize=12,ha='right')\n",
    "pl = sns.heatmap(corr, \n",
    "                 mask=mask, \n",
    "                 cmap=colors[::-1] , \n",
    "                 vmax=0.7, vmin=-.7, center=0, square=True, linewidths=2.5,annot=corr,)\n",
    "\n",
    "plt.show()"
   ]
  },
  {
   "cell_type": "markdown",
   "id": "1148066b",
   "metadata": {},
   "source": [
    "## Mô hình"
   ]
  },
  {
   "cell_type": "code",
   "execution_count": 27,
   "id": "eb46ce32",
   "metadata": {},
   "outputs": [],
   "source": [
    "from sklearn.linear_model import LinearRegression\n",
    "from scipy import stats\n",
    "model = LinearRegression()"
   ]
  },
  {
   "cell_type": "code",
   "execution_count": 28,
   "id": "1be651d9",
   "metadata": {},
   "outputs": [
    {
     "data": {
      "application/vnd.jupyter.widget-view+json": {
       "model_id": "f4bb379e7453437fb3fe3e6ee8768084",
       "version_major": 2,
       "version_minor": 0
      },
      "text/plain": [
       "interactive(children=(Dropdown(description='Thương_hiệu', options=('Tất cả', 'Other', 'SAMSUNG', 'nokia', 'LG'…"
      ]
     },
     "metadata": {},
     "output_type": "display_data"
    }
   ],
   "source": [
    "list_brand = ['Tất cả','Other', 'SAMSUNG', 'nokia', 'LG', 'sony', 'OPPO', 'Xiaomi', 'Vivo','Google', 'hTC', 'Vsmart', 'BlackBerry', \n",
    "              'HUAWEI', 'Masstel', 'KYOCERA','motorola', '2Good', 'Apple', 'Mobiistar', 'Realme', 'Sharp', 'TECNO','Itel', 'ulefone',\n",
    "              'Panasonic', 'OnePlus', 'CAT', 'Meizu', 'LANDROVER','Oukitel', 'Kyocera Torque', 'Asus', 'Fujitsu', 'ADMET', 'AIEK',\n",
    "              'Black Shark', 'Google Nexus', 'LV Mobile', 'Poco', 'KECHAODA', 'SERVO','GAMMA', 'FORME', 'MAXX', 'Earldom', 'docomo',\n",
    "              'gor', 'FPT', 'Amazon','SKY', 'Kingston.', 'Viettel', 'Vertu', 'YUNTENG', 'XiaoMi Deerma','aimica', 'GTStar', 'Real']\n",
    "@widgets.interact(Thương_hiệu = list_brand, Số_mẫu_thử = (1,3058,1))\n",
    "def Phan_tich_theo_san_bay(Thương_hiệu = \"Tất cả\" , Số_mẫu_thử = 2800):\n",
    "    if Thương_hiệu == \"Tất cả\":\n",
    "        data = data_DATA.copy()\n",
    "        ten = \"là :\"\n",
    "    else:\n",
    "        data = data_DATA[data_DATA['brand'] == Thương_hiệu]\n",
    "        ten = f'của các sản phẩm thuộc thương hiệu {Thương_hiệu} là: '\n",
    "    \n",
    "    # Tạo dữ liệu input: dep_delay và distance\n",
    "    X = np.array(data[['Doanh số', 'Khuyến mãi %','Giá khuyến mãi','Lượt thích','Đánh giá','Lượt đánh giá']])\n",
    "    # Tạo dữ liệu output: arr_delay\n",
    "    Y = np.array(data['Doanh thu'])\n",
    "    # Trộn dữ liệu\n",
    "    np.random.seed(1)\n",
    "    rand_indices = np.arange(len(Y))\n",
    "    np.random.shuffle(rand_indices)\n",
    "    # Chia dữ liệu làm 2 phần train và test:\n",
    "    train_indices = rand_indices[0:Số_mẫu_thử]\n",
    "    test_indices  = rand_indices[Số_mẫu_thử:]\n",
    "    # Nhập dự liệu train\n",
    "    x_train=X[train_indices]\n",
    "    y_train=Y[train_indices]\n",
    "    # Nhập dự liệu test\n",
    "    x_test=X[test_indices]\n",
    "    y_test=Y[test_indices]\n",
    "    model = LinearRegression()\n",
    "    model.fit(x_train,y_train)\n",
    "    coef = model.coef_\n",
    "    intercept = model.intercept_\n",
    "    # Hệ số xác định của mô hình train\n",
    "    r2 = model.score(x_train,y_train)\n",
    "    # Hệ số xác định của mô hình test\n",
    "    q2 = model.score(x_test,y_test)\n",
    "    # Dự đoán toàn bộ tập test\n",
    "    y_hat = model.predict(x_test)    \n",
    "    print(f'''\n",
    "    Tổng số sản phẩm: {len(Y)}\n",
    "    Số dữ liệu để huấn luyện: {len(train_indices)}\n",
    "    Số dữ liệu để kiểm tra: {len(test_indices)}   \n",
    "\n",
    "    Mô hình dự đoán Doanh thu dựa vào Doanh số, Khuyến mãi %, Giá khuyến mãi, Lượt thích, Đánh giá, Lượt đánh giá \n",
    "    1 sản phẩm {ten}\n",
    "\n",
    "    y = {coef[0]:.3f}x1 + {coef[1]:.3f}x2 + {coef[2]:.3f}x3 + {coef[3]:.3f}x4 + {coef[4]:.3f}x5 + {coef[5]:.3f}x6 {intercept:.3f} \n",
    "    Với :\n",
    "    y là Doanh thu\n",
    "    x1 là Doanh số\n",
    "    x2 là Khuyến mãi %\n",
    "    x3 là Giá khuyến mãi\n",
    "    x4 là Lượt tích\n",
    "    x5 là Đánh giá\n",
    "    x6 là Lượt đánh giá\n",
    "    ''') \n",
    "    if r2 > 0.81:\n",
    "        print(f'    Hệ số xác định của mô hình train là: {r2*100:.2f} % > 81% => Khả năng dự đoán tốt')\n",
    "    else:\n",
    "        print(f'    Hệ số xác định của mô hình train là: {r2*100:.2f} % < 81% => Khả năng dự đoán chưa tốt')\n",
    "    if q2 > 0.81:\n",
    "        print(f'    Hệ số xác định của mô hình test: {q2*100:.2f} % > 81% => Khả năng dự đoán tốt')\n",
    "    else:\n",
    "        print(f'    Hệ số xác định của mô hình test: {q2*100:.2f} % < 81% => Khả năng dự đoán chưa tốt')\n",
    "    fig = plt.figure(figsize=[12,4])\n",
    "    ax1 = fig.add_subplot(1, 2, 1)\n",
    "    ax2 = fig.add_subplot(1, 2, 2)\n",
    "    ax1.scatter(y_hat,y_test,color='orange')\n",
    "    ax1.set_title('Phân bố của kết quả mô hình và kết quả thực tế', fontsize=14, fontweight=\"bold\", color=\"red\")\n",
    "    ax1.set_xlabel(f\"y_hat Doanh thu\", fontsize=12, color=\"#FF6600\")\n",
    "    ax1.set_ylabel(f\"y_test Doanh thu\", fontsize=12, color=\"#FF6600\")\n",
    "    err = y_hat - y_test\n",
    "    mean, std = np.mean(err), np.std(err)\n",
    "    ax2.hist(err,bins=100, density = True,color='orange')\n",
    "    ax2.set_xlim(mean-4*std, mean+4*std)\n",
    "    ax2.set_title('Phân bố lỗi và phân bố chuẩn', fontsize=14, fontweight=\"bold\", color=\"red\")\n",
    "    x = np.linspace(mean-4*std, mean+4*std, 100)\n",
    "    ax2.plot(x, stats.norm.pdf(x, mean, std), color='red')\n",
    "    plt.tight_layout()\n",
    "    plt.show()"
   ]
  },
  {
   "cell_type": "code",
   "execution_count": 29,
   "id": "5c1a3d51",
   "metadata": {
    "scrolled": false
   },
   "outputs": [
    {
     "data": {
      "application/vnd.jupyter.widget-view+json": {
       "model_id": "f6579b4bed8748ebafe270e50c1a312e",
       "version_major": 2,
       "version_minor": 0
      },
      "text/plain": [
       "interactive(children=(Dropdown(description='Mục_tiêu', options=('Doanh thu', 'Doanh số'), value='Doanh thu'), …"
      ]
     },
     "metadata": {},
     "output_type": "display_data"
    }
   ],
   "source": [
    "list_brand = ['Tất cả','Other', 'SAMSUNG', 'nokia', 'LG', 'sony', 'OPPO', 'Xiaomi', 'Vivo','Google', 'hTC', 'Vsmart', 'BlackBerry', \n",
    "              'HUAWEI', 'Masstel', 'KYOCERA','motorola', '2Good', 'Apple', 'Mobiistar', 'Realme', 'Sharp', 'TECNO','Itel', 'ulefone',\n",
    "              'Panasonic', 'OnePlus', 'CAT', 'Meizu', 'LANDROVER','Oukitel', 'Kyocera Torque', 'Asus', 'Fujitsu', 'ADMET', 'AIEK',\n",
    "              'Black Shark', 'Google Nexus', 'LV Mobile', 'Poco', 'KECHAODA', 'SERVO','GAMMA', 'FORME', 'MAXX', 'Earldom', 'docomo',\n",
    "              'gor', 'FPT', 'Amazon','SKY', 'Kingston.', 'Viettel', 'Vertu', 'YUNTENG', 'XiaoMi Deerma','aimica', 'GTStar', 'Real']\n",
    "list_MT = ['Doanh thu','Doanh số']\n",
    "@widgets.interact(Mục_tiêu = list_MT, Thương_hiệu = list_brand, Số_mẫu_thử = (1,3058,1))\n",
    "\n",
    "def Phan_tich(Mục_tiêu = 'Doanh thu', Thương_hiệu = \"Tất cả\" , Số_mẫu_thử = 2800):\n",
    "    if Thương_hiệu == \"Tất cả\":\n",
    "        data = data_DATA.copy()\n",
    "        ten = \"là :\"\n",
    "    else:\n",
    "        data = data_DATA[data_DATA['brand'] == Thương_hiệu]\n",
    "        ten = f'của các sản phẩm thuộc thương hiệu {Thương_hiệu} là: '\n",
    "    \n",
    "    # Tạo dữ liệu input: dep_delay và distance\n",
    "    X = np.array(data[['Khuyến mãi %','Giá khuyến mãi','Lượt thích','Đánh giá','Lượt đánh giá']])\n",
    "    # Tạo dữ liệu output: arr_delay\n",
    "    Y = np.array(data[Mục_tiêu])\n",
    "    # Trộn dữ liệu\n",
    "    np.random.seed(1)\n",
    "    rand_indices = np.arange(len(Y))\n",
    "    np.random.shuffle(rand_indices)\n",
    "    # Chia dữ liệu làm 2 phần train và test:\n",
    "    train_indices = rand_indices[0:Số_mẫu_thử]\n",
    "    test_indices  = rand_indices[Số_mẫu_thử:]\n",
    "    # Nhập dự liệu train\n",
    "    x_train=X[train_indices]\n",
    "    y_train=Y[train_indices]\n",
    "    # Nhập dự liệu test\n",
    "    x_test=X[test_indices]\n",
    "    y_test=Y[test_indices]\n",
    "    model = LinearRegression()\n",
    "    model.fit(x_train,y_train)\n",
    "    coef = model.coef_\n",
    "    intercept = model.intercept_\n",
    "    # Hệ số xác định của mô hình train\n",
    "    r2 = model.score(x_train,y_train)\n",
    "    # Hệ số xác định của mô hình test\n",
    "    q2 = model.score(x_test,y_test)\n",
    "    # Dự đoán toàn bộ tập test\n",
    "    y_hat = model.predict(x_test)    \n",
    "    print(f'''\n",
    "    Tổng số sản phẩm của Thương hiệu {Thương_hiệu} = {len(Y)}\n",
    "    Số dữ liệu để huấn luyện: {len(train_indices)}\n",
    "    Số dữ liệu để kiểm tra: {len(test_indices)}   \n",
    "\n",
    "    Mô hình dự đoán {Mục_tiêu} dựa vào Khuyến mãi %, Giá khuyến mãi, Lượt thích , Đánh giá, Lượt đánh giá 1 sản phẩm {ten}:\n",
    "    Mô hình:\n",
    "    y = ({coef[0]:.3f}x1)+ ({coef[1]:.3f}x2)+ ({coef[2]:.3f}x3)+ ({coef[3]:.3f}x4)+ ({coef[4]:.3f}x5)+ {intercept:.3f} \n",
    "    Với :\n",
    "    y là {Mục_tiêu} \n",
    "    x1 là Khuyến mãi %\n",
    "    x2 là Giá khuyến mãi\n",
    "    x3 là Lượt thích\n",
    "    x4 là Đánh giá\n",
    "    x5 là Lượt đánh giá\n",
    "    ''') \n",
    "    if r2 > 0.81:\n",
    "        print(f'    Hệ số xác định của mô hình train là: {r2*100:.2f} % > 81% => Khả năng dự đoán tốt')\n",
    "    else:\n",
    "        print(f'    Hệ số xác định của mô hình train là: {r2*100:.2f} % < 81% => Khả năng dự đoán chưa tốt')\n",
    "    if q2 > 0.81:\n",
    "        print(f'    Hệ số xác định của mô hình test: {q2*100:.2f} % > 81% => Khả năng dự đoán tốt')\n",
    "    else:\n",
    "        print(f'    Hệ số xác định của mô hình test: {q2*100:.2f} % < 81% => Khả năng dự đoán chưa tốt')\n",
    "    fig = plt.figure(figsize=[12,4])\n",
    "    ax1 = fig.add_subplot(1, 2, 1)\n",
    "    ax2 = fig.add_subplot(1, 2, 2)\n",
    "    ax1.scatter(y_hat,y_test,color=\"orange\")\n",
    "    ax1.set_title('Phân bố của kết quả mô hình và kết quả thực tế', fontsize=14, fontweight=\"bold\", color=\"red\")\n",
    "    ax1.set_xlabel(f\"y_hat {Mục_tiêu}\", fontsize=12, color=\"blue\")\n",
    "    ax1.set_ylabel(f\"y_test {Mục_tiêu}\", fontsize=12, color=\"green\")\n",
    "    err = y_hat - y_test\n",
    "    mean, std = np.mean(err), np.std(err)\n",
    "    ax2.hist(err,bins=100, density = True, color=\"orange\")\n",
    "    ax2.set_xlim(mean-4*std, mean+4*std)\n",
    "    ax2.set_title('Phân bố lỗi và phân bố chuẩn', fontsize=14, fontweight=\"bold\", color=\"red\")\n",
    "    x = np.linspace(mean-4*std, mean+4*std, 100)\n",
    "    ax2.plot(x, stats.norm.pdf(x, mean, std), color='red')\n",
    "    plt.tight_layout()\n",
    "    plt.show()"
   ]
  },
  {
   "cell_type": "code",
   "execution_count": 30,
   "id": "ea6511bc",
   "metadata": {},
   "outputs": [
    {
     "data": {
      "application/vnd.plotly.v1+json": {
       "config": {
        "plotlyServerURL": "https://plot.ly"
       },
       "data": [
        {
         "branchvalues": "total",
         "customdata": [
          [
           3
          ],
          [
           1
          ],
          [
           12
          ],
          [
           12
          ],
          [
           12
          ],
          [
           12
          ],
          [
           2
          ],
          [
           9
          ],
          [
           9
          ],
          [
           8
          ],
          [
           8
          ],
          [
           8
          ],
          [
           1
          ],
          [
           1
          ],
          [
           1
          ],
          [
           23
          ],
          [
           24
          ],
          [
           19
          ],
          [
           22
          ],
          [
           10
          ],
          [
           4
          ],
          [
           4
          ],
          [
           4
          ],
          [
           4
          ],
          [
           44
          ],
          [
           2
          ],
          [
           2
          ],
          [
           2
          ],
          [
           3
          ],
          [
           12
          ],
          [
           12
          ],
          [
           12
          ],
          [
           12
          ],
          [
           29
          ],
          [
           3
          ],
          [
           1
          ],
          [
           3
          ],
          [
           3
          ],
          [
           2
          ],
          [
           1
          ],
          [
           1
          ],
          [
           1
          ],
          [
           1
          ],
          [
           1
          ],
          [
           35
          ],
          [
           31
          ],
          [
           35
          ],
          [
           35
          ],
          [
           9
          ],
          [
           5
          ],
          [
           5
          ],
          [
           5
          ],
          [
           5
          ],
          [
           6
          ],
          [
           24
          ],
          [
           18
          ],
          [
           19
          ],
          [
           18
          ],
          [
           20
          ],
          [
           22
          ],
          [
           20.177419354838708
          ],
          [
           19.316666666666666
          ],
          [
           19.181818181818183
          ],
          [
           20.557377049180328
          ],
          [
           25.12121212121212
          ]
         ],
         "domain": {
          "x": [
           0,
           1
          ],
          "y": [
           0,
           1
          ]
         },
         "hoverinfo": "value+label",
         "hovertemplate": "%{label} <br>Số lượng shop: %{value}",
         "ids": [
          "t*****2/Apple",
          "t*****2/Black Shark",
          "duchuy6184/Google",
          "haonam61810/Google",
          "huyhoang61848/Google",
          "orin4618/Google",
          "t*****2/Google",
          "duchuy6184/LG",
          "haonam61810/LG",
          "huyhoang61848/LG",
          "orin4618/LG",
          "t*****2/LG",
          "t*****2/MAXX",
          "t*****2/Masstel",
          "t*****2/Meizu",
          "duchuy6184/OPPO",
          "haonam61810/OPPO",
          "huyhoang61848/OPPO",
          "orin4618/OPPO",
          "t*****2/OPPO",
          "duchuy6184/Other",
          "haonam61810/Other",
          "huyhoang61848/Other",
          "orin4618/Other",
          "t*****2/Other",
          "duchuy6184/Poco",
          "huyhoang61848/Poco",
          "orin4618/Poco",
          "t*****2/Realme",
          "duchuy6184/SAMSUNG",
          "haonam61810/SAMSUNG",
          "huyhoang61848/SAMSUNG",
          "orin4618/SAMSUNG",
          "t*****2/SAMSUNG",
          "huyhoang61848/Sharp",
          "t*****2/TECNO",
          "duchuy6184/Vivo",
          "haonam61810/Vivo",
          "huyhoang61848/Vivo",
          "orin4618/Vivo",
          "duchuy6184/XiaoMi Deerma",
          "haonam61810/XiaoMi Deerma",
          "huyhoang61848/XiaoMi Deerma",
          "orin4618/XiaoMi Deerma",
          "duchuy6184/Xiaomi",
          "haonam61810/Xiaomi",
          "huyhoang61848/Xiaomi",
          "orin4618/Xiaomi",
          "t*****2/Xiaomi",
          "duchuy6184/hTC",
          "haonam61810/hTC",
          "huyhoang61848/hTC",
          "orin4618/hTC",
          "t*****2/hTC",
          "t*****2/nokia",
          "duchuy6184/sony",
          "haonam61810/sony",
          "huyhoang61848/sony",
          "orin4618/sony",
          "t*****2/sony",
          "duchuy6184",
          "haonam61810",
          "huyhoang61848",
          "orin4618",
          "t*****2"
         ],
         "labels": [
          "Apple",
          "Black Shark",
          "Google",
          "Google",
          "Google",
          "Google",
          "Google",
          "LG",
          "LG",
          "LG",
          "LG",
          "LG",
          "MAXX",
          "Masstel",
          "Meizu",
          "OPPO",
          "OPPO",
          "OPPO",
          "OPPO",
          "OPPO",
          "Other",
          "Other",
          "Other",
          "Other",
          "Other",
          "Poco",
          "Poco",
          "Poco",
          "Realme",
          "SAMSUNG",
          "SAMSUNG",
          "SAMSUNG",
          "SAMSUNG",
          "SAMSUNG",
          "Sharp",
          "TECNO",
          "Vivo",
          "Vivo",
          "Vivo",
          "Vivo",
          "XiaoMi Deerma",
          "XiaoMi Deerma",
          "XiaoMi Deerma",
          "XiaoMi Deerma",
          "Xiaomi",
          "Xiaomi",
          "Xiaomi",
          "Xiaomi",
          "Xiaomi",
          "hTC",
          "hTC",
          "hTC",
          "hTC",
          "hTC",
          "nokia",
          "sony",
          "sony",
          "sony",
          "sony",
          "sony",
          "duchuy6184",
          "haonam61810",
          "huyhoang61848",
          "orin4618",
          "t*****2"
         ],
         "marker": {
          "coloraxis": "coloraxis",
          "colors": [
           3,
           1,
           12,
           12,
           12,
           12,
           2,
           9,
           9,
           8,
           8,
           8,
           1,
           1,
           1,
           23,
           24,
           19,
           22,
           10,
           4,
           4,
           4,
           4,
           44,
           2,
           2,
           2,
           3,
           12,
           12,
           12,
           12,
           29,
           3,
           1,
           3,
           3,
           2,
           1,
           1,
           1,
           1,
           1,
           35,
           31,
           35,
           35,
           9,
           5,
           5,
           5,
           5,
           6,
           24,
           18,
           19,
           18,
           20,
           22,
           20.177419354838708,
           19.316666666666666,
           19.181818181818183,
           20.557377049180328,
           25.12121212121212
          ]
         },
         "name": "",
         "parents": [
          "t*****2",
          "t*****2",
          "duchuy6184",
          "haonam61810",
          "huyhoang61848",
          "orin4618",
          "t*****2",
          "duchuy6184",
          "haonam61810",
          "huyhoang61848",
          "orin4618",
          "t*****2",
          "t*****2",
          "t*****2",
          "t*****2",
          "duchuy6184",
          "haonam61810",
          "huyhoang61848",
          "orin4618",
          "t*****2",
          "duchuy6184",
          "haonam61810",
          "huyhoang61848",
          "orin4618",
          "t*****2",
          "duchuy6184",
          "huyhoang61848",
          "orin4618",
          "t*****2",
          "duchuy6184",
          "haonam61810",
          "huyhoang61848",
          "orin4618",
          "t*****2",
          "huyhoang61848",
          "t*****2",
          "duchuy6184",
          "haonam61810",
          "huyhoang61848",
          "orin4618",
          "duchuy6184",
          "haonam61810",
          "huyhoang61848",
          "orin4618",
          "duchuy6184",
          "haonam61810",
          "huyhoang61848",
          "orin4618",
          "t*****2",
          "duchuy6184",
          "haonam61810",
          "huyhoang61848",
          "orin4618",
          "t*****2",
          "t*****2",
          "duchuy6184",
          "haonam61810",
          "huyhoang61848",
          "orin4618",
          "t*****2",
          "",
          "",
          "",
          "",
          ""
         ],
         "textfont": {
          "size": 13
         },
         "textinfo": "value+label",
         "type": "sunburst",
         "values": [
          3,
          1,
          12,
          12,
          12,
          12,
          2,
          9,
          9,
          8,
          8,
          8,
          1,
          1,
          1,
          23,
          24,
          19,
          22,
          10,
          4,
          4,
          4,
          4,
          44,
          2,
          2,
          2,
          3,
          12,
          12,
          12,
          12,
          29,
          3,
          1,
          3,
          3,
          2,
          1,
          1,
          1,
          1,
          1,
          35,
          31,
          35,
          35,
          9,
          5,
          5,
          5,
          5,
          6,
          24,
          18,
          19,
          18,
          20,
          22,
          124,
          120,
          121,
          122,
          165
         ]
        }
       ],
       "layout": {
        "coloraxis": {
         "colorbar": {
          "title": {
           "text": "Số sản phẩm"
          }
         },
         "colorscale": [
          [
           0,
           "#FFCC00"
          ],
          [
           0.5,
           "#FF9900"
          ],
          [
           1,
           "#FF6600"
          ]
         ]
        },
        "height": 500,
        "legend": {
         "tracegroupgap": 0
        },
        "margin": {
         "b": 25,
         "l": 10,
         "r": 10,
         "t": 50
        },
        "template": {
         "data": {
          "bar": [
           {
            "error_x": {
             "color": "#2a3f5f"
            },
            "error_y": {
             "color": "#2a3f5f"
            },
            "marker": {
             "line": {
              "color": "#E5ECF6",
              "width": 0.5
             },
             "pattern": {
              "fillmode": "overlay",
              "size": 10,
              "solidity": 0.2
             }
            },
            "type": "bar"
           }
          ],
          "barpolar": [
           {
            "marker": {
             "line": {
              "color": "#E5ECF6",
              "width": 0.5
             },
             "pattern": {
              "fillmode": "overlay",
              "size": 10,
              "solidity": 0.2
             }
            },
            "type": "barpolar"
           }
          ],
          "carpet": [
           {
            "aaxis": {
             "endlinecolor": "#2a3f5f",
             "gridcolor": "white",
             "linecolor": "white",
             "minorgridcolor": "white",
             "startlinecolor": "#2a3f5f"
            },
            "baxis": {
             "endlinecolor": "#2a3f5f",
             "gridcolor": "white",
             "linecolor": "white",
             "minorgridcolor": "white",
             "startlinecolor": "#2a3f5f"
            },
            "type": "carpet"
           }
          ],
          "choropleth": [
           {
            "colorbar": {
             "outlinewidth": 0,
             "ticks": ""
            },
            "type": "choropleth"
           }
          ],
          "contour": [
           {
            "colorbar": {
             "outlinewidth": 0,
             "ticks": ""
            },
            "colorscale": [
             [
              0,
              "#0d0887"
             ],
             [
              0.1111111111111111,
              "#46039f"
             ],
             [
              0.2222222222222222,
              "#7201a8"
             ],
             [
              0.3333333333333333,
              "#9c179e"
             ],
             [
              0.4444444444444444,
              "#bd3786"
             ],
             [
              0.5555555555555556,
              "#d8576b"
             ],
             [
              0.6666666666666666,
              "#ed7953"
             ],
             [
              0.7777777777777778,
              "#fb9f3a"
             ],
             [
              0.8888888888888888,
              "#fdca26"
             ],
             [
              1,
              "#f0f921"
             ]
            ],
            "type": "contour"
           }
          ],
          "contourcarpet": [
           {
            "colorbar": {
             "outlinewidth": 0,
             "ticks": ""
            },
            "type": "contourcarpet"
           }
          ],
          "heatmap": [
           {
            "colorbar": {
             "outlinewidth": 0,
             "ticks": ""
            },
            "colorscale": [
             [
              0,
              "#0d0887"
             ],
             [
              0.1111111111111111,
              "#46039f"
             ],
             [
              0.2222222222222222,
              "#7201a8"
             ],
             [
              0.3333333333333333,
              "#9c179e"
             ],
             [
              0.4444444444444444,
              "#bd3786"
             ],
             [
              0.5555555555555556,
              "#d8576b"
             ],
             [
              0.6666666666666666,
              "#ed7953"
             ],
             [
              0.7777777777777778,
              "#fb9f3a"
             ],
             [
              0.8888888888888888,
              "#fdca26"
             ],
             [
              1,
              "#f0f921"
             ]
            ],
            "type": "heatmap"
           }
          ],
          "heatmapgl": [
           {
            "colorbar": {
             "outlinewidth": 0,
             "ticks": ""
            },
            "colorscale": [
             [
              0,
              "#0d0887"
             ],
             [
              0.1111111111111111,
              "#46039f"
             ],
             [
              0.2222222222222222,
              "#7201a8"
             ],
             [
              0.3333333333333333,
              "#9c179e"
             ],
             [
              0.4444444444444444,
              "#bd3786"
             ],
             [
              0.5555555555555556,
              "#d8576b"
             ],
             [
              0.6666666666666666,
              "#ed7953"
             ],
             [
              0.7777777777777778,
              "#fb9f3a"
             ],
             [
              0.8888888888888888,
              "#fdca26"
             ],
             [
              1,
              "#f0f921"
             ]
            ],
            "type": "heatmapgl"
           }
          ],
          "histogram": [
           {
            "marker": {
             "pattern": {
              "fillmode": "overlay",
              "size": 10,
              "solidity": 0.2
             }
            },
            "type": "histogram"
           }
          ],
          "histogram2d": [
           {
            "colorbar": {
             "outlinewidth": 0,
             "ticks": ""
            },
            "colorscale": [
             [
              0,
              "#0d0887"
             ],
             [
              0.1111111111111111,
              "#46039f"
             ],
             [
              0.2222222222222222,
              "#7201a8"
             ],
             [
              0.3333333333333333,
              "#9c179e"
             ],
             [
              0.4444444444444444,
              "#bd3786"
             ],
             [
              0.5555555555555556,
              "#d8576b"
             ],
             [
              0.6666666666666666,
              "#ed7953"
             ],
             [
              0.7777777777777778,
              "#fb9f3a"
             ],
             [
              0.8888888888888888,
              "#fdca26"
             ],
             [
              1,
              "#f0f921"
             ]
            ],
            "type": "histogram2d"
           }
          ],
          "histogram2dcontour": [
           {
            "colorbar": {
             "outlinewidth": 0,
             "ticks": ""
            },
            "colorscale": [
             [
              0,
              "#0d0887"
             ],
             [
              0.1111111111111111,
              "#46039f"
             ],
             [
              0.2222222222222222,
              "#7201a8"
             ],
             [
              0.3333333333333333,
              "#9c179e"
             ],
             [
              0.4444444444444444,
              "#bd3786"
             ],
             [
              0.5555555555555556,
              "#d8576b"
             ],
             [
              0.6666666666666666,
              "#ed7953"
             ],
             [
              0.7777777777777778,
              "#fb9f3a"
             ],
             [
              0.8888888888888888,
              "#fdca26"
             ],
             [
              1,
              "#f0f921"
             ]
            ],
            "type": "histogram2dcontour"
           }
          ],
          "mesh3d": [
           {
            "colorbar": {
             "outlinewidth": 0,
             "ticks": ""
            },
            "type": "mesh3d"
           }
          ],
          "parcoords": [
           {
            "line": {
             "colorbar": {
              "outlinewidth": 0,
              "ticks": ""
             }
            },
            "type": "parcoords"
           }
          ],
          "pie": [
           {
            "automargin": true,
            "type": "pie"
           }
          ],
          "scatter": [
           {
            "fillpattern": {
             "fillmode": "overlay",
             "size": 10,
             "solidity": 0.2
            },
            "type": "scatter"
           }
          ],
          "scatter3d": [
           {
            "line": {
             "colorbar": {
              "outlinewidth": 0,
              "ticks": ""
             }
            },
            "marker": {
             "colorbar": {
              "outlinewidth": 0,
              "ticks": ""
             }
            },
            "type": "scatter3d"
           }
          ],
          "scattercarpet": [
           {
            "marker": {
             "colorbar": {
              "outlinewidth": 0,
              "ticks": ""
             }
            },
            "type": "scattercarpet"
           }
          ],
          "scattergeo": [
           {
            "marker": {
             "colorbar": {
              "outlinewidth": 0,
              "ticks": ""
             }
            },
            "type": "scattergeo"
           }
          ],
          "scattergl": [
           {
            "marker": {
             "colorbar": {
              "outlinewidth": 0,
              "ticks": ""
             }
            },
            "type": "scattergl"
           }
          ],
          "scattermapbox": [
           {
            "marker": {
             "colorbar": {
              "outlinewidth": 0,
              "ticks": ""
             }
            },
            "type": "scattermapbox"
           }
          ],
          "scatterpolar": [
           {
            "marker": {
             "colorbar": {
              "outlinewidth": 0,
              "ticks": ""
             }
            },
            "type": "scatterpolar"
           }
          ],
          "scatterpolargl": [
           {
            "marker": {
             "colorbar": {
              "outlinewidth": 0,
              "ticks": ""
             }
            },
            "type": "scatterpolargl"
           }
          ],
          "scatterternary": [
           {
            "marker": {
             "colorbar": {
              "outlinewidth": 0,
              "ticks": ""
             }
            },
            "type": "scatterternary"
           }
          ],
          "surface": [
           {
            "colorbar": {
             "outlinewidth": 0,
             "ticks": ""
            },
            "colorscale": [
             [
              0,
              "#0d0887"
             ],
             [
              0.1111111111111111,
              "#46039f"
             ],
             [
              0.2222222222222222,
              "#7201a8"
             ],
             [
              0.3333333333333333,
              "#9c179e"
             ],
             [
              0.4444444444444444,
              "#bd3786"
             ],
             [
              0.5555555555555556,
              "#d8576b"
             ],
             [
              0.6666666666666666,
              "#ed7953"
             ],
             [
              0.7777777777777778,
              "#fb9f3a"
             ],
             [
              0.8888888888888888,
              "#fdca26"
             ],
             [
              1,
              "#f0f921"
             ]
            ],
            "type": "surface"
           }
          ],
          "table": [
           {
            "cells": {
             "fill": {
              "color": "#EBF0F8"
             },
             "line": {
              "color": "white"
             }
            },
            "header": {
             "fill": {
              "color": "#C8D4E3"
             },
             "line": {
              "color": "white"
             }
            },
            "type": "table"
           }
          ]
         },
         "layout": {
          "annotationdefaults": {
           "arrowcolor": "#2a3f5f",
           "arrowhead": 0,
           "arrowwidth": 1
          },
          "autotypenumbers": "strict",
          "coloraxis": {
           "colorbar": {
            "outlinewidth": 0,
            "ticks": ""
           }
          },
          "colorscale": {
           "diverging": [
            [
             0,
             "#8e0152"
            ],
            [
             0.1,
             "#c51b7d"
            ],
            [
             0.2,
             "#de77ae"
            ],
            [
             0.3,
             "#f1b6da"
            ],
            [
             0.4,
             "#fde0ef"
            ],
            [
             0.5,
             "#f7f7f7"
            ],
            [
             0.6,
             "#e6f5d0"
            ],
            [
             0.7,
             "#b8e186"
            ],
            [
             0.8,
             "#7fbc41"
            ],
            [
             0.9,
             "#4d9221"
            ],
            [
             1,
             "#276419"
            ]
           ],
           "sequential": [
            [
             0,
             "#0d0887"
            ],
            [
             0.1111111111111111,
             "#46039f"
            ],
            [
             0.2222222222222222,
             "#7201a8"
            ],
            [
             0.3333333333333333,
             "#9c179e"
            ],
            [
             0.4444444444444444,
             "#bd3786"
            ],
            [
             0.5555555555555556,
             "#d8576b"
            ],
            [
             0.6666666666666666,
             "#ed7953"
            ],
            [
             0.7777777777777778,
             "#fb9f3a"
            ],
            [
             0.8888888888888888,
             "#fdca26"
            ],
            [
             1,
             "#f0f921"
            ]
           ],
           "sequentialminus": [
            [
             0,
             "#0d0887"
            ],
            [
             0.1111111111111111,
             "#46039f"
            ],
            [
             0.2222222222222222,
             "#7201a8"
            ],
            [
             0.3333333333333333,
             "#9c179e"
            ],
            [
             0.4444444444444444,
             "#bd3786"
            ],
            [
             0.5555555555555556,
             "#d8576b"
            ],
            [
             0.6666666666666666,
             "#ed7953"
            ],
            [
             0.7777777777777778,
             "#fb9f3a"
            ],
            [
             0.8888888888888888,
             "#fdca26"
            ],
            [
             1,
             "#f0f921"
            ]
           ]
          },
          "colorway": [
           "#636efa",
           "#EF553B",
           "#00cc96",
           "#ab63fa",
           "#FFA15A",
           "#19d3f3",
           "#FF6692",
           "#B6E880",
           "#FF97FF",
           "#FECB52"
          ],
          "font": {
           "color": "#2a3f5f"
          },
          "geo": {
           "bgcolor": "white",
           "lakecolor": "white",
           "landcolor": "#E5ECF6",
           "showlakes": true,
           "showland": true,
           "subunitcolor": "white"
          },
          "hoverlabel": {
           "align": "left"
          },
          "hovermode": "closest",
          "mapbox": {
           "style": "light"
          },
          "paper_bgcolor": "white",
          "plot_bgcolor": "#E5ECF6",
          "polar": {
           "angularaxis": {
            "gridcolor": "white",
            "linecolor": "white",
            "ticks": ""
           },
           "bgcolor": "#E5ECF6",
           "radialaxis": {
            "gridcolor": "white",
            "linecolor": "white",
            "ticks": ""
           }
          },
          "scene": {
           "xaxis": {
            "backgroundcolor": "#E5ECF6",
            "gridcolor": "white",
            "gridwidth": 2,
            "linecolor": "white",
            "showbackground": true,
            "ticks": "",
            "zerolinecolor": "white"
           },
           "yaxis": {
            "backgroundcolor": "#E5ECF6",
            "gridcolor": "white",
            "gridwidth": 2,
            "linecolor": "white",
            "showbackground": true,
            "ticks": "",
            "zerolinecolor": "white"
           },
           "zaxis": {
            "backgroundcolor": "#E5ECF6",
            "gridcolor": "white",
            "gridwidth": 2,
            "linecolor": "white",
            "showbackground": true,
            "ticks": "",
            "zerolinecolor": "white"
           }
          },
          "shapedefaults": {
           "line": {
            "color": "#2a3f5f"
           }
          },
          "ternary": {
           "aaxis": {
            "gridcolor": "white",
            "linecolor": "white",
            "ticks": ""
           },
           "baxis": {
            "gridcolor": "white",
            "linecolor": "white",
            "ticks": ""
           },
           "bgcolor": "#E5ECF6",
           "caxis": {
            "gridcolor": "white",
            "linecolor": "white",
            "ticks": ""
           }
          },
          "title": {
           "x": 0.05
          },
          "xaxis": {
           "automargin": true,
           "gridcolor": "white",
           "linecolor": "white",
           "ticks": "",
           "title": {
            "standoff": 15
           },
           "zerolinecolor": "white",
           "zerolinewidth": 2
          },
          "yaxis": {
           "automargin": true,
           "gridcolor": "white",
           "linecolor": "white",
           "ticks": "",
           "title": {
            "standoff": 15
           },
           "zerolinecolor": "white",
           "zerolinewidth": 2
          }
         }
        },
        "title": {
         "font": {
          "color": "orange",
          "family": "Times New Roman",
          "size": 20
         },
         "text": "Top 5 khách hàng mua hàng nhiều nhất"
        },
        "width": 700
       }
      },
      "text/html": [
       "<div>                            <div id=\"c2dacac5-4f27-4e11-9faa-ee21853e3984\" class=\"plotly-graph-div\" style=\"height:500px; width:700px;\"></div>            <script type=\"text/javascript\">                require([\"plotly\"], function(Plotly) {                    window.PLOTLYENV=window.PLOTLYENV || {};                                    if (document.getElementById(\"c2dacac5-4f27-4e11-9faa-ee21853e3984\")) {                    Plotly.newPlot(                        \"c2dacac5-4f27-4e11-9faa-ee21853e3984\",                        [{\"branchvalues\":\"total\",\"customdata\":[[3.0],[1.0],[12.0],[12.0],[12.0],[12.0],[2.0],[9.0],[9.0],[8.0],[8.0],[8.0],[1.0],[1.0],[1.0],[23.0],[24.0],[19.0],[22.0],[10.0],[4.0],[4.0],[4.0],[4.0],[44.0],[2.0],[2.0],[2.0],[3.0],[12.0],[12.0],[12.0],[12.0],[29.0],[3.0],[1.0],[3.0],[3.0],[2.0],[1.0],[1.0],[1.0],[1.0],[1.0],[35.0],[31.0],[35.0],[35.0],[9.0],[5.0],[5.0],[5.0],[5.0],[6.0],[24.0],[18.0],[19.0],[18.0],[20.0],[22.0],[20.177419354838708],[19.316666666666666],[19.181818181818183],[20.557377049180328],[25.12121212121212]],\"domain\":{\"x\":[0.0,1.0],\"y\":[0.0,1.0]},\"hovertemplate\":\"%{label} <br>S\\u1ed1 l\\u01b0\\u1ee3ng shop: %{value}\",\"ids\":[\"t*****2/Apple\",\"t*****2/Black Shark\",\"duchuy6184/Google\",\"haonam61810/Google\",\"huyhoang61848/Google\",\"orin4618/Google\",\"t*****2/Google\",\"duchuy6184/LG\",\"haonam61810/LG\",\"huyhoang61848/LG\",\"orin4618/LG\",\"t*****2/LG\",\"t*****2/MAXX\",\"t*****2/Masstel\",\"t*****2/Meizu\",\"duchuy6184/OPPO\",\"haonam61810/OPPO\",\"huyhoang61848/OPPO\",\"orin4618/OPPO\",\"t*****2/OPPO\",\"duchuy6184/Other\",\"haonam61810/Other\",\"huyhoang61848/Other\",\"orin4618/Other\",\"t*****2/Other\",\"duchuy6184/Poco\",\"huyhoang61848/Poco\",\"orin4618/Poco\",\"t*****2/Realme\",\"duchuy6184/SAMSUNG\",\"haonam61810/SAMSUNG\",\"huyhoang61848/SAMSUNG\",\"orin4618/SAMSUNG\",\"t*****2/SAMSUNG\",\"huyhoang61848/Sharp\",\"t*****2/TECNO\",\"duchuy6184/Vivo\",\"haonam61810/Vivo\",\"huyhoang61848/Vivo\",\"orin4618/Vivo\",\"duchuy6184/XiaoMi Deerma\",\"haonam61810/XiaoMi Deerma\",\"huyhoang61848/XiaoMi Deerma\",\"orin4618/XiaoMi Deerma\",\"duchuy6184/Xiaomi\",\"haonam61810/Xiaomi\",\"huyhoang61848/Xiaomi\",\"orin4618/Xiaomi\",\"t*****2/Xiaomi\",\"duchuy6184/hTC\",\"haonam61810/hTC\",\"huyhoang61848/hTC\",\"orin4618/hTC\",\"t*****2/hTC\",\"t*****2/nokia\",\"duchuy6184/sony\",\"haonam61810/sony\",\"huyhoang61848/sony\",\"orin4618/sony\",\"t*****2/sony\",\"duchuy6184\",\"haonam61810\",\"huyhoang61848\",\"orin4618\",\"t*****2\"],\"labels\":[\"Apple\",\"Black Shark\",\"Google\",\"Google\",\"Google\",\"Google\",\"Google\",\"LG\",\"LG\",\"LG\",\"LG\",\"LG\",\"MAXX\",\"Masstel\",\"Meizu\",\"OPPO\",\"OPPO\",\"OPPO\",\"OPPO\",\"OPPO\",\"Other\",\"Other\",\"Other\",\"Other\",\"Other\",\"Poco\",\"Poco\",\"Poco\",\"Realme\",\"SAMSUNG\",\"SAMSUNG\",\"SAMSUNG\",\"SAMSUNG\",\"SAMSUNG\",\"Sharp\",\"TECNO\",\"Vivo\",\"Vivo\",\"Vivo\",\"Vivo\",\"XiaoMi Deerma\",\"XiaoMi Deerma\",\"XiaoMi Deerma\",\"XiaoMi Deerma\",\"Xiaomi\",\"Xiaomi\",\"Xiaomi\",\"Xiaomi\",\"Xiaomi\",\"hTC\",\"hTC\",\"hTC\",\"hTC\",\"hTC\",\"nokia\",\"sony\",\"sony\",\"sony\",\"sony\",\"sony\",\"duchuy6184\",\"haonam61810\",\"huyhoang61848\",\"orin4618\",\"t*****2\"],\"marker\":{\"coloraxis\":\"coloraxis\",\"colors\":[3.0,1.0,12.0,12.0,12.0,12.0,2.0,9.0,9.0,8.0,8.0,8.0,1.0,1.0,1.0,23.0,24.0,19.0,22.0,10.0,4.0,4.0,4.0,4.0,44.0,2.0,2.0,2.0,3.0,12.0,12.0,12.0,12.0,29.0,3.0,1.0,3.0,3.0,2.0,1.0,1.0,1.0,1.0,1.0,35.0,31.0,35.0,35.0,9.0,5.0,5.0,5.0,5.0,6.0,24.0,18.0,19.0,18.0,20.0,22.0,20.177419354838708,19.316666666666666,19.181818181818183,20.557377049180328,25.12121212121212]},\"name\":\"\",\"parents\":[\"t*****2\",\"t*****2\",\"duchuy6184\",\"haonam61810\",\"huyhoang61848\",\"orin4618\",\"t*****2\",\"duchuy6184\",\"haonam61810\",\"huyhoang61848\",\"orin4618\",\"t*****2\",\"t*****2\",\"t*****2\",\"t*****2\",\"duchuy6184\",\"haonam61810\",\"huyhoang61848\",\"orin4618\",\"t*****2\",\"duchuy6184\",\"haonam61810\",\"huyhoang61848\",\"orin4618\",\"t*****2\",\"duchuy6184\",\"huyhoang61848\",\"orin4618\",\"t*****2\",\"duchuy6184\",\"haonam61810\",\"huyhoang61848\",\"orin4618\",\"t*****2\",\"huyhoang61848\",\"t*****2\",\"duchuy6184\",\"haonam61810\",\"huyhoang61848\",\"orin4618\",\"duchuy6184\",\"haonam61810\",\"huyhoang61848\",\"orin4618\",\"duchuy6184\",\"haonam61810\",\"huyhoang61848\",\"orin4618\",\"t*****2\",\"duchuy6184\",\"haonam61810\",\"huyhoang61848\",\"orin4618\",\"t*****2\",\"t*****2\",\"duchuy6184\",\"haonam61810\",\"huyhoang61848\",\"orin4618\",\"t*****2\",\"\",\"\",\"\",\"\",\"\"],\"values\":[3,1,12,12,12,12,2,9,9,8,8,8,1,1,1,23,24,19,22,10,4,4,4,4,44,2,2,2,3,12,12,12,12,29,3,1,3,3,2,1,1,1,1,1,35,31,35,35,9,5,5,5,5,6,24,18,19,18,20,22,124,120,121,122,165],\"type\":\"sunburst\",\"textfont\":{\"size\":13},\"hoverinfo\":\"value+label\",\"textinfo\":\"value+label\"}],                        {\"template\":{\"data\":{\"histogram2dcontour\":[{\"type\":\"histogram2dcontour\",\"colorbar\":{\"outlinewidth\":0,\"ticks\":\"\"},\"colorscale\":[[0.0,\"#0d0887\"],[0.1111111111111111,\"#46039f\"],[0.2222222222222222,\"#7201a8\"],[0.3333333333333333,\"#9c179e\"],[0.4444444444444444,\"#bd3786\"],[0.5555555555555556,\"#d8576b\"],[0.6666666666666666,\"#ed7953\"],[0.7777777777777778,\"#fb9f3a\"],[0.8888888888888888,\"#fdca26\"],[1.0,\"#f0f921\"]]}],\"choropleth\":[{\"type\":\"choropleth\",\"colorbar\":{\"outlinewidth\":0,\"ticks\":\"\"}}],\"histogram2d\":[{\"type\":\"histogram2d\",\"colorbar\":{\"outlinewidth\":0,\"ticks\":\"\"},\"colorscale\":[[0.0,\"#0d0887\"],[0.1111111111111111,\"#46039f\"],[0.2222222222222222,\"#7201a8\"],[0.3333333333333333,\"#9c179e\"],[0.4444444444444444,\"#bd3786\"],[0.5555555555555556,\"#d8576b\"],[0.6666666666666666,\"#ed7953\"],[0.7777777777777778,\"#fb9f3a\"],[0.8888888888888888,\"#fdca26\"],[1.0,\"#f0f921\"]]}],\"heatmap\":[{\"type\":\"heatmap\",\"colorbar\":{\"outlinewidth\":0,\"ticks\":\"\"},\"colorscale\":[[0.0,\"#0d0887\"],[0.1111111111111111,\"#46039f\"],[0.2222222222222222,\"#7201a8\"],[0.3333333333333333,\"#9c179e\"],[0.4444444444444444,\"#bd3786\"],[0.5555555555555556,\"#d8576b\"],[0.6666666666666666,\"#ed7953\"],[0.7777777777777778,\"#fb9f3a\"],[0.8888888888888888,\"#fdca26\"],[1.0,\"#f0f921\"]]}],\"heatmapgl\":[{\"type\":\"heatmapgl\",\"colorbar\":{\"outlinewidth\":0,\"ticks\":\"\"},\"colorscale\":[[0.0,\"#0d0887\"],[0.1111111111111111,\"#46039f\"],[0.2222222222222222,\"#7201a8\"],[0.3333333333333333,\"#9c179e\"],[0.4444444444444444,\"#bd3786\"],[0.5555555555555556,\"#d8576b\"],[0.6666666666666666,\"#ed7953\"],[0.7777777777777778,\"#fb9f3a\"],[0.8888888888888888,\"#fdca26\"],[1.0,\"#f0f921\"]]}],\"contourcarpet\":[{\"type\":\"contourcarpet\",\"colorbar\":{\"outlinewidth\":0,\"ticks\":\"\"}}],\"contour\":[{\"type\":\"contour\",\"colorbar\":{\"outlinewidth\":0,\"ticks\":\"\"},\"colorscale\":[[0.0,\"#0d0887\"],[0.1111111111111111,\"#46039f\"],[0.2222222222222222,\"#7201a8\"],[0.3333333333333333,\"#9c179e\"],[0.4444444444444444,\"#bd3786\"],[0.5555555555555556,\"#d8576b\"],[0.6666666666666666,\"#ed7953\"],[0.7777777777777778,\"#fb9f3a\"],[0.8888888888888888,\"#fdca26\"],[1.0,\"#f0f921\"]]}],\"surface\":[{\"type\":\"surface\",\"colorbar\":{\"outlinewidth\":0,\"ticks\":\"\"},\"colorscale\":[[0.0,\"#0d0887\"],[0.1111111111111111,\"#46039f\"],[0.2222222222222222,\"#7201a8\"],[0.3333333333333333,\"#9c179e\"],[0.4444444444444444,\"#bd3786\"],[0.5555555555555556,\"#d8576b\"],[0.6666666666666666,\"#ed7953\"],[0.7777777777777778,\"#fb9f3a\"],[0.8888888888888888,\"#fdca26\"],[1.0,\"#f0f921\"]]}],\"mesh3d\":[{\"type\":\"mesh3d\",\"colorbar\":{\"outlinewidth\":0,\"ticks\":\"\"}}],\"scatter\":[{\"fillpattern\":{\"fillmode\":\"overlay\",\"size\":10,\"solidity\":0.2},\"type\":\"scatter\"}],\"parcoords\":[{\"type\":\"parcoords\",\"line\":{\"colorbar\":{\"outlinewidth\":0,\"ticks\":\"\"}}}],\"scatterpolargl\":[{\"type\":\"scatterpolargl\",\"marker\":{\"colorbar\":{\"outlinewidth\":0,\"ticks\":\"\"}}}],\"bar\":[{\"error_x\":{\"color\":\"#2a3f5f\"},\"error_y\":{\"color\":\"#2a3f5f\"},\"marker\":{\"line\":{\"color\":\"#E5ECF6\",\"width\":0.5},\"pattern\":{\"fillmode\":\"overlay\",\"size\":10,\"solidity\":0.2}},\"type\":\"bar\"}],\"scattergeo\":[{\"type\":\"scattergeo\",\"marker\":{\"colorbar\":{\"outlinewidth\":0,\"ticks\":\"\"}}}],\"scatterpolar\":[{\"type\":\"scatterpolar\",\"marker\":{\"colorbar\":{\"outlinewidth\":0,\"ticks\":\"\"}}}],\"histogram\":[{\"marker\":{\"pattern\":{\"fillmode\":\"overlay\",\"size\":10,\"solidity\":0.2}},\"type\":\"histogram\"}],\"scattergl\":[{\"type\":\"scattergl\",\"marker\":{\"colorbar\":{\"outlinewidth\":0,\"ticks\":\"\"}}}],\"scatter3d\":[{\"type\":\"scatter3d\",\"line\":{\"colorbar\":{\"outlinewidth\":0,\"ticks\":\"\"}},\"marker\":{\"colorbar\":{\"outlinewidth\":0,\"ticks\":\"\"}}}],\"scattermapbox\":[{\"type\":\"scattermapbox\",\"marker\":{\"colorbar\":{\"outlinewidth\":0,\"ticks\":\"\"}}}],\"scatterternary\":[{\"type\":\"scatterternary\",\"marker\":{\"colorbar\":{\"outlinewidth\":0,\"ticks\":\"\"}}}],\"scattercarpet\":[{\"type\":\"scattercarpet\",\"marker\":{\"colorbar\":{\"outlinewidth\":0,\"ticks\":\"\"}}}],\"carpet\":[{\"aaxis\":{\"endlinecolor\":\"#2a3f5f\",\"gridcolor\":\"white\",\"linecolor\":\"white\",\"minorgridcolor\":\"white\",\"startlinecolor\":\"#2a3f5f\"},\"baxis\":{\"endlinecolor\":\"#2a3f5f\",\"gridcolor\":\"white\",\"linecolor\":\"white\",\"minorgridcolor\":\"white\",\"startlinecolor\":\"#2a3f5f\"},\"type\":\"carpet\"}],\"table\":[{\"cells\":{\"fill\":{\"color\":\"#EBF0F8\"},\"line\":{\"color\":\"white\"}},\"header\":{\"fill\":{\"color\":\"#C8D4E3\"},\"line\":{\"color\":\"white\"}},\"type\":\"table\"}],\"barpolar\":[{\"marker\":{\"line\":{\"color\":\"#E5ECF6\",\"width\":0.5},\"pattern\":{\"fillmode\":\"overlay\",\"size\":10,\"solidity\":0.2}},\"type\":\"barpolar\"}],\"pie\":[{\"automargin\":true,\"type\":\"pie\"}]},\"layout\":{\"autotypenumbers\":\"strict\",\"colorway\":[\"#636efa\",\"#EF553B\",\"#00cc96\",\"#ab63fa\",\"#FFA15A\",\"#19d3f3\",\"#FF6692\",\"#B6E880\",\"#FF97FF\",\"#FECB52\"],\"font\":{\"color\":\"#2a3f5f\"},\"hovermode\":\"closest\",\"hoverlabel\":{\"align\":\"left\"},\"paper_bgcolor\":\"white\",\"plot_bgcolor\":\"#E5ECF6\",\"polar\":{\"bgcolor\":\"#E5ECF6\",\"angularaxis\":{\"gridcolor\":\"white\",\"linecolor\":\"white\",\"ticks\":\"\"},\"radialaxis\":{\"gridcolor\":\"white\",\"linecolor\":\"white\",\"ticks\":\"\"}},\"ternary\":{\"bgcolor\":\"#E5ECF6\",\"aaxis\":{\"gridcolor\":\"white\",\"linecolor\":\"white\",\"ticks\":\"\"},\"baxis\":{\"gridcolor\":\"white\",\"linecolor\":\"white\",\"ticks\":\"\"},\"caxis\":{\"gridcolor\":\"white\",\"linecolor\":\"white\",\"ticks\":\"\"}},\"coloraxis\":{\"colorbar\":{\"outlinewidth\":0,\"ticks\":\"\"}},\"colorscale\":{\"sequential\":[[0.0,\"#0d0887\"],[0.1111111111111111,\"#46039f\"],[0.2222222222222222,\"#7201a8\"],[0.3333333333333333,\"#9c179e\"],[0.4444444444444444,\"#bd3786\"],[0.5555555555555556,\"#d8576b\"],[0.6666666666666666,\"#ed7953\"],[0.7777777777777778,\"#fb9f3a\"],[0.8888888888888888,\"#fdca26\"],[1.0,\"#f0f921\"]],\"sequentialminus\":[[0.0,\"#0d0887\"],[0.1111111111111111,\"#46039f\"],[0.2222222222222222,\"#7201a8\"],[0.3333333333333333,\"#9c179e\"],[0.4444444444444444,\"#bd3786\"],[0.5555555555555556,\"#d8576b\"],[0.6666666666666666,\"#ed7953\"],[0.7777777777777778,\"#fb9f3a\"],[0.8888888888888888,\"#fdca26\"],[1.0,\"#f0f921\"]],\"diverging\":[[0,\"#8e0152\"],[0.1,\"#c51b7d\"],[0.2,\"#de77ae\"],[0.3,\"#f1b6da\"],[0.4,\"#fde0ef\"],[0.5,\"#f7f7f7\"],[0.6,\"#e6f5d0\"],[0.7,\"#b8e186\"],[0.8,\"#7fbc41\"],[0.9,\"#4d9221\"],[1,\"#276419\"]]},\"xaxis\":{\"gridcolor\":\"white\",\"linecolor\":\"white\",\"ticks\":\"\",\"title\":{\"standoff\":15},\"zerolinecolor\":\"white\",\"automargin\":true,\"zerolinewidth\":2},\"yaxis\":{\"gridcolor\":\"white\",\"linecolor\":\"white\",\"ticks\":\"\",\"title\":{\"standoff\":15},\"zerolinecolor\":\"white\",\"automargin\":true,\"zerolinewidth\":2},\"scene\":{\"xaxis\":{\"backgroundcolor\":\"#E5ECF6\",\"gridcolor\":\"white\",\"linecolor\":\"white\",\"showbackground\":true,\"ticks\":\"\",\"zerolinecolor\":\"white\",\"gridwidth\":2},\"yaxis\":{\"backgroundcolor\":\"#E5ECF6\",\"gridcolor\":\"white\",\"linecolor\":\"white\",\"showbackground\":true,\"ticks\":\"\",\"zerolinecolor\":\"white\",\"gridwidth\":2},\"zaxis\":{\"backgroundcolor\":\"#E5ECF6\",\"gridcolor\":\"white\",\"linecolor\":\"white\",\"showbackground\":true,\"ticks\":\"\",\"zerolinecolor\":\"white\",\"gridwidth\":2}},\"shapedefaults\":{\"line\":{\"color\":\"#2a3f5f\"}},\"annotationdefaults\":{\"arrowcolor\":\"#2a3f5f\",\"arrowhead\":0,\"arrowwidth\":1},\"geo\":{\"bgcolor\":\"white\",\"landcolor\":\"#E5ECF6\",\"subunitcolor\":\"white\",\"showland\":true,\"showlakes\":true,\"lakecolor\":\"white\"},\"title\":{\"x\":0.05},\"mapbox\":{\"style\":\"light\"}}},\"coloraxis\":{\"colorbar\":{\"title\":{\"text\":\"S\\u1ed1 s\\u1ea3n ph\\u1ea9m\"}},\"colorscale\":[[0.0,\"#FFCC00\"],[0.5,\"#FF9900\"],[1.0,\"#FF6600\"]]},\"legend\":{\"tracegroupgap\":0},\"margin\":{\"t\":50,\"l\":10,\"r\":10,\"b\":25},\"height\":500,\"width\":700,\"title\":{\"text\":\"Top 5 kh\\u00e1ch h\\u00e0ng mua h\\u00e0ng nhi\\u1ec1u nh\\u1ea5t\",\"font\":{\"color\":\"orange\",\"size\":20,\"family\":\"Times New Roman\"}}},                        {\"responsive\": true}                    ).then(function(){\n",
       "                            \n",
       "var gd = document.getElementById('c2dacac5-4f27-4e11-9faa-ee21853e3984');\n",
       "var x = new MutationObserver(function (mutations, observer) {{\n",
       "        var display = window.getComputedStyle(gd).display;\n",
       "        if (!display || display === 'none') {{\n",
       "            console.log([gd, 'removed!']);\n",
       "            Plotly.purge(gd);\n",
       "            observer.disconnect();\n",
       "        }}\n",
       "}});\n",
       "\n",
       "// Listen for the removal of the full notebook cells\n",
       "var notebookContainer = gd.closest('#notebook-container');\n",
       "if (notebookContainer) {{\n",
       "    x.observe(notebookContainer, {childList: true});\n",
       "}}\n",
       "\n",
       "// Listen for the clearing of the current output cell\n",
       "var outputEl = gd.closest('.output');\n",
       "if (outputEl) {{\n",
       "    x.observe(outputEl, {childList: true});\n",
       "}}\n",
       "\n",
       "                        })                };                });            </script>        </div>"
      ]
     },
     "metadata": {},
     "output_type": "display_data"
    }
   ],
   "source": [
    "fig = px.sunburst(data_cus_9, path=['user_name','brand'], values='item_id',color='item_id',\n",
    "                  color_continuous_scale=colors[::-4],\n",
    "                  labels={'item_id':\"Số sản phẩm\",},\n",
    "                  width=700, height=500)  \n",
    "fig.update_layout(title=\"Top 5 khách hàng mua hàng nhiều nhất\",\n",
    "                   title_font_color='orange',\n",
    "                   title_font_size=20,\n",
    "                   title_font_family=\"Times New Roman\",\n",
    "                  )\n",
    "fig.update_layout(margin = dict(t=50, l=10, r=10, b=25))\n",
    "fig.update_traces(textinfo='value+label',\n",
    "                  hoverinfo='value+label',\n",
    "                  hovertemplate =\"%{label} <br>Số lượng shop: %{value}\",\n",
    "                  textfont_size=13,\n",
    "                 )\n",
    "fig.show()"
   ]
  },
  {
   "cell_type": "markdown",
   "id": "3a264036",
   "metadata": {},
   "source": [
    "### Tỉ lệ Doanh số, Tồn kho, Doanh thu, theo Khu vực, Khuyến mãi"
   ]
  },
  {
   "cell_type": "code",
   "execution_count": 47,
   "id": "179c68db",
   "metadata": {
    "scrolled": false
   },
   "outputs": [
    {
     "data": {
      "application/vnd.jupyter.widget-view+json": {
       "model_id": "76bc3ea8cef0420cbecc3134f5d49490",
       "version_major": 2,
       "version_minor": 0
      },
      "text/plain": [
       "interactive(children=(Dropdown(description='Mục_tiêu', index=2, options=('Doanh số', 'Tồn kho', 'Doanh thu (Tỷ…"
      ]
     },
     "metadata": {},
     "output_type": "display_data"
    }
   ],
   "source": [
    "data_ti_le_1 = data_DATA[['item_id','brand',\"Doanh số\",\"Tồn kho\",\"Khuyến mãi %\",\"Giá khuyến mãi\",\n",
    "                       \"Doanh thu\",\"Lượt thích\",\"Đánh giá\",\"Lượt đánh giá\"]]\n",
    "data_ti_le_2 = pd.merge(data_ti_le_1, data_ID[[\"item_id\",\"Tỉnh\"]], on=\"item_id\")\n",
    "data_ti_le_3 = pd.merge(data_ti_le_2, data_LOC[[\"Tỉnh\",\"Khu Vực\"]], on=\"Tỉnh\")\n",
    "data_ti_le_4 = data_ti_le_3.reset_index()\n",
    "Khuyen_mai_1 = pd.Series(['Không'] *data_ti_le_4['Khuyến mãi %'].size)\n",
    "Khuyen_mai_1[data_ti_le_4['Khuyến mãi %'] > 0] = 'Có'\n",
    "data_ti_le_4['Khuyến mãi'] = Khuyen_mai_1\n",
    "data_ti_le_4 = data_ti_le_4.rename(columns = {\"brand\":\"Thương hiệu\"})\n",
    "data_ti_le_4['Doanh thu (Tỷ VNĐ)'] = data_ti_le_4['Doanh thu']/1000000000\n",
    "\n",
    "list_name = ['Doanh số', 'Tồn kho','Doanh thu (Tỷ VNĐ)', 'Lượt thích', 'Lượt đánh giá']\n",
    "list_class = ['Khuyến mãi',\"Tỉnh\",\"Khu Vực\",\"Thương hiệu\"]\n",
    "@widgets.interact(Mục_tiêu=list_name, Phân_loại = list_class)\n",
    "def Doanh_thu_theo_thuong_hieu_1(Mục_tiêu='Doanh thu (Tỷ VNĐ)',Phân_loại = 'Khuyến mãi'):\n",
    "\n",
    "    fig = px.pie(data_ti_le_4,values=Mục_tiêu, names=Phân_loại,\n",
    "                 #color_discrete_sequence=px.colors.sequential.Oranges,\n",
    "                 width=400, height=400,\n",
    "                 #labels={'labels':\"Tên\",\"Số lượng shop_sum\":'Tổng số shop'},\n",
    "                )    \n",
    "    fig.update_layout(title=f\"Tỉ lệ {Mục_tiêu.lower()} theo {Phân_loại.lower()}\",\n",
    "                      title_font_color='orange',\n",
    "                      title_font_size=20,\n",
    "                      title_font_family=\"Times New Roman\",\n",
    "                     )\n",
    "    fig.update_layout(margin = dict(t=50, l=0, r=0, b=25))\n",
    "    fig.update_traces(textposition='inside', textinfo='percent+value+label', hoverinfo='label+percent',\n",
    "                      hovertemplate =\"%{label} <br>%{value}\",\n",
    "                      textfont_size=16,pull=[0.1, 0],\n",
    "                      marker=dict(colors=colors[::]))\n",
    "    fig.show()"
   ]
  },
  {
   "cell_type": "markdown",
   "id": "847bb8bc",
   "metadata": {},
   "source": [
    "### Sử dụng interact tương quan giữa các cột"
   ]
  },
  {
   "cell_type": "code",
   "execution_count": 32,
   "id": "eb2c25cb",
   "metadata": {
    "scrolled": false
   },
   "outputs": [
    {
     "data": {
      "application/vnd.jupyter.widget-view+json": {
       "model_id": "422d55d81ee041839856c68ef72f3ac2",
       "version_major": 2,
       "version_minor": 0
      },
      "text/plain": [
       "interactive(children=(Dropdown(description='Trục_X', index=5, options=('Doanh số', 'Tồn kho', 'Giá khuyến mãi'…"
      ]
     },
     "metadata": {},
     "output_type": "display_data"
    }
   ],
   "source": [
    "data_test_1 = data_DATA[['item_id','brand',\"Doanh số\",\"Tồn kho\",\"Khuyến mãi %\",\"Giá khuyến mãi\",\n",
    "                       \"Doanh thu\",\"Lượt thích\",\"Đánh giá\",\"Lượt đánh giá\"]]\n",
    "data_test_2 = pd.merge(data_test_1, data_ID[[\"item_id\",\"Tỉnh\"]], on=\"item_id\")\n",
    "data_test_3 = pd.merge(data_test_2, data_LOC[[\"Tỉnh\",\"Khu Vực\"]], on=\"Tỉnh\")\n",
    "data_test_4 = data_test_3.reset_index()\n",
    "Khuyen_mai = pd.Series(['Không'] *data_test_4['Khuyến mãi %'].size)\n",
    "Khuyen_mai[data_test_4['Khuyến mãi %'] > 0] = 'Có'\n",
    "data_test_4['Khuyến mãi'] = Khuyen_mai \n",
    "data_test_4 = data_test_4.rename(columns = {\"brand\":\"Thương hiệu\"})\n",
    "\n",
    "list_x = [\"Doanh số\",\"Tồn kho\",\"Giá khuyến mãi\", \"Doanh thu\",\"Lượt thích\",\"Lượt đánh giá\"]\n",
    "list_y = [\"Doanh số\",\"Tồn kho\",\"Giá khuyến mãi\", \"Doanh thu\",\"Lượt thích\",\"Lượt đánh giá\"]\n",
    "list_size = [\"Doanh số\",\"Tồn kho\",\"Giá khuyến mãi\", \"Doanh thu\",\"Lượt thích\",\"Lượt đánh giá\",None]\n",
    "list_class = [\"Tỉnh\",\"Khu Vực\",'Khuyến mãi',\"Thương hiệu\",None]\n",
    "\n",
    "@widgets.interact(Trục_X = list_x, Trục_Y=list_y, Kích_thước=list_size, Phân_loại= list_class, Trendline= True, Độ_tin_cậy_95 = True )\n",
    "def Tuong_quan(Trục_X =\"Lượt đánh giá\",Trục_Y =\"Doanh số\",Kích_thước =\"Doanh thu\", Phân_loại =\"Khu Vực\",Trendline='ols',Độ_tin_cậy_95 = True):\n",
    "    if Trendline == True:\n",
    "        A = 'ols'\n",
    "    else:\n",
    "        A = None\n",
    "        \n",
    "    if Độ_tin_cậy_95 == True: \n",
    "        CI_95_X = np.percentile(np.array(data_test_4[Trục_X]),[2.5,97.5])\n",
    "        data_test_5 = data_test_4[data_test_4[Trục_X]>CI_95_X[0]]\n",
    "        data_test_6 = data_test_5[data_test_5[Trục_X]<CI_95_X[1]]\n",
    "        \n",
    "        CI_95_Y = np.percentile(np.array(data_test_4[Trục_Y]),[2.5,97.5])\n",
    "        data_test_7 = data_test_6[data_test_6[Trục_Y]>CI_95_Y[0]]\n",
    "        data_test_8 = data_test_7[data_test_7[Trục_Y]<CI_95_Y[1]]\n",
    "        data = data_test_8      \n",
    "    else:\n",
    "        data = data_test_4 \n",
    "   \n",
    "    fig = px.scatter(data,x = Trục_X, y = Trục_Y, size = Kích_thước,\n",
    "                 color = Phân_loại,marginal_x=\"histogram\", marginal_y=\"box\",\n",
    "                 trendline = A, \n",
    "                     #color_discrete_sequence=['#FF5500',\"blue\",\"green\"]\n",
    "                )\n",
    "    fig.update_layout(title=f\"Mối tương quan giữa {Trục_X} và {Trục_Y}\",\n",
    "                      title_font_color='orange',\n",
    "                      title_font_size=20,\n",
    "                      title_font_family=\"Times New Roman\",\n",
    "                      xaxis_title=f\"{Trục_X}\",\n",
    "                      yaxis_title=f\"{Trục_Y}\",\n",
    "                     )\n",
    "    fig.show()\n"
   ]
  },
  {
   "cell_type": "markdown",
   "id": "65c7e341",
   "metadata": {},
   "source": [
    "## Tạo wordcloud"
   ]
  },
  {
   "cell_type": "markdown",
   "id": "6bf45480",
   "metadata": {},
   "source": [
    "### Wordclod về các mức độ quan tâm đến thương hiệu"
   ]
  },
  {
   "cell_type": "code",
   "execution_count": 33,
   "id": "36453138",
   "metadata": {},
   "outputs": [],
   "source": [
    "# data_wc = pd.merge(data_DATA[[\"item_id\",'brand']], data_RATING[[\"item_id\",\"Bình luận\"]], on=\"item_id\")\n",
    "\n",
    "# text = \" \".join(cat for cat in data_wc.brand)\n",
    "\n",
    "# stopwords = set(STOPWORDS)\n",
    "\n",
    "# # Read and convert an mask image. It should have a white (not transparent) background with a black object.\n",
    "# #mask_img = np.array(Image.open(\"ncBMAnRei.jpg\"))\n",
    "# cmap1 = matplotlib.colors.LinearSegmentedColormap.from_list(\"\", colors)\n",
    "\n",
    "# wordcloud = WordCloud(background_color=\"#FFFFFF\",\n",
    "#                       max_words=100, \n",
    "#                       #mask=mask_img,\n",
    "#                       width=3000,\n",
    "#                       height=2000,\n",
    "#                       random_state=2,\n",
    "#                       colormap=cmap1,\n",
    "#                       collocations=False,\n",
    "#                       stopwords=STOPWORDS\n",
    "#                       ).generate(text)\n",
    "\n",
    "# # store to file\n",
    "# #wordcloud.to_file(\"wc.png\")\n",
    "\n",
    "# # Show the image\n",
    "# plt.figure(figsize=(10,10))\n",
    "# plt.tight_layout(pad=0)\n",
    "# plt.axis(\"off\")\n",
    "# plt.imshow(wordcloud, interpolation='bilinear')"
   ]
  },
  {
   "cell_type": "code",
   "execution_count": 34,
   "id": "b042242a",
   "metadata": {
    "scrolled": false
   },
   "outputs": [
    {
     "data": {
      "text/plain": [
       "(-0.5, 4999.5, 4999.5, -0.5)"
      ]
     },
     "execution_count": 34,
     "metadata": {},
     "output_type": "execute_result"
    },
    {
     "data": {
      "image/png": "[encoded data removed]",
      "text/plain": [
       "<Figure size 750x750 with 1 Axes>"
      ]
     },
     "metadata": {},
     "output_type": "display_data"
    }
   ],
   "source": [
    "data_RATING['Bình luận'] = data_RATING['Bình luận'].astype(str)\n",
    "text_cmt = \" \".join(review for review in data_RATING['Bình luận'])\n",
    "mask_img = np.array(Image.open(\"comment.jpg\"))\n",
    "\n",
    "stopwords_1 = set(STOPWORDS)\n",
    "stopwords_1.update([\"nan\",])\n",
    "\n",
    "# Read and convert an mask image. It should have a white (not transparent) background with a black object.\n",
    "#mask_img = np.array(Image.open(\"pngtree-red-heart-icon-isolated-png-image_1726594.jpg\"))\n",
    "wordcloud = WordCloud(background_color=\"#FFFFFF\", \n",
    "                      max_words=100, \n",
    "                      mask=mask_img,\n",
    "                      width=3000,\n",
    "                      height=2000,\n",
    "                      random_state=1,\n",
    "                      colormap=cmap1,\n",
    "                      collocations=False,\n",
    "                      stopwords=stopwords_1\n",
    "                      ).generate(text_cmt)\n",
    "# store to file\n",
    "#wordcloud.to_file(\"wc.png\")\n",
    "plt.figure(figsize=(10,10))\n",
    "plt.tight_layout(pad=0)\n",
    "\n",
    "# Show the image\n",
    "plt.imshow(wordcloud, interpolation='bilinear')\n",
    "plt.axis(\"off\")"
   ]
  },
  {
   "cell_type": "code",
   "execution_count": 35,
   "id": "9df7d8b9",
   "metadata": {},
   "outputs": [
    {
     "data": {
      "image/png": "[encoded data removed]",
      "text/plain": [
       "<Figure size 750x750 with 1 Axes>"
      ]
     },
     "metadata": {},
     "output_type": "display_data"
    }
   ],
   "source": [
    "data_cmt = data_RATING.copy()\n",
    "data_cmt.dropna(inplace=True, axis=0, how=\"any\")\n",
    "data_cmt_1 = data_cmt.reset_index()\n",
    "text_cmt_like = \" \".join(review for review in data_cmt_1[data_cmt_1[\"Rank\"]==\"Cao nhất\"]['VAN'])\n",
    "mask_img = np.array(Image.open(\"like1.jpg\"))\n",
    "\n",
    "stopwords_2 = set(STOPWORDS)\n",
    "stopwords_2.update([\"shop\", \"máy\",\"hàng\",\"nan\",'mua','giao',\"ko\",'có',\"dùng\",\"nha\",\"đc\",\"còn\",\"sau\",\"ạ\",'là',\"bị\",\"hẹn\",\"lưng\",\"màn\",\"em\",\n",
    "                   \"sản_phẩm\", \"chất_lượng\",\"điện_thoại\",\"ngày\",\"nhiều\",\"thứ\",\"biết\",'chạy','bán','thêm','qua','nói',\"về\",'gần','độ',\n",
    "                   'khi','đặt', 'tầm','sáng','lần','mạng','hơn','bên','hơi','đt','phải',\"xem\",'gọi',\"Sản_phẩm\",'khác','sp','chụp','sài',\n",
    "                   \"người\",'lên',\"nghe\",'mang',\"thấy\",\"hết\",\"quảng_cáo\",\"nhận\",'làm',\"xu\",\"nhìn\",\"nguyên\",'gửi',\"thời_gian\",\"tặng\",''\n",
    "                   \"sao\",\"chơi\",'ảnh',\"hãng\",'tay','mô_tả','đánh_giá','Tính_năng',\"hình\",\"chúc\", 'cầm',\"hiện_tại\",'xài','tiếp',\"kèm\"\n",
    "                    'đồng_tiền','dán','dc','sử_dụng','nhé','may','bạn','hộp',\"bảo\",'ra','đi','mong','cục','mặt','nhắn','lúc','chủ',\"hôm\",\n",
    "                    'vào','thôi','hỏi','khách','tin',\"nt\",'tính_chất','đồng_tiền',\"ngoài\",'trong','xong','giống','điểm','mn','kêu',\n",
    "                    'cho','ít','web',\"đen\",'xanh','vàng','anh_em','người_thân','cơ_bản','tiếng','điện','thay','kiểu','dt','con','muốn',\n",
    "                    'cái','đâu','vô','báo','trước','được','đầu','thèm','cắm','số','mở','nên','chỗ','trắng','số','sóng','lắp','đầy',\"v\",\n",
    "                    'j','chỗ','bắt','kèm','bấm','lấy','giờ','chắc','cần','hồng','tuần','coi','chân','góc','chịu','nắp','mau','ăn','ae',\n",
    "                    'giá','đúng','thử',\"test\"\n",
    "                   ])\n",
    "wordcloud = WordCloud(background_color=\"#FFFFFF\", max_words=100, \n",
    "                      mask=mask_img,\n",
    "                      width=3000,\n",
    "                      height=2000,\n",
    "                      random_state=1,\n",
    "                      colormap=cmap1,\n",
    "                      collocations=False,\n",
    "                      stopwords=stopwords_2\n",
    "                      ).generate(text_cmt_like)\n",
    "plt.figure(figsize=(10,10))\n",
    "plt.tight_layout(pad=0)\n",
    "plt.imshow(wordcloud, interpolation='bilinear')\n",
    "plt.axis(\"off\")\n",
    "plt.show()"
   ]
  },
  {
   "cell_type": "code",
   "execution_count": 36,
   "id": "79529923",
   "metadata": {},
   "outputs": [
    {
     "data": {
      "image/png": "[encoded data removed]",
      "text/plain": [
       "<Figure size 750x750 with 1 Axes>"
      ]
     },
     "metadata": {},
     "output_type": "display_data"
    }
   ],
   "source": [
    "text_cmt_dislike = \" \".join(review for review in data_cmt_1[data_cmt_1[\"Rank\"]==\"Thấp nhất\"]['VAN'])\n",
    "mask_img = np.array(Image.open(\"dislike1.jpg\"))\n",
    "\n",
    "stopwords_3 = set(STOPWORDS)\n",
    "stopwords_3.update([\"shop\", \"máy\",\"hàng\",\"nan\",'mua','giao',\"ko\",'có',\"dùng\",\"nha\",\"đc\",\"còn\",\"sau\",\"ạ\",'là',\"bị\",\"hẹn\",\"lưng\",\"màn\",\"em\",\n",
    "                   \"sản_phẩm\", \"chất_lượng\",\"điện_thoại\",\"ngày\",\"nhiều\",\"thứ\",\"biết\",'chạy','bán','thêm','qua','nói',\"về\",'gần','độ',\n",
    "                   'khi','đặt', 'tầm','sáng','lần','mạng','hơn','bên','hơi','đt','phải',\"xem\",'gọi',\"Sản_phẩm\",'khác','sp','chụp','sài',\n",
    "                   \"người\",'lên',\"nghe\",'mang',\"thấy\",\"hết\",\"quảng_cáo\",\"nhận\",'làm',\"xu\",\"nhìn\",\"nguyên\",'gửi',\"thời_gian\",\"tặng\",''\n",
    "                   \"sao\",\"chơi\",'ảnh',\"hãng\",'tay','mô_tả','đánh_giá','Tính_năng',\"hình\",\"chúc\", 'cầm',\"hiện_tại\",'xài','tiếp',\"kèm\"\n",
    "                    'đồng_tiền','dán','dc','sử_dụng','nhé','may','bạn','hộp',\"bảo\",'ra','đi','mong','cục','mặt','nhắn','lúc','chủ',\"hôm\",\n",
    "                    'vào','thôi','hỏi','khách','tin',\"nt\",'tính_chất','đồng_tiền',\"ngoài\",'trong','xong','giống','điểm','mn','kêu',\n",
    "                    'cho','ít','web',\"đen\",'xanh','vàng','anh_em','người_thân','cơ_bản','tiếng','điện','thay','kiểu','dt','con','muốn',\n",
    "                    'cái','đâu','vô','báo','trước','được','đầu','thèm','cắm','số','mở','nên','chỗ','trắng','số','sóng','lắp','đầy',\"v\",\n",
    "                    'j','chỗ','bắt','kèm','bấm','lấy','giờ','chắc','cần','hồng','tuần','coi','chân','góc','chịu','nắp','mau','ăn','ae',\n",
    "                    'giá','đúng','thử',\"test\"\n",
    "                   ])\n",
    "wordcloud = WordCloud(background_color=\"#FFFFFF\", max_words=100, \n",
    "                      mask=mask_img,\n",
    "                      width=3000,\n",
    "                      height=2000,\n",
    "                      random_state=1,\n",
    "                      colormap=cmap1,\n",
    "                      collocations=False,\n",
    "                      stopwords=stopwords_3\n",
    "                      ).generate(text_cmt_dislike)\n",
    "plt.figure(figsize=(10,10))\n",
    "plt.tight_layout(pad=0)\n",
    "plt.imshow(wordcloud, interpolation='bilinear')\n",
    "plt.axis(\"off\")\n",
    "plt.show()"
   ]
  }
 ],
 "metadata": {
  "kernelspec": {
   "display_name": "Python 3 (ipykernel)",
   "language": "python",
   "name": "python3"
  },
  "language_info": {
   "codemirror_mode": {
    "name": "ipython",
    "version": 3
   },
   "file_extension": ".py",
   "mimetype": "text/x-python",
   "name": "python",
   "nbconvert_exporter": "python",
   "pygments_lexer": "ipython3",
   "version": "3.9.12"
  }
 },
 "nbformat": 4,
 "nbformat_minor": 5
}

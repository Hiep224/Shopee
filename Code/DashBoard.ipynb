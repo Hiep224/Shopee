{
 "cells": [
  {
   "cell_type": "code",
   "execution_count": 1,
   "id": "75141dcb",
   "metadata": {},
   "outputs": [],
   "source": [
    "import pandas as pd\n",
    "import numpy as np\n",
    "from matplotlib import pyplot as plt\n",
    "import matplotlib.colors\n",
    "np.set_printoptions(precision=3, suppress=True)\n",
    "\n",
    "from wordcloud import WordCloud, STOPWORDS\n",
    "\n",
    "import urllib.request\n",
    "from PIL import Image\n",
    "import re \n",
    "import seaborn as sns\n",
    "\n",
    "import plotly.express as px\n",
    "import plotly.io as pio\n",
    "import plotly.offline as py\n",
    "import plotly.graph_objects as go\n",
    "from plotly.subplots import make_subplots\n",
    "\n",
    "import os\n",
    "import folium\n",
    "from folium.plugins import HeatMap\n",
    "\n",
    "import ipywidgets as widgets\n",
    "from ipywidgets import Layout, Label, HBox, VBox, HTML\n",
    "from IPython.display import display, clear_output\n",
    "import IPython"
   ]
  },
  {
   "cell_type": "code",
   "execution_count": 2,
   "id": "c9955b11",
   "metadata": {},
   "outputs": [],
   "source": [
    "import matplotlib.pyplot as plt\n",
    "plt.rcParams['figure.dpi'] = 75"
   ]
  },
  {
   "cell_type": "markdown",
   "id": "2b661d21",
   "metadata": {},
   "source": [
    "## Nhập dữ liệu"
   ]
  },
  {
   "cell_type": "code",
   "execution_count": 3,
   "id": "750493bb",
   "metadata": {},
   "outputs": [],
   "source": [
    "# Tên các sheet trong file saved_file.xlsx\n",
    "name_sheet = [\"ID\",\"DATA\",\"RATING\"]"
   ]
  },
  {
   "cell_type": "code",
   "execution_count": 4,
   "id": "6b7f1833",
   "metadata": {},
   "outputs": [],
   "source": [
    "data_ID = pd.read_excel('saved_file.xlsx',sheet_name=name_sheet[0])\n",
    "data_DATA = pd.read_excel('saved_file.xlsx',sheet_name=name_sheet[1])\n",
    "data_RATING = pd.read_excel('saved_file.xlsx',sheet_name=name_sheet[2])\n",
    "data_LOC = pd.read_excel('Tinh_VN.xlsx')"
   ]
  },
  {
   "cell_type": "code",
   "execution_count": 5,
   "id": "349d60fb",
   "metadata": {
    "scrolled": true
   },
   "outputs": [
    {
     "data": {
      "image/png": "[encoded data removed]",
      "text/plain": [
       "<Figure size 750x75 with 1 Axes>"
      ]
     },
     "metadata": {},
     "output_type": "display_data"
    }
   ],
   "source": [
    "sns.palplot(['#FF5500','#FF6600','#FF7300','#FF8000','#FF8C00','#FF9900','#FFA600','#FFB300','#FFBF00','#FFCC00'])\n",
    "plt.title(\"Shoppe brand palette \",loc='left',fontfamily='serif',fontsize=15,y=1.2)\n",
    "plt.show()"
   ]
  },
  {
   "cell_type": "code",
   "execution_count": 6,
   "id": "767ca293",
   "metadata": {},
   "outputs": [],
   "source": [
    "colors = ['#FF5500','#FF6600','#FF7300','#FF8000','#FF8C00','#FF9900','#FFA600','#FFB300','#FFBF00','#FFCC00']\n",
    "cmap1 = matplotlib.colors.LinearSegmentedColormap.from_list(\"\", colors)"
   ]
  },
  {
   "cell_type": "markdown",
   "id": "e35d47bd",
   "metadata": {},
   "source": [
    "## Tạo tên bảng và thanh Lọc"
   ]
  },
  {
   "cell_type": "code",
   "execution_count": 7,
   "id": "0b72c141",
   "metadata": {},
   "outputs": [
    {
     "data": {
      "application/vnd.jupyter.widget-view+json": {
       "model_id": "a28f497d068d460894d27306134990ed",
       "version_major": 2,
       "version_minor": 0
      },
      "text/plain": [
       "Label(value='Thành phố', layout=Layout(align_items='center', display='flex', height='100%', justify_content='c…"
      ]
     },
     "metadata": {},
     "output_type": "display_data"
    }
   ],
   "source": [
    "ten_bang = Layout(justify_content='center', \n",
    "               align_items='center',\n",
    "               display='flex',\n",
    "               #border= '2px solid orange',\n",
    "               padding= '5px',\n",
    "               margin= '0px',\n",
    "               height='100%',\n",
    "               width='100%')\n",
    "wLabel = widgets.Label(value='Thành phố', layout=ten_bang)\n",
    "wLabel.add_class('test_label')"
   ]
  },
  {
   "cell_type": "code",
   "execution_count": 8,
   "id": "14078a0e",
   "metadata": {},
   "outputs": [],
   "source": [
    "ten_bang_box = HBox([wLabel],layout=Layout(justify_content= 'center'))"
   ]
  },
  {
   "cell_type": "code",
   "execution_count": 9,
   "id": "538ee52f",
   "metadata": {},
   "outputs": [],
   "source": [
    "# Thanh chọn\n",
    "list_khu_vuc = ['Cả nước', 'Miền Nam', 'Miền Trung', 'Miền Bắc',]\n",
    "list_muc_tieu = ['Doanh số', 'Tồn kho', 'Doanh thu', 'Lượt thích', 'Lượt đánh giá']\n",
    "list_sort = [\"Cao nhất\", \"Thấp nhất\"]\n",
    "\n",
    "form_item_layout = Layout(\n",
    "    display='flex',\n",
    "    flex_flow='row',\n",
    "    justify_content='center',\n",
    ")\n",
    "W_heat_map = widgets.Checkbox(value=True, description='Hiển thị Heatmap')\n",
    "W_khu_vuc = widgets.Dropdown(description='Khu vực :',\n",
    "                             options = list_khu_vuc ,\n",
    "                             value='Cả nước',\n",
    "                             style = {'description_width': 'initial'},\n",
    "                             layout = form_item_layout)                      \n",
    "W_muc_tieu = widgets.Dropdown(description='Mục tiêu :',\n",
    "                          options = list_muc_tieu,\n",
    "                          style = {'description_width': 'initial'},\n",
    "                          layout = form_item_layout)                     \n",
    "W_sort = widgets.RadioButtons(description='Sắp xếp :',\n",
    "                           options = list_sort,\n",
    "                           style = {'description_width': 'initial'},\n",
    "                           layout = Layout(flex_flow='columnt'), activecolor='orange')"
   ]
  },
  {
   "cell_type": "code",
   "execution_count": 10,
   "id": "d87d41c2",
   "metadata": {},
   "outputs": [
    {
     "data": {
      "application/vnd.jupyter.widget-view+json": {
       "model_id": "699f3563c65f4383bef7ce9d9906b704",
       "version_major": 2,
       "version_minor": 0
      },
      "text/plain": [
       "HTML(value='<style>.widget-radio-box {flex-direction: row !important;}.widget-radio-box label{margin:5px !impo…"
      ]
     },
     "metadata": {},
     "output_type": "display_data"
    }
   ],
   "source": [
    "# HTML(\n",
    "#     value = \"<style>.widget-radio-box {flex-direction: row !important;}.widget-radio-box label{margin:5px !important;width: 82px !important;}</style>\"\n",
    "# )"
   ]
  },
  {
   "cell_type": "code",
   "execution_count": 11,
   "id": "e5e2bd91",
   "metadata": {},
   "outputs": [],
   "source": [
    "box_layout = Layout(display='flex',\n",
    "                    flex_flow='row',\n",
    "                    align_items='stretch',\n",
    "                    #border='solid',\n",
    "                    width='100%',\n",
    "                    background_color= 'blue',\n",
    "                    #border = '2px solid rgb(79, 185, 227)',\n",
    "                    padding= '8px',\n",
    "                    margin= '0px',\n",
    "                    border_radius= '5px',\n",
    "                    justify_content=\"center\",\n",
    "                    height='60px'\n",
    "                   )\n",
    "box_thanh_chon = HBox([W_heat_map, W_khu_vuc,W_muc_tieu, W_sort], layout = box_layout)"
   ]
  },
  {
   "cell_type": "code",
   "execution_count": 12,
   "id": "6473637e",
   "metadata": {},
   "outputs": [],
   "source": [
    "box_ten_bang_thanh_chon = VBox([ten_bang_box,box_thanh_chon])"
   ]
  },
  {
   "cell_type": "markdown",
   "id": "7a6b30c2",
   "metadata": {},
   "source": [
    "## Tạo map"
   ]
  },
  {
   "cell_type": "code",
   "execution_count": 13,
   "id": "289625fc",
   "metadata": {
    "scrolled": false
   },
   "outputs": [],
   "source": [
    "# Tạo dữ liệu\n",
    "data_Map_1 = data_ID[['item_id','Tỉnh']]\n",
    "data_Map_2 = data_DATA[[\"item_id\",'Doanh số','Tồn kho','Doanh thu','Lượt thích','Lượt đánh giá']]\n",
    "data_Map_3 = pd.merge(data_Map_1 , data_Map_2 ,on = \"item_id\")  \n",
    "data_Map_4 = data_Map_3.groupby('Tỉnh').sum()\n",
    "data_Map_5 = pd.merge(data_Map_4 ,data_LOC ,on = \"Tỉnh\")\n",
    "\n",
    "# Load map geojson\n",
    "import json\n",
    "with open('vietnam.geojson',encoding=\"utf-8\") as file:\n",
    "    Viet_Nam = json.load(file)\n",
    "# Đổi tên Thừa Thiên - Huế => Thừa Thiên Huế, Hồ Chí Minh city = TP. Hồ Chí Minh\n",
    "def Doi_ten(text):\n",
    "    text = text.replace(\"TP. Hồ Chí Minh\",\"Hồ Chí Minh city\")\n",
    "    text = text.replace(\"Thừa Thiên Huế\",\"Thừa Thiên - Huế\")\n",
    "    return text\n",
    "\n",
    "# Vẽ Map\n",
    "ca_nuoc = [15.854377, 106.029966, 5 , 4.5]\n",
    "mien_nam = [10.303300, 105.985360, 7, 5.7]\n",
    "mien_trung = [14.556769, 108.065010,7, 6]\n",
    "mien_bac = [20.975158, 105.678033, 7, 5.1]\n",
    "\n",
    "def Ve_map(Lists='Doanh số',  Loai_bieu_do = True, Loc= \"Cả nước\", ):\n",
    "    if Loc == 'Cả nước':\n",
    "        wLabel.value = f'DashBoard về {Lists.lower()} của sản phẩm điện thoại của Shoppe trên cả nước'\n",
    "        x = ca_nuoc[0]\n",
    "        y = ca_nuoc[1]\n",
    "        z = ca_nuoc[2]\n",
    "        t = ca_nuoc[3]\n",
    "    elif Loc == \"Miền Nam\":\n",
    "        x = mien_nam[0]\n",
    "        y = mien_nam[1]\n",
    "        z = mien_nam[2]\n",
    "        t = mien_nam[3]\n",
    "        wLabel.value = f'DashBoard về {Lists.lower()} của sản phẩm điện thoại của Shoppe khu vực Miền Nam'\n",
    "    elif Loc == \"Miền Trung\":\n",
    "        x = mien_trung[0]\n",
    "        y = mien_trung[1]\n",
    "        z = mien_trung[2]\n",
    "        t = mien_trung[3]\n",
    "        wLabel.value = f'DashBoard về {Lists.lower()} của sản phẩm điện thoại của Shoppe khu vực Miền Trung'\n",
    "    else:\n",
    "        x = mien_bac[0]\n",
    "        y = mien_bac[1]\n",
    "        z = mien_bac[2]\n",
    "        t = mien_bac[3]\n",
    "        wLabel.value = f'DashBoard về {Lists.lower()} của sản phẩm điện thoại của Shoppe khu vực Miền Bắc'\n",
    "    output_map.clear_output()\n",
    "    with output_map:\n",
    "        if Loai_bieu_do == True:\n",
    "            heatMap_data = list(zip(data_Map_5['latitude'], data_Map_5['longitude'], data_Map_5[Lists]))\n",
    "            f_Figure = folium.Figure(width=286, height=570)\n",
    "            fig_map    = folium.Map(location = (f'{x}', f'{y}'), \n",
    "                                  zoom_start= f'{z}',\n",
    "                                 ).add_to(f_Figure)\n",
    "            f_heatMap = HeatMap(data = heatMap_data,\n",
    "                                 min_opacity=0.6,\n",
    "                                 # max_val = 120,\n",
    "                                 radius = 20,\n",
    "                                 overlay = True\n",
    "                                ).add_to(fig_map)\n",
    "            display(fig_map)\n",
    "        else:\n",
    "            data_Map_6 = data_Map_5.copy()\n",
    "            data_Map_6['Tỉnh mới'] = data_Map_5['Tỉnh'].apply(Doi_ten)\n",
    "            \n",
    "            fig_map = px.choropleth_mapbox(data_Map_6, geojson=Viet_Nam, color=Lists,\n",
    "                                       locations=\"Tỉnh mới\", featureidkey=\"properties.name\",\n",
    "                                       center={\"lat\": x,  \"lon\": y},\n",
    "                                       mapbox_style=\"carto-positron\", zoom=t,\n",
    "                                       color_continuous_scale=colors[::-1],\n",
    "                                       labels={'Tỉnh mới':'Tỉnh'},\n",
    "                                       width=350, height=570,                              \n",
    "                                          )\n",
    "            fig_map.update_layout(coloraxis_colorbar=dict(\n",
    "                title=f\"<b>{Lists}</b>\",\n",
    "                title_font_color='#FF5500',\n",
    "                title_font_size=14,\n",
    "                title_font_family=\"Arial\",\n",
    "                thicknessmode=\"pixels\", \n",
    "                thickness=10,\n",
    "                lenmode=\"pixels\",\n",
    "                len=300,\n",
    "                y=0.97,\n",
    "                orientation=\"h\",\n",
    "                titleside = 'top',\n",
    "            ))\n",
    "            fig_map.update_layout(margin={\"r\":0,\"t\":0,\"l\":0,\"b\":0})\n",
    "            display(fig_map)"
   ]
  },
  {
   "cell_type": "code",
   "execution_count": 14,
   "id": "925aeba9",
   "metadata": {
    "scrolled": false
   },
   "outputs": [],
   "source": [
    "output_map = widgets.Output(layout=dict(#border='1px solid black',\n",
    "                                        width='300px', height='580px',\n",
    "                                        justify_content='center', \n",
    "                                        align_items='center',\n",
    "                                        justify_self='center',\n",
    "                                        align_content = 'center'))"
   ]
  },
  {
   "cell_type": "code",
   "execution_count": 15,
   "id": "231668fb",
   "metadata": {},
   "outputs": [],
   "source": [
    "#wInKetQua_heat_map = widgets.interactive(Ve_map, Lists=W_muc_tieu, Loai_bieu_do = W_heat_map, Loc= W_khu_vuc)"
   ]
  },
  {
   "cell_type": "markdown",
   "id": "eb57f3e7",
   "metadata": {},
   "source": [
    "## Top 5"
   ]
  },
  {
   "cell_type": "code",
   "execution_count": 16,
   "id": "6e4d207a",
   "metadata": {},
   "outputs": [],
   "source": [
    "# Data_top_5\n",
    "data_top_5_1 = data_DATA[[\"item_id\",'shop_id',\"brand\",'Doanh số','Tồn kho','Doanh thu','Giá gốc', 'Khuyến mãi %', 'Giá khuyến mãi',\n",
    "                          'Lượt thích','Lượt đánh giá','product_image_link']]\n",
    "data_top_5_2 = pd.merge(data_ID[['item_id','Tỉnh']] , data_LOC[['Tỉnh','Khu Vực']],on = \"Tỉnh\")  \n",
    "data_top_5_3 = pd.merge(data_top_5_1 , data_top_5_2,on = \"item_id\")  "
   ]
  },
  {
   "cell_type": "markdown",
   "id": "9009a12f",
   "metadata": {},
   "source": [
    "### Top 5 sản phẩm và hình ảnh"
   ]
  },
  {
   "cell_type": "code",
   "execution_count": 17,
   "id": "f342aa60",
   "metadata": {},
   "outputs": [],
   "source": [
    "output_top_5 = widgets.Output(layout=dict(width='350px', height='280px'))\n",
    "\n",
    "Lay_out_top = Layout(width='195px', height='195px')\n",
    "output_top_5_0 = widgets.Output(layout=Lay_out_top)\n",
    "output_top_5_1 = widgets.Output(layout=Lay_out_top)\n",
    "output_top_5_2 = widgets.Output(layout=Lay_out_top)\n",
    "output_top_5_3 = widgets.Output(layout=Lay_out_top)\n",
    "output_top_5_4 = widgets.Output(layout=Lay_out_top)\n",
    "\n",
    "Lay_out_ten = Layout(width='195px', height='130px', justify_content='center', align_items='center',\n",
    "                     justify_self='center',align_content = 'center')\n",
    "output_ten_top_5_0 = widgets.Output(layout=Lay_out_ten)\n",
    "output_ten_top_5_1 = widgets.Output(layout=Lay_out_ten)\n",
    "output_ten_top_5_2 = widgets.Output(layout=Lay_out_ten)\n",
    "output_ten_top_5_3 = widgets.Output(layout=Lay_out_ten)\n",
    "output_ten_top_5_4 = widgets.Output(layout=Lay_out_ten)\n",
    "\n",
    "Lay_out_data = Layout(width='195px', height='90px')\n",
    "output_data_top_5_0 = widgets.Output(layout=Lay_out_data)\n",
    "output_data_top_5_1 = widgets.Output(layout=Lay_out_data)\n",
    "output_data_top_5_2 = widgets.Output(layout=Lay_out_data)\n",
    "output_data_top_5_3 = widgets.Output(layout=Lay_out_data)\n",
    "output_data_top_5_4 = widgets.Output(layout=Lay_out_data)\n",
    "\n",
    "top_box_0 = VBox([output_ten_top_5_0,output_top_5_0,output_data_top_5_0])\n",
    "top_box_1 = VBox([output_ten_top_5_1,output_top_5_1,output_data_top_5_1])\n",
    "top_box_2 = VBox([output_ten_top_5_2,output_top_5_2,output_data_top_5_2])\n",
    "top_box_3 = VBox([output_ten_top_5_3,output_top_5_3,output_data_top_5_3])\n",
    "top_box_4 = VBox([output_ten_top_5_4,output_top_5_4,output_data_top_5_4])\n",
    "\n",
    "box_top_5 = HBox([top_box_0,top_box_1,top_box_2,top_box_3,top_box_4])"
   ]
  },
  {
   "cell_type": "code",
   "execution_count": 18,
   "id": "ecdb3253",
   "metadata": {},
   "outputs": [],
   "source": [
    "# Tạo hàm sửa tên\n",
    "def Sua_ten(text):\n",
    "    x = text.split(' ')\n",
    "    for i in range(4,len(x),4):\n",
    "        x[i] = x[i]+\"\\n\" \n",
    "    text = ' '.join(x) \n",
    "    return text"
   ]
  },
  {
   "cell_type": "code",
   "execution_count": 19,
   "id": "53727fc7",
   "metadata": {},
   "outputs": [],
   "source": [
    "def Xu_lu_du_lieu_01(Lists='Doanh số', Sort = 'Cao nhất', Loc=\"Cả nước\"):\n",
    "    if Loc ==  \"Cả nước\":\n",
    "        data = data_top_5_3.copy()\n",
    "    else : \n",
    "        data = data_top_5_3[data_top_5_3['Khu Vực'] == Loc]\n",
    "    \n",
    "    if Sort == 'Cao nhất':\n",
    "        data_top_5 = data[['item_id',Lists,'product_image_link']].nlargest(5,columns = Lists)\n",
    "        data_thong_tin = data[['item_id',Lists,'Giá gốc', 'Khuyến mãi %', 'Giá khuyến mãi']].nlargest(5, columns = Lists)\n",
    "    else:\n",
    "        data_top_5 = data[['item_id',Lists,'product_image_link']].nsmallest(5, columns = Lists)\n",
    "        data_thong_tin = data[['item_id',Lists,'Giá gốc', 'Khuyến mãi %', 'Giá khuyến mãi']].nsmallest(5, columns = Lists)\n",
    "    \n",
    "    top_5_name = pd.merge(data_top_5, data_ID[[\"item_id\",\"Tên\"]], on=\"item_id\")\n",
    "    top_5_name['Tên'] = top_5_name['Tên'].apply(Sua_ten)\n",
    "    \n",
    "    data_thong_tin_1 = data_thong_tin.reset_index()\n",
    "    \n",
    "    return top_5_name, data_thong_tin_1  "
   ]
  },
  {
   "cell_type": "code",
   "execution_count": 20,
   "id": "96799ea2",
   "metadata": {
    "scrolled": false
   },
   "outputs": [],
   "source": [
    "def Top_Hinh_anh_5(Lists='Doanh số', Sort = 'Cao nhất', Loc=\"Cả nước\"):       \n",
    "    data, data_thong_tin = Xu_lu_du_lieu_01(Lists, Sort, Loc)\n",
    "    \n",
    "    wLabel_ten_top_5_sp.value=f'Hình ảnh top 5 sản phẩm có {Lists.lower()} {Sort.lower()}'\n",
    "    \n",
    "    output_top_5.clear_output()\n",
    "    with output_top_5:            \n",
    "        fig = px.bar(data, x=['1','2','3','4','5'], y=Lists, \n",
    "                     width=335, height=260,\n",
    "                     #color=\"Tỉnh\",\n",
    "                     #text = \"Tỉnh\"\n",
    "                     color_discrete_sequence=colors[3:4],\n",
    "                     labels={'x':'Top'},\n",
    "                     #hover_name = \"Tên\"\n",
    "                    )\n",
    "        fig.update_layout(title=f\"<b>Top 5 sản phẩm có {Lists.lower()} {Sort.lower()}</b>\",\n",
    "                          title_font_color='#FF5500',\n",
    "                          title_font_size=14,\n",
    "                          title_font_family=\"Arial\",\n",
    "                          xaxis_title=\"Top\",\n",
    "                          yaxis_title= Lists,\n",
    "                          margin={\"r\":0,\"t\":25,\"l\":0,\"b\":0})\n",
    "        fig.show()  \n",
    "    def ve_sp(op = output_top_5, op_ten=output_ten_top_5_0, op_data=output_data_top_5_0, Top = 1):\n",
    "        op.clear_output()\n",
    "        with op:             \n",
    "            fig = plt.figure(figsize=(6, 10))\n",
    "            ax1 = fig.add_subplot(1,1,1)        \n",
    "            urllib.request.urlretrieve(data['product_image_link'][Top],f\"hinh{Top}.png\")  \n",
    "            img = Image.open(f\"hinh{Top}.png\")\n",
    "            name = data['Tên'][Top].title()\n",
    "            ax1.xaxis.set_visible(False)\n",
    "            ax1.yaxis.set_visible(False)\n",
    "            ax1.spines['top'].set_visible(False)\n",
    "            ax1.spines['bottom'].set_visible(False)\n",
    "            ax1.spines['right'].set_visible(False)\n",
    "            ax1.spines['left'].set_visible(False)\n",
    "            ax1.imshow(img)\n",
    "            plt.tight_layout()\n",
    "            plt.show()\n",
    "        op_ten.clear_output()\n",
    "        with op_ten: \n",
    "            htmlWidget_ten = widgets.HTML(value = f\"<b>Top {Top+1}</b>: {name}\")\n",
    "            htmlWidget_ten.add_class('ten_Top')\n",
    "            display(htmlWidget_ten)\n",
    "        \n",
    "        op_data.clear_output()\n",
    "        with op_data: \n",
    "            htmlWidget_data = widgets.HTML(value = f'''\n",
    "            Giá gốc: {data_thong_tin['Giá gốc'][Top]:0,} VNĐ<br>\n",
    "            Khuyến mãi: {(data_thong_tin['Khuyến mãi %'][Top]*100):.0f} %<br>\n",
    "            Giá khuyến mãi: {data_thong_tin['Giá khuyến mãi'][Top]:0,.0f} VNĐ''')\n",
    "            htmlWidget_data.add_class('ten_Data')\n",
    "            display(htmlWidget_data)\n",
    "        \n",
    "    ve_sp(output_top_5_0,output_ten_top_5_0,output_data_top_5_0,0)\n",
    "    ve_sp(output_top_5_1,output_ten_top_5_1,output_data_top_5_1,1)\n",
    "    ve_sp(output_top_5_2,output_ten_top_5_2,output_data_top_5_2,2)\n",
    "    ve_sp(output_top_5_3,output_ten_top_5_3,output_data_top_5_3,3)\n",
    "    ve_sp(output_top_5_4,output_ten_top_5_4,output_data_top_5_4,4)"
   ]
  },
  {
   "cell_type": "code",
   "execution_count": 21,
   "id": "f4359ce7",
   "metadata": {
    "scrolled": true
   },
   "outputs": [],
   "source": [
    "#wInKetQua_top_5 = widgets.interactive(Top_Hinh_anh_5, Lists=W_muc_tieu, Sort = W_sort, Loc=W_khu_vuc)"
   ]
  },
  {
   "cell_type": "markdown",
   "id": "6025327e",
   "metadata": {},
   "source": [
    "### Top 5 shop"
   ]
  },
  {
   "cell_type": "code",
   "execution_count": 22,
   "id": "44c9ff8a",
   "metadata": {},
   "outputs": [],
   "source": [
    "def Top_shop_5(Lists='Doanh số', Sort = 'Cao nhất', Loc=\"Cả nước\"):\n",
    "    output_top_shop_5.clear_output()\n",
    "    with output_top_shop_5:\n",
    "        if Loc ==  \"Cả nước\":\n",
    "            data = data_top_5_3.copy()\n",
    "        else : \n",
    "            data = data_top_5_3[data_top_5_3['Khu Vực'] == Loc]\n",
    "        if Sort == 'Cao nhất':\n",
    "            data_shop = data[['shop_id',Lists]].groupby('shop_id').sum().nlargest(5, columns = Lists)\n",
    "        else:\n",
    "            data_shop = data[['shop_id',Lists]].groupby('shop_id').sum().nsmallest(5, columns = Lists)   \n",
    "\n",
    "        data_shop_1 = data_shop.reset_index() \n",
    "        data_shop_2 = data_ID[[\"shop_id\",\"Tỉnh\"]].drop_duplicates()    \n",
    "        data_shop_3 = pd.merge(data_shop_1, data_shop_2, how = 'left',on = \"shop_id\") \n",
    "        data_shop_4 = data_shop_3.astype({'shop_id':str})\n",
    "\n",
    "        fig = px.bar(data_shop_4, x='shop_id', y=Lists, color=\"Tỉnh\",width=380, height=280,\n",
    "                    #text = \"Tỉnh\"\n",
    "                    color_discrete_sequence=colors[::3],\n",
    "                    )\n",
    "        #fig.update_traces(textfont_size=12, textangle=0, textposition=\"outside\", cliponaxis=False)\n",
    "        \n",
    "        fig.update_layout(title=f\"<b>Top 5 shop có {Lists.lower()} {Sort.lower()}</b>\",\n",
    "                          title_font_color='#FF5500',\n",
    "                          title_font_size=14,\n",
    "                          title_font_family=\"Arial\",\n",
    "                          xaxis_title=\"Shop ID\",\n",
    "                          yaxis_title= Lists,\n",
    "                          #xaxis_tickangle=-45,\n",
    "#                           legend=dict(\n",
    "#                           x=0,\n",
    "#                           y=1.0,\n",
    "#                           bgcolor='rgba(255, 255, 255, 0)',\n",
    "#                           bordercolor='rgba(255, 255, 255, 0)'),\n",
    "                          margin={\"r\":0,\"t\":25,\"l\":0,\"b\":0}\n",
    "                         )\n",
    "        fig.update(layout_showlegend=False)\n",
    "        fig.show()  "
   ]
  },
  {
   "cell_type": "code",
   "execution_count": 23,
   "id": "f89f58c3",
   "metadata": {},
   "outputs": [],
   "source": [
    "output_top_shop_5 = widgets.Output(layout=dict(#border='1px solid black',\n",
    "                                    width='390px', height='300px', \n",
    "                                        justify_content='flex-start', \n",
    "                                        align_items='flex-start',\n",
    "                                        justify_self='flex-start',\n",
    "                                        align_content = 'flex-start',\n",
    "                                              ))"
   ]
  },
  {
   "cell_type": "code",
   "execution_count": 24,
   "id": "4f330bfe",
   "metadata": {},
   "outputs": [],
   "source": [
    "#wInKetQua_top_shop_5 = widgets.interactive(Top_shop_5, Lists=W_muc_tieu, Sort = W_sort, Loc=W_khu_vuc)"
   ]
  },
  {
   "cell_type": "markdown",
   "id": "f420df2a",
   "metadata": {},
   "source": [
    "### Top 5 thương hiệu"
   ]
  },
  {
   "cell_type": "code",
   "execution_count": 25,
   "id": "4769ae4b",
   "metadata": {},
   "outputs": [],
   "source": [
    "def Top_brand_5(Lists='Doanh số', Sort = 'Cao nhất', Loc=\"Cả nước\"):\n",
    "    \n",
    "    output_top_brand_5.clear_output()\n",
    "    with output_top_brand_5:\n",
    "        if Loc ==  \"Cả nước\":\n",
    "            data = data_top_5_3.copy()\n",
    "        else : \n",
    "            data = data_top_5_3[data_top_5_3['Khu Vực'] == Loc]\n",
    "        if Sort == 'Cao nhất':\n",
    "            data_brand = data[['brand',Lists]].groupby('brand').sum().nlargest(5, columns = Lists)\n",
    "        else:\n",
    "            data_brand = data[['brand',Lists]].groupby('brand').sum().nsmallest(5, columns = Lists)   \n",
    "\n",
    "        data_brand_1 = data_brand.reset_index()\n",
    "\n",
    "        fig = go.Figure(data=[go.Pie(labels=data_brand_1['brand'], values=data_brand_1[Lists], \n",
    "                                     hole=.3,\n",
    "                                     textinfo='label+percent',\n",
    "                                     insidetextorientation='radial',\n",
    "                                     #hovertemplate = \"%{label}: <br>Giá trị: %{value} <br>%{percent}\"\n",
    "                                    )])\n",
    "        \n",
    "        fig.update_layout(title=f\"<b>Top 5 thương hiệu có {Lists.lower()} {Sort.lower()}</b>\",\n",
    "                          title_font_color='#FF5500',\n",
    "                          title_font_size=14,\n",
    "                          title_font_family=\"Arial\",\n",
    "                          width=330, height=250,\n",
    "                          margin={\"r\":0,\"t\":25,\"l\":0,\"b\":0}\n",
    "                         )\n",
    "        fig.update_traces(hoverinfo='label+percent+value', #textfont_size=20,                          \n",
    "                          marker=dict(colors=colors[::2]))\n",
    "        \n",
    "        fig.update(layout_showlegend=False)\n",
    "        fig.show()  "
   ]
  },
  {
   "cell_type": "code",
   "execution_count": 26,
   "id": "37f8ad7b",
   "metadata": {},
   "outputs": [],
   "source": [
    "output_top_brand_5 = widgets.Output(layout=dict(#border='1px solid black',\n",
    "                                    width='350px', height='280px', \n",
    "                                        justify_content='flex-start', \n",
    "                                        align_items='flex-start',\n",
    "                                        justify_self='flex-start',\n",
    "                                        align_content = 'flex-start',\n",
    "                                               ))\n"
   ]
  },
  {
   "cell_type": "code",
   "execution_count": 27,
   "id": "2c604022",
   "metadata": {},
   "outputs": [],
   "source": [
    "#wInKetQua_top_brand = widgets.interactive(Top_brand_5, Lists=W_muc_tieu, Sort = W_sort, Loc=W_khu_vuc)"
   ]
  },
  {
   "cell_type": "markdown",
   "id": "12be19e4",
   "metadata": {},
   "source": [
    "### WC"
   ]
  },
  {
   "cell_type": "code",
   "execution_count": 28,
   "id": "28575c4b",
   "metadata": {
    "scrolled": false
   },
   "outputs": [],
   "source": [
    "data_cmt = data_RATING.copy()\n",
    "data_cmt.dropna(inplace=True, axis=0, how=\"any\")\n",
    "data_cmt_1 = data_cmt.reset_index()"
   ]
  },
  {
   "cell_type": "code",
   "execution_count": 29,
   "id": "05aad7c2",
   "metadata": {},
   "outputs": [
    {
     "data": {
      "application/vnd.jupyter.widget-view+json": {
       "model_id": "f14814084bf14818a2ef1508df39ab74",
       "version_major": 2,
       "version_minor": 0
      },
      "text/plain": [
       "Label(value='Wordcloud về bình luận', layout=Layout(align_items='center', display='flex', height='30px', justi…"
      ]
     },
     "metadata": {},
     "output_type": "display_data"
    }
   ],
   "source": [
    "ten_WC = Layout(justify_content='center', \n",
    "               align_items='center',\n",
    "               display='flex',\n",
    "               padding= '5px',\n",
    "               margin= '0px',\n",
    "               height='30px',\n",
    "               width='290px')\n",
    "wLabel_WC = widgets.Label(value='Wordcloud về bình luận', layout=ten_WC)\n",
    "wLabel_WC.add_class('ten_WC')"
   ]
  },
  {
   "cell_type": "code",
   "execution_count": 30,
   "id": "4f13d6cf",
   "metadata": {},
   "outputs": [],
   "source": [
    "def Ve_WC(Sort = 'Cao nhất'):    \n",
    "    if Sort == 'Cao nhất':\n",
    "        wLabel_WC.value = 'Wordcloud bình luận đánh giá 4,5 sao'\n",
    "    else:\n",
    "        wLabel_WC.value = 'Wordcloud bình luận đánh giá 1,2,3 sao'\n",
    "        \n",
    "    output_top_WC.clear_output()\n",
    "    with output_top_WC: \n",
    "        if Sort == 'Cao nhất':\n",
    "            text_cmt = \" \".join(review for review in data_cmt_1[data_cmt_1[\"Rank\"]==Sort]['VAN'])\n",
    "            mask_img = np.array(Image.open(\"like1.jpg\"))\n",
    "        else:\n",
    "            text_cmt = \" \".join(review for review in data_cmt_1[data_cmt_1[\"Rank\"]==Sort]['VAN'])\n",
    "            mask_img = np.array(Image.open(\"dislike1.jpg\"))\n",
    "\n",
    "        stopwords_1 = set(STOPWORDS)\n",
    "        stopwords_1.update([\"shop\", \"máy\",\"hàng\",\"nan\",'mua','giao',\"ko\",'có',\"dùng\",\"nha\",\"đc\",\"còn\",\"sau\",\"ạ\",'là',\"bị\",\"hẹn\",\"lưng\",\"màn\",\"em\",\n",
    "                   \"sản_phẩm\", \"chất_lượng\",\"điện_thoại\",\"ngày\",\"nhiều\",\"thứ\",\"biết\",'chạy','bán','thêm','qua','nói',\"về\",'gần','độ',\n",
    "                   'khi','đặt', 'tầm','sáng','lần','mạng','hơn','bên','hơi','đt','phải',\"xem\",'gọi',\"Sản_phẩm\",'khác','sp','chụp','sài',\n",
    "                   \"người\",'lên',\"nghe\",'mang',\"thấy\",\"hết\",\"quảng_cáo\",\"nhận\",'làm',\"xu\",\"nhìn\",\"nguyên\",'gửi',\"thời_gian\",\"tặng\",''\n",
    "                   \"sao\",\"chơi\",'ảnh',\"hãng\",'tay','mô_tả','đánh_giá','Tính_năng',\"hình\",\"chúc\", 'cầm',\"hiện_tại\",'xài','tiếp',\"kèm\"\n",
    "                    'đồng_tiền','dán','dc','sử_dụng','nhé','may','bạn','hộp',\"bảo\",'ra','đi','mong','cục','mặt','nhắn','lúc','chủ',\"hôm\",\n",
    "                    'vào','thôi','hỏi','khách','tin',\"nt\",'tính_chất','đồng_tiền',\"ngoài\",'trong','xong','giống','điểm','mn','kêu',\n",
    "                    'cho','ít','web',\"đen\",'xanh','vàng','anh_em','người_thân','cơ_bản','tiếng','điện','thay','kiểu','dt','con','muốn',\n",
    "                    'cái','đâu','vô','báo','trước','được','đầu','thèm','cắm','số','mở','nên','chỗ','trắng','số','sóng','lắp','đầy',\"v\",\n",
    "                    'j','chỗ','bắt','kèm','bấm','lấy','giờ','chắc','cần','hồng','tuần','coi','chân','góc','chịu','nắp','mau','ăn','ae'\n",
    "                   ])\n",
    "        wordcloud = WordCloud(background_color=\"#FFFFFF\", max_words=100, \n",
    "                              mask=mask_img,\n",
    "                              width=3000,\n",
    "                              height=2000,\n",
    "                              random_state=1,\n",
    "                              colormap=cmap1,\n",
    "                              collocations=False,\n",
    "                              stopwords=stopwords_1\n",
    "                              ).generate(text_cmt)\n",
    "        plt.figure(figsize=(10,10))\n",
    "        plt.tight_layout(pad=0)\n",
    "        plt.imshow(wordcloud, interpolation='bilinear')\n",
    "        plt.axis(\"off\")\n",
    "        plt.show()"
   ]
  },
  {
   "cell_type": "code",
   "execution_count": 31,
   "id": "af9e58b0",
   "metadata": {},
   "outputs": [],
   "source": [
    "output_top_WC = widgets.Output(layout=dict(#border='1px solid black',\n",
    "                                    width='290px', height='270px'))"
   ]
  },
  {
   "cell_type": "code",
   "execution_count": 32,
   "id": "9313f1c3",
   "metadata": {},
   "outputs": [],
   "source": [
    "#wInKetQua_top_WC = widgets.interactive(Ve_WC, Sort = W_sort)"
   ]
  },
  {
   "cell_type": "code",
   "execution_count": 33,
   "id": "b477054c",
   "metadata": {},
   "outputs": [],
   "source": [
    "box_test_WC = widgets.VBox([wLabel_WC, output_top_WC])"
   ]
  },
  {
   "cell_type": "code",
   "execution_count": 34,
   "id": "7854a9d9",
   "metadata": {},
   "outputs": [
    {
     "data": {
      "application/vnd.jupyter.widget-view+json": {
       "model_id": "8758ef38719e4941991aff06aa22e6f5",
       "version_major": 2,
       "version_minor": 0
      },
      "text/plain": [
       "Label(value='Hình ảnh top 5 sản phẩm', layout=Layout(align_items='center', display='flex', height='30px', just…"
      ]
     },
     "metadata": {},
     "output_type": "display_data"
    }
   ],
   "source": [
    "ten_top_5_sp = Layout(\n",
    "               justify_content='center', \n",
    "               align_items='center',\n",
    "               display='flex',\n",
    "               padding= '5px',\n",
    "               margin= '0px',\n",
    "               height='30px',\n",
    "               width='100%')\n",
    "wLabel_ten_top_5_sp = widgets.Label(value='Hình ảnh top 5 sản phẩm', layout=ten_top_5_sp)\n",
    "wLabel_ten_top_5_sp.add_class('ten_WC')"
   ]
  },
  {
   "cell_type": "markdown",
   "id": "268f0020",
   "metadata": {},
   "source": [
    "\n",
    "# Dash Board"
   ]
  },
  {
   "cell_type": "code",
   "execution_count": 35,
   "id": "054066f7",
   "metadata": {},
   "outputs": [],
   "source": [
    "wInKetQua_map = widgets.interactive(Ve_map, Lists=W_muc_tieu, Loai_bieu_do = W_heat_map, Loc= W_khu_vuc)\n",
    "wInKetQua_top_5 = widgets.interactive(Top_Hinh_anh_5, Lists=W_muc_tieu, Sort = W_sort, Loc=W_khu_vuc)\n",
    "wInKetQua_top_shop_5 = widgets.interactive(Top_shop_5, Lists=W_muc_tieu, Sort = W_sort, Loc=W_khu_vuc)\n",
    "wInKetQua_top_brand = widgets.interactive(Top_brand_5, Lists=W_muc_tieu, Sort = W_sort, Loc=W_khu_vuc)\n",
    "wInKetQua_top_WC = widgets.interactive(Ve_WC, Sort = W_sort)"
   ]
  },
  {
   "cell_type": "code",
   "execution_count": 36,
   "id": "9419997a",
   "metadata": {
    "scrolled": false
   },
   "outputs": [
    {
     "data": {
      "application/vnd.jupyter.widget-view+json": {
       "model_id": "e8a9f2dac25143f59cd2c59fb426b38a",
       "version_major": 2,
       "version_minor": 0
      },
      "text/plain": [
       "VBox(children=(VBox(children=(VBox(children=(HBox(children=(Label(value='Thành phố', layout=Layout(align_items…"
      ]
     },
     "metadata": {},
     "output_type": "display_data"
    }
   ],
   "source": [
    "box1 = HBox([output_top_5, output_top_brand_5])\n",
    "box2 = HBox([output_top_shop_5, box_test_WC])\n",
    "box3 = HBox([output_map,VBox([box2, box1])])\n",
    "box4 = VBox([box_ten_bang_thanh_chon, box3])\n",
    "box5 = VBox([wLabel_ten_top_5_sp,box_top_5])\n",
    "box6 = VBox([box4,box5])\n",
    "\n",
    "box3.add_class('box_chung')\n",
    "ten_bang_box.add_class('box_style')\n",
    "output_map.add_class('box_map')\n",
    "box_thanh_chon.add_class('box_bang_chon')\n",
    "output_top_5.add_class('box_sp')\n",
    "output_top_shop_5.add_class('box_shop')\n",
    "output_top_brand_5.add_class('box_brand')\n",
    "box_test_WC.add_class('box_WC')\n",
    "box5.add_class('box_top')\n",
    "display(box6)"
   ]
  },
  {
   "cell_type": "code",
   "execution_count": 37,
   "id": "09953acc",
   "metadata": {},
   "outputs": [
    {
     "data": {
      "text/html": [
       "<style>\n",
       ".ten_WC{\n",
       "    color:#FF5500;\n",
       "    font-size:14px;\n",
       "    font-weight: bold;\n",
       "}\n",
       ".test_label{\n",
       "    color:White;\n",
       "    font-size:150%;\n",
       "}\n",
       ".box_style{\n",
       "    width:100%;\n",
       "    border : 5px solid #FF5500;\n",
       "    height: auto;\n",
       "    background-color:#FF6600;  \n",
       "    text-align:center;\n",
       "    border-radius: 50px 20px;    \n",
       "}\n",
       ".box_bang_chon{\n",
       "    width:100%;\n",
       "    border : 2px solid #FFBF00;\n",
       "    height: auto;\n",
       "    background-color:white;  \n",
       "    text-align:center;\n",
       "    border-radius: 20px;\n",
       "}\n",
       ".box_map{\n",
       "    width:100%;\n",
       "    border : 1px solid #FFBF00;\n",
       "    height: auto; \n",
       "    text-align:center;\n",
       "    #border-radius: 15px;\n",
       "}\n",
       ".box_shop{\n",
       "    width:100%;\n",
       "    #border : 1px solid #FFBF00;\n",
       "    #border-radius: 20px 20px 0px 20px;     \n",
       "}\n",
       ".box_WC{\n",
       "    width: 300px;\n",
       "    #border : 1px solid #FFBF00;\n",
       "    #border-radius: 20px;     \n",
       "}\n",
       ".box_sp{\n",
       "    width:100%;\n",
       "    #border : 1px solid #FFBF00;\n",
       "    #border-radius: 20px;     \n",
       "}\n",
       ".box_brand{\n",
       "    width:100%;\n",
       "    #border : 1px solid #FFBF00;\n",
       "    #border-radius: 20px;     \n",
       "}\n",
       ".box_top{\n",
       "    width:100%;\n",
       "    border : 2px solid #FFBF00;\n",
       "    border-radius: 20px;     \n",
       "}\n",
       ".box_chung{\n",
       "    width:100%;\n",
       "    border : 2px solid #FFBF00;\n",
       "    border-radius: 20px;     \n",
       "}\n",
       ".ten_Top{\n",
       "    color:#FF7300;\n",
       "    font-size:13px;\n",
       "    font-weight: bold;\n",
       "    word-wrap: normal;\n",
       "    text-align: center;\n",
       "    word-spacing: -2px;\n",
       "    justify_content:center ;\n",
       "    align_items:center;\n",
       "    justify_self:center;\n",
       "    align_content:center;\n",
       "}\n",
       ".ten_Data{\n",
       "    color:#FF5500;\n",
       "    font-size:12px;\n",
       "    #font-weight: bold;\n",
       "    word-wrap: normal;\n",
       "    text-align: center;\n",
       "}\n",
       "</style>\n"
      ],
      "text/plain": [
       "<IPython.core.display.HTML object>"
      ]
     },
     "metadata": {},
     "output_type": "display_data"
    }
   ],
   "source": [
    "%%html\n",
    "<style>\n",
    ".ten_WC{\n",
    "    color:#FF5500;\n",
    "    font-size:14px;\n",
    "    font-weight: bold;\n",
    "}\n",
    ".test_label{\n",
    "    color:White;\n",
    "    font-size:150%;\n",
    "}\n",
    ".box_style{\n",
    "    width:100%;\n",
    "    border : 5px solid #FF5500;\n",
    "    height: auto;\n",
    "    background-color:#FF6600;  \n",
    "    text-align:center;\n",
    "    border-radius: 50px 20px;    \n",
    "}\n",
    ".box_bang_chon{\n",
    "    width:100%;\n",
    "    border : 2px solid #FFBF00;\n",
    "    height: auto;\n",
    "    background-color:white;  \n",
    "    text-align:center;\n",
    "    border-radius: 20px;\n",
    "}\n",
    ".box_map{\n",
    "    width:100%;\n",
    "    border : 1px solid #FFBF00;\n",
    "    height: auto; \n",
    "    text-align:center;\n",
    "    #border-radius: 15px;\n",
    "}\n",
    ".box_shop{\n",
    "    width:100%;\n",
    "    #border : 1px solid #FFBF00;\n",
    "    #border-radius: 20px 20px 0px 20px;     \n",
    "}\n",
    ".box_WC{\n",
    "    width: 300px;\n",
    "    #border : 1px solid #FFBF00;\n",
    "    #border-radius: 20px;     \n",
    "}\n",
    ".box_sp{\n",
    "    width:100%;\n",
    "    #border : 1px solid #FFBF00;\n",
    "    #border-radius: 20px;     \n",
    "}\n",
    ".box_brand{\n",
    "    width:100%;\n",
    "    #border : 1px solid #FFBF00;\n",
    "    #border-radius: 20px;     \n",
    "}\n",
    ".box_top{\n",
    "    width:100%;\n",
    "    border : 2px solid #FFBF00;\n",
    "    border-radius: 20px;     \n",
    "}\n",
    ".box_chung{\n",
    "    width:100%;\n",
    "    border : 2px solid #FFBF00;\n",
    "    border-radius: 20px;     \n",
    "}\n",
    ".ten_Top{\n",
    "    color:#FF7300;\n",
    "    font-size:13px;\n",
    "    font-weight: bold;\n",
    "    word-wrap: normal;\n",
    "    text-align: center;\n",
    "    word-spacing: -2px;\n",
    "    justify_content:center ;\n",
    "    align_items:center;\n",
    "    justify_self:center;\n",
    "    align_content:center;\n",
    "}\n",
    ".ten_Data{\n",
    "    color:#FF5500;\n",
    "    font-size:12px;\n",
    "    #font-weight: bold;\n",
    "    word-wrap: normal;\n",
    "    text-align: center;\n",
    "}\n",
    "</style>"
   ]
  },
  {
   "cell_type": "code",
   "execution_count": null,
   "id": "f49e7093",
   "metadata": {},
   "outputs": [],
   "source": []
  },
  {
   "cell_type": "code",
   "execution_count": null,
   "id": "575e9cca",
   "metadata": {},
   "outputs": [],
   "source": []
  }
 ],
 "metadata": {
  "kernelspec": {
   "display_name": "Python 3 (ipykernel)",
   "language": "python",
   "name": "python3"
  },
  "language_info": {
   "codemirror_mode": {
    "name": "ipython",
    "version": 3
   },
   "file_extension": ".py",
   "mimetype": "text/x-python",
   "name": "python",
   "nbconvert_exporter": "python",
   "pygments_lexer": "ipython3",
   "version": "3.9.12"
  }
 },
 "nbformat": 4,
 "nbformat_minor": 5
}

{
 "cells": [
  {
   "cell_type": "code",
   "execution_count": 1,
   "id": "454c131a",
   "metadata": {},
   "outputs": [],
   "source": [
    "import pandas as pd\n",
    "import numpy as np\n",
    "from matplotlib import pyplot as plt\n",
    "np.set_printoptions(precision=3, suppress=True)\n",
    "from wordcloud import WordCloud, STOPWORDS\n",
    "import urllib.request\n",
    "from PIL import Image\n",
    "import re \n",
    "import emoji\n",
    "\n",
    "from pyvi import ViTokenizer, ViPosTagger\n",
    "from pyvi import ViUtils"
   ]
  },
  {
   "cell_type": "code",
   "execution_count": 2,
   "id": "bd49736c",
   "metadata": {},
   "outputs": [],
   "source": [
    "# Tên các sheet trong file data.xlsx\n",
    "name_sheet = [\"ID\",\"DATA\",\"RATING\"]"
   ]
  },
  {
   "cell_type": "markdown",
   "id": "01199cbe",
   "metadata": {},
   "source": [
    "## Làm sạch dữ liệu cơ bản"
   ]
  },
  {
   "cell_type": "markdown",
   "id": "197b2a7a",
   "metadata": {},
   "source": [
    "### Sheet ID"
   ]
  },
  {
   "cell_type": "code",
   "execution_count": 3,
   "id": "790494e6",
   "metadata": {
    "scrolled": true
   },
   "outputs": [
    {
     "data": {
      "text/html": [
       "<div>\n",
       "<style scoped>\n",
       "    .dataframe tbody tr th:only-of-type {\n",
       "        vertical-align: middle;\n",
       "    }\n",
       "\n",
       "    .dataframe tbody tr th {\n",
       "        vertical-align: top;\n",
       "    }\n",
       "\n",
       "    .dataframe thead th {\n",
       "        text-align: right;\n",
       "    }\n",
       "</style>\n",
       "<table border=\"1\" class=\"dataframe\">\n",
       "  <thead>\n",
       "    <tr style=\"text-align: right;\">\n",
       "      <th></th>\n",
       "      <th>item_id</th>\n",
       "      <th>shop_id</th>\n",
       "      <th>shop_location</th>\n",
       "      <th>name</th>\n",
       "    </tr>\n",
       "  </thead>\n",
       "  <tbody>\n",
       "    <tr>\n",
       "      <th>0</th>\n",
       "      <td>6685849255</td>\n",
       "      <td>65589552</td>\n",
       "      <td>TP. Hồ Chí Minh</td>\n",
       "      <td>[Mã ELBAU1TR giảm 5% ] Điện Thoại Samsung Gala...</td>\n",
       "    </tr>\n",
       "    <tr>\n",
       "      <th>1</th>\n",
       "      <td>1236186398</td>\n",
       "      <td>1657913</td>\n",
       "      <td>Hà Nội</td>\n",
       "      <td>Điện Thoại Nokia 101,Nokia 100, Nokia 105 Zin ...</td>\n",
       "    </tr>\n",
       "    <tr>\n",
       "      <th>2</th>\n",
       "      <td>9764742653</td>\n",
       "      <td>453347243</td>\n",
       "      <td>TP. Hồ Chí Minh</td>\n",
       "      <td>Điện thoại TECNO POVA2 (4GB+64GB) - Hàng chính...</td>\n",
       "    </tr>\n",
       "    <tr>\n",
       "      <th>3</th>\n",
       "      <td>6602136609</td>\n",
       "      <td>70094786</td>\n",
       "      <td>TP. Hồ Chí Minh</td>\n",
       "      <td>Điện Thoại Siêu Dễ Thương Mini BM10 Thay Đổi G...</td>\n",
       "    </tr>\n",
       "    <tr>\n",
       "      <th>4</th>\n",
       "      <td>7297413303</td>\n",
       "      <td>65589552</td>\n",
       "      <td>TP. Hồ Chí Minh</td>\n",
       "      <td>[Mã ELBAU1TR giảm 5% ] Điện thoại Samsung Gala...</td>\n",
       "    </tr>\n",
       "    <tr>\n",
       "      <th>5</th>\n",
       "      <td>1605445818</td>\n",
       "      <td>1657913</td>\n",
       "      <td>Hà Nội</td>\n",
       "      <td>Điện Thoại Nokia 101, Nokia 105 - Máy 2 Sim 2 ...</td>\n",
       "    </tr>\n",
       "    <tr>\n",
       "      <th>6</th>\n",
       "      <td>3400182282</td>\n",
       "      <td>88201679</td>\n",
       "      <td>TP. Hồ Chí Minh</td>\n",
       "      <td>[Nhập ELAP500K giảm 8% đơn 500K] Apple iPhone ...</td>\n",
       "    </tr>\n",
       "    <tr>\n",
       "      <th>7</th>\n",
       "      <td>938839622</td>\n",
       "      <td>1657913</td>\n",
       "      <td>Hà Nội</td>\n",
       "      <td>Điện Thoại Nokia 1280 Zin Chính Hãng Màn Hình ...</td>\n",
       "    </tr>\n",
       "    <tr>\n",
       "      <th>8</th>\n",
       "      <td>4451525706</td>\n",
       "      <td>178181467</td>\n",
       "      <td>Nam Định</td>\n",
       "      <td>máy cũ giá rẻ oppo neo5 ram 1gb</td>\n",
       "    </tr>\n",
       "    <tr>\n",
       "      <th>9</th>\n",
       "      <td>8958237106</td>\n",
       "      <td>116554044</td>\n",
       "      <td>Hưng Yên</td>\n",
       "      <td>Nokia 6300 ★Chính hãng 100%★ Điện Thoại Phổ Th...</td>\n",
       "    </tr>\n",
       "  </tbody>\n",
       "</table>\n",
       "</div>"
      ],
      "text/plain": [
       "      item_id    shop_id    shop_location  \\\n",
       "0  6685849255   65589552  TP. Hồ Chí Minh   \n",
       "1  1236186398    1657913           Hà Nội   \n",
       "2  9764742653  453347243  TP. Hồ Chí Minh   \n",
       "3  6602136609   70094786  TP. Hồ Chí Minh   \n",
       "4  7297413303   65589552  TP. Hồ Chí Minh   \n",
       "5  1605445818    1657913           Hà Nội   \n",
       "6  3400182282   88201679  TP. Hồ Chí Minh   \n",
       "7   938839622    1657913           Hà Nội   \n",
       "8  4451525706  178181467         Nam Định   \n",
       "9  8958237106  116554044         Hưng Yên   \n",
       "\n",
       "                                                name  \n",
       "0  [Mã ELBAU1TR giảm 5% ] Điện Thoại Samsung Gala...  \n",
       "1  Điện Thoại Nokia 101,Nokia 100, Nokia 105 Zin ...  \n",
       "2  Điện thoại TECNO POVA2 (4GB+64GB) - Hàng chính...  \n",
       "3  Điện Thoại Siêu Dễ Thương Mini BM10 Thay Đổi G...  \n",
       "4  [Mã ELBAU1TR giảm 5% ] Điện thoại Samsung Gala...  \n",
       "5  Điện Thoại Nokia 101, Nokia 105 - Máy 2 Sim 2 ...  \n",
       "6  [Nhập ELAP500K giảm 8% đơn 500K] Apple iPhone ...  \n",
       "7  Điện Thoại Nokia 1280 Zin Chính Hãng Màn Hình ...  \n",
       "8                    máy cũ giá rẻ oppo neo5 ram 1gb  \n",
       "9  Nokia 6300 ★Chính hãng 100%★ Điện Thoại Phổ Th...  "
      ]
     },
     "execution_count": 3,
     "metadata": {},
     "output_type": "execute_result"
    }
   ],
   "source": [
    "# Tải dữ liệu sheet ID\n",
    "data_ID = pd.read_excel('data.xlsx',sheet_name=name_sheet[0])\n",
    "data_ID.head(10)"
   ]
  },
  {
   "cell_type": "code",
   "execution_count": 4,
   "id": "e190288b",
   "metadata": {},
   "outputs": [
    {
     "name": "stdout",
     "output_type": "stream",
     "text": [
      "<class 'pandas.core.frame.DataFrame'>\n",
      "RangeIndex: 3060 entries, 0 to 3059\n",
      "Data columns (total 4 columns):\n",
      " #   Column         Non-Null Count  Dtype \n",
      "---  ------         --------------  ----- \n",
      " 0   item_id        3060 non-null   int64 \n",
      " 1   shop_id        3060 non-null   int64 \n",
      " 2   shop_location  3060 non-null   object\n",
      " 3   name           3060 non-null   object\n",
      "dtypes: int64(2), object(2)\n",
      "memory usage: 95.8+ KB\n"
     ]
    }
   ],
   "source": [
    "# Kiểm tra dữ liệu\n",
    "data_ID.info()"
   ]
  },
  {
   "cell_type": "code",
   "execution_count": 5,
   "id": "9ef8bc7f",
   "metadata": {},
   "outputs": [
    {
     "data": {
      "text/plain": [
       "item_id          3058\n",
       "shop_id           699\n",
       "shop_location      44\n",
       "name             2866\n",
       "dtype: int64"
      ]
     },
     "execution_count": 5,
     "metadata": {},
     "output_type": "execute_result"
    }
   ],
   "source": [
    "# Kiểm tra giá trị dữ liệu\n",
    "data_ID.nunique()"
   ]
  },
  {
   "cell_type": "code",
   "execution_count": 6,
   "id": "96db1d77",
   "metadata": {},
   "outputs": [],
   "source": [
    "# Cột item_id có 3060 hàng nhưng chỉ có 3058 giá trị => 2 hàng bị trùng\n",
    "# Drop duplicate\n",
    "data_ID = data_ID.drop_duplicates('item_id', keep='last')"
   ]
  },
  {
   "cell_type": "code",
   "execution_count": 7,
   "id": "5c78e6d5",
   "metadata": {},
   "outputs": [],
   "source": [
    "# Cột name có các giá trị không cần thiết [thông tin khuyến mãi],\n",
    "# giá trị \\n, các emoji, nhiều khoảng trống tạo hàm để loại bỏ\n",
    "def Khac_phuc(text):\n",
    "    #Loại bỏ các từ trong ngoặc [] {} \"\" 【】 **\n",
    "    text = re.sub(\"[\\[\\{\\\"\\【\\*].*?[\\*\\】\\\"\\}\\]]\", \"\", text)\n",
    "    # Thay _ bằng khoảng trắng\n",
    "    text = re.sub(\"_\", \" \", text)\n",
    "    # Thay ★ bằng khoảng trắng\n",
    "    text = text.replace(\"★\",\" \")\n",
    "    # Loại bỏ emoji\n",
    "    text = emoji.replace_emoji(text, replace=\" \")\n",
    "    # Thay \\n bằng khoảng trắng\n",
    "    text = text.replace(\"\\n\",\" \")\n",
    "    text = text.replace(\"[\",\" \")\n",
    "    # Thay nhiều khoảng trống bắng 1 khoảng trống\n",
    "    text.split()\n",
    "    text1 = \" \".join(text.split())\n",
    "    return text1"
   ]
  },
  {
   "cell_type": "code",
   "execution_count": 8,
   "id": "14c2e964",
   "metadata": {
    "scrolled": true
   },
   "outputs": [],
   "source": [
    "#apply Hàm Khac phuc\n",
    "data_ID['Tên'] = data_ID['name'].apply(Khac_phuc)"
   ]
  },
  {
   "cell_type": "code",
   "execution_count": 9,
   "id": "d4472fc1",
   "metadata": {},
   "outputs": [],
   "source": [
    "# Xóa cột name\n",
    "data_ID = data_ID.drop(labels='name', axis=1)"
   ]
  },
  {
   "cell_type": "code",
   "execution_count": 10,
   "id": "b102bf80",
   "metadata": {},
   "outputs": [],
   "source": [
    "# Đổi tên cột shop_location thành Tỉnh\n",
    "data_ID = data_ID.rename(columns = {\"shop_location\":\"Tỉnh\"})"
   ]
  },
  {
   "cell_type": "code",
   "execution_count": 11,
   "id": "55fdcb9a",
   "metadata": {},
   "outputs": [],
   "source": [
    "# Lưu lại\n",
    "with pd.ExcelWriter('saved_file.xlsx',mode=\"w\",) as writer:\n",
    "    data_ID.to_excel(writer, index = False, sheet_name = 'ID')"
   ]
  },
  {
   "cell_type": "markdown",
   "id": "e93cd2ae",
   "metadata": {},
   "source": [
    "### Sheet DATA"
   ]
  },
  {
   "cell_type": "code",
   "execution_count": 12,
   "id": "8a11852b",
   "metadata": {
    "scrolled": false
   },
   "outputs": [
    {
     "data": {
      "text/html": [
       "<div>\n",
       "<style scoped>\n",
       "    .dataframe tbody tr th:only-of-type {\n",
       "        vertical-align: middle;\n",
       "    }\n",
       "\n",
       "    .dataframe tbody tr th {\n",
       "        vertical-align: top;\n",
       "    }\n",
       "\n",
       "    .dataframe thead th {\n",
       "        text-align: right;\n",
       "    }\n",
       "</style>\n",
       "<table border=\"1\" class=\"dataframe\">\n",
       "  <thead>\n",
       "    <tr style=\"text-align: right;\">\n",
       "      <th></th>\n",
       "      <th>item_id</th>\n",
       "      <th>shop_id</th>\n",
       "      <th>brand</th>\n",
       "      <th>sold_quantity</th>\n",
       "      <th>stock</th>\n",
       "      <th>discount_price</th>\n",
       "      <th>original_price</th>\n",
       "      <th>discount</th>\n",
       "      <th>liked_count</th>\n",
       "      <th>rating_star</th>\n",
       "      <th>number_of_ratings</th>\n",
       "      <th>product_image_link</th>\n",
       "    </tr>\n",
       "  </thead>\n",
       "  <tbody>\n",
       "    <tr>\n",
       "      <th>0</th>\n",
       "      <td>6685849255</td>\n",
       "      <td>65589552</td>\n",
       "      <td>SAMSUNG</td>\n",
       "      <td>16347</td>\n",
       "      <td>2976</td>\n",
       "      <td>289000000000</td>\n",
       "      <td>349000000000</td>\n",
       "      <td>17%</td>\n",
       "      <td>4589</td>\n",
       "      <td>4.941775</td>\n",
       "      <td>2862</td>\n",
       "      <td>https://cf.shopee.vn/file/132b023a3114a559d723...</td>\n",
       "    </tr>\n",
       "    <tr>\n",
       "      <th>1</th>\n",
       "      <td>1236186398</td>\n",
       "      <td>1657913</td>\n",
       "      <td>nokia</td>\n",
       "      <td>20511</td>\n",
       "      <td>27855</td>\n",
       "      <td>9900000000</td>\n",
       "      <td>11000000000</td>\n",
       "      <td>10%</td>\n",
       "      <td>32530</td>\n",
       "      <td>4.647919</td>\n",
       "      <td>6298</td>\n",
       "      <td>https://cf.shopee.vn/file/3a7fe3513b59468fc5d3...</td>\n",
       "    </tr>\n",
       "    <tr>\n",
       "      <th>2</th>\n",
       "      <td>9764742653</td>\n",
       "      <td>453347243</td>\n",
       "      <td>TECNO</td>\n",
       "      <td>684</td>\n",
       "      <td>2256</td>\n",
       "      <td>289000000000</td>\n",
       "      <td>399000000000</td>\n",
       "      <td>28%</td>\n",
       "      <td>863</td>\n",
       "      <td>4.898734</td>\n",
       "      <td>316</td>\n",
       "      <td>https://cf.shopee.vn/file/a474488f5387c63543fe...</td>\n",
       "    </tr>\n",
       "    <tr>\n",
       "      <th>3</th>\n",
       "      <td>6602136609</td>\n",
       "      <td>70094786</td>\n",
       "      <td>NaN</td>\n",
       "      <td>13681</td>\n",
       "      <td>23</td>\n",
       "      <td>19500000000</td>\n",
       "      <td>24500000000</td>\n",
       "      <td>20%</td>\n",
       "      <td>1270</td>\n",
       "      <td>4.859685</td>\n",
       "      <td>3440</td>\n",
       "      <td>https://cf.shopee.vn/file/22ac0bf9b42272b91701...</td>\n",
       "    </tr>\n",
       "    <tr>\n",
       "      <th>4</th>\n",
       "      <td>7297413303</td>\n",
       "      <td>65589552</td>\n",
       "      <td>SAMSUNG</td>\n",
       "      <td>3270</td>\n",
       "      <td>229</td>\n",
       "      <td>439000000000</td>\n",
       "      <td>589000000000</td>\n",
       "      <td>25%</td>\n",
       "      <td>13413</td>\n",
       "      <td>4.921875</td>\n",
       "      <td>770</td>\n",
       "      <td>https://cf.shopee.vn/file/de40f4e661f2064711bf...</td>\n",
       "    </tr>\n",
       "    <tr>\n",
       "      <th>5</th>\n",
       "      <td>1605445818</td>\n",
       "      <td>1657913</td>\n",
       "      <td>NaN</td>\n",
       "      <td>6135</td>\n",
       "      <td>15414</td>\n",
       "      <td>13500000000</td>\n",
       "      <td>0</td>\n",
       "      <td>NaN</td>\n",
       "      <td>27367</td>\n",
       "      <td>4.594380</td>\n",
       "      <td>1638</td>\n",
       "      <td>https://cf.shopee.vn/file/834581faf97605e3839d...</td>\n",
       "    </tr>\n",
       "    <tr>\n",
       "      <th>6</th>\n",
       "      <td>3400182282</td>\n",
       "      <td>88201679</td>\n",
       "      <td>Apple</td>\n",
       "      <td>5342</td>\n",
       "      <td>503</td>\n",
       "      <td>1209000000000</td>\n",
       "      <td>2299000000000</td>\n",
       "      <td>47%</td>\n",
       "      <td>11637</td>\n",
       "      <td>4.907659</td>\n",
       "      <td>1399</td>\n",
       "      <td>https://cf.shopee.vn/file/e891e6f900bf8b1760a3...</td>\n",
       "    </tr>\n",
       "    <tr>\n",
       "      <th>7</th>\n",
       "      <td>938839622</td>\n",
       "      <td>1657913</td>\n",
       "      <td>nokia</td>\n",
       "      <td>10212</td>\n",
       "      <td>8290</td>\n",
       "      <td>15400000000</td>\n",
       "      <td>16500000000</td>\n",
       "      <td>7%</td>\n",
       "      <td>26581</td>\n",
       "      <td>4.666001</td>\n",
       "      <td>3004</td>\n",
       "      <td>https://cf.shopee.vn/file/331c288812971ce367ad...</td>\n",
       "    </tr>\n",
       "    <tr>\n",
       "      <th>8</th>\n",
       "      <td>4451525706</td>\n",
       "      <td>178181467</td>\n",
       "      <td>OPPO</td>\n",
       "      <td>1785</td>\n",
       "      <td>1430</td>\n",
       "      <td>45000000000</td>\n",
       "      <td>0</td>\n",
       "      <td>NaN</td>\n",
       "      <td>823</td>\n",
       "      <td>4.674682</td>\n",
       "      <td>707</td>\n",
       "      <td>https://cf.shopee.vn/file/09e9aa4af57127e01166...</td>\n",
       "    </tr>\n",
       "    <tr>\n",
       "      <th>9</th>\n",
       "      <td>8958237106</td>\n",
       "      <td>116554044</td>\n",
       "      <td>nokia</td>\n",
       "      <td>10573</td>\n",
       "      <td>29782</td>\n",
       "      <td>29900000000</td>\n",
       "      <td>0</td>\n",
       "      <td>NaN</td>\n",
       "      <td>221</td>\n",
       "      <td>4.698630</td>\n",
       "      <td>220</td>\n",
       "      <td>https://cf.shopee.vn/file/8bacefbbad71f03a9c8d...</td>\n",
       "    </tr>\n",
       "  </tbody>\n",
       "</table>\n",
       "</div>"
      ],
      "text/plain": [
       "      item_id    shop_id    brand  sold_quantity  stock  discount_price  \\\n",
       "0  6685849255   65589552  SAMSUNG          16347   2976    289000000000   \n",
       "1  1236186398    1657913    nokia          20511  27855      9900000000   \n",
       "2  9764742653  453347243    TECNO            684   2256    289000000000   \n",
       "3  6602136609   70094786      NaN          13681     23     19500000000   \n",
       "4  7297413303   65589552  SAMSUNG           3270    229    439000000000   \n",
       "5  1605445818    1657913      NaN           6135  15414     13500000000   \n",
       "6  3400182282   88201679    Apple           5342    503   1209000000000   \n",
       "7   938839622    1657913    nokia          10212   8290     15400000000   \n",
       "8  4451525706  178181467     OPPO           1785   1430     45000000000   \n",
       "9  8958237106  116554044    nokia          10573  29782     29900000000   \n",
       "\n",
       "   original_price discount  liked_count  rating_star  number_of_ratings  \\\n",
       "0    349000000000      17%         4589     4.941775               2862   \n",
       "1     11000000000      10%        32530     4.647919               6298   \n",
       "2    399000000000      28%          863     4.898734                316   \n",
       "3     24500000000      20%         1270     4.859685               3440   \n",
       "4    589000000000      25%        13413     4.921875                770   \n",
       "5               0      NaN        27367     4.594380               1638   \n",
       "6   2299000000000      47%        11637     4.907659               1399   \n",
       "7     16500000000       7%        26581     4.666001               3004   \n",
       "8               0      NaN          823     4.674682                707   \n",
       "9               0      NaN          221     4.698630                220   \n",
       "\n",
       "                                  product_image_link  \n",
       "0  https://cf.shopee.vn/file/132b023a3114a559d723...  \n",
       "1  https://cf.shopee.vn/file/3a7fe3513b59468fc5d3...  \n",
       "2  https://cf.shopee.vn/file/a474488f5387c63543fe...  \n",
       "3  https://cf.shopee.vn/file/22ac0bf9b42272b91701...  \n",
       "4  https://cf.shopee.vn/file/de40f4e661f2064711bf...  \n",
       "5  https://cf.shopee.vn/file/834581faf97605e3839d...  \n",
       "6  https://cf.shopee.vn/file/e891e6f900bf8b1760a3...  \n",
       "7  https://cf.shopee.vn/file/331c288812971ce367ad...  \n",
       "8  https://cf.shopee.vn/file/09e9aa4af57127e01166...  \n",
       "9  https://cf.shopee.vn/file/8bacefbbad71f03a9c8d...  "
      ]
     },
     "execution_count": 12,
     "metadata": {},
     "output_type": "execute_result"
    }
   ],
   "source": [
    "# Tải dữ liệu sheet DATA\n",
    "data_DATA = pd.read_excel('data.xlsx',sheet_name=name_sheet[1])\n",
    "data_DATA.head(10)"
   ]
  },
  {
   "cell_type": "code",
   "execution_count": 13,
   "id": "c370cc37",
   "metadata": {
    "scrolled": true
   },
   "outputs": [
    {
     "name": "stdout",
     "output_type": "stream",
     "text": [
      "<class 'pandas.core.frame.DataFrame'>\n",
      "RangeIndex: 3060 entries, 0 to 3059\n",
      "Data columns (total 12 columns):\n",
      " #   Column              Non-Null Count  Dtype  \n",
      "---  ------              --------------  -----  \n",
      " 0   item_id             3060 non-null   int64  \n",
      " 1   shop_id             3060 non-null   int64  \n",
      " 2   brand               2199 non-null   object \n",
      " 3   sold_quantity       3060 non-null   int64  \n",
      " 4   stock               3060 non-null   int64  \n",
      " 5   discount_price      3060 non-null   int64  \n",
      " 6   original_price      3060 non-null   int64  \n",
      " 7   discount            1329 non-null   object \n",
      " 8   liked_count         3060 non-null   int64  \n",
      " 9   rating_star         3060 non-null   float64\n",
      " 10  number_of_ratings   3060 non-null   int64  \n",
      " 11  product_image_link  3060 non-null   object \n",
      "dtypes: float64(1), int64(8), object(3)\n",
      "memory usage: 287.0+ KB\n"
     ]
    }
   ],
   "source": [
    "# Kiểm tra dữ liệu\n",
    "data_DATA.info()"
   ]
  },
  {
   "cell_type": "code",
   "execution_count": 14,
   "id": "cb584e9f",
   "metadata": {
    "scrolled": true
   },
   "outputs": [
    {
     "data": {
      "text/plain": [
       "item_id               3058\n",
       "shop_id                699\n",
       "brand                   57\n",
       "sold_quantity          914\n",
       "stock                 1608\n",
       "discount_price         970\n",
       "original_price         468\n",
       "discount                50\n",
       "liked_count            913\n",
       "rating_star            682\n",
       "number_of_ratings      270\n",
       "product_image_link    2989\n",
       "dtype: int64"
      ]
     },
     "execution_count": 14,
     "metadata": {},
     "output_type": "execute_result"
    }
   ],
   "source": [
    "# Kiểm tra giá trị dữ liệu\n",
    "data_DATA.nunique()"
   ]
  },
  {
   "cell_type": "code",
   "execution_count": 15,
   "id": "2dee1c3c",
   "metadata": {},
   "outputs": [],
   "source": [
    "# Cột item_id có 3060 hàng nhưng chỉ có 3058 giá trị => 2 hàng bị trùng\n",
    "# Drop duplicate\n",
    "data_DATA = data_DATA.drop_duplicates('item_id', keep='last')"
   ]
  },
  {
   "cell_type": "code",
   "execution_count": 16,
   "id": "13af560a",
   "metadata": {
    "scrolled": true
   },
   "outputs": [
    {
     "name": "stdout",
     "output_type": "stream",
     "text": [
      "<class 'pandas.core.frame.DataFrame'>\n",
      "Int64Index: 3058 entries, 0 to 3059\n",
      "Data columns (total 12 columns):\n",
      " #   Column              Non-Null Count  Dtype  \n",
      "---  ------              --------------  -----  \n",
      " 0   item_id             3058 non-null   int64  \n",
      " 1   shop_id             3058 non-null   int64  \n",
      " 2   brand               2198 non-null   object \n",
      " 3   sold_quantity       3058 non-null   int64  \n",
      " 4   stock               3058 non-null   int64  \n",
      " 5   discount_price      3058 non-null   int64  \n",
      " 6   original_price      3058 non-null   int64  \n",
      " 7   discount            1329 non-null   object \n",
      " 8   liked_count         3058 non-null   int64  \n",
      " 9   rating_star         3058 non-null   float64\n",
      " 10  number_of_ratings   3058 non-null   int64  \n",
      " 11  product_image_link  3058 non-null   object \n",
      "dtypes: float64(1), int64(8), object(3)\n",
      "memory usage: 310.6+ KB\n"
     ]
    }
   ],
   "source": [
    "# Kiểm tra dữ liệu\n",
    "data_DATA.info()"
   ]
  },
  {
   "cell_type": "code",
   "execution_count": 17,
   "id": "bb06fdd4",
   "metadata": {},
   "outputs": [
    {
     "data": {
      "text/html": [
       "<div>\n",
       "<style scoped>\n",
       "    .dataframe tbody tr th:only-of-type {\n",
       "        vertical-align: middle;\n",
       "    }\n",
       "\n",
       "    .dataframe tbody tr th {\n",
       "        vertical-align: top;\n",
       "    }\n",
       "\n",
       "    .dataframe thead th {\n",
       "        text-align: right;\n",
       "    }\n",
       "</style>\n",
       "<table border=\"1\" class=\"dataframe\">\n",
       "  <thead>\n",
       "    <tr style=\"text-align: right;\">\n",
       "      <th></th>\n",
       "      <th>item_id</th>\n",
       "      <th>shop_id</th>\n",
       "      <th>sold_quantity</th>\n",
       "      <th>stock</th>\n",
       "      <th>discount_price</th>\n",
       "      <th>original_price</th>\n",
       "      <th>liked_count</th>\n",
       "      <th>rating_star</th>\n",
       "      <th>number_of_ratings</th>\n",
       "    </tr>\n",
       "  </thead>\n",
       "  <tbody>\n",
       "    <tr>\n",
       "      <th>count</th>\n",
       "      <td>3.058000e+03</td>\n",
       "      <td>3.058000e+03</td>\n",
       "      <td>3058.000000</td>\n",
       "      <td>3.058000e+03</td>\n",
       "      <td>3.058000e+03</td>\n",
       "      <td>3.058000e+03</td>\n",
       "      <td>3058.000000</td>\n",
       "      <td>3058.000000</td>\n",
       "      <td>3058.000000</td>\n",
       "    </tr>\n",
       "    <tr>\n",
       "      <th>mean</th>\n",
       "      <td>6.702710e+09</td>\n",
       "      <td>1.156114e+08</td>\n",
       "      <td>454.019948</td>\n",
       "      <td>8.574517e+04</td>\n",
       "      <td>1.619469e+11</td>\n",
       "      <td>1.175052e+11</td>\n",
       "      <td>1215.728581</td>\n",
       "      <td>4.770768</td>\n",
       "      <td>43.925114</td>\n",
       "    </tr>\n",
       "    <tr>\n",
       "      <th>std</th>\n",
       "      <td>4.082439e+09</td>\n",
       "      <td>1.215341e+08</td>\n",
       "      <td>1086.371098</td>\n",
       "      <td>1.643165e+06</td>\n",
       "      <td>2.543120e+11</td>\n",
       "      <td>2.729285e+11</td>\n",
       "      <td>6655.475278</td>\n",
       "      <td>0.301889</td>\n",
       "      <td>185.608370</td>\n",
       "    </tr>\n",
       "    <tr>\n",
       "      <th>min</th>\n",
       "      <td>4.242862e+06</td>\n",
       "      <td>1.103000e+04</td>\n",
       "      <td>2.000000</td>\n",
       "      <td>0.000000e+00</td>\n",
       "      <td>1.000000e+08</td>\n",
       "      <td>0.000000e+00</td>\n",
       "      <td>0.000000</td>\n",
       "      <td>0.000000</td>\n",
       "      <td>0.000000</td>\n",
       "    </tr>\n",
       "    <tr>\n",
       "      <th>25%</th>\n",
       "      <td>3.591593e+09</td>\n",
       "      <td>2.514343e+07</td>\n",
       "      <td>28.000000</td>\n",
       "      <td>2.800000e+01</td>\n",
       "      <td>2.650000e+10</td>\n",
       "      <td>0.000000e+00</td>\n",
       "      <td>11.000000</td>\n",
       "      <td>4.625000</td>\n",
       "      <td>6.000000</td>\n",
       "    </tr>\n",
       "    <tr>\n",
       "      <th>50%</th>\n",
       "      <td>6.207851e+09</td>\n",
       "      <td>6.919680e+07</td>\n",
       "      <td>97.000000</td>\n",
       "      <td>2.825000e+02</td>\n",
       "      <td>8.970000e+10</td>\n",
       "      <td>0.000000e+00</td>\n",
       "      <td>40.000000</td>\n",
       "      <td>4.869783</td>\n",
       "      <td>12.000000</td>\n",
       "    </tr>\n",
       "    <tr>\n",
       "      <th>75%</th>\n",
       "      <td>8.936892e+09</td>\n",
       "      <td>1.615503e+08</td>\n",
       "      <td>281.750000</td>\n",
       "      <td>9.026000e+03</td>\n",
       "      <td>1.999000e+11</td>\n",
       "      <td>1.650000e+11</td>\n",
       "      <td>294.250000</td>\n",
       "      <td>5.000000</td>\n",
       "      <td>28.000000</td>\n",
       "    </tr>\n",
       "    <tr>\n",
       "      <th>max</th>\n",
       "      <td>1.794023e+10</td>\n",
       "      <td>7.361472e+08</td>\n",
       "      <td>20511.000000</td>\n",
       "      <td>4.666662e+07</td>\n",
       "      <td>3.099000e+12</td>\n",
       "      <td>3.799000e+12</td>\n",
       "      <td>150471.000000</td>\n",
       "      <td>5.000000</td>\n",
       "      <td>6298.000000</td>\n",
       "    </tr>\n",
       "  </tbody>\n",
       "</table>\n",
       "</div>"
      ],
      "text/plain": [
       "            item_id       shop_id  sold_quantity         stock  \\\n",
       "count  3.058000e+03  3.058000e+03    3058.000000  3.058000e+03   \n",
       "mean   6.702710e+09  1.156114e+08     454.019948  8.574517e+04   \n",
       "std    4.082439e+09  1.215341e+08    1086.371098  1.643165e+06   \n",
       "min    4.242862e+06  1.103000e+04       2.000000  0.000000e+00   \n",
       "25%    3.591593e+09  2.514343e+07      28.000000  2.800000e+01   \n",
       "50%    6.207851e+09  6.919680e+07      97.000000  2.825000e+02   \n",
       "75%    8.936892e+09  1.615503e+08     281.750000  9.026000e+03   \n",
       "max    1.794023e+10  7.361472e+08   20511.000000  4.666662e+07   \n",
       "\n",
       "       discount_price  original_price    liked_count  rating_star  \\\n",
       "count    3.058000e+03    3.058000e+03    3058.000000  3058.000000   \n",
       "mean     1.619469e+11    1.175052e+11    1215.728581     4.770768   \n",
       "std      2.543120e+11    2.729285e+11    6655.475278     0.301889   \n",
       "min      1.000000e+08    0.000000e+00       0.000000     0.000000   \n",
       "25%      2.650000e+10    0.000000e+00      11.000000     4.625000   \n",
       "50%      8.970000e+10    0.000000e+00      40.000000     4.869783   \n",
       "75%      1.999000e+11    1.650000e+11     294.250000     5.000000   \n",
       "max      3.099000e+12    3.799000e+12  150471.000000     5.000000   \n",
       "\n",
       "       number_of_ratings  \n",
       "count        3058.000000  \n",
       "mean           43.925114  \n",
       "std           185.608370  \n",
       "min             0.000000  \n",
       "25%             6.000000  \n",
       "50%            12.000000  \n",
       "75%            28.000000  \n",
       "max          6298.000000  "
      ]
     },
     "execution_count": 17,
     "metadata": {},
     "output_type": "execute_result"
    }
   ],
   "source": [
    "data_DATA.describe()"
   ]
  },
  {
   "cell_type": "code",
   "execution_count": 18,
   "id": "b0d4ff32",
   "metadata": {},
   "outputs": [],
   "source": [
    "# Đổi NaN của cột brand thành Other\n",
    "data_DATA['brand'].fillna('Other', inplace=True)"
   ]
  },
  {
   "cell_type": "code",
   "execution_count": 19,
   "id": "02aab5e9",
   "metadata": {
    "scrolled": false
   },
   "outputs": [],
   "source": [
    "data_DATA = data_DATA.reset_index()"
   ]
  },
  {
   "cell_type": "code",
   "execution_count": 20,
   "id": "2cbf7c72",
   "metadata": {},
   "outputs": [],
   "source": [
    "# Cột original_price có Giá trị 0 và tại đó cột discount = Nan tức không có khuyến mãi vậy các ô có giá trị 0 \n",
    "# ở cột original_price = các giá trị ở tương ứng ở cột discount_price"
   ]
  },
  {
   "cell_type": "code",
   "execution_count": 21,
   "id": "3673aace",
   "metadata": {},
   "outputs": [],
   "source": [
    "# Thay các giá trị 0 ở cột original_price thành giá trị tương ứng ở cột discount_price\n",
    "Gia_goc = []\n",
    "for i in range(data_DATA['original_price'].size):\n",
    "    a = data_DATA['original_price'][i]\n",
    "    b = data_DATA['discount_price'][i]\n",
    "    if a != 0:\n",
    "        Gia_goc.append(a)\n",
    "    else:\n",
    "        Gia_goc.append(b)        "
   ]
  },
  {
   "cell_type": "code",
   "execution_count": 22,
   "id": "a6cef4f8",
   "metadata": {},
   "outputs": [],
   "source": [
    "# Thêm cột giá gốc mới vào\n",
    "data_DATA['Giá gốc'] = Gia_goc"
   ]
  },
  {
   "cell_type": "code",
   "execution_count": 23,
   "id": "1a6d274b",
   "metadata": {
    "scrolled": true
   },
   "outputs": [],
   "source": [
    "# Và giá gốc bất hợp lý nên chỉnh lại / 100000\n",
    "data_DATA['Giá gốc'] = data_DATA['Giá gốc']/100000"
   ]
  },
  {
   "cell_type": "code",
   "execution_count": 24,
   "id": "5c800e0d",
   "metadata": {},
   "outputs": [],
   "source": [
    "# Đổi NaN của cột discount thành 0%\n",
    "data_DATA['discount'].fillna('0%', inplace=True)"
   ]
  },
  {
   "cell_type": "code",
   "execution_count": 25,
   "id": "1989fc34",
   "metadata": {},
   "outputs": [],
   "source": [
    "#Cột discount đang có giá trị str đổi thành kiểu float\n",
    "def Thay_gia_tri(value):\n",
    "    # Thay % bằng khoảng trắng\n",
    "    value = value.replace(\"%\",\" \")\n",
    "    value = float(value)\n",
    "    value1 = value/100\n",
    "    return value1"
   ]
  },
  {
   "cell_type": "code",
   "execution_count": 26,
   "id": "9df434a0",
   "metadata": {},
   "outputs": [],
   "source": [
    "data_DATA['Khuyến mãi %'] = data_DATA['discount'].apply(Thay_gia_tri)"
   ]
  },
  {
   "cell_type": "code",
   "execution_count": 27,
   "id": "d7cdfaf8",
   "metadata": {},
   "outputs": [],
   "source": [
    "# Tính lại cột discount_price và đổi tên thành giá khuyến mãi\n",
    "data_DATA['Giá khuyến mãi'] = data_DATA['Giá gốc'] - data_DATA['Khuyến mãi %']*data_DATA['Giá gốc']"
   ]
  },
  {
   "cell_type": "code",
   "execution_count": 28,
   "id": "202c45d3",
   "metadata": {},
   "outputs": [],
   "source": [
    "# Giả sử các sp đều được bán bằng giá khuyến mãi\n",
    "# Thêm cột doanh thu = sold_quantity * Giá sau khuyến mãi\n",
    "data_DATA['Doanh thu'] = data_DATA['Giá khuyến mãi'] * data_DATA['sold_quantity']"
   ]
  },
  {
   "cell_type": "code",
   "execution_count": 29,
   "id": "33f5eaeb",
   "metadata": {},
   "outputs": [],
   "source": [
    "# Xóa các cột không cần thiết\n",
    "data_DATA = data_DATA.drop(labels=['index','discount_price','original_price','discount'], axis=1)"
   ]
  },
  {
   "cell_type": "code",
   "execution_count": 30,
   "id": "694d0d85",
   "metadata": {},
   "outputs": [],
   "source": [
    "# Sắp xếp lại thứ tự các cột\n",
    "data_DATA = data_DATA[['item_id', 'shop_id', 'brand', 'sold_quantity','stock','Giá gốc','Khuyến mãi %','Giá khuyến mãi','Doanh thu','liked_count','rating_star','number_of_ratings','product_image_link']]"
   ]
  },
  {
   "cell_type": "code",
   "execution_count": 31,
   "id": "c26f6549",
   "metadata": {},
   "outputs": [],
   "source": [
    "data_DATA = data_DATA.rename(columns = {\"sold_quantity\":\"Doanh số\",\"stock\":\"Tồn kho\",\"liked_count\":\"Lượt thích\",\"rating_star\":\"Đánh giá\",\"number_of_ratings\":\"Lượt đánh giá\" })"
   ]
  },
  {
   "cell_type": "code",
   "execution_count": 32,
   "id": "0d469e3c",
   "metadata": {},
   "outputs": [],
   "source": [
    "with pd.ExcelWriter('saved_file.xlsx', mode=\"a\", engine=\"openpyxl\") as writer:\n",
    "    data_DATA.to_excel(writer, index = False, sheet_name = 'DATA')"
   ]
  },
  {
   "cell_type": "markdown",
   "id": "4f71943e",
   "metadata": {},
   "source": [
    "### Sheet RATING"
   ]
  },
  {
   "cell_type": "code",
   "execution_count": 33,
   "id": "cf696d72",
   "metadata": {},
   "outputs": [
    {
     "data": {
      "text/html": [
       "<div>\n",
       "<style scoped>\n",
       "    .dataframe tbody tr th:only-of-type {\n",
       "        vertical-align: middle;\n",
       "    }\n",
       "\n",
       "    .dataframe tbody tr th {\n",
       "        vertical-align: top;\n",
       "    }\n",
       "\n",
       "    .dataframe thead th {\n",
       "        text-align: right;\n",
       "    }\n",
       "</style>\n",
       "<table border=\"1\" class=\"dataframe\">\n",
       "  <thead>\n",
       "    <tr style=\"text-align: right;\">\n",
       "      <th></th>\n",
       "      <th>item_id</th>\n",
       "      <th>order_id</th>\n",
       "      <th>cmt_id</th>\n",
       "      <th>user_name</th>\n",
       "      <th>comment</th>\n",
       "      <th>rating_star</th>\n",
       "    </tr>\n",
       "  </thead>\n",
       "  <tbody>\n",
       "    <tr>\n",
       "      <th>0</th>\n",
       "      <td>6685849255</td>\n",
       "      <td>112539818117052</td>\n",
       "      <td>9103860935</td>\n",
       "      <td>g*****4</td>\n",
       "      <td>Chất lượng sản phẩm:tốt\\nTính năng nổi bật:tốt...</td>\n",
       "      <td>3</td>\n",
       "    </tr>\n",
       "    <tr>\n",
       "      <th>1</th>\n",
       "      <td>6685849255</td>\n",
       "      <td>111058415139684</td>\n",
       "      <td>8953928762</td>\n",
       "      <td>giacquanthu6</td>\n",
       "      <td>Hàng Ok, đóng gói cẩn thận, nhìn chắc chắn đan...</td>\n",
       "      <td>5</td>\n",
       "    </tr>\n",
       "    <tr>\n",
       "      <th>2</th>\n",
       "      <td>6685849255</td>\n",
       "      <td>110883295199542</td>\n",
       "      <td>8924673029</td>\n",
       "      <td>molinguyen30011992</td>\n",
       "      <td>Mua cho ba\\nĐặt màu đen giao màu xanh\\nThôi cứ...</td>\n",
       "      <td>4</td>\n",
       "    </tr>\n",
       "    <tr>\n",
       "      <th>3</th>\n",
       "      <td>6685849255</td>\n",
       "      <td>109996550130678</td>\n",
       "      <td>8930604293</td>\n",
       "      <td>lntientrung</td>\n",
       "      <td>Điện thoại rất tốt, pin trâu, đủ dùng cho các ...</td>\n",
       "      <td>5</td>\n",
       "    </tr>\n",
       "    <tr>\n",
       "      <th>4</th>\n",
       "      <td>6685849255</td>\n",
       "      <td>106117412399209</td>\n",
       "      <td>8547042012</td>\n",
       "      <td>w7uvt877vs</td>\n",
       "      <td>Chất lượng sản phẩm:Tốt\\nTính năng nổi bật:Pin...</td>\n",
       "      <td>5</td>\n",
       "    </tr>\n",
       "    <tr>\n",
       "      <th>5</th>\n",
       "      <td>6685849255</td>\n",
       "      <td>105776892615824</td>\n",
       "      <td>8366454110</td>\n",
       "      <td>maphanduc</td>\n",
       "      <td>Máy thiết kế đẹp, cấu hình ổn cho các tác vụ h...</td>\n",
       "      <td>5</td>\n",
       "    </tr>\n",
       "    <tr>\n",
       "      <th>6</th>\n",
       "      <td>6685849255</td>\n",
       "      <td>99335442520308</td>\n",
       "      <td>7903344004</td>\n",
       "      <td>w7uvt877vs</td>\n",
       "      <td>Hàng chính hãng. Sử dụng ok. Giá hợp lý. Pin t...</td>\n",
       "      <td>5</td>\n",
       "    </tr>\n",
       "    <tr>\n",
       "      <th>7</th>\n",
       "      <td>6685849255</td>\n",
       "      <td>102618239388473</td>\n",
       "      <td>7952985609</td>\n",
       "      <td>ngan_ha_meoheo</td>\n",
       "      <td>Giao hàng nhanh, đóng gói cẩn thận. Hàng chính...</td>\n",
       "      <td>5</td>\n",
       "    </tr>\n",
       "    <tr>\n",
       "      <th>8</th>\n",
       "      <td>6685849255</td>\n",
       "      <td>95912956185836</td>\n",
       "      <td>7249663412</td>\n",
       "      <td>chaolata066</td>\n",
       "      <td>Giao hàng nhanh. Đóng gói kỹ. Hàng chất lượng,...</td>\n",
       "      <td>5</td>\n",
       "    </tr>\n",
       "    <tr>\n",
       "      <th>9</th>\n",
       "      <td>6685849255</td>\n",
       "      <td>94239158525054</td>\n",
       "      <td>7243311882</td>\n",
       "      <td>candy_thuy</td>\n",
       "      <td>Shop giao hàng nhanh Bảo hành kĩ càng ạ đã v s...</td>\n",
       "      <td>5</td>\n",
       "    </tr>\n",
       "  </tbody>\n",
       "</table>\n",
       "</div>"
      ],
      "text/plain": [
       "      item_id         order_id      cmt_id           user_name  \\\n",
       "0  6685849255  112539818117052  9103860935             g*****4   \n",
       "1  6685849255  111058415139684  8953928762        giacquanthu6   \n",
       "2  6685849255  110883295199542  8924673029  molinguyen30011992   \n",
       "3  6685849255  109996550130678  8930604293         lntientrung   \n",
       "4  6685849255  106117412399209  8547042012          w7uvt877vs   \n",
       "5  6685849255  105776892615824  8366454110           maphanduc   \n",
       "6  6685849255   99335442520308  7903344004          w7uvt877vs   \n",
       "7  6685849255  102618239388473  7952985609      ngan_ha_meoheo   \n",
       "8  6685849255   95912956185836  7249663412         chaolata066   \n",
       "9  6685849255   94239158525054  7243311882          candy_thuy   \n",
       "\n",
       "                                             comment  rating_star  \n",
       "0  Chất lượng sản phẩm:tốt\\nTính năng nổi bật:tốt...            3  \n",
       "1  Hàng Ok, đóng gói cẩn thận, nhìn chắc chắn đan...            5  \n",
       "2  Mua cho ba\\nĐặt màu đen giao màu xanh\\nThôi cứ...            4  \n",
       "3  Điện thoại rất tốt, pin trâu, đủ dùng cho các ...            5  \n",
       "4  Chất lượng sản phẩm:Tốt\\nTính năng nổi bật:Pin...            5  \n",
       "5  Máy thiết kế đẹp, cấu hình ổn cho các tác vụ h...            5  \n",
       "6  Hàng chính hãng. Sử dụng ok. Giá hợp lý. Pin t...            5  \n",
       "7  Giao hàng nhanh, đóng gói cẩn thận. Hàng chính...            5  \n",
       "8  Giao hàng nhanh. Đóng gói kỹ. Hàng chất lượng,...            5  \n",
       "9  Shop giao hàng nhanh Bảo hành kĩ càng ạ đã v s...            5  "
      ]
     },
     "execution_count": 33,
     "metadata": {},
     "output_type": "execute_result"
    }
   ],
   "source": [
    "# Tải dữ liệu sheet RATING\n",
    "data_RATING = pd.read_excel('data.xlsx',sheet_name=name_sheet[2])\n",
    "data_RATING.head(10)"
   ]
  },
  {
   "cell_type": "code",
   "execution_count": 34,
   "id": "2a249d8d",
   "metadata": {},
   "outputs": [
    {
     "name": "stdout",
     "output_type": "stream",
     "text": [
      "<class 'pandas.core.frame.DataFrame'>\n",
      "RangeIndex: 61472 entries, 0 to 61471\n",
      "Data columns (total 6 columns):\n",
      " #   Column       Non-Null Count  Dtype \n",
      "---  ------       --------------  ----- \n",
      " 0   item_id      61472 non-null  int64 \n",
      " 1   order_id     61472 non-null  int64 \n",
      " 2   cmt_id       61472 non-null  int64 \n",
      " 3   user_name    59669 non-null  object\n",
      " 4   comment      45664 non-null  object\n",
      " 5   rating_star  61472 non-null  int64 \n",
      "dtypes: int64(4), object(2)\n",
      "memory usage: 2.8+ MB\n"
     ]
    }
   ],
   "source": [
    "# Kiểm tra dữ liệu\n",
    "data_RATING.info()"
   ]
  },
  {
   "cell_type": "code",
   "execution_count": 35,
   "id": "c632ad57",
   "metadata": {
    "scrolled": true
   },
   "outputs": [
    {
     "data": {
      "text/plain": [
       "item_id         3056\n",
       "order_id       52683\n",
       "cmt_id         61351\n",
       "user_name      39511\n",
       "comment        35884\n",
       "rating_star        5\n",
       "dtype: int64"
      ]
     },
     "execution_count": 35,
     "metadata": {},
     "output_type": "execute_result"
    }
   ],
   "source": [
    "# Kiểm tra giá trị dữ liệu\n",
    "data_RATING.nunique()"
   ]
  },
  {
   "cell_type": "code",
   "execution_count": 36,
   "id": "567b673d",
   "metadata": {},
   "outputs": [],
   "source": [
    "# Cột cmt_id có  61472 hàng nhưng chỉ có 61351 giá trị => có giá trị bị trùng\n",
    "# Drop duplicate\n",
    "data_RATING = data_RATING.drop_duplicates('cmt_id', keep='last')"
   ]
  },
  {
   "cell_type": "code",
   "execution_count": 37,
   "id": "d0b6e1d5",
   "metadata": {},
   "outputs": [],
   "source": [
    "# Đổi kiểu cột comment thành dạng str\n",
    "data_RATING['comment'] = data_RATING['comment'].astype(str)"
   ]
  },
  {
   "cell_type": "code",
   "execution_count": 38,
   "id": "17feb4ad",
   "metadata": {},
   "outputs": [],
   "source": [
    "# Xử lý cột commet tương tự cột name\n",
    "#apply Hàm Khac phuc\n",
    "data_RATING['Bình luận'] = data_RATING['comment'].apply(Khac_phuc)"
   ]
  },
  {
   "cell_type": "code",
   "execution_count": 39,
   "id": "115b84c5",
   "metadata": {},
   "outputs": [],
   "source": [
    "# Loại bỏ cột comment\n",
    "data_RATING = data_RATING.drop(labels=['comment'], axis=1)"
   ]
  },
  {
   "cell_type": "code",
   "execution_count": 40,
   "id": "c293102e",
   "metadata": {},
   "outputs": [],
   "source": [
    "data_RATING = data_RATING.reset_index(drop=True)"
   ]
  },
  {
   "cell_type": "markdown",
   "id": "550cdf61",
   "metadata": {},
   "source": [
    "## Làm sạch dữ liệu nâng cao (Phi cấu trúc)"
   ]
  },
  {
   "cell_type": "code",
   "execution_count": 41,
   "id": "86e5adb1",
   "metadata": {},
   "outputs": [],
   "source": [
    "Rank = pd.Series(['Cao nhất'] * data_RATING['rating_star'].size)\n",
    "Rank[data_RATING['rating_star'] <= 3] = 'Thấp nhất'\n",
    "data_RATING['Rank'] = Rank"
   ]
  },
  {
   "cell_type": "code",
   "execution_count": 42,
   "id": "e80ae36b",
   "metadata": {},
   "outputs": [],
   "source": [
    "def Lay_V_A_N(text):\n",
    "    list_test = []\n",
    "    str1 = \" \"\n",
    "    x, y = ViPosTagger.postagging(ViTokenizer.tokenize(text))\n",
    "    for i in range(len(x)):\n",
    "        if (y[i] == 'A') or (y[i] == 'V') or (y[i] == 'N') or (y[i] == 'Np') or (y[i] == 'Ny') or (y[i] == 'Nc'):\n",
    "            list_test.append(x[i])               \n",
    "    return (str1.join(list_test))"
   ]
  },
  {
   "cell_type": "code",
   "execution_count": 43,
   "id": "8ccaddd7",
   "metadata": {},
   "outputs": [],
   "source": [
    "data_cmt = data_RATING.copy()\n",
    "#data_cmt.dropna(inplace=True, axis=0, how=\"any\")\n",
    "data_cmt_1 = data_cmt.reset_index()\n",
    "data_cmt_1['VAN'] = data_cmt_1['Bình luận'].apply(Lay_V_A_N)"
   ]
  },
  {
   "cell_type": "code",
   "execution_count": 44,
   "id": "7f6033eb",
   "metadata": {},
   "outputs": [],
   "source": [
    "data_RATING = pd.merge(data_RATING, data_cmt_1[[\"cmt_id\",\"VAN\"]], on=\"cmt_id\", how='left')"
   ]
  },
  {
   "cell_type": "code",
   "execution_count": 45,
   "id": "89a36d55",
   "metadata": {},
   "outputs": [],
   "source": [
    "with pd.ExcelWriter('saved_file.xlsx', mode=\"a\", engine=\"openpyxl\") as writer:\n",
    "    data_RATING.to_excel(writer, index = False, sheet_name = 'RATING')"
   ]
  },
  {
   "cell_type": "code",
   "execution_count": null,
   "id": "16ed6c51",
   "metadata": {},
   "outputs": [],
   "source": []
  }
 ],
 "metadata": {
  "kernelspec": {
   "display_name": "Python 3 (ipykernel)",
   "language": "python",
   "name": "python3"
  },
  "language_info": {
   "codemirror_mode": {
    "name": "ipython",
    "version": 3
   },
   "file_extension": ".py",
   "mimetype": "text/x-python",
   "name": "python",
   "nbconvert_exporter": "python",
   "pygments_lexer": "ipython3",
   "version": "3.9.12"
  }
 },
 "nbformat": 4,
 "nbformat_minor": 5
}
